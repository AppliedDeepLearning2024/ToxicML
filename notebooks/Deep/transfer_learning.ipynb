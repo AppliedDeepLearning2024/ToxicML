{
 "cells": [
  {
   "cell_type": "code",
   "execution_count": 14,
   "metadata": {},
   "outputs": [],
   "source": [
    "from ToxicMl.evaluation import get_hiv_data\n",
    "from ToxicMl.trainer import GenericClassificationTrainer, GenericRegressionTrainer\n",
    "from ToxicMl.metrics import Accuracy, F1, Recall, Precision\n",
    "\n",
    "import torch\n",
    "from torch_geometric.loader import ImbalancedSampler"
   ]
  },
  {
   "cell_type": "code",
   "execution_count": 56,
   "metadata": {},
   "outputs": [
    {
     "name": "stderr",
     "output_type": "stream",
     "text": [
      "/home/tibor/Documents/msc-datascience/2024w/Toxic/ToxicML/.venv/lib/python3.12/site-packages/ogb/graphproppred/dataset_pyg.py:68: FutureWarning: You are using `torch.load` with `weights_only=False` (the current default value), which uses the default pickle module implicitly. It is possible to construct malicious pickle data which will execute arbitrary code during unpickling (See https://github.com/pytorch/pytorch/blob/main/SECURITY.md#untrusted-models for more details). In a future release, the default value for `weights_only` will be flipped to `True`. This limits the functions that could be executed during unpickling. Arbitrary objects will no longer be allowed to be loaded via this mode unless they are explicitly allowlisted by the user via `torch.serialization.add_safe_globals`. We recommend you start setting `weights_only=True` for any use case where you don't have full control of the loaded file. Please open an issue on GitHub for any issues related to this experimental feature.\n",
      "  self.data, self.slices = torch.load(self.processed_paths[0])\n",
      "/tmp/ipykernel_59905/3191312463.py:10: FutureWarning: You are using `torch.load` with `weights_only=False` (the current default value), which uses the default pickle module implicitly. It is possible to construct malicious pickle data which will execute arbitrary code during unpickling (See https://github.com/pytorch/pytorch/blob/main/SECURITY.md#untrusted-models for more details). In a future release, the default value for `weights_only` will be flipped to `True`. This limits the functions that could be executed during unpickling. Arbitrary objects will no longer be allowed to be loaded via this mode unless they are explicitly allowlisted by the user via `torch.serialization.add_safe_globals`. We recommend you start setting `weights_only=True` for any use case where you don't have full control of the loaded file. Please open an issue on GitHub for any issues related to this experimental feature.\n",
      "  pretrained_dict = torch.load(\"../saved_models/ChemAttention3-16_LIPO\")\n"
     ]
    },
    {
     "data": {
      "text/plain": [
       "<All keys matched successfully>"
      ]
     },
     "execution_count": 56,
     "metadata": {},
     "output_type": "execute_result"
    }
   ],
   "source": [
    "from ToxicMl.MLmodels.attention import ChemAttention\n",
    "EPOCHS = 10\n",
    "\n",
    "dataset, train, validation, test = get_hiv_data()\n",
    "train_metrics = [F1(), Accuracy(), Recall(), Precision()]\n",
    "validation_metrics = [F1(), Accuracy(), Recall(), Precision()]\n",
    "\n",
    "hiv_model = ChemAttention(3,9,16,2)\n",
    "\n",
    "pretrained_dict = torch.load(\"../saved_models/ChemAttention3-16_LIPO\")\n",
    "model_dict = hiv_model.state_dict()\n",
    "\n",
    "# 1. filter out unnecessary keys\n",
    "pretrained_dict = {k: v for k, v in pretrained_dict.items() if k in model_dict and \"encoder\" in k}\n",
    "# 2. overwrite entries in the existing state dict\n",
    "model_dict.update(pretrained_dict) \n",
    "# 3. load the new state dict\n",
    "hiv_model.load_state_dict(model_dict)"
   ]
  },
  {
   "cell_type": "code",
   "execution_count": 39,
   "metadata": {},
   "outputs": [
    {
     "name": "stderr",
     "output_type": "stream",
     "text": [
      "/home/tibor/Documents/msc-datascience/2024w/Toxic/ToxicML/.venv/lib/python3.12/site-packages/torch_geometric/deprecation.py:26: UserWarning: 'data.DataLoader' is deprecated, use 'loader.DataLoader' instead\n",
      "  warnings.warn(out)\n",
      "\u001b[34m\u001b[1mwandb\u001b[0m: Using wandb-core as the SDK backend.  Please refer to https://wandb.me/wandb-core for more information.\n",
      "\u001b[34m\u001b[1mwandb\u001b[0m: Currently logged in as: \u001b[33mcus-tibor\u001b[0m (\u001b[33mcus-tibor-none\u001b[0m). Use \u001b[1m`wandb login --relogin`\u001b[0m to force relogin\n"
     ]
    },
    {
     "data": {
      "text/html": [
       "Tracking run with wandb version 0.18.7"
      ],
      "text/plain": [
       "<IPython.core.display.HTML object>"
      ]
     },
     "metadata": {},
     "output_type": "display_data"
    },
    {
     "data": {
      "text/html": [
       "Run data is saved locally in <code>/home/tibor/Documents/msc-datascience/2024w/Toxic/ToxicML/ToxicMl/wandb/run-20241207_181153-d09s1u2h</code>"
      ],
      "text/plain": [
       "<IPython.core.display.HTML object>"
      ]
     },
     "metadata": {},
     "output_type": "display_data"
    },
    {
     "data": {
      "text/html": [
       "Syncing run <strong><a href='https://wandb.ai/cus-tibor-none/ToxicML/runs/d09s1u2h' target=\"_blank\">HIV ChemAttention 3-16, lipo pretrained</a></strong> to <a href='https://wandb.ai/cus-tibor-none/ToxicML' target=\"_blank\">Weights & Biases</a> (<a href='https://wandb.me/developer-guide' target=\"_blank\">docs</a>)<br/>"
      ],
      "text/plain": [
       "<IPython.core.display.HTML object>"
      ]
     },
     "metadata": {},
     "output_type": "display_data"
    },
    {
     "data": {
      "text/html": [
       " View project at <a href='https://wandb.ai/cus-tibor-none/ToxicML' target=\"_blank\">https://wandb.ai/cus-tibor-none/ToxicML</a>"
      ],
      "text/plain": [
       "<IPython.core.display.HTML object>"
      ]
     },
     "metadata": {},
     "output_type": "display_data"
    },
    {
     "data": {
      "text/html": [
       " View run at <a href='https://wandb.ai/cus-tibor-none/ToxicML/runs/d09s1u2h' target=\"_blank\">https://wandb.ai/cus-tibor-none/ToxicML/runs/d09s1u2h</a>"
      ],
      "text/plain": [
       "<IPython.core.display.HTML object>"
      ]
     },
     "metadata": {},
     "output_type": "display_data"
    },
    {
     "name": "stderr",
     "output_type": "stream",
     "text": [
      "train epoch: 100%|██████████| 1029/1029.0 [00:09<00:00, 102.93it/s]\n",
      "val epoch: 100%|██████████| 129/129.0 [00:01<00:00, 107.60it/s]\n",
      "train epoch: 100%|██████████| 1029/1029.0 [00:10<00:00, 101.92it/s]\n",
      "val epoch: 100%|██████████| 129/129.0 [00:00<00:00, 180.75it/s]\n",
      "train epoch: 100%|██████████| 1029/1029.0 [00:10<00:00, 101.98it/s]\n",
      "val epoch: 100%|██████████| 129/129.0 [00:00<00:00, 204.46it/s]\n",
      "train epoch: 100%|██████████| 1029/1029.0 [00:10<00:00, 98.93it/s] \n",
      "val epoch: 100%|██████████| 129/129.0 [00:00<00:00, 189.02it/s]\n",
      "train epoch: 100%|██████████| 1029/1029.0 [00:10<00:00, 100.14it/s]\n",
      "val epoch: 100%|██████████| 129/129.0 [00:00<00:00, 198.90it/s]\n",
      "train epoch: 100%|██████████| 1029/1029.0 [00:10<00:00, 101.09it/s]\n",
      "val epoch: 100%|██████████| 129/129.0 [00:00<00:00, 167.80it/s]\n",
      "train epoch: 100%|██████████| 1029/1029.0 [00:11<00:00, 89.25it/s]\n",
      "val epoch: 100%|██████████| 129/129.0 [00:00<00:00, 170.57it/s]\n",
      "train epoch: 100%|██████████| 1029/1029.0 [00:11<00:00, 86.45it/s]\n",
      "val epoch: 100%|██████████| 129/129.0 [00:00<00:00, 151.47it/s]\n",
      "train epoch: 100%|██████████| 1029/1029.0 [00:12<00:00, 80.83it/s]\n",
      "val epoch: 100%|██████████| 129/129.0 [00:00<00:00, 145.85it/s]\n",
      "train epoch: 100%|██████████| 1029/1029.0 [00:12<00:00, 82.80it/s]\n",
      "val epoch: 100%|██████████| 129/129.0 [00:00<00:00, 156.41it/s]\n"
     ]
    },
    {
     "data": {
      "text/html": [
       "\n",
       "    <style>\n",
       "        .wandb-row {\n",
       "            display: flex;\n",
       "            flex-direction: row;\n",
       "            flex-wrap: wrap;\n",
       "            justify-content: flex-start;\n",
       "            width: 100%;\n",
       "        }\n",
       "        .wandb-col {\n",
       "            display: flex;\n",
       "            flex-direction: column;\n",
       "            flex-basis: 100%;\n",
       "            flex: 1;\n",
       "            padding: 10px;\n",
       "        }\n",
       "    </style>\n",
       "<div class=\"wandb-row\"><div class=\"wandb-col\"><h3>Run history:</h3><br/><table class=\"wandb\"><tr><td>train/Accuracy</td><td>▁▇▇▇▇█▇▆█▇</td></tr><tr><td>train/F1</td><td>▂▇▁▂▁▆▂▁█▃</td></tr><tr><td>train/Precision</td><td>█▄▂▁▁▃▁▁▃▂</td></tr><tr><td>train/Recall</td><td>▁▇▆▇▇█▇▇█▇</td></tr><tr><td>train/loss</td><td>▄▃▁▅▄▄▆▆█▆</td></tr><tr><td>validation/Accuracy</td><td>▁▄▆▄▇▇█▄▄▆</td></tr><tr><td>validation/F1</td><td>▁▆▅▃▆▆█▂▃▃</td></tr><tr><td>validation/Precision</td><td>█▇▂▅▂▂▁▃▄▁</td></tr><tr><td>validation/Recall</td><td>▁▅▅▃▆▆█▂▃▃</td></tr><tr><td>validation/loss</td><td>▅▂▇▇▆▁▁▃▃█</td></tr></table><br/></div><div class=\"wandb-col\"><h3>Run summary:</h3><br/><table class=\"wandb\"><tr><td>train/Accuracy</td><td>0.6039</td></tr><tr><td>train/F1</td><td>0.57817</td></tr><tr><td>train/Precision</td><td>0.54322</td></tr><tr><td>train/Recall</td><td>0.61793</td></tr><tr><td>train/loss</td><td>0.71475</td></tr><tr><td>validation/Accuracy</td><td>0.7646</td></tr><tr><td>validation/F1</td><td>0.10701</td></tr><tr><td>validation/Precision</td><td>0.44615</td></tr><tr><td>validation/Recall</td><td>0.0608</td></tr><tr><td>validation/loss</td><td>0.67239</td></tr></table><br/></div></div>"
      ],
      "text/plain": [
       "<IPython.core.display.HTML object>"
      ]
     },
     "metadata": {},
     "output_type": "display_data"
    },
    {
     "data": {
      "text/html": [
       " View run <strong style=\"color:#cdcd00\">HIV ChemAttention 3-16, lipo pretrained</strong> at: <a href='https://wandb.ai/cus-tibor-none/ToxicML/runs/d09s1u2h' target=\"_blank\">https://wandb.ai/cus-tibor-none/ToxicML/runs/d09s1u2h</a><br/> View project at: <a href='https://wandb.ai/cus-tibor-none/ToxicML' target=\"_blank\">https://wandb.ai/cus-tibor-none/ToxicML</a><br/>Synced 4 W&B file(s), 0 media file(s), 5 artifact file(s) and 1 other file(s)"
      ],
      "text/plain": [
       "<IPython.core.display.HTML object>"
      ]
     },
     "metadata": {},
     "output_type": "display_data"
    },
    {
     "data": {
      "text/html": [
       "Find logs at: <code>./wandb/run-20241207_181153-d09s1u2h/logs</code>"
      ],
      "text/plain": [
       "<IPython.core.display.HTML object>"
      ]
     },
     "metadata": {},
     "output_type": "display_data"
    }
   ],
   "source": [
    "optimizer = torch.optim.Adam(hiv_model.parameters())\n",
    "lr_scheduler = torch.optim.lr_scheduler.ExponentialLR(optimizer, gamma = 0.09)\n",
    "loss_fn = torch.nn.CrossEntropyLoss()\n",
    "sampler = ImbalancedSampler(train) \n",
    "device = torch.device('cuda' if torch.cuda.is_available() else 'cpu')\n",
    "\n",
    "trainer = GenericClassificationTrainer(\n",
    "    hiv_model,\n",
    "    optimizer,\n",
    "    loss_fn,\n",
    "    lr_scheduler,\n",
    "    train_metrics,\n",
    "    validation_metrics,\n",
    "    train,\n",
    "    validation,\n",
    "    test,\n",
    "    device,\n",
    "    sampler,\n",
    "    EPOCHS,\n",
    "    None,\n",
    "    32\n",
    ")\n",
    "\n",
    "trainer.train(\"HIV ChemAttention 3-16, lipo pretrained\")"
   ]
  },
  {
   "cell_type": "code",
   "execution_count": 44,
   "metadata": {},
   "outputs": [
    {
     "name": "stderr",
     "output_type": "stream",
     "text": [
      "/home/tibor/Documents/msc-datascience/2024w/Toxic/ToxicML/.venv/lib/python3.12/site-packages/ogb/graphproppred/dataset_pyg.py:68: FutureWarning: You are using `torch.load` with `weights_only=False` (the current default value), which uses the default pickle module implicitly. It is possible to construct malicious pickle data which will execute arbitrary code during unpickling (See https://github.com/pytorch/pytorch/blob/main/SECURITY.md#untrusted-models for more details). In a future release, the default value for `weights_only` will be flipped to `True`. This limits the functions that could be executed during unpickling. Arbitrary objects will no longer be allowed to be loaded via this mode unless they are explicitly allowlisted by the user via `torch.serialization.add_safe_globals`. We recommend you start setting `weights_only=True` for any use case where you don't have full control of the loaded file. Please open an issue on GitHub for any issues related to this experimental feature.\n",
      "  self.data, self.slices = torch.load(self.processed_paths[0])\n",
      "/tmp/ipykernel_39369/591371890.py:14: FutureWarning: You are using `torch.load` with `weights_only=False` (the current default value), which uses the default pickle module implicitly. It is possible to construct malicious pickle data which will execute arbitrary code during unpickling (See https://github.com/pytorch/pytorch/blob/main/SECURITY.md#untrusted-models for more details). In a future release, the default value for `weights_only` will be flipped to `True`. This limits the functions that could be executed during unpickling. Arbitrary objects will no longer be allowed to be loaded via this mode unless they are explicitly allowlisted by the user via `torch.serialization.add_safe_globals`. We recommend you start setting `weights_only=True` for any use case where you don't have full control of the loaded file. Please open an issue on GitHub for any issues related to this experimental feature.\n",
      "  pretrained_dict = torch.load(\"../saved_models/ChemAttention3-16_HIV\")\n"
     ]
    },
    {
     "data": {
      "text/plain": [
       "<All keys matched successfully>"
      ]
     },
     "execution_count": 44,
     "metadata": {},
     "output_type": "execute_result"
    }
   ],
   "source": [
    "from ToxicMl.MLmodels.attention import ChemAttentionReg\n",
    "from ToxicMl.metrics import MAE, MSE, MaxError\n",
    "from ToxicMl.evaluation import get_lipo_data\n",
    "\n",
    "EPOCHS = 10\n",
    "\n",
    "dataset, train, validation, test = get_lipo_data()\n",
    "train_metrics = [MAE(), MSE(), MaxError()]\n",
    "validation_metrics = [MAE(), MSE(), MaxError()]\n",
    "EPOCHS = 10\n",
    "\n",
    "lipo_model = ChemAttentionReg(3,9,16,1)\n",
    "\n",
    "pretrained_dict = torch.load(\"../saved_models/ChemAttention3-16_HIV\")\n",
    "model_dict = lipo_model.state_dict()\n",
    "\n",
    "# 1. filter out unnecessary keys\n",
    "pretrained_dict = {k: v for k, v in pretrained_dict.items() if k in model_dict and \"encoder\" in k}\n",
    "# 2. overwrite entries in the existing state dict\n",
    "model_dict.update(pretrained_dict) \n",
    "# 3. load the new state dict\n",
    "lipo_model.load_state_dict(model_dict)"
   ]
  },
  {
   "cell_type": "code",
   "execution_count": 45,
   "metadata": {},
   "outputs": [
    {
     "name": "stderr",
     "output_type": "stream",
     "text": [
      "/home/tibor/Documents/msc-datascience/2024w/Toxic/ToxicML/.venv/lib/python3.12/site-packages/torch_geometric/deprecation.py:26: UserWarning: 'data.DataLoader' is deprecated, use 'loader.DataLoader' instead\n",
      "  warnings.warn(out)\n"
     ]
    },
    {
     "data": {
      "text/html": [
       "Tracking run with wandb version 0.18.7"
      ],
      "text/plain": [
       "<IPython.core.display.HTML object>"
      ]
     },
     "metadata": {},
     "output_type": "display_data"
    },
    {
     "data": {
      "text/html": [
       "Run data is saved locally in <code>/home/tibor/Documents/msc-datascience/2024w/Toxic/ToxicML/ToxicMl/wandb/run-20241207_181813-4lmm2pdy</code>"
      ],
      "text/plain": [
       "<IPython.core.display.HTML object>"
      ]
     },
     "metadata": {},
     "output_type": "display_data"
    },
    {
     "data": {
      "text/html": [
       "Syncing run <strong><a href='https://wandb.ai/cus-tibor-none/ToxicML/runs/4lmm2pdy' target=\"_blank\">LIPO attention 3-16, transfer</a></strong> to <a href='https://wandb.ai/cus-tibor-none/ToxicML' target=\"_blank\">Weights & Biases</a> (<a href='https://wandb.me/developer-guide' target=\"_blank\">docs</a>)<br/>"
      ],
      "text/plain": [
       "<IPython.core.display.HTML object>"
      ]
     },
     "metadata": {},
     "output_type": "display_data"
    },
    {
     "data": {
      "text/html": [
       " View project at <a href='https://wandb.ai/cus-tibor-none/ToxicML' target=\"_blank\">https://wandb.ai/cus-tibor-none/ToxicML</a>"
      ],
      "text/plain": [
       "<IPython.core.display.HTML object>"
      ]
     },
     "metadata": {},
     "output_type": "display_data"
    },
    {
     "data": {
      "text/html": [
       " View run at <a href='https://wandb.ai/cus-tibor-none/ToxicML/runs/4lmm2pdy' target=\"_blank\">https://wandb.ai/cus-tibor-none/ToxicML/runs/4lmm2pdy</a>"
      ],
      "text/plain": [
       "<IPython.core.display.HTML object>"
      ]
     },
     "metadata": {},
     "output_type": "display_data"
    },
    {
     "name": "stderr",
     "output_type": "stream",
     "text": [
      "train epoch:   0%|          | 0/105.0 [00:00<?, ?it/s]/home/tibor/Documents/msc-datascience/2024w/Toxic/ToxicML/.venv/lib/python3.12/site-packages/torch/nn/modules/loss.py:608: UserWarning: Using a target size (torch.Size([32])) that is different to the input size (torch.Size([32, 1])). This will likely lead to incorrect results due to broadcasting. Please ensure they have the same size.\n",
      "  return F.mse_loss(input, target, reduction=self.reduction)\n",
      "train epoch: 100%|██████████| 105/105.0 [00:01<00:00, 74.34it/s]\n",
      "val epoch:  79%|███████▊  | 11/14.0 [00:00<00:00, 106.05it/s]/home/tibor/Documents/msc-datascience/2024w/Toxic/ToxicML/.venv/lib/python3.12/site-packages/torch/nn/modules/loss.py:608: UserWarning: Using a target size (torch.Size([4])) that is different to the input size (torch.Size([4, 1])). This will likely lead to incorrect results due to broadcasting. Please ensure they have the same size.\n",
      "  return F.mse_loss(input, target, reduction=self.reduction)\n",
      "val epoch: 100%|██████████| 14/14.0 [00:00<00:00, 111.76it/s]\n",
      "train epoch: 100%|██████████| 105/105.0 [00:01<00:00, 103.53it/s]\n",
      "val epoch: 100%|██████████| 14/14.0 [00:00<00:00, 212.05it/s]\n",
      "train epoch: 100%|██████████| 105/105.0 [00:01<00:00, 102.47it/s]\n",
      "val epoch: 100%|██████████| 14/14.0 [00:00<00:00, 172.38it/s]\n",
      "train epoch: 100%|██████████| 105/105.0 [00:00<00:00, 105.34it/s]\n",
      "val epoch: 100%|██████████| 14/14.0 [00:00<00:00, 176.71it/s]\n",
      "train epoch: 100%|██████████| 105/105.0 [00:01<00:00, 96.49it/s]\n",
      "val epoch: 100%|██████████| 14/14.0 [00:00<00:00, 176.41it/s]\n",
      "train epoch: 100%|██████████| 105/105.0 [00:00<00:00, 108.65it/s]\n",
      "val epoch: 100%|██████████| 14/14.0 [00:00<00:00, 212.87it/s]\n",
      "train epoch: 100%|██████████| 105/105.0 [00:01<00:00, 102.49it/s]\n",
      "val epoch: 100%|██████████| 14/14.0 [00:00<00:00, 172.93it/s]\n",
      "train epoch: 100%|██████████| 105/105.0 [00:01<00:00, 104.69it/s]\n",
      "val epoch: 100%|██████████| 14/14.0 [00:00<00:00, 202.43it/s]\n",
      "train epoch: 100%|██████████| 105/105.0 [00:01<00:00, 103.06it/s]\n",
      "val epoch: 100%|██████████| 14/14.0 [00:00<00:00, 177.48it/s]\n",
      "train epoch: 100%|██████████| 105/105.0 [00:01<00:00, 101.66it/s]\n",
      "val epoch: 100%|██████████| 14/14.0 [00:00<00:00, 209.00it/s]\n"
     ]
    },
    {
     "data": {
      "text/html": [
       "\n",
       "    <style>\n",
       "        .wandb-row {\n",
       "            display: flex;\n",
       "            flex-direction: row;\n",
       "            flex-wrap: wrap;\n",
       "            justify-content: flex-start;\n",
       "            width: 100%;\n",
       "        }\n",
       "        .wandb-col {\n",
       "            display: flex;\n",
       "            flex-direction: column;\n",
       "            flex-basis: 100%;\n",
       "            flex: 1;\n",
       "            padding: 10px;\n",
       "        }\n",
       "    </style>\n",
       "<div class=\"wandb-row\"><div class=\"wandb-col\"><h3>Run history:</h3><br/><table class=\"wandb\"><tr><td>train/MAE</td><td>█▂▁▁▁▂▂▁▁▁</td></tr><tr><td>train/MSE</td><td>█▁▁▁▁▂▁▁▁▁</td></tr><tr><td>train/Max Error</td><td>█▅▁▄▅█▇▄▄▅</td></tr><tr><td>train/loss</td><td>█▁▁▃▁▃▄▃▅▃</td></tr><tr><td>validation/MAE</td><td>▃▅▃▅▁▅▅█▃▃</td></tr><tr><td>validation/MSE</td><td>▆▆▄▂▁▇▄█▁▅</td></tr><tr><td>validation/Max Error</td><td>▄▂▃▁▂▆▄▂▂█</td></tr><tr><td>validation/loss</td><td>▅▄▃▃▄▁█▁▄▁</td></tr></table><br/></div><div class=\"wandb-col\"><h3>Run summary:</h3><br/><table class=\"wandb\"><tr><td>train/MAE</td><td>1.07141</td></tr><tr><td>train/MSE</td><td>1.74482</td></tr><tr><td>train/Max Error</td><td>5.61222</td></tr><tr><td>train/loss</td><td>1.65898</td></tr><tr><td>validation/MAE</td><td>1.01826</td></tr><tr><td>validation/MSE</td><td>1.60076</td></tr><tr><td>validation/Max Error</td><td>5.21495</td></tr><tr><td>validation/loss</td><td>0.55285</td></tr></table><br/></div></div>"
      ],
      "text/plain": [
       "<IPython.core.display.HTML object>"
      ]
     },
     "metadata": {},
     "output_type": "display_data"
    },
    {
     "data": {
      "text/html": [
       " View run <strong style=\"color:#cdcd00\">LIPO attention 3-16, transfer</strong> at: <a href='https://wandb.ai/cus-tibor-none/ToxicML/runs/4lmm2pdy' target=\"_blank\">https://wandb.ai/cus-tibor-none/ToxicML/runs/4lmm2pdy</a><br/> View project at: <a href='https://wandb.ai/cus-tibor-none/ToxicML' target=\"_blank\">https://wandb.ai/cus-tibor-none/ToxicML</a><br/>Synced 5 W&B file(s), 0 media file(s), 10 artifact file(s) and 4 other file(s)"
      ],
      "text/plain": [
       "<IPython.core.display.HTML object>"
      ]
     },
     "metadata": {},
     "output_type": "display_data"
    },
    {
     "data": {
      "text/html": [
       "Find logs at: <code>./wandb/run-20241207_181813-4lmm2pdy/logs</code>"
      ],
      "text/plain": [
       "<IPython.core.display.HTML object>"
      ]
     },
     "metadata": {},
     "output_type": "display_data"
    }
   ],
   "source": [
    "optimizer = torch.optim.Adam(lipo_model.parameters())\n",
    "lr_scheduler = torch.optim.lr_scheduler.ExponentialLR(optimizer, gamma = 0.09)\n",
    "loss_fn = torch.nn.MSELoss()\n",
    "device = torch.device('cuda' if torch.cuda.is_available() else 'cpu')\n",
    "\n",
    "trainer = GenericRegressionTrainer(\n",
    "    lipo_model,\n",
    "    optimizer,\n",
    "    loss_fn,\n",
    "    lr_scheduler,\n",
    "    train_metrics,\n",
    "    validation_metrics,\n",
    "    train,\n",
    "    validation,\n",
    "    test,\n",
    "    device,\n",
    "    None,\n",
    "    EPOCHS,\n",
    "    None,\n",
    "    32\n",
    ")\n",
    "\n",
    "trainer.train(\"LIPO attention 3-16, transfer\")"
   ]
  }
 ],
 "metadata": {
  "kernelspec": {
   "display_name": ".venv",
   "language": "python",
   "name": "python3"
  },
  "language_info": {
   "codemirror_mode": {
    "name": "ipython",
    "version": 3
   },
   "file_extension": ".py",
   "mimetype": "text/x-python",
   "name": "python",
   "nbconvert_exporter": "python",
   "pygments_lexer": "ipython3",
   "version": "3.12.7"
  }
 },
 "nbformat": 4,
 "nbformat_minor": 2
}
