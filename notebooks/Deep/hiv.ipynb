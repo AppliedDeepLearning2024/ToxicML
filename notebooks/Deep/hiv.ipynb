{
 "cells": [
  {
   "cell_type": "code",
   "execution_count": 1,
   "metadata": {},
   "outputs": [],
   "source": [
    "from ToxicMl.evaluation import get_hiv_data\n",
    "from ToxicMl.trainer import GenericClassificationTrainer\n",
    "from ToxicMl.metrics import Accuracy, F1, Recall, Precision\n",
    "\n",
    "import torch\n",
    "from torch_geometric.loader import ImbalancedSampler"
   ]
  },
  {
   "cell_type": "code",
   "execution_count": 2,
   "metadata": {},
   "outputs": [
    {
     "name": "stderr",
     "output_type": "stream",
     "text": [
      "/home/tibor/Documents/msc-datascience/2024w/Toxic/ToxicML/.venv/lib/python3.12/site-packages/ogb/graphproppred/dataset_pyg.py:68: FutureWarning: You are using `torch.load` with `weights_only=False` (the current default value), which uses the default pickle module implicitly. It is possible to construct malicious pickle data which will execute arbitrary code during unpickling (See https://github.com/pytorch/pytorch/blob/main/SECURITY.md#untrusted-models for more details). In a future release, the default value for `weights_only` will be flipped to `True`. This limits the functions that could be executed during unpickling. Arbitrary objects will no longer be allowed to be loaded via this mode unless they are explicitly allowlisted by the user via `torch.serialization.add_safe_globals`. We recommend you start setting `weights_only=True` for any use case where you don't have full control of the loaded file. Please open an issue on GitHub for any issues related to this experimental feature.\n",
      "  self.data, self.slices = torch.load(self.processed_paths[0])\n"
     ]
    }
   ],
   "source": [
    "EPOCHS = 8\n",
    "\n",
    "dataset, train, validation, test = get_hiv_data()\n",
    "train_metrics = [F1(), Accuracy(), Recall(), Precision()]\n",
    "validation_metrics = [F1(), Accuracy(), Recall(), Precision()]"
   ]
  },
  {
   "cell_type": "code",
   "execution_count": 3,
   "metadata": {},
   "outputs": [
    {
     "name": "stderr",
     "output_type": "stream",
     "text": [
      "/home/tibor/Documents/msc-datascience/2024w/Toxic/ToxicML/.venv/lib/python3.12/site-packages/torch_geometric/deprecation.py:26: UserWarning: 'data.DataLoader' is deprecated, use 'loader.DataLoader' instead\n",
      "  warnings.warn(out)\n",
      "\u001b[34m\u001b[1mwandb\u001b[0m: Using wandb-core as the SDK backend.  Please refer to https://wandb.me/wandb-core for more information.\n",
      "\u001b[34m\u001b[1mwandb\u001b[0m: Currently logged in as: \u001b[33mcus-tibor\u001b[0m (\u001b[33mcus-tibor-none\u001b[0m). Use \u001b[1m`wandb login --relogin`\u001b[0m to force relogin\n"
     ]
    },
    {
     "data": {
      "text/html": [
       "Tracking run with wandb version 0.18.7"
      ],
      "text/plain": [
       "<IPython.core.display.HTML object>"
      ]
     },
     "metadata": {},
     "output_type": "display_data"
    },
    {
     "data": {
      "text/html": [
       "Run data is saved locally in <code>/home/tibor/Documents/msc-datascience/2024w/Toxic/ToxicML/ToxicMl/wandb/run-20241207_171035-fkcsj81w</code>"
      ],
      "text/plain": [
       "<IPython.core.display.HTML object>"
      ]
     },
     "metadata": {},
     "output_type": "display_data"
    },
    {
     "data": {
      "text/html": [
       "Syncing run <strong><a href='https://wandb.ai/cus-tibor-none/ToxicML/runs/fkcsj81w' target=\"_blank\">HIV base GCN</a></strong> to <a href='https://wandb.ai/cus-tibor-none/ToxicML' target=\"_blank\">Weights & Biases</a> (<a href='https://wandb.me/developer-guide' target=\"_blank\">docs</a>)<br/>"
      ],
      "text/plain": [
       "<IPython.core.display.HTML object>"
      ]
     },
     "metadata": {},
     "output_type": "display_data"
    },
    {
     "data": {
      "text/html": [
       " View project at <a href='https://wandb.ai/cus-tibor-none/ToxicML' target=\"_blank\">https://wandb.ai/cus-tibor-none/ToxicML</a>"
      ],
      "text/plain": [
       "<IPython.core.display.HTML object>"
      ]
     },
     "metadata": {},
     "output_type": "display_data"
    },
    {
     "data": {
      "text/html": [
       " View run at <a href='https://wandb.ai/cus-tibor-none/ToxicML/runs/fkcsj81w' target=\"_blank\">https://wandb.ai/cus-tibor-none/ToxicML/runs/fkcsj81w</a>"
      ],
      "text/plain": [
       "<IPython.core.display.HTML object>"
      ]
     },
     "metadata": {},
     "output_type": "display_data"
    },
    {
     "name": "stderr",
     "output_type": "stream",
     "text": [
      "train epoch: 100%|██████████| 1029/1029.0 [00:04<00:00, 225.95it/s]\n",
      "val epoch: 100%|██████████| 129/129.0 [00:00<00:00, 148.69it/s]\n",
      "train epoch: 100%|██████████| 1029/1029.0 [00:04<00:00, 218.50it/s]\n",
      "val epoch: 100%|██████████| 129/129.0 [00:00<00:00, 244.33it/s]\n",
      "train epoch: 100%|██████████| 1029/1029.0 [00:04<00:00, 207.52it/s]\n",
      "val epoch: 100%|██████████| 129/129.0 [00:00<00:00, 284.42it/s]\n",
      "train epoch: 100%|██████████| 1029/1029.0 [00:04<00:00, 218.44it/s]\n",
      "val epoch: 100%|██████████| 129/129.0 [00:00<00:00, 237.25it/s]\n",
      "train epoch: 100%|██████████| 1029/1029.0 [00:04<00:00, 219.33it/s]\n",
      "val epoch: 100%|██████████| 129/129.0 [00:00<00:00, 268.35it/s]\n",
      "train epoch: 100%|██████████| 1029/1029.0 [00:04<00:00, 221.71it/s]\n",
      "val epoch: 100%|██████████| 129/129.0 [00:00<00:00, 273.72it/s]\n",
      "train epoch: 100%|██████████| 1029/1029.0 [00:04<00:00, 224.48it/s]\n",
      "val epoch: 100%|██████████| 129/129.0 [00:00<00:00, 287.28it/s]\n",
      "train epoch: 100%|██████████| 1029/1029.0 [00:04<00:00, 209.55it/s]\n",
      "val epoch: 100%|██████████| 129/129.0 [00:00<00:00, 203.00it/s]\n"
     ]
    },
    {
     "data": {
      "text/html": [
       "\n",
       "    <style>\n",
       "        .wandb-row {\n",
       "            display: flex;\n",
       "            flex-direction: row;\n",
       "            flex-wrap: wrap;\n",
       "            justify-content: flex-start;\n",
       "            width: 100%;\n",
       "        }\n",
       "        .wandb-col {\n",
       "            display: flex;\n",
       "            flex-direction: column;\n",
       "            flex-basis: 100%;\n",
       "            flex: 1;\n",
       "            padding: 10px;\n",
       "        }\n",
       "    </style>\n",
       "<div class=\"wandb-row\"><div class=\"wandb-col\"><h3>Run history:</h3><br/><table class=\"wandb\"><tr><td>train/Accuracy</td><td>▁███████</td></tr><tr><td>train/F1</td><td>█▁▁▁▁▁▁▁</td></tr><tr><td>train/Precision</td><td>█▁▁▁▁▁▁▁</td></tr><tr><td>train/Recall</td><td>█▁▁▁▁▁▁▁</td></tr><tr><td>train/loss</td><td>█▁▃▄▃▄▅▆</td></tr><tr><td>validation/Accuracy</td><td>▁▁▁▁▁▁▁▁</td></tr><tr><td>validation/F1</td><td>▁▁▁▁▁▁▁▁</td></tr><tr><td>validation/Precision</td><td>▁▁▁▁▁▁▁▁</td></tr><tr><td>validation/Recall</td><td>▁▁▁▁▁▁▁▁</td></tr><tr><td>validation/loss</td><td>▁▁███▁█▁</td></tr></table><br/></div><div class=\"wandb-col\"><h3>Run summary:</h3><br/><table class=\"wandb\"><tr><td>train/Accuracy</td><td>0.9626</td></tr><tr><td>train/F1</td><td>0</td></tr><tr><td>train/Precision</td><td>0</td></tr><tr><td>train/Recall</td><td>0</td></tr><tr><td>train/loss</td><td>0.31352</td></tr><tr><td>validation/Accuracy</td><td>0.9684</td></tr><tr><td>validation/F1</td><td>0</td></tr><tr><td>validation/Precision</td><td>0</td></tr><tr><td>validation/Recall</td><td>0</td></tr><tr><td>validation/loss</td><td>0.31344</td></tr></table><br/></div></div>"
      ],
      "text/plain": [
       "<IPython.core.display.HTML object>"
      ]
     },
     "metadata": {},
     "output_type": "display_data"
    },
    {
     "data": {
      "text/html": [
       " View run <strong style=\"color:#cdcd00\">HIV base GCN</strong> at: <a href='https://wandb.ai/cus-tibor-none/ToxicML/runs/fkcsj81w' target=\"_blank\">https://wandb.ai/cus-tibor-none/ToxicML/runs/fkcsj81w</a><br/> View project at: <a href='https://wandb.ai/cus-tibor-none/ToxicML' target=\"_blank\">https://wandb.ai/cus-tibor-none/ToxicML</a><br/>Synced 5 W&B file(s), 0 media file(s), 2 artifact file(s) and 1 other file(s)"
      ],
      "text/plain": [
       "<IPython.core.display.HTML object>"
      ]
     },
     "metadata": {},
     "output_type": "display_data"
    },
    {
     "data": {
      "text/html": [
       "Find logs at: <code>./wandb/run-20241207_171035-fkcsj81w/logs</code>"
      ],
      "text/plain": [
       "<IPython.core.display.HTML object>"
      ]
     },
     "metadata": {},
     "output_type": "display_data"
    }
   ],
   "source": [
    "from ToxicMl.MLmodels.gcn import GCN\n",
    "\n",
    "model = GCN(9, 16, 2)\n",
    "optimizer = torch.optim.Adam(model.parameters())\n",
    "lr_scheduler = torch.optim.lr_scheduler.ExponentialLR(optimizer, gamma = 0.09)\n",
    "loss_fn = torch.nn.CrossEntropyLoss()\n",
    "sampler = ImbalancedSampler(train) \n",
    "device = torch.device('cuda' if torch.cuda.is_available() else 'cpu')\n",
    "\n",
    "trainer = GenericClassificationTrainer(\n",
    "    model,\n",
    "    optimizer,\n",
    "    loss_fn,\n",
    "    lr_scheduler,\n",
    "    train_metrics,\n",
    "    validation_metrics,\n",
    "    train,\n",
    "    validation,\n",
    "    test,\n",
    "    device,\n",
    "    None,\n",
    "    EPOCHS,\n",
    "    None,\n",
    "    32\n",
    ")\n",
    "\n",
    "trainer.train(\"HIV base GCN\")"
   ]
  },
  {
   "cell_type": "code",
   "execution_count": 4,
   "metadata": {},
   "outputs": [
    {
     "name": "stderr",
     "output_type": "stream",
     "text": [
      "/home/tibor/Documents/msc-datascience/2024w/Toxic/ToxicML/.venv/lib/python3.12/site-packages/torch_geometric/deprecation.py:26: UserWarning: 'data.DataLoader' is deprecated, use 'loader.DataLoader' instead\n",
      "  warnings.warn(out)\n"
     ]
    },
    {
     "data": {
      "text/html": [
       "Tracking run with wandb version 0.18.7"
      ],
      "text/plain": [
       "<IPython.core.display.HTML object>"
      ]
     },
     "metadata": {},
     "output_type": "display_data"
    },
    {
     "data": {
      "text/html": [
       "Run data is saved locally in <code>/home/tibor/Documents/msc-datascience/2024w/Toxic/ToxicML/ToxicMl/wandb/run-20241207_171125-c9mynqg3</code>"
      ],
      "text/plain": [
       "<IPython.core.display.HTML object>"
      ]
     },
     "metadata": {},
     "output_type": "display_data"
    },
    {
     "data": {
      "text/html": [
       "Syncing run <strong><a href='https://wandb.ai/cus-tibor-none/ToxicML/runs/c9mynqg3' target=\"_blank\">HIV base GCN weighted loss</a></strong> to <a href='https://wandb.ai/cus-tibor-none/ToxicML' target=\"_blank\">Weights & Biases</a> (<a href='https://wandb.me/developer-guide' target=\"_blank\">docs</a>)<br/>"
      ],
      "text/plain": [
       "<IPython.core.display.HTML object>"
      ]
     },
     "metadata": {},
     "output_type": "display_data"
    },
    {
     "data": {
      "text/html": [
       " View project at <a href='https://wandb.ai/cus-tibor-none/ToxicML' target=\"_blank\">https://wandb.ai/cus-tibor-none/ToxicML</a>"
      ],
      "text/plain": [
       "<IPython.core.display.HTML object>"
      ]
     },
     "metadata": {},
     "output_type": "display_data"
    },
    {
     "data": {
      "text/html": [
       " View run at <a href='https://wandb.ai/cus-tibor-none/ToxicML/runs/c9mynqg3' target=\"_blank\">https://wandb.ai/cus-tibor-none/ToxicML/runs/c9mynqg3</a>"
      ],
      "text/plain": [
       "<IPython.core.display.HTML object>"
      ]
     },
     "metadata": {},
     "output_type": "display_data"
    },
    {
     "name": "stderr",
     "output_type": "stream",
     "text": [
      "train epoch: 100%|██████████| 1029/1029.0 [00:04<00:00, 221.14it/s]\n",
      "val epoch: 100%|██████████| 129/129.0 [00:00<00:00, 279.74it/s]\n",
      "train epoch: 100%|██████████| 1029/1029.0 [00:05<00:00, 192.74it/s]\n",
      "val epoch: 100%|██████████| 129/129.0 [00:00<00:00, 217.47it/s]\n",
      "train epoch: 100%|██████████| 1029/1029.0 [00:05<00:00, 183.10it/s]\n",
      "val epoch: 100%|██████████| 129/129.0 [00:00<00:00, 234.70it/s]\n",
      "train epoch: 100%|██████████| 1029/1029.0 [00:05<00:00, 183.07it/s]\n",
      "val epoch: 100%|██████████| 129/129.0 [00:00<00:00, 187.86it/s]\n",
      "train epoch: 100%|██████████| 1029/1029.0 [00:05<00:00, 180.50it/s]\n",
      "val epoch: 100%|██████████| 129/129.0 [00:00<00:00, 245.67it/s]\n",
      "train epoch: 100%|██████████| 1029/1029.0 [00:05<00:00, 172.09it/s]\n",
      "val epoch: 100%|██████████| 129/129.0 [00:00<00:00, 246.38it/s]\n",
      "train epoch: 100%|██████████| 1029/1029.0 [00:05<00:00, 186.16it/s]\n",
      "val epoch: 100%|██████████| 129/129.0 [00:00<00:00, 229.28it/s]\n",
      "train epoch: 100%|██████████| 1029/1029.0 [00:05<00:00, 183.09it/s]\n",
      "val epoch: 100%|██████████| 129/129.0 [00:00<00:00, 224.12it/s]\n"
     ]
    },
    {
     "data": {
      "text/html": [
       "\n",
       "    <style>\n",
       "        .wandb-row {\n",
       "            display: flex;\n",
       "            flex-direction: row;\n",
       "            flex-wrap: wrap;\n",
       "            justify-content: flex-start;\n",
       "            width: 100%;\n",
       "        }\n",
       "        .wandb-col {\n",
       "            display: flex;\n",
       "            flex-direction: column;\n",
       "            flex-basis: 100%;\n",
       "            flex: 1;\n",
       "            padding: 10px;\n",
       "        }\n",
       "    </style>\n",
       "<div class=\"wandb-row\"><div class=\"wandb-col\"><h3>Run history:</h3><br/><table class=\"wandb\"><tr><td>train/Accuracy</td><td>▁▄██████</td></tr><tr><td>train/F1</td><td>█▂▁▂▂▂▂▁</td></tr><tr><td>train/Precision</td><td>█▂▁▁▁▂▂▁</td></tr><tr><td>train/Recall</td><td>▄▂▁▄▄██▁</td></tr><tr><td>train/loss</td><td>█▁▃▃▃▂▂▂</td></tr><tr><td>validation/Accuracy</td><td>▁███████</td></tr><tr><td>validation/F1</td><td>▁▁▁▁▁▁▁▁</td></tr><tr><td>validation/Precision</td><td>▁▁▁▁▁▁▁▁</td></tr><tr><td>validation/Recall</td><td>▁▁▁▁▁▁▁▁</td></tr><tr><td>validation/loss</td><td>▆▆█▆▁▁▁▁</td></tr></table><br/></div><div class=\"wandb-col\"><h3>Run summary:</h3><br/><table class=\"wandb\"><tr><td>train/Accuracy</td><td>0.9617</td></tr><tr><td>train/F1</td><td>0</td></tr><tr><td>train/Precision</td><td>0</td></tr><tr><td>train/Recall</td><td>0</td></tr><tr><td>train/loss</td><td>0.38831</td></tr><tr><td>validation/Accuracy</td><td>0.9684</td></tr><tr><td>validation/F1</td><td>0</td></tr><tr><td>validation/Precision</td><td>0</td></tr><tr><td>validation/Recall</td><td>0</td></tr><tr><td>validation/loss</td><td>0.40568</td></tr></table><br/></div></div>"
      ],
      "text/plain": [
       "<IPython.core.display.HTML object>"
      ]
     },
     "metadata": {},
     "output_type": "display_data"
    },
    {
     "data": {
      "text/html": [
       " View run <strong style=\"color:#cdcd00\">HIV base GCN weighted loss</strong> at: <a href='https://wandb.ai/cus-tibor-none/ToxicML/runs/c9mynqg3' target=\"_blank\">https://wandb.ai/cus-tibor-none/ToxicML/runs/c9mynqg3</a><br/> View project at: <a href='https://wandb.ai/cus-tibor-none/ToxicML' target=\"_blank\">https://wandb.ai/cus-tibor-none/ToxicML</a><br/>Synced 5 W&B file(s), 0 media file(s), 2 artifact file(s) and 1 other file(s)"
      ],
      "text/plain": [
       "<IPython.core.display.HTML object>"
      ]
     },
     "metadata": {},
     "output_type": "display_data"
    },
    {
     "data": {
      "text/html": [
       "Find logs at: <code>./wandb/run-20241207_171125-c9mynqg3/logs</code>"
      ],
      "text/plain": [
       "<IPython.core.display.HTML object>"
      ]
     },
     "metadata": {},
     "output_type": "display_data"
    }
   ],
   "source": [
    "from sklearn.utils.class_weight import compute_class_weight\n",
    "\n",
    "weights = compute_class_weight(\"balanced\", classes=dataset.y.flatten().unique().numpy(), y=dataset.y.flatten().numpy())\n",
    "weights = torch.tensor(weights, dtype=torch.float)\n",
    "\n",
    "model = GCN(9, 16, 2)\n",
    "optimizer = torch.optim.Adam(model.parameters())\n",
    "lr_scheduler = torch.optim.lr_scheduler.ExponentialLR(optimizer, gamma = 0.09)\n",
    "loss_fn = torch.nn.CrossEntropyLoss(weight=weights)\n",
    "sampler = ImbalancedSampler(train) \n",
    "device = torch.device('cuda' if torch.cuda.is_available() else 'cpu')\n",
    "\n",
    "trainer = GenericClassificationTrainer(\n",
    "    model,\n",
    "    optimizer,\n",
    "    loss_fn,\n",
    "    lr_scheduler,\n",
    "    train_metrics,\n",
    "    validation_metrics,\n",
    "    train,\n",
    "    validation,\n",
    "    test,\n",
    "    device,\n",
    "    None,\n",
    "    EPOCHS,\n",
    "    None,\n",
    "    32\n",
    ")\n",
    "\n",
    "trainer.train(\"HIV base GCN weighted loss\")"
   ]
  },
  {
   "cell_type": "code",
   "execution_count": 5,
   "metadata": {},
   "outputs": [
    {
     "name": "stderr",
     "output_type": "stream",
     "text": [
      "/home/tibor/Documents/msc-datascience/2024w/Toxic/ToxicML/.venv/lib/python3.12/site-packages/torch_geometric/deprecation.py:26: UserWarning: 'data.DataLoader' is deprecated, use 'loader.DataLoader' instead\n",
      "  warnings.warn(out)\n"
     ]
    },
    {
     "data": {
      "text/html": [
       "Tracking run with wandb version 0.18.7"
      ],
      "text/plain": [
       "<IPython.core.display.HTML object>"
      ]
     },
     "metadata": {},
     "output_type": "display_data"
    },
    {
     "data": {
      "text/html": [
       "Run data is saved locally in <code>/home/tibor/Documents/msc-datascience/2024w/Toxic/ToxicML/ToxicMl/wandb/run-20241207_171220-tk9wi8ru</code>"
      ],
      "text/plain": [
       "<IPython.core.display.HTML object>"
      ]
     },
     "metadata": {},
     "output_type": "display_data"
    },
    {
     "data": {
      "text/html": [
       "Syncing run <strong><a href='https://wandb.ai/cus-tibor-none/ToxicML/runs/tk9wi8ru' target=\"_blank\">HIV base GCN with sampling</a></strong> to <a href='https://wandb.ai/cus-tibor-none/ToxicML' target=\"_blank\">Weights & Biases</a> (<a href='https://wandb.me/developer-guide' target=\"_blank\">docs</a>)<br/>"
      ],
      "text/plain": [
       "<IPython.core.display.HTML object>"
      ]
     },
     "metadata": {},
     "output_type": "display_data"
    },
    {
     "data": {
      "text/html": [
       " View project at <a href='https://wandb.ai/cus-tibor-none/ToxicML' target=\"_blank\">https://wandb.ai/cus-tibor-none/ToxicML</a>"
      ],
      "text/plain": [
       "<IPython.core.display.HTML object>"
      ]
     },
     "metadata": {},
     "output_type": "display_data"
    },
    {
     "data": {
      "text/html": [
       " View run at <a href='https://wandb.ai/cus-tibor-none/ToxicML/runs/tk9wi8ru' target=\"_blank\">https://wandb.ai/cus-tibor-none/ToxicML/runs/tk9wi8ru</a>"
      ],
      "text/plain": [
       "<IPython.core.display.HTML object>"
      ]
     },
     "metadata": {},
     "output_type": "display_data"
    },
    {
     "name": "stderr",
     "output_type": "stream",
     "text": [
      "train epoch: 100%|██████████| 1029/1029.0 [00:04<00:00, 221.65it/s]\n",
      "val epoch: 100%|██████████| 129/129.0 [00:00<00:00, 287.06it/s]\n",
      "train epoch: 100%|██████████| 1029/1029.0 [00:05<00:00, 179.84it/s]\n",
      "val epoch: 100%|██████████| 129/129.0 [00:00<00:00, 190.09it/s]\n",
      "train epoch: 100%|██████████| 1029/1029.0 [00:05<00:00, 177.26it/s]\n",
      "val epoch: 100%|██████████| 129/129.0 [00:00<00:00, 228.26it/s]\n",
      "train epoch: 100%|██████████| 1029/1029.0 [00:06<00:00, 171.36it/s]\n",
      "val epoch: 100%|██████████| 129/129.0 [00:00<00:00, 227.02it/s]\n",
      "train epoch: 100%|██████████| 1029/1029.0 [00:05<00:00, 179.15it/s]\n",
      "val epoch: 100%|██████████| 129/129.0 [00:00<00:00, 239.44it/s]\n",
      "train epoch: 100%|██████████| 1029/1029.0 [00:05<00:00, 184.81it/s]\n",
      "val epoch: 100%|██████████| 129/129.0 [00:00<00:00, 247.65it/s]\n",
      "train epoch: 100%|██████████| 1029/1029.0 [00:05<00:00, 173.91it/s]\n",
      "val epoch: 100%|██████████| 129/129.0 [00:00<00:00, 245.73it/s]\n",
      "train epoch: 100%|██████████| 1029/1029.0 [00:05<00:00, 182.44it/s]\n",
      "val epoch: 100%|██████████| 129/129.0 [00:00<00:00, 217.44it/s]\n"
     ]
    },
    {
     "data": {
      "text/html": [
       "\n",
       "    <style>\n",
       "        .wandb-row {\n",
       "            display: flex;\n",
       "            flex-direction: row;\n",
       "            flex-wrap: wrap;\n",
       "            justify-content: flex-start;\n",
       "            width: 100%;\n",
       "        }\n",
       "        .wandb-col {\n",
       "            display: flex;\n",
       "            flex-direction: column;\n",
       "            flex-basis: 100%;\n",
       "            flex: 1;\n",
       "            padding: 10px;\n",
       "        }\n",
       "    </style>\n",
       "<div class=\"wandb-row\"><div class=\"wandb-col\"><h3>Run history:</h3><br/><table class=\"wandb\"><tr><td>train/Accuracy</td><td>▁▆▇▅▇▆▇█</td></tr><tr><td>train/F1</td><td>▆█▁▃▄▃▄▄</td></tr><tr><td>train/Precision</td><td>██▁▃▃▃▃▃</td></tr><tr><td>train/Recall</td><td>▁▅▆▆█▇▇█</td></tr><tr><td>train/loss</td><td>▅▂▃▁▅▃▃█</td></tr><tr><td>validation/Accuracy</td><td>▁█▇▇▇▇▇▇</td></tr><tr><td>validation/F1</td><td>▁█▇▇▇▇▇▇</td></tr><tr><td>validation/Precision</td><td>█▁▂▃▃▃▃▃</td></tr><tr><td>validation/Recall</td><td>▁█▇▇▇▇▇▇</td></tr><tr><td>validation/loss</td><td>█▁▇▂▅▇▅▃</td></tr></table><br/></div><div class=\"wandb-col\"><h3>Run summary:</h3><br/><table class=\"wandb\"><tr><td>train/Accuracy</td><td>0.5575</td></tr><tr><td>train/F1</td><td>0.52911</td></tr><tr><td>train/Precision</td><td>0.49878</td></tr><tr><td>train/Recall</td><td>0.56337</td></tr><tr><td>train/loss</td><td>0.79437</td></tr><tr><td>validation/Accuracy</td><td>0.7005</td></tr><tr><td>validation/F1</td><td>0.09278</td></tr><tr><td>validation/Precision</td><td>0.48462</td></tr><tr><td>validation/Recall</td><td>0.0513</td></tr><tr><td>validation/loss</td><td>0.63535</td></tr></table><br/></div></div>"
      ],
      "text/plain": [
       "<IPython.core.display.HTML object>"
      ]
     },
     "metadata": {},
     "output_type": "display_data"
    },
    {
     "data": {
      "text/html": [
       " View run <strong style=\"color:#cdcd00\">HIV base GCN with sampling</strong> at: <a href='https://wandb.ai/cus-tibor-none/ToxicML/runs/tk9wi8ru' target=\"_blank\">https://wandb.ai/cus-tibor-none/ToxicML/runs/tk9wi8ru</a><br/> View project at: <a href='https://wandb.ai/cus-tibor-none/ToxicML' target=\"_blank\">https://wandb.ai/cus-tibor-none/ToxicML</a><br/>Synced 5 W&B file(s), 0 media file(s), 2 artifact file(s) and 1 other file(s)"
      ],
      "text/plain": [
       "<IPython.core.display.HTML object>"
      ]
     },
     "metadata": {},
     "output_type": "display_data"
    },
    {
     "data": {
      "text/html": [
       "Find logs at: <code>./wandb/run-20241207_171220-tk9wi8ru/logs</code>"
      ],
      "text/plain": [
       "<IPython.core.display.HTML object>"
      ]
     },
     "metadata": {},
     "output_type": "display_data"
    }
   ],
   "source": [
    "model = GCN(9, 16, 2)\n",
    "optimizer = torch.optim.Adam(model.parameters())\n",
    "lr_scheduler = torch.optim.lr_scheduler.ExponentialLR(optimizer, gamma = 0.09)\n",
    "loss_fn = torch.nn.CrossEntropyLoss()\n",
    "sampler = ImbalancedSampler(train) \n",
    "device = torch.device('cuda' if torch.cuda.is_available() else 'cpu')\n",
    "\n",
    "trainer = GenericClassificationTrainer(\n",
    "    model,\n",
    "    optimizer,\n",
    "    loss_fn,\n",
    "    lr_scheduler,\n",
    "    train_metrics,\n",
    "    validation_metrics,\n",
    "    train,\n",
    "    validation,\n",
    "    test,\n",
    "    device,\n",
    "    sampler,\n",
    "    EPOCHS,\n",
    "    None,\n",
    "    32\n",
    ")\n",
    "\n",
    "trainer.train(\"HIV base GCN with sampling\")"
   ]
  },
  {
   "cell_type": "code",
   "execution_count": 6,
   "metadata": {},
   "outputs": [
    {
     "name": "stderr",
     "output_type": "stream",
     "text": [
      "/home/tibor/Documents/msc-datascience/2024w/Toxic/ToxicML/.venv/lib/python3.12/site-packages/torch_geometric/deprecation.py:26: UserWarning: 'data.DataLoader' is deprecated, use 'loader.DataLoader' instead\n",
      "  warnings.warn(out)\n"
     ]
    },
    {
     "data": {
      "text/html": [
       "Tracking run with wandb version 0.18.7"
      ],
      "text/plain": [
       "<IPython.core.display.HTML object>"
      ]
     },
     "metadata": {},
     "output_type": "display_data"
    },
    {
     "data": {
      "text/html": [
       "Run data is saved locally in <code>/home/tibor/Documents/msc-datascience/2024w/Toxic/ToxicML/ToxicMl/wandb/run-20241207_171316-78vrygi0</code>"
      ],
      "text/plain": [
       "<IPython.core.display.HTML object>"
      ]
     },
     "metadata": {},
     "output_type": "display_data"
    },
    {
     "data": {
      "text/html": [
       "Syncing run <strong><a href='https://wandb.ai/cus-tibor-none/ToxicML/runs/78vrygi0' target=\"_blank\">HIV ChemGCN 3-16, sampling</a></strong> to <a href='https://wandb.ai/cus-tibor-none/ToxicML' target=\"_blank\">Weights & Biases</a> (<a href='https://wandb.me/developer-guide' target=\"_blank\">docs</a>)<br/>"
      ],
      "text/plain": [
       "<IPython.core.display.HTML object>"
      ]
     },
     "metadata": {},
     "output_type": "display_data"
    },
    {
     "data": {
      "text/html": [
       " View project at <a href='https://wandb.ai/cus-tibor-none/ToxicML' target=\"_blank\">https://wandb.ai/cus-tibor-none/ToxicML</a>"
      ],
      "text/plain": [
       "<IPython.core.display.HTML object>"
      ]
     },
     "metadata": {},
     "output_type": "display_data"
    },
    {
     "data": {
      "text/html": [
       " View run at <a href='https://wandb.ai/cus-tibor-none/ToxicML/runs/78vrygi0' target=\"_blank\">https://wandb.ai/cus-tibor-none/ToxicML/runs/78vrygi0</a>"
      ],
      "text/plain": [
       "<IPython.core.display.HTML object>"
      ]
     },
     "metadata": {},
     "output_type": "display_data"
    },
    {
     "name": "stderr",
     "output_type": "stream",
     "text": [
      "train epoch: 100%|██████████| 1029/1029.0 [00:07<00:00, 131.53it/s]\n",
      "val epoch: 100%|██████████| 129/129.0 [00:00<00:00, 188.84it/s]\n",
      "train epoch: 100%|██████████| 1029/1029.0 [00:08<00:00, 120.50it/s]\n",
      "val epoch: 100%|██████████| 129/129.0 [00:00<00:00, 180.12it/s]\n",
      "train epoch: 100%|██████████| 1029/1029.0 [00:08<00:00, 120.54it/s]\n",
      "val epoch: 100%|██████████| 129/129.0 [00:00<00:00, 177.11it/s]\n",
      "train epoch: 100%|██████████| 1029/1029.0 [00:08<00:00, 119.45it/s]\n",
      "val epoch: 100%|██████████| 129/129.0 [00:00<00:00, 168.60it/s]\n",
      "train epoch: 100%|██████████| 1029/1029.0 [00:08<00:00, 121.91it/s]\n",
      "val epoch: 100%|██████████| 129/129.0 [00:00<00:00, 188.78it/s]\n",
      "train epoch: 100%|██████████| 1029/1029.0 [00:08<00:00, 121.52it/s]\n",
      "val epoch: 100%|██████████| 129/129.0 [00:00<00:00, 178.13it/s]\n",
      "train epoch: 100%|██████████| 1029/1029.0 [00:08<00:00, 116.23it/s]\n",
      "val epoch: 100%|██████████| 129/129.0 [00:00<00:00, 181.08it/s]\n",
      "train epoch: 100%|██████████| 1029/1029.0 [00:08<00:00, 114.48it/s]\n",
      "val epoch: 100%|██████████| 129/129.0 [00:00<00:00, 196.32it/s]\n"
     ]
    },
    {
     "data": {
      "text/html": [
       "\n",
       "    <style>\n",
       "        .wandb-row {\n",
       "            display: flex;\n",
       "            flex-direction: row;\n",
       "            flex-wrap: wrap;\n",
       "            justify-content: flex-start;\n",
       "            width: 100%;\n",
       "        }\n",
       "        .wandb-col {\n",
       "            display: flex;\n",
       "            flex-direction: column;\n",
       "            flex-basis: 100%;\n",
       "            flex: 1;\n",
       "            padding: 10px;\n",
       "        }\n",
       "    </style>\n",
       "<div class=\"wandb-row\"><div class=\"wandb-col\"><h3>Run history:</h3><br/><table class=\"wandb\"><tr><td>train/Accuracy</td><td>▁█▇▇█▇▇▇</td></tr><tr><td>train/F1</td><td>▁▅▇▇██▇▇</td></tr><tr><td>train/Precision</td><td>▂▁█▇█▆▇▇</td></tr><tr><td>train/Recall</td><td>▁█▆▇██▇▆</td></tr><tr><td>train/loss</td><td>▅█▃▁█▆▁▄</td></tr><tr><td>validation/Accuracy</td><td>█▁▃▁▃▄▂▃</td></tr><tr><td>validation/F1</td><td>█▃▄▃▁▅▄▄</td></tr><tr><td>validation/Precision</td><td>▂▇▅▆▁▄█▄</td></tr><tr><td>validation/Recall</td><td>█▂▃▂▁▄▄▃</td></tr><tr><td>validation/loss</td><td>█▁▅▁▅▆▅▆</td></tr></table><br/></div><div class=\"wandb-col\"><h3>Run summary:</h3><br/><table class=\"wandb\"><tr><td>train/Accuracy</td><td>0.5929</td></tr><tr><td>train/F1</td><td>0.6082</td></tr><tr><td>train/Precision</td><td>0.63703</td></tr><tr><td>train/Recall</td><td>0.58186</td></tr><tr><td>train/loss</td><td>0.66941</td></tr><tr><td>validation/Accuracy</td><td>0.6599</td></tr><tr><td>validation/F1</td><td>0.09215</td></tr><tr><td>validation/Precision</td><td>0.54615</td></tr><tr><td>validation/Recall</td><td>0.05032</td></tr><tr><td>validation/loss</td><td>0.74665</td></tr></table><br/></div></div>"
      ],
      "text/plain": [
       "<IPython.core.display.HTML object>"
      ]
     },
     "metadata": {},
     "output_type": "display_data"
    },
    {
     "data": {
      "text/html": [
       " View run <strong style=\"color:#cdcd00\">HIV ChemGCN 3-16, sampling</strong> at: <a href='https://wandb.ai/cus-tibor-none/ToxicML/runs/78vrygi0' target=\"_blank\">https://wandb.ai/cus-tibor-none/ToxicML/runs/78vrygi0</a><br/> View project at: <a href='https://wandb.ai/cus-tibor-none/ToxicML' target=\"_blank\">https://wandb.ai/cus-tibor-none/ToxicML</a><br/>Synced 5 W&B file(s), 0 media file(s), 2 artifact file(s) and 1 other file(s)"
      ],
      "text/plain": [
       "<IPython.core.display.HTML object>"
      ]
     },
     "metadata": {},
     "output_type": "display_data"
    },
    {
     "data": {
      "text/html": [
       "Find logs at: <code>./wandb/run-20241207_171316-78vrygi0/logs</code>"
      ],
      "text/plain": [
       "<IPython.core.display.HTML object>"
      ]
     },
     "metadata": {},
     "output_type": "display_data"
    }
   ],
   "source": [
    "from ToxicMl.MLmodels.gcn import ChemGCN\n",
    "model = ChemGCN(3, 9, 16, 2)\n",
    "optimizer = torch.optim.Adam(model.parameters())\n",
    "lr_scheduler = torch.optim.lr_scheduler.ExponentialLR(optimizer, gamma = 0.09)\n",
    "loss_fn = torch.nn.CrossEntropyLoss()\n",
    "sampler = ImbalancedSampler(train) \n",
    "device = torch.device('cuda' if torch.cuda.is_available() else 'cpu')\n",
    "\n",
    "trainer = GenericClassificationTrainer(\n",
    "    model,\n",
    "    optimizer,\n",
    "    loss_fn,\n",
    "    lr_scheduler,\n",
    "    train_metrics,\n",
    "    validation_metrics,\n",
    "    train,\n",
    "    validation,\n",
    "    test,\n",
    "    device,\n",
    "    sampler,\n",
    "    EPOCHS,\n",
    "    None,\n",
    "    32\n",
    ")\n",
    "\n",
    "trainer.train(\"HIV ChemGCN 3-16, sampling\")"
   ]
  },
  {
   "cell_type": "code",
   "execution_count": 7,
   "metadata": {},
   "outputs": [],
   "source": [
    "torch.save(model.state_dict(), \"../saved_models/ChemGCN_HIV_Sampled\")"
   ]
  },
  {
   "cell_type": "code",
   "execution_count": 8,
   "metadata": {},
   "outputs": [
    {
     "name": "stderr",
     "output_type": "stream",
     "text": [
      "/home/tibor/Documents/msc-datascience/2024w/Toxic/ToxicML/.venv/lib/python3.12/site-packages/torch_geometric/deprecation.py:26: UserWarning: 'data.DataLoader' is deprecated, use 'loader.DataLoader' instead\n",
      "  warnings.warn(out)\n"
     ]
    },
    {
     "data": {
      "text/html": [
       "Tracking run with wandb version 0.18.7"
      ],
      "text/plain": [
       "<IPython.core.display.HTML object>"
      ]
     },
     "metadata": {},
     "output_type": "display_data"
    },
    {
     "data": {
      "text/html": [
       "Run data is saved locally in <code>/home/tibor/Documents/msc-datascience/2024w/Toxic/ToxicML/ToxicMl/wandb/run-20241207_171437-abx7yxmt</code>"
      ],
      "text/plain": [
       "<IPython.core.display.HTML object>"
      ]
     },
     "metadata": {},
     "output_type": "display_data"
    },
    {
     "data": {
      "text/html": [
       "Syncing run <strong><a href='https://wandb.ai/cus-tibor-none/ToxicML/runs/abx7yxmt' target=\"_blank\">HIV ChemGCN 3-32, sampling</a></strong> to <a href='https://wandb.ai/cus-tibor-none/ToxicML' target=\"_blank\">Weights & Biases</a> (<a href='https://wandb.me/developer-guide' target=\"_blank\">docs</a>)<br/>"
      ],
      "text/plain": [
       "<IPython.core.display.HTML object>"
      ]
     },
     "metadata": {},
     "output_type": "display_data"
    },
    {
     "data": {
      "text/html": [
       " View project at <a href='https://wandb.ai/cus-tibor-none/ToxicML' target=\"_blank\">https://wandb.ai/cus-tibor-none/ToxicML</a>"
      ],
      "text/plain": [
       "<IPython.core.display.HTML object>"
      ]
     },
     "metadata": {},
     "output_type": "display_data"
    },
    {
     "data": {
      "text/html": [
       " View run at <a href='https://wandb.ai/cus-tibor-none/ToxicML/runs/abx7yxmt' target=\"_blank\">https://wandb.ai/cus-tibor-none/ToxicML/runs/abx7yxmt</a>"
      ],
      "text/plain": [
       "<IPython.core.display.HTML object>"
      ]
     },
     "metadata": {},
     "output_type": "display_data"
    },
    {
     "name": "stderr",
     "output_type": "stream",
     "text": [
      "train epoch: 100%|██████████| 1029/1029.0 [00:07<00:00, 129.41it/s]\n",
      "val epoch: 100%|██████████| 129/129.0 [00:00<00:00, 145.67it/s]\n",
      "train epoch: 100%|██████████| 1029/1029.0 [00:09<00:00, 111.70it/s]\n",
      "val epoch: 100%|██████████| 129/129.0 [00:00<00:00, 191.09it/s]\n",
      "train epoch: 100%|██████████| 1029/1029.0 [00:09<00:00, 110.86it/s]\n",
      "val epoch: 100%|██████████| 129/129.0 [00:00<00:00, 157.36it/s]\n",
      "train epoch: 100%|██████████| 1029/1029.0 [00:09<00:00, 110.75it/s]\n",
      "val epoch: 100%|██████████| 129/129.0 [00:00<00:00, 163.46it/s]\n",
      "train epoch: 100%|██████████| 1029/1029.0 [00:09<00:00, 109.80it/s]\n",
      "val epoch: 100%|██████████| 129/129.0 [00:00<00:00, 165.16it/s]\n",
      "train epoch: 100%|██████████| 1029/1029.0 [00:08<00:00, 115.00it/s]\n",
      "val epoch: 100%|██████████| 129/129.0 [00:00<00:00, 184.89it/s]\n",
      "train epoch: 100%|██████████| 1029/1029.0 [00:09<00:00, 112.10it/s]\n",
      "val epoch: 100%|██████████| 129/129.0 [00:00<00:00, 153.60it/s]\n",
      "train epoch: 100%|██████████| 1029/1029.0 [00:09<00:00, 107.65it/s]\n",
      "val epoch: 100%|██████████| 129/129.0 [00:00<00:00, 162.92it/s]\n"
     ]
    },
    {
     "data": {
      "text/html": [
       "\n",
       "    <style>\n",
       "        .wandb-row {\n",
       "            display: flex;\n",
       "            flex-direction: row;\n",
       "            flex-wrap: wrap;\n",
       "            justify-content: flex-start;\n",
       "            width: 100%;\n",
       "        }\n",
       "        .wandb-col {\n",
       "            display: flex;\n",
       "            flex-direction: column;\n",
       "            flex-basis: 100%;\n",
       "            flex: 1;\n",
       "            padding: 10px;\n",
       "        }\n",
       "    </style>\n",
       "<div class=\"wandb-row\"><div class=\"wandb-col\"><h3>Run history:</h3><br/><table class=\"wandb\"><tr><td>train/Accuracy</td><td>▁▇█▇▇█▆▆</td></tr><tr><td>train/F1</td><td>▁▇█▆▇█▆▇</td></tr><tr><td>train/Precision</td><td>▁▇▇▅▅█▅▆</td></tr><tr><td>train/Recall</td><td>▁▇█▆██▆▇</td></tr><tr><td>train/loss</td><td>▃█▇▄█▃▃▁</td></tr><tr><td>validation/Accuracy</td><td>▅▃▅▁▂▅█▆</td></tr><tr><td>validation/F1</td><td>█▄▇▄▁▄█▅</td></tr><tr><td>validation/Precision</td><td>█▄▆█▁▁▂▂</td></tr><tr><td>validation/Recall</td><td>▇▄▇▄▁▄█▅</td></tr><tr><td>validation/loss</td><td>▄▆▄▆█▇▁▁</td></tr></table><br/></div><div class=\"wandb-col\"><h3>Run summary:</h3><br/><table class=\"wandb\"><tr><td>train/Accuracy</td><td>0.6126</td></tr><tr><td>train/F1</td><td>0.61047</td></tr><tr><td>train/Precision</td><td>0.60531</td></tr><tr><td>train/Recall</td><td>0.61572</td></tr><tr><td>train/loss</td><td>0.44964</td></tr><tr><td>validation/Accuracy</td><td>0.725</td></tr><tr><td>validation/F1</td><td>0.10593</td></tr><tr><td>validation/Precision</td><td>0.51538</td></tr><tr><td>validation/Recall</td><td>0.05903</td></tr><tr><td>validation/loss</td><td>0.59034</td></tr></table><br/></div></div>"
      ],
      "text/plain": [
       "<IPython.core.display.HTML object>"
      ]
     },
     "metadata": {},
     "output_type": "display_data"
    },
    {
     "data": {
      "text/html": [
       " View run <strong style=\"color:#cdcd00\">HIV ChemGCN 3-32, sampling</strong> at: <a href='https://wandb.ai/cus-tibor-none/ToxicML/runs/abx7yxmt' target=\"_blank\">https://wandb.ai/cus-tibor-none/ToxicML/runs/abx7yxmt</a><br/> View project at: <a href='https://wandb.ai/cus-tibor-none/ToxicML' target=\"_blank\">https://wandb.ai/cus-tibor-none/ToxicML</a><br/>Synced 5 W&B file(s), 0 media file(s), 2 artifact file(s) and 1 other file(s)"
      ],
      "text/plain": [
       "<IPython.core.display.HTML object>"
      ]
     },
     "metadata": {},
     "output_type": "display_data"
    },
    {
     "data": {
      "text/html": [
       "Find logs at: <code>./wandb/run-20241207_171437-abx7yxmt/logs</code>"
      ],
      "text/plain": [
       "<IPython.core.display.HTML object>"
      ]
     },
     "metadata": {},
     "output_type": "display_data"
    }
   ],
   "source": [
    "from ToxicMl.MLmodels.gcn import ChemGCN\n",
    "model = ChemGCN(3, 9, 32, 2)\n",
    "optimizer = torch.optim.Adam(model.parameters())\n",
    "lr_scheduler = torch.optim.lr_scheduler.ExponentialLR(optimizer, gamma = 0.09)\n",
    "loss_fn = torch.nn.CrossEntropyLoss()\n",
    "sampler = ImbalancedSampler(train) \n",
    "device = torch.device('cuda' if torch.cuda.is_available() else 'cpu')\n",
    "\n",
    "trainer = GenericClassificationTrainer(\n",
    "    model,\n",
    "    optimizer,\n",
    "    loss_fn,\n",
    "    lr_scheduler,\n",
    "    train_metrics,\n",
    "    validation_metrics,\n",
    "    train,\n",
    "    validation,\n",
    "    test,\n",
    "    device,\n",
    "    sampler,\n",
    "    EPOCHS,\n",
    "    None,\n",
    "    32\n",
    ")\n",
    "\n",
    "trainer.train(\"HIV ChemGCN 3-32, sampling\")"
   ]
  },
  {
   "cell_type": "code",
   "execution_count": 9,
   "metadata": {},
   "outputs": [
    {
     "name": "stderr",
     "output_type": "stream",
     "text": [
      "/home/tibor/Documents/msc-datascience/2024w/Toxic/ToxicML/.venv/lib/python3.12/site-packages/torch_geometric/deprecation.py:26: UserWarning: 'data.DataLoader' is deprecated, use 'loader.DataLoader' instead\n",
      "  warnings.warn(out)\n"
     ]
    },
    {
     "data": {
      "text/html": [
       "Tracking run with wandb version 0.18.7"
      ],
      "text/plain": [
       "<IPython.core.display.HTML object>"
      ]
     },
     "metadata": {},
     "output_type": "display_data"
    },
    {
     "data": {
      "text/html": [
       "Run data is saved locally in <code>/home/tibor/Documents/msc-datascience/2024w/Toxic/ToxicML/ToxicMl/wandb/run-20241207_171603-ddf8b5b2</code>"
      ],
      "text/plain": [
       "<IPython.core.display.HTML object>"
      ]
     },
     "metadata": {},
     "output_type": "display_data"
    },
    {
     "data": {
      "text/html": [
       "Syncing run <strong><a href='https://wandb.ai/cus-tibor-none/ToxicML/runs/ddf8b5b2' target=\"_blank\">HIV ChemGCN 5-32, sampling</a></strong> to <a href='https://wandb.ai/cus-tibor-none/ToxicML' target=\"_blank\">Weights & Biases</a> (<a href='https://wandb.me/developer-guide' target=\"_blank\">docs</a>)<br/>"
      ],
      "text/plain": [
       "<IPython.core.display.HTML object>"
      ]
     },
     "metadata": {},
     "output_type": "display_data"
    },
    {
     "data": {
      "text/html": [
       " View project at <a href='https://wandb.ai/cus-tibor-none/ToxicML' target=\"_blank\">https://wandb.ai/cus-tibor-none/ToxicML</a>"
      ],
      "text/plain": [
       "<IPython.core.display.HTML object>"
      ]
     },
     "metadata": {},
     "output_type": "display_data"
    },
    {
     "data": {
      "text/html": [
       " View run at <a href='https://wandb.ai/cus-tibor-none/ToxicML/runs/ddf8b5b2' target=\"_blank\">https://wandb.ai/cus-tibor-none/ToxicML/runs/ddf8b5b2</a>"
      ],
      "text/plain": [
       "<IPython.core.display.HTML object>"
      ]
     },
     "metadata": {},
     "output_type": "display_data"
    },
    {
     "name": "stderr",
     "output_type": "stream",
     "text": [
      "train epoch: 100%|██████████| 1029/1029.0 [00:10<00:00, 94.56it/s]\n",
      "val epoch: 100%|██████████| 129/129.0 [00:00<00:00, 146.68it/s]\n",
      "train epoch: 100%|██████████| 1029/1029.0 [00:12<00:00, 85.51it/s]\n",
      "val epoch: 100%|██████████| 129/129.0 [00:01<00:00, 126.24it/s]\n",
      "train epoch: 100%|██████████| 1029/1029.0 [00:12<00:00, 84.31it/s]\n",
      "val epoch: 100%|██████████| 129/129.0 [00:00<00:00, 154.63it/s]\n",
      "train epoch: 100%|██████████| 1029/1029.0 [00:11<00:00, 87.98it/s]\n",
      "val epoch: 100%|██████████| 129/129.0 [00:00<00:00, 153.14it/s]\n",
      "train epoch: 100%|██████████| 1029/1029.0 [00:11<00:00, 85.77it/s]\n",
      "val epoch: 100%|██████████| 129/129.0 [00:00<00:00, 147.84it/s]\n",
      "train epoch: 100%|██████████| 1029/1029.0 [00:12<00:00, 83.89it/s]\n",
      "val epoch: 100%|██████████| 129/129.0 [00:00<00:00, 145.49it/s]\n",
      "train epoch: 100%|██████████| 1029/1029.0 [00:12<00:00, 83.93it/s]\n",
      "val epoch: 100%|██████████| 129/129.0 [00:00<00:00, 150.07it/s]\n",
      "train epoch: 100%|██████████| 1029/1029.0 [00:12<00:00, 84.80it/s]\n",
      "val epoch: 100%|██████████| 129/129.0 [00:00<00:00, 149.84it/s]\n"
     ]
    },
    {
     "data": {
      "text/html": [
       "\n",
       "    <style>\n",
       "        .wandb-row {\n",
       "            display: flex;\n",
       "            flex-direction: row;\n",
       "            flex-wrap: wrap;\n",
       "            justify-content: flex-start;\n",
       "            width: 100%;\n",
       "        }\n",
       "        .wandb-col {\n",
       "            display: flex;\n",
       "            flex-direction: column;\n",
       "            flex-basis: 100%;\n",
       "            flex: 1;\n",
       "            padding: 10px;\n",
       "        }\n",
       "    </style>\n",
       "<div class=\"wandb-row\"><div class=\"wandb-col\"><h3>Run history:</h3><br/><table class=\"wandb\"><tr><td>train/Accuracy</td><td>▁▆▇█████</td></tr><tr><td>train/F1</td><td>▁▇▇██▇▇█</td></tr><tr><td>train/Precision</td><td>▁█▅▇▇█▇▇</td></tr><tr><td>train/Recall</td><td>▁▅█▇▇▆▇█</td></tr><tr><td>train/loss</td><td>▁▁▄▄▂▂▃█</td></tr><tr><td>validation/Accuracy</td><td>▅▅▃█▄▁▆▃</td></tr><tr><td>validation/F1</td><td>▆▅▃█▄▄▇▁</td></tr><tr><td>validation/Precision</td><td>▄▃▅▁▅█▃▃</td></tr><tr><td>validation/Recall</td><td>▅▅▃█▄▃▇▁</td></tr><tr><td>validation/loss</td><td>▃▄▁▂█▅▂█</td></tr></table><br/></div><div class=\"wandb-col\"><h3>Run summary:</h3><br/><table class=\"wandb\"><tr><td>train/Accuracy</td><td>0.6081</td></tr><tr><td>train/F1</td><td>0.61876</td></tr><tr><td>train/Precision</td><td>0.63042</td></tr><tr><td>train/Recall</td><td>0.60754</td></tr><tr><td>train/loss</td><td>0.76669</td></tr><tr><td>validation/Accuracy</td><td>0.6652</td></tr><tr><td>validation/F1</td><td>0.09109</td></tr><tr><td>validation/Precision</td><td>0.53077</td></tr><tr><td>validation/Recall</td><td>0.04982</td></tr><tr><td>validation/loss</td><td>0.6398</td></tr></table><br/></div></div>"
      ],
      "text/plain": [
       "<IPython.core.display.HTML object>"
      ]
     },
     "metadata": {},
     "output_type": "display_data"
    },
    {
     "data": {
      "text/html": [
       " View run <strong style=\"color:#cdcd00\">HIV ChemGCN 5-32, sampling</strong> at: <a href='https://wandb.ai/cus-tibor-none/ToxicML/runs/ddf8b5b2' target=\"_blank\">https://wandb.ai/cus-tibor-none/ToxicML/runs/ddf8b5b2</a><br/> View project at: <a href='https://wandb.ai/cus-tibor-none/ToxicML' target=\"_blank\">https://wandb.ai/cus-tibor-none/ToxicML</a><br/>Synced 5 W&B file(s), 0 media file(s), 2 artifact file(s) and 1 other file(s)"
      ],
      "text/plain": [
       "<IPython.core.display.HTML object>"
      ]
     },
     "metadata": {},
     "output_type": "display_data"
    },
    {
     "data": {
      "text/html": [
       "Find logs at: <code>./wandb/run-20241207_171603-ddf8b5b2/logs</code>"
      ],
      "text/plain": [
       "<IPython.core.display.HTML object>"
      ]
     },
     "metadata": {},
     "output_type": "display_data"
    }
   ],
   "source": [
    "from ToxicMl.MLmodels.gcn import ChemGCN\n",
    "model = ChemGCN(5, 9, 32, 2)\n",
    "optimizer = torch.optim.Adam(model.parameters())\n",
    "lr_scheduler = torch.optim.lr_scheduler.ExponentialLR(optimizer, gamma = 0.09)\n",
    "loss_fn = torch.nn.CrossEntropyLoss()\n",
    "sampler = ImbalancedSampler(train) \n",
    "device = torch.device('cuda' if torch.cuda.is_available() else 'cpu')\n",
    "\n",
    "trainer = GenericClassificationTrainer(\n",
    "    model,\n",
    "    optimizer,\n",
    "    loss_fn,\n",
    "    lr_scheduler,\n",
    "    train_metrics,\n",
    "    validation_metrics,\n",
    "    train,\n",
    "    validation,\n",
    "    test,\n",
    "    device,\n",
    "    sampler,\n",
    "    EPOCHS,\n",
    "    None,\n",
    "    32\n",
    ")\n",
    "\n",
    "trainer.train(\"HIV ChemGCN 5-32, sampling\")"
   ]
  },
  {
   "cell_type": "code",
   "execution_count": 10,
   "metadata": {},
   "outputs": [
    {
     "name": "stderr",
     "output_type": "stream",
     "text": [
      "/home/tibor/Documents/msc-datascience/2024w/Toxic/ToxicML/.venv/lib/python3.12/site-packages/torch_geometric/deprecation.py:26: UserWarning: 'data.DataLoader' is deprecated, use 'loader.DataLoader' instead\n",
      "  warnings.warn(out)\n"
     ]
    },
    {
     "data": {
      "text/html": [
       "Tracking run with wandb version 0.18.7"
      ],
      "text/plain": [
       "<IPython.core.display.HTML object>"
      ]
     },
     "metadata": {},
     "output_type": "display_data"
    },
    {
     "data": {
      "text/html": [
       "Run data is saved locally in <code>/home/tibor/Documents/msc-datascience/2024w/Toxic/ToxicML/ToxicMl/wandb/run-20241207_171753-a2zrax6k</code>"
      ],
      "text/plain": [
       "<IPython.core.display.HTML object>"
      ]
     },
     "metadata": {},
     "output_type": "display_data"
    },
    {
     "data": {
      "text/html": [
       "Syncing run <strong><a href='https://wandb.ai/cus-tibor-none/ToxicML/runs/a2zrax6k' target=\"_blank\">HIV ChemGCN 5-64, sampling</a></strong> to <a href='https://wandb.ai/cus-tibor-none/ToxicML' target=\"_blank\">Weights & Biases</a> (<a href='https://wandb.me/developer-guide' target=\"_blank\">docs</a>)<br/>"
      ],
      "text/plain": [
       "<IPython.core.display.HTML object>"
      ]
     },
     "metadata": {},
     "output_type": "display_data"
    },
    {
     "data": {
      "text/html": [
       " View project at <a href='https://wandb.ai/cus-tibor-none/ToxicML' target=\"_blank\">https://wandb.ai/cus-tibor-none/ToxicML</a>"
      ],
      "text/plain": [
       "<IPython.core.display.HTML object>"
      ]
     },
     "metadata": {},
     "output_type": "display_data"
    },
    {
     "data": {
      "text/html": [
       " View run at <a href='https://wandb.ai/cus-tibor-none/ToxicML/runs/a2zrax6k' target=\"_blank\">https://wandb.ai/cus-tibor-none/ToxicML/runs/a2zrax6k</a>"
      ],
      "text/plain": [
       "<IPython.core.display.HTML object>"
      ]
     },
     "metadata": {},
     "output_type": "display_data"
    },
    {
     "name": "stderr",
     "output_type": "stream",
     "text": [
      "train epoch: 100%|██████████| 1029/1029.0 [00:12<00:00, 79.41it/s]\n",
      "val epoch: 100%|██████████| 129/129.0 [00:00<00:00, 138.94it/s]\n",
      "train epoch: 100%|██████████| 1029/1029.0 [00:14<00:00, 73.34it/s]\n",
      "val epoch: 100%|██████████| 129/129.0 [00:00<00:00, 137.48it/s]\n",
      "train epoch: 100%|██████████| 1029/1029.0 [00:14<00:00, 71.84it/s]\n",
      "val epoch: 100%|██████████| 129/129.0 [00:00<00:00, 170.87it/s]\n",
      "train epoch: 100%|██████████| 1029/1029.0 [00:11<00:00, 90.28it/s]\n",
      "val epoch: 100%|██████████| 129/129.0 [00:00<00:00, 165.91it/s]\n",
      "train epoch: 100%|██████████| 1029/1029.0 [00:11<00:00, 90.41it/s]\n",
      "val epoch: 100%|██████████| 129/129.0 [00:00<00:00, 162.85it/s]\n",
      "train epoch: 100%|██████████| 1029/1029.0 [00:11<00:00, 89.21it/s]\n",
      "val epoch: 100%|██████████| 129/129.0 [00:00<00:00, 171.71it/s]\n",
      "train epoch: 100%|██████████| 1029/1029.0 [00:11<00:00, 90.39it/s]\n",
      "val epoch: 100%|██████████| 129/129.0 [00:00<00:00, 168.31it/s]\n",
      "train epoch: 100%|██████████| 1029/1029.0 [00:11<00:00, 90.83it/s]\n",
      "val epoch: 100%|██████████| 129/129.0 [00:00<00:00, 173.37it/s]\n"
     ]
    },
    {
     "data": {
      "text/html": [
       "\n",
       "    <style>\n",
       "        .wandb-row {\n",
       "            display: flex;\n",
       "            flex-direction: row;\n",
       "            flex-wrap: wrap;\n",
       "            justify-content: flex-start;\n",
       "            width: 100%;\n",
       "        }\n",
       "        .wandb-col {\n",
       "            display: flex;\n",
       "            flex-direction: column;\n",
       "            flex-basis: 100%;\n",
       "            flex: 1;\n",
       "            padding: 10px;\n",
       "        }\n",
       "    </style>\n",
       "<div class=\"wandb-row\"><div class=\"wandb-col\"><h3>Run history:</h3><br/><table class=\"wandb\"><tr><td>train/Accuracy</td><td>▁▇▇██▇█▇</td></tr><tr><td>train/F1</td><td>▁▆██▇██▇</td></tr><tr><td>train/Precision</td><td>▁▆█████▇</td></tr><tr><td>train/Recall</td><td>▁▅▆▇▇▇█▆</td></tr><tr><td>train/loss</td><td>▆█▁▄▅▄▇▆</td></tr><tr><td>validation/Accuracy</td><td>█▂▄▃▂▃▃▁</td></tr><tr><td>validation/F1</td><td>▅▄▆▆█▃▄▁</td></tr><tr><td>validation/Precision</td><td>▁▇▅▆█▅▅▆</td></tr><tr><td>validation/Recall</td><td>█▄▇▇█▃▄▁</td></tr><tr><td>validation/loss</td><td>▄▂▃▇█▃▅▁</td></tr></table><br/></div><div class=\"wandb-col\"><h3>Run summary:</h3><br/><table class=\"wandb\"><tr><td>train/Accuracy</td><td>0.6142</td></tr><tr><td>train/F1</td><td>0.6213</td></tr><tr><td>train/Precision</td><td>0.63602</td></tr><tr><td>train/Recall</td><td>0.60724</td></tr><tr><td>train/loss</td><td>0.67693</td></tr><tr><td>validation/Accuracy</td><td>0.6577</td></tr><tr><td>validation/F1</td><td>0.09044</td></tr><tr><td>validation/Precision</td><td>0.53846</td></tr><tr><td>validation/Recall</td><td>0.04937</td></tr><tr><td>validation/loss</td><td>0.53611</td></tr></table><br/></div></div>"
      ],
      "text/plain": [
       "<IPython.core.display.HTML object>"
      ]
     },
     "metadata": {},
     "output_type": "display_data"
    },
    {
     "data": {
      "text/html": [
       " View run <strong style=\"color:#cdcd00\">HIV ChemGCN 5-64, sampling</strong> at: <a href='https://wandb.ai/cus-tibor-none/ToxicML/runs/a2zrax6k' target=\"_blank\">https://wandb.ai/cus-tibor-none/ToxicML/runs/a2zrax6k</a><br/> View project at: <a href='https://wandb.ai/cus-tibor-none/ToxicML' target=\"_blank\">https://wandb.ai/cus-tibor-none/ToxicML</a><br/>Synced 5 W&B file(s), 0 media file(s), 2 artifact file(s) and 1 other file(s)"
      ],
      "text/plain": [
       "<IPython.core.display.HTML object>"
      ]
     },
     "metadata": {},
     "output_type": "display_data"
    },
    {
     "data": {
      "text/html": [
       "Find logs at: <code>./wandb/run-20241207_171753-a2zrax6k/logs</code>"
      ],
      "text/plain": [
       "<IPython.core.display.HTML object>"
      ]
     },
     "metadata": {},
     "output_type": "display_data"
    }
   ],
   "source": [
    "from ToxicMl.MLmodels.gcn import ChemGCN\n",
    "model = ChemGCN(5, 9, 64, 2)\n",
    "optimizer = torch.optim.Adam(model.parameters())\n",
    "lr_scheduler = torch.optim.lr_scheduler.ExponentialLR(optimizer, gamma = 0.09)\n",
    "loss_fn = torch.nn.CrossEntropyLoss()\n",
    "sampler = ImbalancedSampler(train) \n",
    "device = torch.device('cuda' if torch.cuda.is_available() else 'cpu')\n",
    "\n",
    "trainer = GenericClassificationTrainer(\n",
    "    model,\n",
    "    optimizer,\n",
    "    loss_fn,\n",
    "    lr_scheduler,\n",
    "    train_metrics,\n",
    "    validation_metrics,\n",
    "    train,\n",
    "    validation,\n",
    "    test,\n",
    "    device,\n",
    "    sampler,\n",
    "    EPOCHS,\n",
    "    None,\n",
    "    32\n",
    ")\n",
    "\n",
    "trainer.train(\"HIV ChemGCN 5-64, sampling\")"
   ]
  },
  {
   "cell_type": "code",
   "execution_count": 11,
   "metadata": {},
   "outputs": [
    {
     "name": "stderr",
     "output_type": "stream",
     "text": [
      "/home/tibor/Documents/msc-datascience/2024w/Toxic/ToxicML/.venv/lib/python3.12/site-packages/torch_geometric/deprecation.py:26: UserWarning: 'data.DataLoader' is deprecated, use 'loader.DataLoader' instead\n",
      "  warnings.warn(out)\n"
     ]
    },
    {
     "data": {
      "text/html": [
       "Tracking run with wandb version 0.18.7"
      ],
      "text/plain": [
       "<IPython.core.display.HTML object>"
      ]
     },
     "metadata": {},
     "output_type": "display_data"
    },
    {
     "data": {
      "text/html": [
       "Run data is saved locally in <code>/home/tibor/Documents/msc-datascience/2024w/Toxic/ToxicML/ToxicMl/wandb/run-20241207_171944-vc70wm1n</code>"
      ],
      "text/plain": [
       "<IPython.core.display.HTML object>"
      ]
     },
     "metadata": {},
     "output_type": "display_data"
    },
    {
     "data": {
      "text/html": [
       "Syncing run <strong><a href='https://wandb.ai/cus-tibor-none/ToxicML/runs/vc70wm1n' target=\"_blank\">HIV ChemSage 3-16, sampling</a></strong> to <a href='https://wandb.ai/cus-tibor-none/ToxicML' target=\"_blank\">Weights & Biases</a> (<a href='https://wandb.me/developer-guide' target=\"_blank\">docs</a>)<br/>"
      ],
      "text/plain": [
       "<IPython.core.display.HTML object>"
      ]
     },
     "metadata": {},
     "output_type": "display_data"
    },
    {
     "data": {
      "text/html": [
       " View project at <a href='https://wandb.ai/cus-tibor-none/ToxicML' target=\"_blank\">https://wandb.ai/cus-tibor-none/ToxicML</a>"
      ],
      "text/plain": [
       "<IPython.core.display.HTML object>"
      ]
     },
     "metadata": {},
     "output_type": "display_data"
    },
    {
     "data": {
      "text/html": [
       " View run at <a href='https://wandb.ai/cus-tibor-none/ToxicML/runs/vc70wm1n' target=\"_blank\">https://wandb.ai/cus-tibor-none/ToxicML/runs/vc70wm1n</a>"
      ],
      "text/plain": [
       "<IPython.core.display.HTML object>"
      ]
     },
     "metadata": {},
     "output_type": "display_data"
    },
    {
     "name": "stderr",
     "output_type": "stream",
     "text": [
      "train epoch: 100%|██████████| 1029/1029.0 [00:05<00:00, 177.26it/s]\n",
      "val epoch: 100%|██████████| 129/129.0 [00:00<00:00, 284.77it/s]\n",
      "train epoch: 100%|██████████| 1029/1029.0 [00:08<00:00, 123.86it/s]\n",
      "val epoch: 100%|██████████| 129/129.0 [00:00<00:00, 156.68it/s]\n",
      "train epoch: 100%|██████████| 1029/1029.0 [00:09<00:00, 109.04it/s]\n",
      "val epoch: 100%|██████████| 129/129.0 [00:00<00:00, 219.08it/s]\n",
      "train epoch: 100%|██████████| 1029/1029.0 [00:07<00:00, 131.32it/s]\n",
      "val epoch: 100%|██████████| 129/129.0 [00:00<00:00, 222.20it/s]\n",
      "train epoch: 100%|██████████| 1029/1029.0 [00:08<00:00, 126.73it/s]\n",
      "val epoch: 100%|██████████| 129/129.0 [00:00<00:00, 208.56it/s]\n",
      "train epoch: 100%|██████████| 1029/1029.0 [00:07<00:00, 131.23it/s]\n",
      "val epoch: 100%|██████████| 129/129.0 [00:00<00:00, 186.97it/s]\n",
      "train epoch: 100%|██████████| 1029/1029.0 [00:07<00:00, 134.17it/s]\n",
      "val epoch: 100%|██████████| 129/129.0 [00:00<00:00, 198.52it/s]\n",
      "train epoch: 100%|██████████| 1029/1029.0 [00:07<00:00, 137.92it/s]\n",
      "val epoch: 100%|██████████| 129/129.0 [00:00<00:00, 232.84it/s]\n"
     ]
    },
    {
     "data": {
      "text/html": [
       "\n",
       "    <style>\n",
       "        .wandb-row {\n",
       "            display: flex;\n",
       "            flex-direction: row;\n",
       "            flex-wrap: wrap;\n",
       "            justify-content: flex-start;\n",
       "            width: 100%;\n",
       "        }\n",
       "        .wandb-col {\n",
       "            display: flex;\n",
       "            flex-direction: column;\n",
       "            flex-basis: 100%;\n",
       "            flex: 1;\n",
       "            padding: 10px;\n",
       "        }\n",
       "    </style>\n",
       "<div class=\"wandb-row\"><div class=\"wandb-col\"><h3>Run history:</h3><br/><table class=\"wandb\"><tr><td>train/Accuracy</td><td>▁▇▆█▇▇▇▆</td></tr><tr><td>train/F1</td><td>▁▇▇█▇▇▇▇</td></tr><tr><td>train/Precision</td><td>▁▆███▇█▇</td></tr><tr><td>train/Recall</td><td>▁█▆▇▆▆▅▆</td></tr><tr><td>train/loss</td><td>▃▂▇█▇▅▁▁</td></tr><tr><td>validation/Accuracy</td><td>█▅▆▅▅▁▅▁</td></tr><tr><td>validation/F1</td><td>█▅▅▇▅▁▃▄</td></tr><tr><td>validation/Precision</td><td>▁▃▂▄▃▄▂█</td></tr><tr><td>validation/Recall</td><td>█▅▅▇▅▁▃▄</td></tr><tr><td>validation/loss</td><td>█▆▄▄▇▃▇▁</td></tr></table><br/></div><div class=\"wandb-col\"><h3>Run summary:</h3><br/><table class=\"wandb\"><tr><td>train/Accuracy</td><td>0.6038</td></tr><tr><td>train/F1</td><td>0.5866</td></tr><tr><td>train/Precision</td><td>0.55721</td></tr><tr><td>train/Recall</td><td>0.61926</td></tr><tr><td>train/loss</td><td>0.49268</td></tr><tr><td>validation/Accuracy</td><td>0.6757</td></tr><tr><td>validation/F1</td><td>0.09743</td></tr><tr><td>validation/Precision</td><td>0.55385</td></tr><tr><td>validation/Recall</td><td>0.05341</td></tr><tr><td>validation/loss</td><td>0.59203</td></tr></table><br/></div></div>"
      ],
      "text/plain": [
       "<IPython.core.display.HTML object>"
      ]
     },
     "metadata": {},
     "output_type": "display_data"
    },
    {
     "data": {
      "text/html": [
       " View run <strong style=\"color:#cdcd00\">HIV ChemSage 3-16, sampling</strong> at: <a href='https://wandb.ai/cus-tibor-none/ToxicML/runs/vc70wm1n' target=\"_blank\">https://wandb.ai/cus-tibor-none/ToxicML/runs/vc70wm1n</a><br/> View project at: <a href='https://wandb.ai/cus-tibor-none/ToxicML' target=\"_blank\">https://wandb.ai/cus-tibor-none/ToxicML</a><br/>Synced 5 W&B file(s), 0 media file(s), 2 artifact file(s) and 1 other file(s)"
      ],
      "text/plain": [
       "<IPython.core.display.HTML object>"
      ]
     },
     "metadata": {},
     "output_type": "display_data"
    },
    {
     "data": {
      "text/html": [
       "Find logs at: <code>./wandb/run-20241207_171944-vc70wm1n/logs</code>"
      ],
      "text/plain": [
       "<IPython.core.display.HTML object>"
      ]
     },
     "metadata": {},
     "output_type": "display_data"
    }
   ],
   "source": [
    "from ToxicMl.MLmodels.sage import ChemSage\n",
    "model = ChemSage(3, 9, 16, 2)\n",
    "optimizer = torch.optim.Adam(model.parameters())\n",
    "lr_scheduler = torch.optim.lr_scheduler.ExponentialLR(optimizer, gamma = 0.09)\n",
    "loss_fn = torch.nn.CrossEntropyLoss()\n",
    "sampler = ImbalancedSampler(train) \n",
    "device = torch.device('cuda' if torch.cuda.is_available() else 'cpu')\n",
    "\n",
    "trainer = GenericClassificationTrainer(\n",
    "    model,\n",
    "    optimizer,\n",
    "    loss_fn,\n",
    "    lr_scheduler,\n",
    "    train_metrics,\n",
    "    validation_metrics,\n",
    "    train,\n",
    "    validation,\n",
    "    test,\n",
    "    device,\n",
    "    sampler,\n",
    "    EPOCHS,\n",
    "    None,\n",
    "    32\n",
    ")\n",
    "\n",
    "trainer.train(\"HIV ChemSage 3-16, sampling\")"
   ]
  },
  {
   "cell_type": "code",
   "execution_count": 12,
   "metadata": {},
   "outputs": [
    {
     "name": "stderr",
     "output_type": "stream",
     "text": [
      "/home/tibor/Documents/msc-datascience/2024w/Toxic/ToxicML/.venv/lib/python3.12/site-packages/torch_geometric/deprecation.py:26: UserWarning: 'data.DataLoader' is deprecated, use 'loader.DataLoader' instead\n",
      "  warnings.warn(out)\n"
     ]
    },
    {
     "data": {
      "text/html": [
       "Tracking run with wandb version 0.18.7"
      ],
      "text/plain": [
       "<IPython.core.display.HTML object>"
      ]
     },
     "metadata": {},
     "output_type": "display_data"
    },
    {
     "data": {
      "text/html": [
       "Run data is saved locally in <code>/home/tibor/Documents/msc-datascience/2024w/Toxic/ToxicML/ToxicMl/wandb/run-20241207_172059-5stub02g</code>"
      ],
      "text/plain": [
       "<IPython.core.display.HTML object>"
      ]
     },
     "metadata": {},
     "output_type": "display_data"
    },
    {
     "data": {
      "text/html": [
       "Syncing run <strong><a href='https://wandb.ai/cus-tibor-none/ToxicML/runs/5stub02g' target=\"_blank\">HIV ChemSage 3-32, sampling</a></strong> to <a href='https://wandb.ai/cus-tibor-none/ToxicML' target=\"_blank\">Weights & Biases</a> (<a href='https://wandb.me/developer-guide' target=\"_blank\">docs</a>)<br/>"
      ],
      "text/plain": [
       "<IPython.core.display.HTML object>"
      ]
     },
     "metadata": {},
     "output_type": "display_data"
    },
    {
     "data": {
      "text/html": [
       " View project at <a href='https://wandb.ai/cus-tibor-none/ToxicML' target=\"_blank\">https://wandb.ai/cus-tibor-none/ToxicML</a>"
      ],
      "text/plain": [
       "<IPython.core.display.HTML object>"
      ]
     },
     "metadata": {},
     "output_type": "display_data"
    },
    {
     "data": {
      "text/html": [
       " View run at <a href='https://wandb.ai/cus-tibor-none/ToxicML/runs/5stub02g' target=\"_blank\">https://wandb.ai/cus-tibor-none/ToxicML/runs/5stub02g</a>"
      ],
      "text/plain": [
       "<IPython.core.display.HTML object>"
      ]
     },
     "metadata": {},
     "output_type": "display_data"
    },
    {
     "name": "stderr",
     "output_type": "stream",
     "text": [
      "train epoch: 100%|██████████| 1029/1029.0 [00:07<00:00, 143.13it/s]\n",
      "val epoch: 100%|██████████| 129/129.0 [00:00<00:00, 183.04it/s]\n",
      "train epoch: 100%|██████████| 1029/1029.0 [00:08<00:00, 122.33it/s]\n",
      "val epoch: 100%|██████████| 129/129.0 [00:00<00:00, 198.20it/s]\n",
      "train epoch: 100%|██████████| 1029/1029.0 [00:08<00:00, 124.17it/s]\n",
      "val epoch: 100%|██████████| 129/129.0 [00:00<00:00, 182.16it/s]\n",
      "train epoch: 100%|██████████| 1029/1029.0 [00:08<00:00, 118.44it/s]\n",
      "val epoch: 100%|██████████| 129/129.0 [00:00<00:00, 198.02it/s]\n",
      "train epoch: 100%|██████████| 1029/1029.0 [00:08<00:00, 119.41it/s]\n",
      "val epoch: 100%|██████████| 129/129.0 [00:00<00:00, 212.70it/s]\n",
      "train epoch: 100%|██████████| 1029/1029.0 [00:08<00:00, 117.75it/s]\n",
      "val epoch: 100%|██████████| 129/129.0 [00:00<00:00, 188.36it/s]\n",
      "train epoch: 100%|██████████| 1029/1029.0 [00:08<00:00, 125.07it/s]\n",
      "val epoch: 100%|██████████| 129/129.0 [00:00<00:00, 207.67it/s]\n",
      "train epoch: 100%|██████████| 1029/1029.0 [00:08<00:00, 117.31it/s]\n",
      "val epoch: 100%|██████████| 129/129.0 [00:00<00:00, 201.80it/s]\n"
     ]
    },
    {
     "data": {
      "text/html": [
       "\n",
       "    <style>\n",
       "        .wandb-row {\n",
       "            display: flex;\n",
       "            flex-direction: row;\n",
       "            flex-wrap: wrap;\n",
       "            justify-content: flex-start;\n",
       "            width: 100%;\n",
       "        }\n",
       "        .wandb-col {\n",
       "            display: flex;\n",
       "            flex-direction: column;\n",
       "            flex-basis: 100%;\n",
       "            flex: 1;\n",
       "            padding: 10px;\n",
       "        }\n",
       "    </style>\n",
       "<div class=\"wandb-row\"><div class=\"wandb-col\"><h3>Run history:</h3><br/><table class=\"wandb\"><tr><td>train/Accuracy</td><td>▁█▆█▇██▇</td></tr><tr><td>train/F1</td><td>█▂▁▂▃▁▄▃</td></tr><tr><td>train/Precision</td><td>█▁▁▁▂▁▂▂</td></tr><tr><td>train/Recall</td><td>▁█▇█▇██▇</td></tr><tr><td>train/loss</td><td>█▂▃▄▁▆▃▇</td></tr><tr><td>validation/Accuracy</td><td>▆▃▅▁█▄▅▃</td></tr><tr><td>validation/F1</td><td>▇▅▇▁█▄▅▄</td></tr><tr><td>validation/Precision</td><td>▃▇█▅▁▂▂▆</td></tr><tr><td>validation/Recall</td><td>▇▄▆▁█▄▅▃</td></tr><tr><td>validation/loss</td><td>▅▄█▃▄▆▄▁</td></tr></table><br/></div><div class=\"wandb-col\"><h3>Run summary:</h3><br/><table class=\"wandb\"><tr><td>train/Accuracy</td><td>0.6008</td></tr><tr><td>train/F1</td><td>0.51189</td></tr><tr><td>train/Precision</td><td>0.41679</td></tr><tr><td>train/Recall</td><td>0.66323</td></tr><tr><td>train/loss</td><td>0.87205</td></tr><tr><td>validation/Accuracy</td><td>0.7933</td></tr><tr><td>validation/F1</td><td>0.1219</td></tr><tr><td>validation/Precision</td><td>0.45385</td></tr><tr><td>validation/Recall</td><td>0.07041</td></tr><tr><td>validation/loss</td><td>0.69408</td></tr></table><br/></div></div>"
      ],
      "text/plain": [
       "<IPython.core.display.HTML object>"
      ]
     },
     "metadata": {},
     "output_type": "display_data"
    },
    {
     "data": {
      "text/html": [
       " View run <strong style=\"color:#cdcd00\">HIV ChemSage 3-32, sampling</strong> at: <a href='https://wandb.ai/cus-tibor-none/ToxicML/runs/5stub02g' target=\"_blank\">https://wandb.ai/cus-tibor-none/ToxicML/runs/5stub02g</a><br/> View project at: <a href='https://wandb.ai/cus-tibor-none/ToxicML' target=\"_blank\">https://wandb.ai/cus-tibor-none/ToxicML</a><br/>Synced 5 W&B file(s), 0 media file(s), 2 artifact file(s) and 1 other file(s)"
      ],
      "text/plain": [
       "<IPython.core.display.HTML object>"
      ]
     },
     "metadata": {},
     "output_type": "display_data"
    },
    {
     "data": {
      "text/html": [
       "Find logs at: <code>./wandb/run-20241207_172059-5stub02g/logs</code>"
      ],
      "text/plain": [
       "<IPython.core.display.HTML object>"
      ]
     },
     "metadata": {},
     "output_type": "display_data"
    }
   ],
   "source": [
    "from ToxicMl.MLmodels.sage import ChemSage\n",
    "model = ChemSage(3, 9, 32, 2)\n",
    "optimizer = torch.optim.Adam(model.parameters())\n",
    "lr_scheduler = torch.optim.lr_scheduler.ExponentialLR(optimizer, gamma = 0.09)\n",
    "loss_fn = torch.nn.CrossEntropyLoss()\n",
    "sampler = ImbalancedSampler(train) \n",
    "device = torch.device('cuda' if torch.cuda.is_available() else 'cpu')\n",
    "\n",
    "trainer = GenericClassificationTrainer(\n",
    "    model,\n",
    "    optimizer,\n",
    "    loss_fn,\n",
    "    lr_scheduler,\n",
    "    train_metrics,\n",
    "    validation_metrics,\n",
    "    train,\n",
    "    validation,\n",
    "    test,\n",
    "    device,\n",
    "    sampler,\n",
    "    EPOCHS,\n",
    "    None,\n",
    "    32\n",
    ")\n",
    "\n",
    "trainer.train(\"HIV ChemSage 3-32, sampling\")"
   ]
  },
  {
   "cell_type": "code",
   "execution_count": 13,
   "metadata": {},
   "outputs": [
    {
     "name": "stderr",
     "output_type": "stream",
     "text": [
      "/home/tibor/Documents/msc-datascience/2024w/Toxic/ToxicML/.venv/lib/python3.12/site-packages/torch_geometric/deprecation.py:26: UserWarning: 'data.DataLoader' is deprecated, use 'loader.DataLoader' instead\n",
      "  warnings.warn(out)\n"
     ]
    },
    {
     "data": {
      "text/html": [
       "Tracking run with wandb version 0.18.7"
      ],
      "text/plain": [
       "<IPython.core.display.HTML object>"
      ]
     },
     "metadata": {},
     "output_type": "display_data"
    },
    {
     "data": {
      "text/html": [
       "Run data is saved locally in <code>/home/tibor/Documents/msc-datascience/2024w/Toxic/ToxicML/ToxicMl/wandb/run-20241207_172219-anwnhuf9</code>"
      ],
      "text/plain": [
       "<IPython.core.display.HTML object>"
      ]
     },
     "metadata": {},
     "output_type": "display_data"
    },
    {
     "data": {
      "text/html": [
       "Syncing run <strong><a href='https://wandb.ai/cus-tibor-none/ToxicML/runs/anwnhuf9' target=\"_blank\">HIV ChemSage 5-32, sampling</a></strong> to <a href='https://wandb.ai/cus-tibor-none/ToxicML' target=\"_blank\">Weights & Biases</a> (<a href='https://wandb.me/developer-guide' target=\"_blank\">docs</a>)<br/>"
      ],
      "text/plain": [
       "<IPython.core.display.HTML object>"
      ]
     },
     "metadata": {},
     "output_type": "display_data"
    },
    {
     "data": {
      "text/html": [
       " View project at <a href='https://wandb.ai/cus-tibor-none/ToxicML' target=\"_blank\">https://wandb.ai/cus-tibor-none/ToxicML</a>"
      ],
      "text/plain": [
       "<IPython.core.display.HTML object>"
      ]
     },
     "metadata": {},
     "output_type": "display_data"
    },
    {
     "data": {
      "text/html": [
       " View run at <a href='https://wandb.ai/cus-tibor-none/ToxicML/runs/anwnhuf9' target=\"_blank\">https://wandb.ai/cus-tibor-none/ToxicML/runs/anwnhuf9</a>"
      ],
      "text/plain": [
       "<IPython.core.display.HTML object>"
      ]
     },
     "metadata": {},
     "output_type": "display_data"
    },
    {
     "name": "stderr",
     "output_type": "stream",
     "text": [
      "train epoch: 100%|██████████| 1029/1029.0 [00:10<00:00, 101.08it/s]\n",
      "val epoch: 100%|██████████| 129/129.0 [00:00<00:00, 134.88it/s]\n",
      "train epoch: 100%|██████████| 1029/1029.0 [00:11<00:00, 87.84it/s]\n",
      "val epoch: 100%|██████████| 129/129.0 [00:00<00:00, 182.03it/s]\n",
      "train epoch: 100%|██████████| 1029/1029.0 [00:10<00:00, 94.40it/s]\n",
      "val epoch: 100%|██████████| 129/129.0 [00:00<00:00, 170.50it/s]\n",
      "train epoch: 100%|██████████| 1029/1029.0 [00:11<00:00, 91.23it/s]\n",
      "val epoch: 100%|██████████| 129/129.0 [00:00<00:00, 187.16it/s]\n",
      "train epoch: 100%|██████████| 1029/1029.0 [00:11<00:00, 91.48it/s]\n",
      "val epoch: 100%|██████████| 129/129.0 [00:00<00:00, 173.77it/s]\n",
      "train epoch: 100%|██████████| 1029/1029.0 [00:10<00:00, 95.04it/s]\n",
      "val epoch: 100%|██████████| 129/129.0 [00:00<00:00, 147.06it/s]\n",
      "train epoch: 100%|██████████| 1029/1029.0 [00:11<00:00, 89.20it/s]\n",
      "val epoch: 100%|██████████| 129/129.0 [00:00<00:00, 158.01it/s]\n",
      "train epoch: 100%|██████████| 1029/1029.0 [00:10<00:00, 93.75it/s]\n",
      "val epoch: 100%|██████████| 129/129.0 [00:00<00:00, 185.53it/s]\n"
     ]
    },
    {
     "data": {
      "text/html": [
       "\n",
       "    <style>\n",
       "        .wandb-row {\n",
       "            display: flex;\n",
       "            flex-direction: row;\n",
       "            flex-wrap: wrap;\n",
       "            justify-content: flex-start;\n",
       "            width: 100%;\n",
       "        }\n",
       "        .wandb-col {\n",
       "            display: flex;\n",
       "            flex-direction: column;\n",
       "            flex-basis: 100%;\n",
       "            flex: 1;\n",
       "            padding: 10px;\n",
       "        }\n",
       "    </style>\n",
       "<div class=\"wandb-row\"><div class=\"wandb-col\"><h3>Run history:</h3><br/><table class=\"wandb\"><tr><td>train/Accuracy</td><td>▁▇▇████▇</td></tr><tr><td>train/F1</td><td>▁▇██████</td></tr><tr><td>train/Precision</td><td>▁███▇███</td></tr><tr><td>train/Recall</td><td>▁▆▆▇█▇▆▇</td></tr><tr><td>train/loss</td><td>█▇▅▁▃▇▇▂</td></tr><tr><td>validation/Accuracy</td><td>▂█▄▄▁▇▄▂</td></tr><tr><td>validation/F1</td><td>▂█▃▄▁▅▂▃</td></tr><tr><td>validation/Precision</td><td>▇▃▃▇▆▁▃█</td></tr><tr><td>validation/Recall</td><td>▂█▃▄▁▅▂▃</td></tr><tr><td>validation/loss</td><td>▄▃▂█▆▁▄▆</td></tr></table><br/></div><div class=\"wandb-col\"><h3>Run summary:</h3><br/><table class=\"wandb\"><tr><td>train/Accuracy</td><td>0.6138</td></tr><tr><td>train/F1</td><td>0.59189</td></tr><tr><td>train/Precision</td><td>0.55945</td></tr><tr><td>train/Recall</td><td>0.62832</td></tr><tr><td>train/loss</td><td>0.57819</td></tr><tr><td>validation/Accuracy</td><td>0.7199</td></tr><tr><td>validation/F1</td><td>0.1028</td></tr><tr><td>validation/Precision</td><td>0.50769</td></tr><tr><td>validation/Recall</td><td>0.05719</td></tr><tr><td>validation/loss</td><td>0.68494</td></tr></table><br/></div></div>"
      ],
      "text/plain": [
       "<IPython.core.display.HTML object>"
      ]
     },
     "metadata": {},
     "output_type": "display_data"
    },
    {
     "data": {
      "text/html": [
       " View run <strong style=\"color:#cdcd00\">HIV ChemSage 5-32, sampling</strong> at: <a href='https://wandb.ai/cus-tibor-none/ToxicML/runs/anwnhuf9' target=\"_blank\">https://wandb.ai/cus-tibor-none/ToxicML/runs/anwnhuf9</a><br/> View project at: <a href='https://wandb.ai/cus-tibor-none/ToxicML' target=\"_blank\">https://wandb.ai/cus-tibor-none/ToxicML</a><br/>Synced 5 W&B file(s), 0 media file(s), 2 artifact file(s) and 1 other file(s)"
      ],
      "text/plain": [
       "<IPython.core.display.HTML object>"
      ]
     },
     "metadata": {},
     "output_type": "display_data"
    },
    {
     "data": {
      "text/html": [
       "Find logs at: <code>./wandb/run-20241207_172219-anwnhuf9/logs</code>"
      ],
      "text/plain": [
       "<IPython.core.display.HTML object>"
      ]
     },
     "metadata": {},
     "output_type": "display_data"
    }
   ],
   "source": [
    "from ToxicMl.MLmodels.sage import ChemSage\n",
    "model = ChemSage(5, 9, 32, 2)\n",
    "optimizer = torch.optim.Adam(model.parameters())\n",
    "lr_scheduler = torch.optim.lr_scheduler.ExponentialLR(optimizer, gamma = 0.09)\n",
    "loss_fn = torch.nn.CrossEntropyLoss()\n",
    "sampler = ImbalancedSampler(train) \n",
    "device = torch.device('cuda' if torch.cuda.is_available() else 'cpu')\n",
    "\n",
    "trainer = GenericClassificationTrainer(\n",
    "    model,\n",
    "    optimizer,\n",
    "    loss_fn,\n",
    "    lr_scheduler,\n",
    "    train_metrics,\n",
    "    validation_metrics,\n",
    "    train,\n",
    "    validation,\n",
    "    test,\n",
    "    device,\n",
    "    sampler,\n",
    "    EPOCHS,\n",
    "    None,\n",
    "    32\n",
    ")\n",
    "\n",
    "trainer.train(\"HIV ChemSage 5-32, sampling\")"
   ]
  },
  {
   "cell_type": "code",
   "execution_count": 14,
   "metadata": {},
   "outputs": [
    {
     "name": "stderr",
     "output_type": "stream",
     "text": [
      "/home/tibor/Documents/msc-datascience/2024w/Toxic/ToxicML/.venv/lib/python3.12/site-packages/torch_geometric/deprecation.py:26: UserWarning: 'data.DataLoader' is deprecated, use 'loader.DataLoader' instead\n",
      "  warnings.warn(out)\n"
     ]
    },
    {
     "data": {
      "text/html": [
       "Tracking run with wandb version 0.18.7"
      ],
      "text/plain": [
       "<IPython.core.display.HTML object>"
      ]
     },
     "metadata": {},
     "output_type": "display_data"
    },
    {
     "data": {
      "text/html": [
       "Run data is saved locally in <code>/home/tibor/Documents/msc-datascience/2024w/Toxic/ToxicML/ToxicMl/wandb/run-20241207_172401-9x02k5ug</code>"
      ],
      "text/plain": [
       "<IPython.core.display.HTML object>"
      ]
     },
     "metadata": {},
     "output_type": "display_data"
    },
    {
     "data": {
      "text/html": [
       "Syncing run <strong><a href='https://wandb.ai/cus-tibor-none/ToxicML/runs/9x02k5ug' target=\"_blank\">HIV ChemSage 5-64, sampling</a></strong> to <a href='https://wandb.ai/cus-tibor-none/ToxicML' target=\"_blank\">Weights & Biases</a> (<a href='https://wandb.me/developer-guide' target=\"_blank\">docs</a>)<br/>"
      ],
      "text/plain": [
       "<IPython.core.display.HTML object>"
      ]
     },
     "metadata": {},
     "output_type": "display_data"
    },
    {
     "data": {
      "text/html": [
       " View project at <a href='https://wandb.ai/cus-tibor-none/ToxicML' target=\"_blank\">https://wandb.ai/cus-tibor-none/ToxicML</a>"
      ],
      "text/plain": [
       "<IPython.core.display.HTML object>"
      ]
     },
     "metadata": {},
     "output_type": "display_data"
    },
    {
     "data": {
      "text/html": [
       " View run at <a href='https://wandb.ai/cus-tibor-none/ToxicML/runs/9x02k5ug' target=\"_blank\">https://wandb.ai/cus-tibor-none/ToxicML/runs/9x02k5ug</a>"
      ],
      "text/plain": [
       "<IPython.core.display.HTML object>"
      ]
     },
     "metadata": {},
     "output_type": "display_data"
    },
    {
     "name": "stderr",
     "output_type": "stream",
     "text": [
      "train epoch: 100%|██████████| 1029/1029.0 [00:12<00:00, 81.42it/s]\n",
      "val epoch: 100%|██████████| 129/129.0 [00:00<00:00, 155.81it/s]\n",
      "train epoch: 100%|██████████| 1029/1029.0 [00:13<00:00, 76.70it/s]\n",
      "val epoch: 100%|██████████| 129/129.0 [00:00<00:00, 171.28it/s]\n",
      "train epoch: 100%|██████████| 1029/1029.0 [00:12<00:00, 80.39it/s]\n",
      "val epoch: 100%|██████████| 129/129.0 [00:00<00:00, 141.85it/s]\n",
      "train epoch: 100%|██████████| 1029/1029.0 [00:13<00:00, 76.11it/s]\n",
      "val epoch: 100%|██████████| 129/129.0 [00:00<00:00, 167.40it/s]\n",
      "train epoch: 100%|██████████| 1029/1029.0 [00:12<00:00, 79.55it/s]\n",
      "val epoch: 100%|██████████| 129/129.0 [00:00<00:00, 158.54it/s]\n",
      "train epoch: 100%|██████████| 1029/1029.0 [00:12<00:00, 79.63it/s]\n",
      "val epoch: 100%|██████████| 129/129.0 [00:00<00:00, 194.98it/s]\n",
      "train epoch: 100%|██████████| 1029/1029.0 [00:10<00:00, 93.65it/s]\n",
      "val epoch: 100%|██████████| 129/129.0 [00:00<00:00, 196.25it/s]\n",
      "train epoch: 100%|██████████| 1029/1029.0 [00:10<00:00, 94.22it/s]\n",
      "val epoch: 100%|██████████| 129/129.0 [00:00<00:00, 188.41it/s]\n"
     ]
    },
    {
     "data": {
      "text/html": [
       "\n",
       "    <style>\n",
       "        .wandb-row {\n",
       "            display: flex;\n",
       "            flex-direction: row;\n",
       "            flex-wrap: wrap;\n",
       "            justify-content: flex-start;\n",
       "            width: 100%;\n",
       "        }\n",
       "        .wandb-col {\n",
       "            display: flex;\n",
       "            flex-direction: column;\n",
       "            flex-basis: 100%;\n",
       "            flex: 1;\n",
       "            padding: 10px;\n",
       "        }\n",
       "    </style>\n",
       "<div class=\"wandb-row\"><div class=\"wandb-col\"><h3>Run history:</h3><br/><table class=\"wandb\"><tr><td>train/Accuracy</td><td>▁█▇▇███▆</td></tr><tr><td>train/F1</td><td>▁▄▇██▇█▇</td></tr><tr><td>train/Precision</td><td>▁▂▆█▇▆▇▇</td></tr><tr><td>train/Recall</td><td>▁▇█▆▇▇█▅</td></tr><tr><td>train/loss</td><td>▁▅▃▃▄█▁▆</td></tr><tr><td>validation/Accuracy</td><td>▇█▄█▄▇▄▁</td></tr><tr><td>validation/F1</td><td>▅▃██▃▄▂▁</td></tr><tr><td>validation/Precision</td><td>▃▁█▄▅▂▄▆</td></tr><tr><td>validation/Recall</td><td>▆▄▇█▃▄▃▁</td></tr><tr><td>validation/loss</td><td>▅▅▅▇▁▁▆█</td></tr></table><br/></div><div class=\"wandb-col\"><h3>Run summary:</h3><br/><table class=\"wandb\"><tr><td>train/Accuracy</td><td>0.6079</td></tr><tr><td>train/F1</td><td>0.56294</td></tr><tr><td>train/Precision</td><td>0.50468</td></tr><tr><td>train/Recall</td><td>0.63641</td></tr><tr><td>train/loss</td><td>0.74971</td></tr><tr><td>validation/Accuracy</td><td>0.7488</td></tr><tr><td>validation/F1</td><td>0.10871</td></tr><tr><td>validation/Precision</td><td>0.48462</td></tr><tr><td>validation/Recall</td><td>0.06122</td></tr><tr><td>validation/loss</td><td>0.68145</td></tr></table><br/></div></div>"
      ],
      "text/plain": [
       "<IPython.core.display.HTML object>"
      ]
     },
     "metadata": {},
     "output_type": "display_data"
    },
    {
     "data": {
      "text/html": [
       " View run <strong style=\"color:#cdcd00\">HIV ChemSage 5-64, sampling</strong> at: <a href='https://wandb.ai/cus-tibor-none/ToxicML/runs/9x02k5ug' target=\"_blank\">https://wandb.ai/cus-tibor-none/ToxicML/runs/9x02k5ug</a><br/> View project at: <a href='https://wandb.ai/cus-tibor-none/ToxicML' target=\"_blank\">https://wandb.ai/cus-tibor-none/ToxicML</a><br/>Synced 5 W&B file(s), 0 media file(s), 2 artifact file(s) and 1 other file(s)"
      ],
      "text/plain": [
       "<IPython.core.display.HTML object>"
      ]
     },
     "metadata": {},
     "output_type": "display_data"
    },
    {
     "data": {
      "text/html": [
       "Find logs at: <code>./wandb/run-20241207_172401-9x02k5ug/logs</code>"
      ],
      "text/plain": [
       "<IPython.core.display.HTML object>"
      ]
     },
     "metadata": {},
     "output_type": "display_data"
    }
   ],
   "source": [
    "from ToxicMl.MLmodels.sage import ChemSage\n",
    "model = ChemSage(5, 9, 64, 2)\n",
    "optimizer = torch.optim.Adam(model.parameters())\n",
    "lr_scheduler = torch.optim.lr_scheduler.ExponentialLR(optimizer, gamma = 0.09)\n",
    "loss_fn = torch.nn.CrossEntropyLoss()\n",
    "sampler = ImbalancedSampler(train) \n",
    "device = torch.device('cuda' if torch.cuda.is_available() else 'cpu')\n",
    "\n",
    "trainer = GenericClassificationTrainer(\n",
    "    model,\n",
    "    optimizer,\n",
    "    loss_fn,\n",
    "    lr_scheduler,\n",
    "    train_metrics,\n",
    "    validation_metrics,\n",
    "    train,\n",
    "    validation,\n",
    "    test,\n",
    "    device,\n",
    "    sampler,\n",
    "    EPOCHS,\n",
    "    None,\n",
    "    32\n",
    ")\n",
    "\n",
    "trainer.train(\"HIV ChemSage 5-64, sampling\")"
   ]
  },
  {
   "cell_type": "code",
   "execution_count": 23,
   "metadata": {},
   "outputs": [
    {
     "name": "stderr",
     "output_type": "stream",
     "text": [
      "/home/tibor/Documents/msc-datascience/2024w/Toxic/ToxicML/.venv/lib/python3.12/site-packages/torch_geometric/deprecation.py:26: UserWarning: 'data.DataLoader' is deprecated, use 'loader.DataLoader' instead\n",
      "  warnings.warn(out)\n"
     ]
    },
    {
     "data": {
      "text/html": [
       "Tracking run with wandb version 0.18.7"
      ],
      "text/plain": [
       "<IPython.core.display.HTML object>"
      ]
     },
     "metadata": {},
     "output_type": "display_data"
    },
    {
     "data": {
      "text/html": [
       "Run data is saved locally in <code>/home/tibor/Documents/msc-datascience/2024w/Toxic/ToxicML/ToxicMl/wandb/run-20241207_174705-jbq9gwuc</code>"
      ],
      "text/plain": [
       "<IPython.core.display.HTML object>"
      ]
     },
     "metadata": {},
     "output_type": "display_data"
    },
    {
     "data": {
      "text/html": [
       "Syncing run <strong><a href='https://wandb.ai/cus-tibor-none/ToxicML/runs/jbq9gwuc' target=\"_blank\">HIV ChemAttention 3-16, sampling</a></strong> to <a href='https://wandb.ai/cus-tibor-none/ToxicML' target=\"_blank\">Weights & Biases</a> (<a href='https://wandb.me/developer-guide' target=\"_blank\">docs</a>)<br/>"
      ],
      "text/plain": [
       "<IPython.core.display.HTML object>"
      ]
     },
     "metadata": {},
     "output_type": "display_data"
    },
    {
     "data": {
      "text/html": [
       " View project at <a href='https://wandb.ai/cus-tibor-none/ToxicML' target=\"_blank\">https://wandb.ai/cus-tibor-none/ToxicML</a>"
      ],
      "text/plain": [
       "<IPython.core.display.HTML object>"
      ]
     },
     "metadata": {},
     "output_type": "display_data"
    },
    {
     "data": {
      "text/html": [
       " View run at <a href='https://wandb.ai/cus-tibor-none/ToxicML/runs/jbq9gwuc' target=\"_blank\">https://wandb.ai/cus-tibor-none/ToxicML/runs/jbq9gwuc</a>"
      ],
      "text/plain": [
       "<IPython.core.display.HTML object>"
      ]
     },
     "metadata": {},
     "output_type": "display_data"
    },
    {
     "name": "stderr",
     "output_type": "stream",
     "text": [
      "train epoch: 100%|██████████| 1029/1029.0 [00:11<00:00, 86.83it/s]\n",
      "val epoch: 100%|██████████| 129/129.0 [00:00<00:00, 191.17it/s]\n",
      "train epoch: 100%|██████████| 1029/1029.0 [00:10<00:00, 96.63it/s] \n",
      "val epoch: 100%|██████████| 129/129.0 [00:00<00:00, 201.66it/s]\n",
      "train epoch: 100%|██████████| 1029/1029.0 [00:10<00:00, 97.15it/s] \n",
      "val epoch: 100%|██████████| 129/129.0 [00:00<00:00, 173.00it/s]\n",
      "train epoch:  41%|████      | 424/1029.0 [00:04<00:06, 94.89it/s] \n"
     ]
    },
    {
     "data": {
      "text/html": [
       "\n",
       "    <style>\n",
       "        .wandb-row {\n",
       "            display: flex;\n",
       "            flex-direction: row;\n",
       "            flex-wrap: wrap;\n",
       "            justify-content: flex-start;\n",
       "            width: 100%;\n",
       "        }\n",
       "        .wandb-col {\n",
       "            display: flex;\n",
       "            flex-direction: column;\n",
       "            flex-basis: 100%;\n",
       "            flex: 1;\n",
       "            padding: 10px;\n",
       "        }\n",
       "    </style>\n",
       "<div class=\"wandb-row\"><div class=\"wandb-col\"><h3>Run history:</h3><br/><table class=\"wandb\"><tr><td>train/Accuracy</td><td>▄▁█</td></tr><tr><td>train/F1</td><td>█▁▁</td></tr><tr><td>train/Precision</td><td>█▁▁</td></tr><tr><td>train/Recall</td><td>▇█▁</td></tr><tr><td>train/loss</td><td>▆▁█</td></tr><tr><td>validation/Accuracy</td><td>█▁█</td></tr><tr><td>validation/F1</td><td>▁▁▁</td></tr><tr><td>validation/Precision</td><td>▁▁▁</td></tr><tr><td>validation/Recall</td><td>▁▁▁</td></tr><tr><td>validation/loss</td><td>▂▁█</td></tr></table><br/></div><div class=\"wandb-col\"><h3>Run summary:</h3><br/><table class=\"wandb\"><tr><td>train/Accuracy</td><td>0.5063</td></tr><tr><td>train/F1</td><td>0.00037</td></tr><tr><td>train/Precision</td><td>0.00018</td></tr><tr><td>train/Recall</td><td>0.23077</td></tr><tr><td>train/loss</td><td>0.68039</td></tr><tr><td>validation/Accuracy</td><td>0.9684</td></tr><tr><td>validation/F1</td><td>0</td></tr><tr><td>validation/Precision</td><td>0</td></tr><tr><td>validation/Recall</td><td>0</td></tr><tr><td>validation/loss</td><td>0.62629</td></tr></table><br/></div></div>"
      ],
      "text/plain": [
       "<IPython.core.display.HTML object>"
      ]
     },
     "metadata": {},
     "output_type": "display_data"
    },
    {
     "data": {
      "text/html": [
       " View run <strong style=\"color:#cdcd00\">HIV ChemAttention 3-16, sampling</strong> at: <a href='https://wandb.ai/cus-tibor-none/ToxicML/runs/jbq9gwuc' target=\"_blank\">https://wandb.ai/cus-tibor-none/ToxicML/runs/jbq9gwuc</a><br/> View project at: <a href='https://wandb.ai/cus-tibor-none/ToxicML' target=\"_blank\">https://wandb.ai/cus-tibor-none/ToxicML</a><br/>Synced 5 W&B file(s), 0 media file(s), 2 artifact file(s) and 0 other file(s)"
      ],
      "text/plain": [
       "<IPython.core.display.HTML object>"
      ]
     },
     "metadata": {},
     "output_type": "display_data"
    },
    {
     "data": {
      "text/html": [
       "Find logs at: <code>./wandb/run-20241207_174705-jbq9gwuc/logs</code>"
      ],
      "text/plain": [
       "<IPython.core.display.HTML object>"
      ]
     },
     "metadata": {},
     "output_type": "display_data"
    },
    {
     "ename": "KeyboardInterrupt",
     "evalue": "",
     "output_type": "error",
     "traceback": [
      "\u001b[0;31m---------------------------------------------------------------------------\u001b[0m",
      "\u001b[0;31mKeyboardInterrupt\u001b[0m                         Traceback (most recent call last)",
      "Cell \u001b[0;32mIn[23], line 26\u001b[0m\n\u001b[1;32m      7\u001b[0m device \u001b[38;5;241m=\u001b[39m torch\u001b[38;5;241m.\u001b[39mdevice(\u001b[38;5;124m'\u001b[39m\u001b[38;5;124mcuda\u001b[39m\u001b[38;5;124m'\u001b[39m \u001b[38;5;28;01mif\u001b[39;00m torch\u001b[38;5;241m.\u001b[39mcuda\u001b[38;5;241m.\u001b[39mis_available() \u001b[38;5;28;01melse\u001b[39;00m \u001b[38;5;124m'\u001b[39m\u001b[38;5;124mcpu\u001b[39m\u001b[38;5;124m'\u001b[39m)\n\u001b[1;32m      9\u001b[0m trainer \u001b[38;5;241m=\u001b[39m GenericClassificationTrainer(\n\u001b[1;32m     10\u001b[0m     model,\n\u001b[1;32m     11\u001b[0m     optimizer,\n\u001b[0;32m   (...)\u001b[0m\n\u001b[1;32m     23\u001b[0m     \u001b[38;5;241m32\u001b[39m\n\u001b[1;32m     24\u001b[0m )\n\u001b[0;32m---> 26\u001b[0m \u001b[43mtrainer\u001b[49m\u001b[38;5;241;43m.\u001b[39;49m\u001b[43mtrain\u001b[49m\u001b[43m(\u001b[49m\u001b[38;5;124;43m\"\u001b[39;49m\u001b[38;5;124;43mHIV ChemAttention 3-16, sampling\u001b[39;49m\u001b[38;5;124;43m\"\u001b[39;49m\u001b[43m)\u001b[49m\n\u001b[1;32m     27\u001b[0m torch\u001b[38;5;241m.\u001b[39msave(model\u001b[38;5;241m.\u001b[39mstate_dict(), \u001b[38;5;124m\"\u001b[39m\u001b[38;5;124m../saved_models/ChemAttention64_HIV\u001b[39m\u001b[38;5;124m\"\u001b[39m)\n",
      "File \u001b[0;32m~/Documents/msc-datascience/2024w/Toxic/ToxicML/ToxicMl/trainer.py:237\u001b[0m, in \u001b[0;36mGenericClassificationTrainer.train\u001b[0;34m(self, run_name)\u001b[0m\n\u001b[1;32m    235\u001b[0m \u001b[38;5;28;01mtry\u001b[39;00m:\n\u001b[1;32m    236\u001b[0m     \u001b[38;5;28;01mfor\u001b[39;00m i \u001b[38;5;129;01min\u001b[39;00m \u001b[38;5;28mrange\u001b[39m(\u001b[38;5;241m0\u001b[39m, \u001b[38;5;28mself\u001b[39m\u001b[38;5;241m.\u001b[39mnum_epochs):\n\u001b[0;32m--> 237\u001b[0m         train_loss, _ \u001b[38;5;241m=\u001b[39m \u001b[38;5;28;43mself\u001b[39;49m\u001b[38;5;241;43m.\u001b[39;49m\u001b[43m_train_epoch\u001b[49m\u001b[43m(\u001b[49m\u001b[43mi\u001b[49m\u001b[43m)\u001b[49m\n\u001b[1;32m    238\u001b[0m         val_loss, score \u001b[38;5;241m=\u001b[39m \u001b[38;5;28mself\u001b[39m\u001b[38;5;241m.\u001b[39m_val_epoch(i)\n\u001b[1;32m    239\u001b[0m         metrics \u001b[38;5;241m=\u001b[39m \u001b[38;5;28mself\u001b[39m\u001b[38;5;241m.\u001b[39m_log_metrics()\n",
      "File \u001b[0;32m~/Documents/msc-datascience/2024w/Toxic/ToxicML/ToxicMl/trainer.py:170\u001b[0m, in \u001b[0;36mGenericClassificationTrainer._train_epoch\u001b[0;34m(self, epoch_idx)\u001b[0m\n\u001b[1;32m    168\u001b[0m \u001b[38;5;28mself\u001b[39m\u001b[38;5;241m.\u001b[39mmodel\u001b[38;5;241m.\u001b[39mtrain()\n\u001b[1;32m    169\u001b[0m \u001b[38;5;28;01mfor\u001b[39;00m batch_idx, data \u001b[38;5;129;01min\u001b[39;00m tqdm(\u001b[38;5;28menumerate\u001b[39m(\u001b[38;5;28mself\u001b[39m\u001b[38;5;241m.\u001b[39mtrain_loader),desc\u001b[38;5;241m=\u001b[39m\u001b[38;5;124m\"\u001b[39m\u001b[38;5;124mtrain epoch\u001b[39m\u001b[38;5;124m\"\u001b[39m, total\u001b[38;5;241m=\u001b[39m\u001b[38;5;28mself\u001b[39m\u001b[38;5;241m.\u001b[39mtrain_epoch_steps):\n\u001b[0;32m--> 170\u001b[0m     data \u001b[38;5;241m=\u001b[39m \u001b[43mdata\u001b[49m\u001b[38;5;241;43m.\u001b[39;49m\u001b[43mto\u001b[49m\u001b[43m(\u001b[49m\u001b[38;5;28;43mself\u001b[39;49m\u001b[38;5;241;43m.\u001b[39;49m\u001b[43mdevice\u001b[49m\u001b[43m)\u001b[49m\n\u001b[1;32m    171\u001b[0m     \u001b[38;5;28mself\u001b[39m\u001b[38;5;241m.\u001b[39moptimizer\u001b[38;5;241m.\u001b[39mzero_grad()\n\u001b[1;32m    172\u001b[0m     output \u001b[38;5;241m=\u001b[39m \u001b[38;5;28mself\u001b[39m\u001b[38;5;241m.\u001b[39mmodel(data)\n",
      "File \u001b[0;32m~/Documents/msc-datascience/2024w/Toxic/ToxicML/.venv/lib/python3.12/site-packages/torch_geometric/data/data.py:362\u001b[0m, in \u001b[0;36mBaseData.to\u001b[0;34m(self, device, non_blocking, *args)\u001b[0m\n\u001b[1;32m    357\u001b[0m \u001b[38;5;28;01mdef\u001b[39;00m \u001b[38;5;21mto\u001b[39m(\u001b[38;5;28mself\u001b[39m, device: Union[\u001b[38;5;28mint\u001b[39m, \u001b[38;5;28mstr\u001b[39m], \u001b[38;5;241m*\u001b[39margs: \u001b[38;5;28mstr\u001b[39m,\n\u001b[1;32m    358\u001b[0m        non_blocking: \u001b[38;5;28mbool\u001b[39m \u001b[38;5;241m=\u001b[39m \u001b[38;5;28;01mFalse\u001b[39;00m):\n\u001b[1;32m    359\u001b[0m \u001b[38;5;250m    \u001b[39m\u001b[38;5;124mr\u001b[39m\u001b[38;5;124;03m\"\"\"Performs tensor device conversion, either for all attributes or\u001b[39;00m\n\u001b[1;32m    360\u001b[0m \u001b[38;5;124;03m    only the ones given in :obj:`*args`.\u001b[39;00m\n\u001b[1;32m    361\u001b[0m \u001b[38;5;124;03m    \"\"\"\u001b[39;00m\n\u001b[0;32m--> 362\u001b[0m     \u001b[38;5;28;01mreturn\u001b[39;00m \u001b[38;5;28;43mself\u001b[39;49m\u001b[38;5;241;43m.\u001b[39;49m\u001b[43mapply\u001b[49m\u001b[43m(\u001b[49m\n\u001b[1;32m    363\u001b[0m \u001b[43m        \u001b[49m\u001b[38;5;28;43;01mlambda\u001b[39;49;00m\u001b[43m \u001b[49m\u001b[43mx\u001b[49m\u001b[43m:\u001b[49m\u001b[43m \u001b[49m\u001b[43mx\u001b[49m\u001b[38;5;241;43m.\u001b[39;49m\u001b[43mto\u001b[49m\u001b[43m(\u001b[49m\u001b[43mdevice\u001b[49m\u001b[38;5;241;43m=\u001b[39;49m\u001b[43mdevice\u001b[49m\u001b[43m,\u001b[49m\u001b[43m \u001b[49m\u001b[43mnon_blocking\u001b[49m\u001b[38;5;241;43m=\u001b[39;49m\u001b[43mnon_blocking\u001b[49m\u001b[43m)\u001b[49m\u001b[43m,\u001b[49m\u001b[43m \u001b[49m\u001b[38;5;241;43m*\u001b[39;49m\u001b[43margs\u001b[49m\u001b[43m)\u001b[49m\n",
      "File \u001b[0;32m~/Documents/msc-datascience/2024w/Toxic/ToxicML/.venv/lib/python3.12/site-packages/torch_geometric/data/data.py:342\u001b[0m, in \u001b[0;36mBaseData.apply\u001b[0;34m(self, func, *args)\u001b[0m\n\u001b[1;32m    338\u001b[0m \u001b[38;5;250m\u001b[39m\u001b[38;5;124mr\u001b[39m\u001b[38;5;124;03m\"\"\"Applies the function :obj:`func`, either to all attributes or only\u001b[39;00m\n\u001b[1;32m    339\u001b[0m \u001b[38;5;124;03mthe ones given in :obj:`*args`.\u001b[39;00m\n\u001b[1;32m    340\u001b[0m \u001b[38;5;124;03m\"\"\"\u001b[39;00m\n\u001b[1;32m    341\u001b[0m \u001b[38;5;28;01mfor\u001b[39;00m store \u001b[38;5;129;01min\u001b[39;00m \u001b[38;5;28mself\u001b[39m\u001b[38;5;241m.\u001b[39mstores:\n\u001b[0;32m--> 342\u001b[0m     \u001b[43mstore\u001b[49m\u001b[38;5;241;43m.\u001b[39;49m\u001b[43mapply\u001b[49m\u001b[43m(\u001b[49m\u001b[43mfunc\u001b[49m\u001b[43m,\u001b[49m\u001b[43m \u001b[49m\u001b[38;5;241;43m*\u001b[39;49m\u001b[43margs\u001b[49m\u001b[43m)\u001b[49m\n\u001b[1;32m    343\u001b[0m \u001b[38;5;28;01mreturn\u001b[39;00m \u001b[38;5;28mself\u001b[39m\n",
      "File \u001b[0;32m~/Documents/msc-datascience/2024w/Toxic/ToxicML/.venv/lib/python3.12/site-packages/torch_geometric/data/storage.py:201\u001b[0m, in \u001b[0;36mBaseStorage.apply\u001b[0;34m(self, func, *args)\u001b[0m\n\u001b[1;32m    197\u001b[0m \u001b[38;5;250m\u001b[39m\u001b[38;5;124mr\u001b[39m\u001b[38;5;124;03m\"\"\"Applies the function :obj:`func`, either to all attributes or only\u001b[39;00m\n\u001b[1;32m    198\u001b[0m \u001b[38;5;124;03mthe ones given in :obj:`*args`.\u001b[39;00m\n\u001b[1;32m    199\u001b[0m \u001b[38;5;124;03m\"\"\"\u001b[39;00m\n\u001b[1;32m    200\u001b[0m \u001b[38;5;28;01mfor\u001b[39;00m key, value \u001b[38;5;129;01min\u001b[39;00m \u001b[38;5;28mself\u001b[39m\u001b[38;5;241m.\u001b[39mitems(\u001b[38;5;241m*\u001b[39margs):\n\u001b[0;32m--> 201\u001b[0m     \u001b[38;5;28;43mself\u001b[39;49m\u001b[43m[\u001b[49m\u001b[43mkey\u001b[49m\u001b[43m]\u001b[49m \u001b[38;5;241m=\u001b[39m recursive_apply(value, func)\n\u001b[1;32m    202\u001b[0m \u001b[38;5;28;01mreturn\u001b[39;00m \u001b[38;5;28mself\u001b[39m\n",
      "File \u001b[0;32m~/Documents/msc-datascience/2024w/Toxic/ToxicML/.venv/lib/python3.12/site-packages/torch_geometric/data/storage.py:121\u001b[0m, in \u001b[0;36mBaseStorage.__setitem__\u001b[0;34m(self, key, value)\u001b[0m\n\u001b[1;32m    120\u001b[0m \u001b[38;5;28;01mdef\u001b[39;00m \u001b[38;5;21m__setitem__\u001b[39m(\u001b[38;5;28mself\u001b[39m, key: \u001b[38;5;28mstr\u001b[39m, value: Any) \u001b[38;5;241m-\u001b[39m\u001b[38;5;241m>\u001b[39m \u001b[38;5;28;01mNone\u001b[39;00m:\n\u001b[0;32m--> 121\u001b[0m     \u001b[38;5;28;43mself\u001b[39;49m\u001b[38;5;241;43m.\u001b[39;49m\u001b[43m_pop_cache\u001b[49m\u001b[43m(\u001b[49m\u001b[43mkey\u001b[49m\u001b[43m)\u001b[49m\n\u001b[1;32m    122\u001b[0m     \u001b[38;5;28;01mif\u001b[39;00m value \u001b[38;5;129;01mis\u001b[39;00m \u001b[38;5;28;01mNone\u001b[39;00m \u001b[38;5;129;01mand\u001b[39;00m key \u001b[38;5;129;01min\u001b[39;00m \u001b[38;5;28mself\u001b[39m\u001b[38;5;241m.\u001b[39m_mapping:\n\u001b[1;32m    123\u001b[0m         \u001b[38;5;28;01mdel\u001b[39;00m \u001b[38;5;28mself\u001b[39m\u001b[38;5;241m.\u001b[39m_mapping[key]\n",
      "File \u001b[0;32m~/Documents/msc-datascience/2024w/Toxic/ToxicML/.venv/lib/python3.12/site-packages/torch_geometric/data/storage.py:83\u001b[0m, in \u001b[0;36mBaseStorage._pop_cache\u001b[0;34m(self, key)\u001b[0m\n\u001b[1;32m     82\u001b[0m \u001b[38;5;28;01mdef\u001b[39;00m \u001b[38;5;21m_pop_cache\u001b[39m(\u001b[38;5;28mself\u001b[39m, key: \u001b[38;5;28mstr\u001b[39m) \u001b[38;5;241m-\u001b[39m\u001b[38;5;241m>\u001b[39m \u001b[38;5;28;01mNone\u001b[39;00m:\n\u001b[0;32m---> 83\u001b[0m     \u001b[38;5;28;01mfor\u001b[39;00m cache \u001b[38;5;129;01min\u001b[39;00m \u001b[38;5;28;43mgetattr\u001b[39;49m\u001b[43m(\u001b[49m\u001b[38;5;28;43mself\u001b[39;49m\u001b[43m,\u001b[49m\u001b[43m \u001b[49m\u001b[38;5;124;43m'\u001b[39;49m\u001b[38;5;124;43m_cached_attr\u001b[39;49m\u001b[38;5;124;43m'\u001b[39;49m\u001b[43m,\u001b[49m\u001b[43m \u001b[49m\u001b[43m{\u001b[49m\u001b[43m}\u001b[49m\u001b[43m)\u001b[49m\u001b[38;5;241m.\u001b[39mvalues():\n\u001b[1;32m     84\u001b[0m         cache\u001b[38;5;241m.\u001b[39mdiscard(key)\n",
      "\u001b[0;31mKeyboardInterrupt\u001b[0m: "
     ]
    }
   ],
   "source": [
    "from ToxicMl.MLmodels.attention import ChemAttention\n",
    "model = ChemAttention(3, 9, 16, 2)\n",
    "optimizer = torch.optim.Adam(model.parameters())\n",
    "lr_scheduler = torch.optim.lr_scheduler.ExponentialLR(optimizer, gamma = 0.09)\n",
    "loss_fn = torch.nn.CrossEntropyLoss()\n",
    "sampler = ImbalancedSampler(train) \n",
    "device = torch.device('cuda' if torch.cuda.is_available() else 'cpu')\n",
    "\n",
    "trainer = GenericClassificationTrainer(\n",
    "    model,\n",
    "    optimizer,\n",
    "    loss_fn,\n",
    "    lr_scheduler,\n",
    "    train_metrics,\n",
    "    validation_metrics,\n",
    "    train,\n",
    "    validation,\n",
    "    test,\n",
    "    device,\n",
    "    sampler,\n",
    "    EPOCHS,\n",
    "    None,\n",
    "    32\n",
    ")\n",
    "\n",
    "trainer.train(\"HIV ChemAttention 3-16, sampling\")\n",
    "torch.save(model.state_dict(), \"../saved_models/ChemAttention64_HIV\")"
   ]
  },
  {
   "cell_type": "code",
   "execution_count": 16,
   "metadata": {},
   "outputs": [
    {
     "name": "stderr",
     "output_type": "stream",
     "text": [
      "/home/tibor/Documents/msc-datascience/2024w/Toxic/ToxicML/.venv/lib/python3.12/site-packages/torch_geometric/deprecation.py:26: UserWarning: 'data.DataLoader' is deprecated, use 'loader.DataLoader' instead\n",
      "  warnings.warn(out)\n"
     ]
    },
    {
     "data": {
      "text/html": [
       "Tracking run with wandb version 0.18.7"
      ],
      "text/plain": [
       "<IPython.core.display.HTML object>"
      ]
     },
     "metadata": {},
     "output_type": "display_data"
    },
    {
     "data": {
      "text/html": [
       "Run data is saved locally in <code>/home/tibor/Documents/msc-datascience/2024w/Toxic/ToxicML/ToxicMl/wandb/run-20241207_172723-xandaeh0</code>"
      ],
      "text/plain": [
       "<IPython.core.display.HTML object>"
      ]
     },
     "metadata": {},
     "output_type": "display_data"
    },
    {
     "data": {
      "text/html": [
       "Syncing run <strong><a href='https://wandb.ai/cus-tibor-none/ToxicML/runs/xandaeh0' target=\"_blank\">HIV ChemAttention 3-32, sampling</a></strong> to <a href='https://wandb.ai/cus-tibor-none/ToxicML' target=\"_blank\">Weights & Biases</a> (<a href='https://wandb.me/developer-guide' target=\"_blank\">docs</a>)<br/>"
      ],
      "text/plain": [
       "<IPython.core.display.HTML object>"
      ]
     },
     "metadata": {},
     "output_type": "display_data"
    },
    {
     "data": {
      "text/html": [
       " View project at <a href='https://wandb.ai/cus-tibor-none/ToxicML' target=\"_blank\">https://wandb.ai/cus-tibor-none/ToxicML</a>"
      ],
      "text/plain": [
       "<IPython.core.display.HTML object>"
      ]
     },
     "metadata": {},
     "output_type": "display_data"
    },
    {
     "data": {
      "text/html": [
       " View run at <a href='https://wandb.ai/cus-tibor-none/ToxicML/runs/xandaeh0' target=\"_blank\">https://wandb.ai/cus-tibor-none/ToxicML/runs/xandaeh0</a>"
      ],
      "text/plain": [
       "<IPython.core.display.HTML object>"
      ]
     },
     "metadata": {},
     "output_type": "display_data"
    },
    {
     "name": "stderr",
     "output_type": "stream",
     "text": [
      "train epoch: 100%|██████████| 1029/1029.0 [00:09<00:00, 108.06it/s]\n",
      "val epoch: 100%|██████████| 129/129.0 [00:00<00:00, 220.64it/s]\n",
      "train epoch: 100%|██████████| 1029/1029.0 [00:11<00:00, 91.70it/s]\n",
      "val epoch: 100%|██████████| 129/129.0 [00:00<00:00, 176.88it/s]\n",
      "train epoch: 100%|██████████| 1029/1029.0 [00:15<00:00, 68.07it/s]\n",
      "val epoch: 100%|██████████| 129/129.0 [00:00<00:00, 140.18it/s]\n",
      "train epoch: 100%|██████████| 1029/1029.0 [00:16<00:00, 64.05it/s]\n",
      "val epoch: 100%|██████████| 129/129.0 [00:01<00:00, 106.13it/s]\n",
      "train epoch: 100%|██████████| 1029/1029.0 [00:15<00:00, 67.91it/s]\n",
      "val epoch: 100%|██████████| 129/129.0 [00:00<00:00, 162.41it/s]\n",
      "train epoch: 100%|██████████| 1029/1029.0 [00:13<00:00, 75.77it/s]\n",
      "val epoch: 100%|██████████| 129/129.0 [00:01<00:00, 114.68it/s]\n",
      "train epoch: 100%|██████████| 1029/1029.0 [00:13<00:00, 75.42it/s]\n",
      "val epoch: 100%|██████████| 129/129.0 [00:00<00:00, 151.17it/s]\n",
      "train epoch: 100%|██████████| 1029/1029.0 [00:13<00:00, 77.18it/s]\n",
      "val epoch: 100%|██████████| 129/129.0 [00:00<00:00, 167.07it/s]\n"
     ]
    },
    {
     "data": {
      "text/html": [
       "\n",
       "    <style>\n",
       "        .wandb-row {\n",
       "            display: flex;\n",
       "            flex-direction: row;\n",
       "            flex-wrap: wrap;\n",
       "            justify-content: flex-start;\n",
       "            width: 100%;\n",
       "        }\n",
       "        .wandb-col {\n",
       "            display: flex;\n",
       "            flex-direction: column;\n",
       "            flex-basis: 100%;\n",
       "            flex: 1;\n",
       "            padding: 10px;\n",
       "        }\n",
       "    </style>\n",
       "<div class=\"wandb-row\"><div class=\"wandb-col\"><h3>Run history:</h3><br/><table class=\"wandb\"><tr><td>train/Accuracy</td><td>▁█▇██▇█▇</td></tr><tr><td>train/F1</td><td>█▄▁▃▂▁▃▁</td></tr><tr><td>train/Precision</td><td>█▃▁▂▂▁▂▁</td></tr><tr><td>train/Recall</td><td>▁▇▇██▇█▇</td></tr><tr><td>train/loss</td><td>▆█▂▁▄▆▇▄</td></tr><tr><td>validation/Accuracy</td><td>▁▆█▆▇▆▆▆</td></tr><tr><td>validation/F1</td><td>▁▄█▅▆▄▅▅</td></tr><tr><td>validation/Precision</td><td>█▂▁▁▁▂▂▂</td></tr><tr><td>validation/Recall</td><td>▁▄█▅▇▄▅▅</td></tr><tr><td>validation/loss</td><td>▅▄█▁▃▂█▅</td></tr></table><br/></div><div class=\"wandb-col\"><h3>Run summary:</h3><br/><table class=\"wandb\"><tr><td>train/Accuracy</td><td>0.6076</td></tr><tr><td>train/F1</td><td>0.53899</td></tr><tr><td>train/Precision</td><td>0.45789</td></tr><tr><td>train/Recall</td><td>0.65501</td></tr><tr><td>train/loss</td><td>0.62748</td></tr><tr><td>validation/Accuracy</td><td>0.7887</td></tr><tr><td>validation/F1</td><td>0.12487</td></tr><tr><td>validation/Precision</td><td>0.47692</td></tr><tr><td>validation/Recall</td><td>0.07184</td></tr><tr><td>validation/loss</td><td>0.62854</td></tr></table><br/></div></div>"
      ],
      "text/plain": [
       "<IPython.core.display.HTML object>"
      ]
     },
     "metadata": {},
     "output_type": "display_data"
    },
    {
     "data": {
      "text/html": [
       " View run <strong style=\"color:#cdcd00\">HIV ChemAttention 3-32, sampling</strong> at: <a href='https://wandb.ai/cus-tibor-none/ToxicML/runs/xandaeh0' target=\"_blank\">https://wandb.ai/cus-tibor-none/ToxicML/runs/xandaeh0</a><br/> View project at: <a href='https://wandb.ai/cus-tibor-none/ToxicML' target=\"_blank\">https://wandb.ai/cus-tibor-none/ToxicML</a><br/>Synced 5 W&B file(s), 0 media file(s), 2 artifact file(s) and 1 other file(s)"
      ],
      "text/plain": [
       "<IPython.core.display.HTML object>"
      ]
     },
     "metadata": {},
     "output_type": "display_data"
    },
    {
     "data": {
      "text/html": [
       "Find logs at: <code>./wandb/run-20241207_172723-xandaeh0/logs</code>"
      ],
      "text/plain": [
       "<IPython.core.display.HTML object>"
      ]
     },
     "metadata": {},
     "output_type": "display_data"
    }
   ],
   "source": [
    "model = ChemAttention(3, 9, 32, 2)\n",
    "optimizer = torch.optim.Adam(model.parameters())\n",
    "lr_scheduler = torch.optim.lr_scheduler.ExponentialLR(optimizer, gamma = 0.09)\n",
    "loss_fn = torch.nn.CrossEntropyLoss()\n",
    "sampler = ImbalancedSampler(train) \n",
    "device = torch.device('cuda' if torch.cuda.is_available() else 'cpu')\n",
    "\n",
    "trainer = GenericClassificationTrainer(\n",
    "    model,\n",
    "    optimizer,\n",
    "    loss_fn,\n",
    "    lr_scheduler,\n",
    "    train_metrics,\n",
    "    validation_metrics,\n",
    "    train,\n",
    "    validation,\n",
    "    test,\n",
    "    device,\n",
    "    sampler,\n",
    "    EPOCHS,\n",
    "    None,\n",
    "    32\n",
    ")\n",
    "\n",
    "trainer.train(\"HIV ChemAttention 3-32, sampling\")"
   ]
  },
  {
   "cell_type": "code",
   "execution_count": 17,
   "metadata": {},
   "outputs": [
    {
     "name": "stderr",
     "output_type": "stream",
     "text": [
      "/home/tibor/Documents/msc-datascience/2024w/Toxic/ToxicML/.venv/lib/python3.12/site-packages/torch_geometric/deprecation.py:26: UserWarning: 'data.DataLoader' is deprecated, use 'loader.DataLoader' instead\n",
      "  warnings.warn(out)\n"
     ]
    },
    {
     "data": {
      "text/html": [
       "Tracking run with wandb version 0.18.7"
      ],
      "text/plain": [
       "<IPython.core.display.HTML object>"
      ]
     },
     "metadata": {},
     "output_type": "display_data"
    },
    {
     "data": {
      "text/html": [
       "Run data is saved locally in <code>/home/tibor/Documents/msc-datascience/2024w/Toxic/ToxicML/ToxicMl/wandb/run-20241207_172925-rb6os7sv</code>"
      ],
      "text/plain": [
       "<IPython.core.display.HTML object>"
      ]
     },
     "metadata": {},
     "output_type": "display_data"
    },
    {
     "data": {
      "text/html": [
       "Syncing run <strong><a href='https://wandb.ai/cus-tibor-none/ToxicML/runs/rb6os7sv' target=\"_blank\">HIV ChemAttention 3-64, sampling</a></strong> to <a href='https://wandb.ai/cus-tibor-none/ToxicML' target=\"_blank\">Weights & Biases</a> (<a href='https://wandb.me/developer-guide' target=\"_blank\">docs</a>)<br/>"
      ],
      "text/plain": [
       "<IPython.core.display.HTML object>"
      ]
     },
     "metadata": {},
     "output_type": "display_data"
    },
    {
     "data": {
      "text/html": [
       " View project at <a href='https://wandb.ai/cus-tibor-none/ToxicML' target=\"_blank\">https://wandb.ai/cus-tibor-none/ToxicML</a>"
      ],
      "text/plain": [
       "<IPython.core.display.HTML object>"
      ]
     },
     "metadata": {},
     "output_type": "display_data"
    },
    {
     "data": {
      "text/html": [
       " View run at <a href='https://wandb.ai/cus-tibor-none/ToxicML/runs/rb6os7sv' target=\"_blank\">https://wandb.ai/cus-tibor-none/ToxicML/runs/rb6os7sv</a>"
      ],
      "text/plain": [
       "<IPython.core.display.HTML object>"
      ]
     },
     "metadata": {},
     "output_type": "display_data"
    },
    {
     "name": "stderr",
     "output_type": "stream",
     "text": [
      "train epoch: 100%|██████████| 1029/1029.0 [00:14<00:00, 70.34it/s]\n",
      "val epoch: 100%|██████████| 129/129.0 [00:00<00:00, 129.73it/s]\n",
      "train epoch: 100%|██████████| 1029/1029.0 [00:15<00:00, 66.23it/s]\n",
      "val epoch: 100%|██████████| 129/129.0 [00:00<00:00, 144.57it/s]\n",
      "train epoch: 100%|██████████| 1029/1029.0 [00:15<00:00, 66.74it/s]\n",
      "val epoch: 100%|██████████| 129/129.0 [00:01<00:00, 115.71it/s]\n",
      "train epoch: 100%|██████████| 1029/1029.0 [00:15<00:00, 67.22it/s]\n",
      "val epoch: 100%|██████████| 129/129.0 [00:00<00:00, 153.46it/s]\n",
      "train epoch: 100%|██████████| 1029/1029.0 [00:15<00:00, 65.75it/s]\n",
      "val epoch: 100%|██████████| 129/129.0 [00:00<00:00, 130.36it/s]\n",
      "train epoch: 100%|██████████| 1029/1029.0 [00:14<00:00, 69.36it/s]\n",
      "val epoch: 100%|██████████| 129/129.0 [00:00<00:00, 135.31it/s]\n",
      "train epoch: 100%|██████████| 1029/1029.0 [00:16<00:00, 63.96it/s]\n",
      "val epoch: 100%|██████████| 129/129.0 [00:00<00:00, 149.86it/s]\n",
      "train epoch: 100%|██████████| 1029/1029.0 [00:14<00:00, 68.78it/s]\n",
      "val epoch: 100%|██████████| 129/129.0 [00:00<00:00, 131.92it/s]\n"
     ]
    },
    {
     "data": {
      "text/html": [
       "\n",
       "    <style>\n",
       "        .wandb-row {\n",
       "            display: flex;\n",
       "            flex-direction: row;\n",
       "            flex-wrap: wrap;\n",
       "            justify-content: flex-start;\n",
       "            width: 100%;\n",
       "        }\n",
       "        .wandb-col {\n",
       "            display: flex;\n",
       "            flex-direction: column;\n",
       "            flex-basis: 100%;\n",
       "            flex: 1;\n",
       "            padding: 10px;\n",
       "        }\n",
       "    </style>\n",
       "<div class=\"wandb-row\"><div class=\"wandb-col\"><h3>Run history:</h3><br/><table class=\"wandb\"><tr><td>train/Accuracy</td><td>▁▇█▇█▇█▇</td></tr><tr><td>train/F1</td><td>▁██▇████</td></tr><tr><td>train/Precision</td><td>▁███████</td></tr><tr><td>train/Recall</td><td>▁▆▇▅█▆▇▆</td></tr><tr><td>train/loss</td><td>█▁▂▇▄█▃▅</td></tr><tr><td>validation/Accuracy</td><td>▇█▄▃▇▁▁▇</td></tr><tr><td>validation/F1</td><td>▆██▅▇▅▁█</td></tr><tr><td>validation/Precision</td><td>▃▄█▅▄▆▁▅</td></tr><tr><td>validation/Recall</td><td>▆██▅▇▄▁█</td></tr><tr><td>validation/loss</td><td>▃█▁▅▃▇▅▁</td></tr></table><br/></div><div class=\"wandb-col\"><h3>Run summary:</h3><br/><table class=\"wandb\"><tr><td>train/Accuracy</td><td>0.6072</td></tr><tr><td>train/F1</td><td>0.57247</td></tr><tr><td>train/Precision</td><td>0.5265</td></tr><tr><td>train/Recall</td><td>0.62723</td></tr><tr><td>train/loss</td><td>0.68878</td></tr><tr><td>validation/Accuracy</td><td>0.788</td></tr><tr><td>validation/F1</td><td>0.1245</td></tr><tr><td>validation/Precision</td><td>0.47692</td></tr><tr><td>validation/Recall</td><td>0.07159</td></tr><tr><td>validation/loss</td><td>0.55921</td></tr></table><br/></div></div>"
      ],
      "text/plain": [
       "<IPython.core.display.HTML object>"
      ]
     },
     "metadata": {},
     "output_type": "display_data"
    },
    {
     "data": {
      "text/html": [
       " View run <strong style=\"color:#cdcd00\">HIV ChemAttention 3-64, sampling</strong> at: <a href='https://wandb.ai/cus-tibor-none/ToxicML/runs/rb6os7sv' target=\"_blank\">https://wandb.ai/cus-tibor-none/ToxicML/runs/rb6os7sv</a><br/> View project at: <a href='https://wandb.ai/cus-tibor-none/ToxicML' target=\"_blank\">https://wandb.ai/cus-tibor-none/ToxicML</a><br/>Synced 5 W&B file(s), 0 media file(s), 2 artifact file(s) and 1 other file(s)"
      ],
      "text/plain": [
       "<IPython.core.display.HTML object>"
      ]
     },
     "metadata": {},
     "output_type": "display_data"
    },
    {
     "data": {
      "text/html": [
       "Find logs at: <code>./wandb/run-20241207_172925-rb6os7sv/logs</code>"
      ],
      "text/plain": [
       "<IPython.core.display.HTML object>"
      ]
     },
     "metadata": {},
     "output_type": "display_data"
    }
   ],
   "source": [
    "model = ChemAttention(3, 9, 64, 2)\n",
    "optimizer = torch.optim.Adam(model.parameters())\n",
    "lr_scheduler = torch.optim.lr_scheduler.ExponentialLR(optimizer, gamma = 0.09)\n",
    "loss_fn = torch.nn.CrossEntropyLoss()\n",
    "sampler = ImbalancedSampler(train) \n",
    "device = torch.device('cuda' if torch.cuda.is_available() else 'cpu')\n",
    "\n",
    "trainer = GenericClassificationTrainer(\n",
    "    model,\n",
    "    optimizer,\n",
    "    loss_fn,\n",
    "    lr_scheduler,\n",
    "    train_metrics,\n",
    "    validation_metrics,\n",
    "    train,\n",
    "    validation,\n",
    "    test,\n",
    "    device,\n",
    "    sampler,\n",
    "    EPOCHS,\n",
    "    None,\n",
    "    32\n",
    ")\n",
    "\n",
    "trainer.train(\"HIV ChemAttention 3-64, sampling\")"
   ]
  },
  {
   "cell_type": "code",
   "execution_count": 18,
   "metadata": {},
   "outputs": [
    {
     "name": "stderr",
     "output_type": "stream",
     "text": [
      "/home/tibor/Documents/msc-datascience/2024w/Toxic/ToxicML/.venv/lib/python3.12/site-packages/torch_geometric/deprecation.py:26: UserWarning: 'data.DataLoader' is deprecated, use 'loader.DataLoader' instead\n",
      "  warnings.warn(out)\n"
     ]
    },
    {
     "data": {
      "text/html": [
       "Tracking run with wandb version 0.18.7"
      ],
      "text/plain": [
       "<IPython.core.display.HTML object>"
      ]
     },
     "metadata": {},
     "output_type": "display_data"
    },
    {
     "data": {
      "text/html": [
       "Run data is saved locally in <code>/home/tibor/Documents/msc-datascience/2024w/Toxic/ToxicML/ToxicMl/wandb/run-20241207_173142-t3sqxed1</code>"
      ],
      "text/plain": [
       "<IPython.core.display.HTML object>"
      ]
     },
     "metadata": {},
     "output_type": "display_data"
    },
    {
     "data": {
      "text/html": [
       "Syncing run <strong><a href='https://wandb.ai/cus-tibor-none/ToxicML/runs/t3sqxed1' target=\"_blank\">HIV ChemAttention 3-64, sampling</a></strong> to <a href='https://wandb.ai/cus-tibor-none/ToxicML' target=\"_blank\">Weights & Biases</a> (<a href='https://wandb.me/developer-guide' target=\"_blank\">docs</a>)<br/>"
      ],
      "text/plain": [
       "<IPython.core.display.HTML object>"
      ]
     },
     "metadata": {},
     "output_type": "display_data"
    },
    {
     "data": {
      "text/html": [
       " View project at <a href='https://wandb.ai/cus-tibor-none/ToxicML' target=\"_blank\">https://wandb.ai/cus-tibor-none/ToxicML</a>"
      ],
      "text/plain": [
       "<IPython.core.display.HTML object>"
      ]
     },
     "metadata": {},
     "output_type": "display_data"
    },
    {
     "data": {
      "text/html": [
       " View run at <a href='https://wandb.ai/cus-tibor-none/ToxicML/runs/t3sqxed1' target=\"_blank\">https://wandb.ai/cus-tibor-none/ToxicML/runs/t3sqxed1</a>"
      ],
      "text/plain": [
       "<IPython.core.display.HTML object>"
      ]
     },
     "metadata": {},
     "output_type": "display_data"
    },
    {
     "name": "stderr",
     "output_type": "stream",
     "text": [
      "train epoch: 100%|██████████| 1029/1029.0 [00:19<00:00, 51.57it/s]\n",
      "val epoch: 100%|██████████| 129/129.0 [00:01<00:00, 117.60it/s]\n",
      "train epoch: 100%|██████████| 1029/1029.0 [00:21<00:00, 48.33it/s]\n",
      "val epoch: 100%|██████████| 129/129.0 [00:01<00:00, 112.61it/s]\n",
      "train epoch: 100%|██████████| 1029/1029.0 [00:20<00:00, 49.27it/s]\n",
      "val epoch: 100%|██████████| 129/129.0 [00:01<00:00, 97.57it/s]\n",
      "train epoch: 100%|██████████| 1029/1029.0 [00:21<00:00, 48.47it/s]\n",
      "val epoch: 100%|██████████| 129/129.0 [00:01<00:00, 98.69it/s] \n",
      "train epoch: 100%|██████████| 1029/1029.0 [00:20<00:00, 49.83it/s]\n",
      "val epoch: 100%|██████████| 129/129.0 [00:01<00:00, 115.15it/s]\n",
      "train epoch: 100%|██████████| 1029/1029.0 [00:17<00:00, 58.07it/s]\n",
      "val epoch: 100%|██████████| 129/129.0 [00:00<00:00, 133.54it/s]\n",
      "train epoch: 100%|██████████| 1029/1029.0 [00:16<00:00, 60.70it/s]\n",
      "val epoch: 100%|██████████| 129/129.0 [00:00<00:00, 133.62it/s]\n",
      "train epoch: 100%|██████████| 1029/1029.0 [00:17<00:00, 60.07it/s]\n",
      "val epoch: 100%|██████████| 129/129.0 [00:00<00:00, 141.31it/s]\n"
     ]
    },
    {
     "data": {
      "text/html": [
       "\n",
       "    <style>\n",
       "        .wandb-row {\n",
       "            display: flex;\n",
       "            flex-direction: row;\n",
       "            flex-wrap: wrap;\n",
       "            justify-content: flex-start;\n",
       "            width: 100%;\n",
       "        }\n",
       "        .wandb-col {\n",
       "            display: flex;\n",
       "            flex-direction: column;\n",
       "            flex-basis: 100%;\n",
       "            flex: 1;\n",
       "            padding: 10px;\n",
       "        }\n",
       "    </style>\n",
       "<div class=\"wandb-row\"><div class=\"wandb-col\"><h3>Run history:</h3><br/><table class=\"wandb\"><tr><td>train/Accuracy</td><td>▂▂▅▁▁█▆▃</td></tr><tr><td>train/F1</td><td>▁▁▁▁▁▁▁▁</td></tr><tr><td>train/Precision</td><td>▁▁▁▁▁▁▁▁</td></tr><tr><td>train/Recall</td><td>▁▁▁▁▁▁▁▁</td></tr><tr><td>train/loss</td><td>▂▄▁▄▃▄▂█</td></tr><tr><td>validation/Accuracy</td><td>▁▁▁▁▁▁▁▁</td></tr><tr><td>validation/F1</td><td>▁▁▁▁▁▁▁▁</td></tr><tr><td>validation/Precision</td><td>▁▁▁▁▁▁▁▁</td></tr><tr><td>validation/Recall</td><td>▁▁▁▁▁▁▁▁</td></tr><tr><td>validation/loss</td><td>█▂▁▄▂▅▁▅</td></tr></table><br/></div><div class=\"wandb-col\"><h3>Run summary:</h3><br/><table class=\"wandb\"><tr><td>train/Accuracy</td><td>0.4982</td></tr><tr><td>train/F1</td><td>0</td></tr><tr><td>train/Precision</td><td>0</td></tr><tr><td>train/Recall</td><td>0</td></tr><tr><td>train/loss</td><td>0.78306</td></tr><tr><td>validation/Accuracy</td><td>0.9684</td></tr><tr><td>validation/F1</td><td>0</td></tr><tr><td>validation/Precision</td><td>0</td></tr><tr><td>validation/Recall</td><td>0</td></tr><tr><td>validation/loss</td><td>0.56947</td></tr></table><br/></div></div>"
      ],
      "text/plain": [
       "<IPython.core.display.HTML object>"
      ]
     },
     "metadata": {},
     "output_type": "display_data"
    },
    {
     "data": {
      "text/html": [
       " View run <strong style=\"color:#cdcd00\">HIV ChemAttention 3-64, sampling</strong> at: <a href='https://wandb.ai/cus-tibor-none/ToxicML/runs/t3sqxed1' target=\"_blank\">https://wandb.ai/cus-tibor-none/ToxicML/runs/t3sqxed1</a><br/> View project at: <a href='https://wandb.ai/cus-tibor-none/ToxicML' target=\"_blank\">https://wandb.ai/cus-tibor-none/ToxicML</a><br/>Synced 5 W&B file(s), 0 media file(s), 2 artifact file(s) and 1 other file(s)"
      ],
      "text/plain": [
       "<IPython.core.display.HTML object>"
      ]
     },
     "metadata": {},
     "output_type": "display_data"
    },
    {
     "data": {
      "text/html": [
       "Find logs at: <code>./wandb/run-20241207_173142-t3sqxed1/logs</code>"
      ],
      "text/plain": [
       "<IPython.core.display.HTML object>"
      ]
     },
     "metadata": {},
     "output_type": "display_data"
    }
   ],
   "source": [
    "model = ChemAttention(3, 9, 128, 2)\n",
    "optimizer = torch.optim.Adam(model.parameters())\n",
    "lr_scheduler = torch.optim.lr_scheduler.ExponentialLR(optimizer, gamma = 0.09)\n",
    "loss_fn = torch.nn.CrossEntropyLoss()\n",
    "sampler = ImbalancedSampler(train) \n",
    "device = torch.device('cuda' if torch.cuda.is_available() else 'cpu')\n",
    "\n",
    "trainer = GenericClassificationTrainer(\n",
    "    model,\n",
    "    optimizer,\n",
    "    loss_fn,\n",
    "    lr_scheduler,\n",
    "    train_metrics,\n",
    "    validation_metrics,\n",
    "    train,\n",
    "    validation,\n",
    "    test,\n",
    "    device,\n",
    "    sampler,\n",
    "    EPOCHS,\n",
    "    None,\n",
    "    32\n",
    ")\n",
    "\n",
    "trainer.train(\"HIV ChemAttention 3-64, sampling\")"
   ]
  },
  {
   "cell_type": "code",
   "execution_count": 19,
   "metadata": {},
   "outputs": [
    {
     "name": "stderr",
     "output_type": "stream",
     "text": [
      "/home/tibor/Documents/msc-datascience/2024w/Toxic/ToxicML/.venv/lib/python3.12/site-packages/torch_geometric/deprecation.py:26: UserWarning: 'data.DataLoader' is deprecated, use 'loader.DataLoader' instead\n",
      "  warnings.warn(out)\n"
     ]
    },
    {
     "data": {
      "text/html": [
       "Tracking run with wandb version 0.18.7"
      ],
      "text/plain": [
       "<IPython.core.display.HTML object>"
      ]
     },
     "metadata": {},
     "output_type": "display_data"
    },
    {
     "data": {
      "text/html": [
       "Run data is saved locally in <code>/home/tibor/Documents/msc-datascience/2024w/Toxic/ToxicML/ToxicMl/wandb/run-20241207_173435-z8bn6bxc</code>"
      ],
      "text/plain": [
       "<IPython.core.display.HTML object>"
      ]
     },
     "metadata": {},
     "output_type": "display_data"
    },
    {
     "data": {
      "text/html": [
       "Syncing run <strong><a href='https://wandb.ai/cus-tibor-none/ToxicML/runs/z8bn6bxc' target=\"_blank\">HIV ChemAttention 5-32, sampling</a></strong> to <a href='https://wandb.ai/cus-tibor-none/ToxicML' target=\"_blank\">Weights & Biases</a> (<a href='https://wandb.me/developer-guide' target=\"_blank\">docs</a>)<br/>"
      ],
      "text/plain": [
       "<IPython.core.display.HTML object>"
      ]
     },
     "metadata": {},
     "output_type": "display_data"
    },
    {
     "data": {
      "text/html": [
       " View project at <a href='https://wandb.ai/cus-tibor-none/ToxicML' target=\"_blank\">https://wandb.ai/cus-tibor-none/ToxicML</a>"
      ],
      "text/plain": [
       "<IPython.core.display.HTML object>"
      ]
     },
     "metadata": {},
     "output_type": "display_data"
    },
    {
     "data": {
      "text/html": [
       " View run at <a href='https://wandb.ai/cus-tibor-none/ToxicML/runs/z8bn6bxc' target=\"_blank\">https://wandb.ai/cus-tibor-none/ToxicML/runs/z8bn6bxc</a>"
      ],
      "text/plain": [
       "<IPython.core.display.HTML object>"
      ]
     },
     "metadata": {},
     "output_type": "display_data"
    },
    {
     "name": "stderr",
     "output_type": "stream",
     "text": [
      "train epoch: 100%|██████████| 1029/1029.0 [00:14<00:00, 72.08it/s]\n",
      "val epoch: 100%|██████████| 129/129.0 [00:00<00:00, 140.56it/s]\n",
      "train epoch: 100%|██████████| 1029/1029.0 [00:15<00:00, 65.11it/s]\n",
      "val epoch: 100%|██████████| 129/129.0 [00:00<00:00, 145.75it/s]\n",
      "train epoch: 100%|██████████| 1029/1029.0 [00:15<00:00, 65.33it/s]\n",
      "val epoch: 100%|██████████| 129/129.0 [00:00<00:00, 145.89it/s]\n",
      "train epoch: 100%|██████████| 1029/1029.0 [00:15<00:00, 65.52it/s]\n",
      "val epoch: 100%|██████████| 129/129.0 [00:00<00:00, 144.86it/s]\n",
      "train epoch: 100%|██████████| 1029/1029.0 [00:15<00:00, 65.36it/s]\n",
      "val epoch: 100%|██████████| 129/129.0 [00:00<00:00, 139.24it/s]\n",
      "train epoch: 100%|██████████| 1029/1029.0 [00:15<00:00, 65.65it/s]\n",
      "val epoch: 100%|██████████| 129/129.0 [00:00<00:00, 142.85it/s]\n",
      "train epoch: 100%|██████████| 1029/1029.0 [00:15<00:00, 65.44it/s]\n",
      "val epoch: 100%|██████████| 129/129.0 [00:00<00:00, 148.18it/s]\n",
      "train epoch: 100%|██████████| 1029/1029.0 [00:15<00:00, 65.55it/s]\n",
      "val epoch: 100%|██████████| 129/129.0 [00:00<00:00, 146.90it/s]\n"
     ]
    },
    {
     "data": {
      "text/html": [
       "\n",
       "    <style>\n",
       "        .wandb-row {\n",
       "            display: flex;\n",
       "            flex-direction: row;\n",
       "            flex-wrap: wrap;\n",
       "            justify-content: flex-start;\n",
       "            width: 100%;\n",
       "        }\n",
       "        .wandb-col {\n",
       "            display: flex;\n",
       "            flex-direction: column;\n",
       "            flex-basis: 100%;\n",
       "            flex: 1;\n",
       "            padding: 10px;\n",
       "        }\n",
       "    </style>\n",
       "<div class=\"wandb-row\"><div class=\"wandb-col\"><h3>Run history:</h3><br/><table class=\"wandb\"><tr><td>train/Accuracy</td><td>▁▇▇▇▅▆▆█</td></tr><tr><td>train/F1</td><td>▁▆▇█▃▆▆█</td></tr><tr><td>train/Precision</td><td>▄▃▇█▁▆▆▇</td></tr><tr><td>train/Recall</td><td>▁█▇▇▅▅▆█</td></tr><tr><td>train/loss</td><td>█▁▇▇▃▆▇▆</td></tr><tr><td>validation/Accuracy</td><td>▄██▅▆▂▅▁</td></tr><tr><td>validation/F1</td><td>▂██▁▅▇▆▇</td></tr><tr><td>validation/Precision</td><td>▂▂▁▁▂▆▃█</td></tr><tr><td>validation/Recall</td><td>▁██▁▅▅▅▅</td></tr><tr><td>validation/loss</td><td>▆▃▇▄▆▁▆█</td></tr></table><br/></div><div class=\"wandb-col\"><h3>Run summary:</h3><br/><table class=\"wandb\"><tr><td>train/Accuracy</td><td>0.6011</td></tr><tr><td>train/F1</td><td>0.55754</td></tr><tr><td>train/Precision</td><td>0.50381</td></tr><tr><td>train/Recall</td><td>0.62409</td></tr><tr><td>train/loss</td><td>0.73716</td></tr><tr><td>validation/Accuracy</td><td>0.7481</td></tr><tr><td>validation/F1</td><td>0.11301</td></tr><tr><td>validation/Precision</td><td>0.50769</td></tr><tr><td>validation/Recall</td><td>0.06358</td></tr><tr><td>validation/loss</td><td>0.66638</td></tr></table><br/></div></div>"
      ],
      "text/plain": [
       "<IPython.core.display.HTML object>"
      ]
     },
     "metadata": {},
     "output_type": "display_data"
    },
    {
     "data": {
      "text/html": [
       " View run <strong style=\"color:#cdcd00\">HIV ChemAttention 5-32, sampling</strong> at: <a href='https://wandb.ai/cus-tibor-none/ToxicML/runs/z8bn6bxc' target=\"_blank\">https://wandb.ai/cus-tibor-none/ToxicML/runs/z8bn6bxc</a><br/> View project at: <a href='https://wandb.ai/cus-tibor-none/ToxicML' target=\"_blank\">https://wandb.ai/cus-tibor-none/ToxicML</a><br/>Synced 5 W&B file(s), 0 media file(s), 2 artifact file(s) and 1 other file(s)"
      ],
      "text/plain": [
       "<IPython.core.display.HTML object>"
      ]
     },
     "metadata": {},
     "output_type": "display_data"
    },
    {
     "data": {
      "text/html": [
       "Find logs at: <code>./wandb/run-20241207_173435-z8bn6bxc/logs</code>"
      ],
      "text/plain": [
       "<IPython.core.display.HTML object>"
      ]
     },
     "metadata": {},
     "output_type": "display_data"
    }
   ],
   "source": [
    "model = ChemAttention(5, 9, 32, 2)\n",
    "optimizer = torch.optim.Adam(model.parameters())\n",
    "lr_scheduler = torch.optim.lr_scheduler.ExponentialLR(optimizer, gamma = 0.09)\n",
    "loss_fn = torch.nn.CrossEntropyLoss()\n",
    "sampler = ImbalancedSampler(train) \n",
    "device = torch.device('cuda' if torch.cuda.is_available() else 'cpu')\n",
    "\n",
    "trainer = GenericClassificationTrainer(\n",
    "    model,\n",
    "    optimizer,\n",
    "    loss_fn,\n",
    "    lr_scheduler,\n",
    "    train_metrics,\n",
    "    validation_metrics,\n",
    "    train,\n",
    "    validation,\n",
    "    test,\n",
    "    device,\n",
    "    sampler,\n",
    "    EPOCHS,\n",
    "    None,\n",
    "    32\n",
    ")\n",
    "\n",
    "trainer.train(\"HIV ChemAttention 5-32, sampling\")"
   ]
  },
  {
   "cell_type": "code",
   "execution_count": 20,
   "metadata": {},
   "outputs": [
    {
     "name": "stderr",
     "output_type": "stream",
     "text": [
      "/home/tibor/Documents/msc-datascience/2024w/Toxic/ToxicML/.venv/lib/python3.12/site-packages/torch_geometric/deprecation.py:26: UserWarning: 'data.DataLoader' is deprecated, use 'loader.DataLoader' instead\n",
      "  warnings.warn(out)\n"
     ]
    },
    {
     "data": {
      "text/html": [
       "Tracking run with wandb version 0.18.7"
      ],
      "text/plain": [
       "<IPython.core.display.HTML object>"
      ]
     },
     "metadata": {},
     "output_type": "display_data"
    },
    {
     "data": {
      "text/html": [
       "Run data is saved locally in <code>/home/tibor/Documents/msc-datascience/2024w/Toxic/ToxicML/ToxicMl/wandb/run-20241207_173654-xt5fk980</code>"
      ],
      "text/plain": [
       "<IPython.core.display.HTML object>"
      ]
     },
     "metadata": {},
     "output_type": "display_data"
    },
    {
     "data": {
      "text/html": [
       "Syncing run <strong><a href='https://wandb.ai/cus-tibor-none/ToxicML/runs/xt5fk980' target=\"_blank\">HIV ChemAttention 5-64, sampling</a></strong> to <a href='https://wandb.ai/cus-tibor-none/ToxicML' target=\"_blank\">Weights & Biases</a> (<a href='https://wandb.me/developer-guide' target=\"_blank\">docs</a>)<br/>"
      ],
      "text/plain": [
       "<IPython.core.display.HTML object>"
      ]
     },
     "metadata": {},
     "output_type": "display_data"
    },
    {
     "data": {
      "text/html": [
       " View project at <a href='https://wandb.ai/cus-tibor-none/ToxicML' target=\"_blank\">https://wandb.ai/cus-tibor-none/ToxicML</a>"
      ],
      "text/plain": [
       "<IPython.core.display.HTML object>"
      ]
     },
     "metadata": {},
     "output_type": "display_data"
    },
    {
     "data": {
      "text/html": [
       " View run at <a href='https://wandb.ai/cus-tibor-none/ToxicML/runs/xt5fk980' target=\"_blank\">https://wandb.ai/cus-tibor-none/ToxicML/runs/xt5fk980</a>"
      ],
      "text/plain": [
       "<IPython.core.display.HTML object>"
      ]
     },
     "metadata": {},
     "output_type": "display_data"
    },
    {
     "name": "stderr",
     "output_type": "stream",
     "text": [
      "train epoch: 100%|██████████| 1029/1029.0 [00:17<00:00, 58.48it/s]\n",
      "val epoch: 100%|██████████| 129/129.0 [00:00<00:00, 131.65it/s]\n",
      "train epoch: 100%|██████████| 1029/1029.0 [00:19<00:00, 53.89it/s]\n",
      "val epoch: 100%|██████████| 129/129.0 [00:00<00:00, 131.19it/s]\n",
      "train epoch: 100%|██████████| 1029/1029.0 [00:19<00:00, 54.04it/s]\n",
      "val epoch: 100%|██████████| 129/129.0 [00:01<00:00, 127.46it/s]\n",
      "train epoch: 100%|██████████| 1029/1029.0 [00:18<00:00, 54.57it/s]\n",
      "val epoch: 100%|██████████| 129/129.0 [00:01<00:00, 127.25it/s]\n",
      "train epoch: 100%|██████████| 1029/1029.0 [00:18<00:00, 54.59it/s]\n",
      "val epoch: 100%|██████████| 129/129.0 [00:01<00:00, 123.10it/s]\n",
      "train epoch: 100%|██████████| 1029/1029.0 [00:18<00:00, 54.66it/s]\n",
      "val epoch: 100%|██████████| 129/129.0 [00:00<00:00, 130.79it/s]\n",
      "train epoch: 100%|██████████| 1029/1029.0 [00:18<00:00, 54.86it/s]\n",
      "val epoch: 100%|██████████| 129/129.0 [00:01<00:00, 124.66it/s]\n",
      "train epoch: 100%|██████████| 1029/1029.0 [00:18<00:00, 54.18it/s]\n",
      "val epoch: 100%|██████████| 129/129.0 [00:01<00:00, 125.34it/s]\n"
     ]
    },
    {
     "data": {
      "text/html": [
       "\n",
       "    <style>\n",
       "        .wandb-row {\n",
       "            display: flex;\n",
       "            flex-direction: row;\n",
       "            flex-wrap: wrap;\n",
       "            justify-content: flex-start;\n",
       "            width: 100%;\n",
       "        }\n",
       "        .wandb-col {\n",
       "            display: flex;\n",
       "            flex-direction: column;\n",
       "            flex-basis: 100%;\n",
       "            flex: 1;\n",
       "            padding: 10px;\n",
       "        }\n",
       "    </style>\n",
       "<div class=\"wandb-row\"><div class=\"wandb-col\"><h3>Run history:</h3><br/><table class=\"wandb\"><tr><td>train/Accuracy</td><td>▁▇█▇▇██▇</td></tr><tr><td>train/F1</td><td>▁█▇▆▇▇▇▇</td></tr><tr><td>train/Precision</td><td>▁█▆▅▅▆▆▆</td></tr><tr><td>train/Recall</td><td>▁▆▇▆██▇█</td></tr><tr><td>train/loss</td><td>▅▃▁▂█▂▃▃</td></tr><tr><td>validation/Accuracy</td><td>▄▁▇▃█▄▃▅</td></tr><tr><td>validation/F1</td><td>▂▁▅▃█▂▃▅</td></tr><tr><td>validation/Precision</td><td>▃█▁▇▃▅▇▅</td></tr><tr><td>validation/Recall</td><td>▃▁▅▃█▂▃▅</td></tr><tr><td>validation/loss</td><td>▄▄▃▄▄▃█▁</td></tr></table><br/></div><div class=\"wandb-col\"><h3>Run summary:</h3><br/><table class=\"wandb\"><tr><td>train/Accuracy</td><td>0.614</td></tr><tr><td>train/F1</td><td>0.59874</td></tr><tr><td>train/Precision</td><td>0.57161</td></tr><tr><td>train/Recall</td><td>0.62857</td></tr><tr><td>train/loss</td><td>0.69661</td></tr><tr><td>validation/Accuracy</td><td>0.7785</td></tr><tr><td>validation/F1</td><td>0.11295</td></tr><tr><td>validation/Precision</td><td>0.44615</td></tr><tr><td>validation/Recall</td><td>0.06466</td></tr><tr><td>validation/loss</td><td>0.49327</td></tr></table><br/></div></div>"
      ],
      "text/plain": [
       "<IPython.core.display.HTML object>"
      ]
     },
     "metadata": {},
     "output_type": "display_data"
    },
    {
     "data": {
      "text/html": [
       " View run <strong style=\"color:#cdcd00\">HIV ChemAttention 5-64, sampling</strong> at: <a href='https://wandb.ai/cus-tibor-none/ToxicML/runs/xt5fk980' target=\"_blank\">https://wandb.ai/cus-tibor-none/ToxicML/runs/xt5fk980</a><br/> View project at: <a href='https://wandb.ai/cus-tibor-none/ToxicML' target=\"_blank\">https://wandb.ai/cus-tibor-none/ToxicML</a><br/>Synced 5 W&B file(s), 0 media file(s), 2 artifact file(s) and 1 other file(s)"
      ],
      "text/plain": [
       "<IPython.core.display.HTML object>"
      ]
     },
     "metadata": {},
     "output_type": "display_data"
    },
    {
     "data": {
      "text/html": [
       "Find logs at: <code>./wandb/run-20241207_173654-xt5fk980/logs</code>"
      ],
      "text/plain": [
       "<IPython.core.display.HTML object>"
      ]
     },
     "metadata": {},
     "output_type": "display_data"
    }
   ],
   "source": [
    "model = ChemAttention(5, 9, 64, 2)\n",
    "optimizer = torch.optim.Adam(model.parameters())\n",
    "lr_scheduler = torch.optim.lr_scheduler.ExponentialLR(optimizer, gamma = 0.09)\n",
    "loss_fn = torch.nn.CrossEntropyLoss()\n",
    "sampler = ImbalancedSampler(train) \n",
    "device = torch.device('cuda' if torch.cuda.is_available() else 'cpu')\n",
    "\n",
    "trainer = GenericClassificationTrainer(\n",
    "    model,\n",
    "    optimizer,\n",
    "    loss_fn,\n",
    "    lr_scheduler,\n",
    "    train_metrics,\n",
    "    validation_metrics,\n",
    "    train,\n",
    "    validation,\n",
    "    test,\n",
    "    device,\n",
    "    sampler,\n",
    "    EPOCHS,\n",
    "    None,\n",
    "    32\n",
    ")\n",
    "\n",
    "trainer.train(\"HIV ChemAttention 5-64, sampling\")\n"
   ]
  },
  {
   "cell_type": "code",
   "execution_count": 21,
   "metadata": {},
   "outputs": [
    {
     "name": "stderr",
     "output_type": "stream",
     "text": [
      "/home/tibor/Documents/msc-datascience/2024w/Toxic/ToxicML/.venv/lib/python3.12/site-packages/torch_geometric/deprecation.py:26: UserWarning: 'data.DataLoader' is deprecated, use 'loader.DataLoader' instead\n",
      "  warnings.warn(out)\n"
     ]
    },
    {
     "data": {
      "text/html": [
       "Tracking run with wandb version 0.18.7"
      ],
      "text/plain": [
       "<IPython.core.display.HTML object>"
      ]
     },
     "metadata": {},
     "output_type": "display_data"
    },
    {
     "data": {
      "text/html": [
       "Run data is saved locally in <code>/home/tibor/Documents/msc-datascience/2024w/Toxic/ToxicML/ToxicMl/wandb/run-20241207_173939-xnsjhx6n</code>"
      ],
      "text/plain": [
       "<IPython.core.display.HTML object>"
      ]
     },
     "metadata": {},
     "output_type": "display_data"
    },
    {
     "data": {
      "text/html": [
       "Syncing run <strong><a href='https://wandb.ai/cus-tibor-none/ToxicML/runs/xnsjhx6n' target=\"_blank\">HIV ChemAttention 5-128, sampling</a></strong> to <a href='https://wandb.ai/cus-tibor-none/ToxicML' target=\"_blank\">Weights & Biases</a> (<a href='https://wandb.me/developer-guide' target=\"_blank\">docs</a>)<br/>"
      ],
      "text/plain": [
       "<IPython.core.display.HTML object>"
      ]
     },
     "metadata": {},
     "output_type": "display_data"
    },
    {
     "data": {
      "text/html": [
       " View project at <a href='https://wandb.ai/cus-tibor-none/ToxicML' target=\"_blank\">https://wandb.ai/cus-tibor-none/ToxicML</a>"
      ],
      "text/plain": [
       "<IPython.core.display.HTML object>"
      ]
     },
     "metadata": {},
     "output_type": "display_data"
    },
    {
     "data": {
      "text/html": [
       " View run at <a href='https://wandb.ai/cus-tibor-none/ToxicML/runs/xnsjhx6n' target=\"_blank\">https://wandb.ai/cus-tibor-none/ToxicML/runs/xnsjhx6n</a>"
      ],
      "text/plain": [
       "<IPython.core.display.HTML object>"
      ]
     },
     "metadata": {},
     "output_type": "display_data"
    },
    {
     "name": "stderr",
     "output_type": "stream",
     "text": [
      "train epoch: 100%|██████████| 1029/1029.0 [00:25<00:00, 40.49it/s]\n",
      "val epoch: 100%|██████████| 129/129.0 [00:01<00:00, 96.62it/s]\n",
      "train epoch: 100%|██████████| 1029/1029.0 [00:26<00:00, 38.86it/s]\n",
      "val epoch: 100%|██████████| 129/129.0 [00:01<00:00, 97.71it/s]\n",
      "train epoch: 100%|██████████| 1029/1029.0 [00:30<00:00, 33.70it/s]\n",
      "val epoch: 100%|██████████| 129/129.0 [00:02<00:00, 59.23it/s]\n",
      "train epoch: 100%|██████████| 1029/1029.0 [00:35<00:00, 29.37it/s]\n",
      "val epoch: 100%|██████████| 129/129.0 [00:01<00:00, 67.51it/s]\n",
      "train epoch: 100%|██████████| 1029/1029.0 [00:34<00:00, 29.66it/s]\n",
      "val epoch: 100%|██████████| 129/129.0 [00:01<00:00, 73.51it/s]\n",
      "train epoch: 100%|██████████| 1029/1029.0 [00:34<00:00, 30.24it/s]\n",
      "val epoch: 100%|██████████| 129/129.0 [00:01<00:00, 71.55it/s]\n",
      "train epoch: 100%|██████████| 1029/1029.0 [00:34<00:00, 30.04it/s]\n",
      "val epoch: 100%|██████████| 129/129.0 [00:01<00:00, 76.57it/s]\n",
      "train epoch: 100%|██████████| 1029/1029.0 [00:31<00:00, 32.72it/s]\n",
      "val epoch: 100%|██████████| 129/129.0 [00:01<00:00, 79.25it/s]\n"
     ]
    },
    {
     "data": {
      "text/html": [
       "\n",
       "    <style>\n",
       "        .wandb-row {\n",
       "            display: flex;\n",
       "            flex-direction: row;\n",
       "            flex-wrap: wrap;\n",
       "            justify-content: flex-start;\n",
       "            width: 100%;\n",
       "        }\n",
       "        .wandb-col {\n",
       "            display: flex;\n",
       "            flex-direction: column;\n",
       "            flex-basis: 100%;\n",
       "            flex: 1;\n",
       "            padding: 10px;\n",
       "        }\n",
       "    </style>\n",
       "<div class=\"wandb-row\"><div class=\"wandb-col\"><h3>Run history:</h3><br/><table class=\"wandb\"><tr><td>train/Accuracy</td><td>▁▆▇█▇█▇█</td></tr><tr><td>train/F1</td><td>▁█▆▇▆▇▇▇</td></tr><tr><td>train/Precision</td><td>▁█▂▅▂▃▃▃</td></tr><tr><td>train/Recall</td><td>▁▆▇▇▆███</td></tr><tr><td>train/loss</td><td>▂▅▆█▁▂▃▃</td></tr><tr><td>validation/Accuracy</td><td>▄▅▂▁▅▅█▄</td></tr><tr><td>validation/F1</td><td>▅▄▁▃▄█▇▅</td></tr><tr><td>validation/Precision</td><td>▆▃▃█▃▇▁▆</td></tr><tr><td>validation/Recall</td><td>▅▄▁▂▅██▅</td></tr><tr><td>validation/loss</td><td>▁▃▅██▃▃▄</td></tr></table><br/></div><div class=\"wandb-col\"><h3>Run summary:</h3><br/><table class=\"wandb\"><tr><td>train/Accuracy</td><td>0.6253</td></tr><tr><td>train/F1</td><td>0.58435</td></tr><tr><td>train/Precision</td><td>0.52319</td></tr><tr><td>train/Recall</td><td>0.6617</td></tr><tr><td>train/loss</td><td>0.62656</td></tr><tr><td>validation/Accuracy</td><td>0.7877</td></tr><tr><td>validation/F1</td><td>0.1119</td></tr><tr><td>validation/Precision</td><td>0.42308</td></tr><tr><td>validation/Recall</td><td>0.06448</td></tr><tr><td>validation/loss</td><td>0.58619</td></tr></table><br/></div></div>"
      ],
      "text/plain": [
       "<IPython.core.display.HTML object>"
      ]
     },
     "metadata": {},
     "output_type": "display_data"
    },
    {
     "data": {
      "text/html": [
       " View run <strong style=\"color:#cdcd00\">HIV ChemAttention 5-128, sampling</strong> at: <a href='https://wandb.ai/cus-tibor-none/ToxicML/runs/xnsjhx6n' target=\"_blank\">https://wandb.ai/cus-tibor-none/ToxicML/runs/xnsjhx6n</a><br/> View project at: <a href='https://wandb.ai/cus-tibor-none/ToxicML' target=\"_blank\">https://wandb.ai/cus-tibor-none/ToxicML</a><br/>Synced 5 W&B file(s), 0 media file(s), 2 artifact file(s) and 1 other file(s)"
      ],
      "text/plain": [
       "<IPython.core.display.HTML object>"
      ]
     },
     "metadata": {},
     "output_type": "display_data"
    },
    {
     "data": {
      "text/html": [
       "Find logs at: <code>./wandb/run-20241207_173939-xnsjhx6n/logs</code>"
      ],
      "text/plain": [
       "<IPython.core.display.HTML object>"
      ]
     },
     "metadata": {},
     "output_type": "display_data"
    }
   ],
   "source": [
    "model = ChemAttention(5, 9, 128, 2)\n",
    "optimizer = torch.optim.Adam(model.parameters())\n",
    "lr_scheduler = torch.optim.lr_scheduler.ExponentialLR(optimizer, gamma = 0.09)\n",
    "loss_fn = torch.nn.CrossEntropyLoss()\n",
    "sampler = ImbalancedSampler(train) \n",
    "device = torch.device('cuda' if torch.cuda.is_available() else 'cpu')\n",
    "\n",
    "trainer = GenericClassificationTrainer(\n",
    "    model,\n",
    "    optimizer,\n",
    "    loss_fn,\n",
    "    lr_scheduler,\n",
    "    train_metrics,\n",
    "    validation_metrics,\n",
    "    train,\n",
    "    validation,\n",
    "    test,\n",
    "    device,\n",
    "    sampler,\n",
    "    EPOCHS,\n",
    "    None,\n",
    "    32\n",
    ")\n",
    "\n",
    "trainer.train(\"HIV ChemAttention 5-128, sampling\")"
   ]
  },
  {
   "cell_type": "code",
   "execution_count": null,
   "metadata": {},
   "outputs": [],
   "source": []
  }
 ],
 "metadata": {
  "kernelspec": {
   "display_name": ".venv",
   "language": "python",
   "name": "python3"
  },
  "language_info": {
   "codemirror_mode": {
    "name": "ipython",
    "version": 3
   },
   "file_extension": ".py",
   "mimetype": "text/x-python",
   "name": "python",
   "nbconvert_exporter": "python",
   "pygments_lexer": "ipython3",
   "version": "3.12.7"
  }
 },
 "nbformat": 4,
 "nbformat_minor": 2
}
