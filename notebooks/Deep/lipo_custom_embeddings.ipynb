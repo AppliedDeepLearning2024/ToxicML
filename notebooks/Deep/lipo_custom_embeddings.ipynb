{
 "cells": [
  {
   "cell_type": "code",
   "execution_count": 1,
   "metadata": {},
   "outputs": [],
   "source": [
    "from ToxicMl.trainer import GenericRegressionTrainer\n",
    "from ToxicMl.metrics import MAE, MSE, MaxError\n",
    "\n",
    "import torch\n",
    "from ToxicMl.dataset import LipoDataset\n",
    "\n",
    "import torch\n",
    "from pathlib import Path\n",
    "\n",
    "root = Path(\"dataset/ogbg_mollipo_custom\")\n",
    "EPOCHS = 8"
   ]
  },
  {
   "cell_type": "code",
   "execution_count": 2,
   "metadata": {},
   "outputs": [],
   "source": [
    "dataset = LipoDataset(root)\n",
    "split_idx = dataset.get_idx_split() \n",
    "train = dataset[split_idx[\"train\"]]\n",
    "validation = dataset[split_idx[\"valid\"]]\n",
    "test = dataset[split_idx[\"test\"]]\n",
    "\n",
    "train_metrics = [MAE(), MSE(), MaxError()]\n",
    "validation_metrics = [MAE(), MSE(), MaxError()]\n",
    "EPOCHS = 10"
   ]
  },
  {
   "cell_type": "code",
   "execution_count": 3,
   "metadata": {},
   "outputs": [
    {
     "name": "stderr",
     "output_type": "stream",
     "text": [
      "/home/tibor/Documents/msc-datascience/2024w/Toxic/ToxicML/.venv/lib/python3.12/site-packages/torch_geometric/deprecation.py:26: UserWarning: 'data.DataLoader' is deprecated, use 'loader.DataLoader' instead\n",
      "  warnings.warn(out)\n",
      "\u001b[34m\u001b[1mwandb\u001b[0m: Using wandb-core as the SDK backend.  Please refer to https://wandb.me/wandb-core for more information.\n",
      "\u001b[34m\u001b[1mwandb\u001b[0m: Currently logged in as: \u001b[33mcus-tibor\u001b[0m (\u001b[33mcus-tibor-none\u001b[0m). Use \u001b[1m`wandb login --relogin`\u001b[0m to force relogin\n"
     ]
    },
    {
     "data": {
      "text/html": [
       "Tracking run with wandb version 0.18.7"
      ],
      "text/plain": [
       "<IPython.core.display.HTML object>"
      ]
     },
     "metadata": {},
     "output_type": "display_data"
    },
    {
     "data": {
      "text/html": [
       "Run data is saved locally in <code>/home/tibor/Documents/msc-datascience/2024w/Toxic/ToxicML/ToxicMl/wandb/run-20241208_135804-yaljs5xg</code>"
      ],
      "text/plain": [
       "<IPython.core.display.HTML object>"
      ]
     },
     "metadata": {},
     "output_type": "display_data"
    },
    {
     "data": {
      "text/html": [
       "Syncing run <strong><a href='https://wandb.ai/cus-tibor-none/ToxicML/runs/yaljs5xg' target=\"_blank\">LIPO GCN 3-16, custom dataset</a></strong> to <a href='https://wandb.ai/cus-tibor-none/ToxicML' target=\"_blank\">Weights & Biases</a> (<a href='https://wandb.me/developer-guide' target=\"_blank\">docs</a>)<br/>"
      ],
      "text/plain": [
       "<IPython.core.display.HTML object>"
      ]
     },
     "metadata": {},
     "output_type": "display_data"
    },
    {
     "data": {
      "text/html": [
       " View project at <a href='https://wandb.ai/cus-tibor-none/ToxicML' target=\"_blank\">https://wandb.ai/cus-tibor-none/ToxicML</a>"
      ],
      "text/plain": [
       "<IPython.core.display.HTML object>"
      ]
     },
     "metadata": {},
     "output_type": "display_data"
    },
    {
     "data": {
      "text/html": [
       " View run at <a href='https://wandb.ai/cus-tibor-none/ToxicML/runs/yaljs5xg' target=\"_blank\">https://wandb.ai/cus-tibor-none/ToxicML/runs/yaljs5xg</a>"
      ],
      "text/plain": [
       "<IPython.core.display.HTML object>"
      ]
     },
     "metadata": {},
     "output_type": "display_data"
    },
    {
     "name": "stderr",
     "output_type": "stream",
     "text": [
      "train epoch:   0%|          | 0/105.0 [00:00<?, ?it/s]/home/tibor/Documents/msc-datascience/2024w/Toxic/ToxicML/.venv/lib/python3.12/site-packages/torch/nn/modules/loss.py:608: UserWarning: Using a target size (torch.Size([32])) that is different to the input size (torch.Size([32, 1])). This will likely lead to incorrect results due to broadcasting. Please ensure they have the same size.\n",
      "  return F.mse_loss(input, target, reduction=self.reduction)\n",
      "train epoch: 100%|██████████| 105/105.0 [00:01<00:00, 66.96it/s]\n",
      "val epoch:  79%|███████▊  | 11/14.0 [00:00<00:00, 108.41it/s]/home/tibor/Documents/msc-datascience/2024w/Toxic/ToxicML/.venv/lib/python3.12/site-packages/torch/nn/modules/loss.py:608: UserWarning: Using a target size (torch.Size([4])) that is different to the input size (torch.Size([4, 1])). This will likely lead to incorrect results due to broadcasting. Please ensure they have the same size.\n",
      "  return F.mse_loss(input, target, reduction=self.reduction)\n",
      "val epoch: 100%|██████████| 14/14.0 [00:00<00:00, 110.28it/s]\n",
      "train epoch: 100%|██████████| 105/105.0 [00:00<00:00, 107.96it/s]\n",
      "val epoch: 100%|██████████| 14/14.0 [00:00<00:00, 146.19it/s]\n",
      "train epoch: 100%|██████████| 105/105.0 [00:00<00:00, 111.30it/s]\n",
      "val epoch: 100%|██████████| 14/14.0 [00:00<00:00, 201.05it/s]\n",
      "train epoch: 100%|██████████| 105/105.0 [00:00<00:00, 113.63it/s]\n",
      "val epoch: 100%|██████████| 14/14.0 [00:00<00:00, 222.96it/s]\n",
      "train epoch: 100%|██████████| 105/105.0 [00:00<00:00, 111.27it/s]\n",
      "val epoch: 100%|██████████| 14/14.0 [00:00<00:00, 174.78it/s]\n",
      "train epoch: 100%|██████████| 105/105.0 [00:01<00:00, 104.82it/s]\n",
      "val epoch: 100%|██████████| 14/14.0 [00:00<00:00, 172.50it/s]\n",
      "train epoch: 100%|██████████| 105/105.0 [00:01<00:00, 84.10it/s]\n",
      "val epoch: 100%|██████████| 14/14.0 [00:00<00:00, 153.37it/s]\n",
      "train epoch: 100%|██████████| 105/105.0 [00:01<00:00, 99.33it/s]\n",
      "val epoch: 100%|██████████| 14/14.0 [00:00<00:00, 169.93it/s]\n",
      "train epoch: 100%|██████████| 105/105.0 [00:00<00:00, 112.31it/s]\n",
      "val epoch: 100%|██████████| 14/14.0 [00:00<00:00, 219.96it/s]\n",
      "train epoch: 100%|██████████| 105/105.0 [00:00<00:00, 115.23it/s]\n",
      "val epoch: 100%|██████████| 14/14.0 [00:00<00:00, 221.94it/s]\n"
     ]
    },
    {
     "data": {
      "text/html": [
       "\n",
       "    <style>\n",
       "        .wandb-row {\n",
       "            display: flex;\n",
       "            flex-direction: row;\n",
       "            flex-wrap: wrap;\n",
       "            justify-content: flex-start;\n",
       "            width: 100%;\n",
       "        }\n",
       "        .wandb-col {\n",
       "            display: flex;\n",
       "            flex-direction: column;\n",
       "            flex-basis: 100%;\n",
       "            flex: 1;\n",
       "            padding: 10px;\n",
       "        }\n",
       "    </style>\n",
       "<div class=\"wandb-row\"><div class=\"wandb-col\"><h3>Run history:</h3><br/><table class=\"wandb\"><tr><td>train/MAE</td><td>█▄▄▃▁▂▃▃▃▄</td></tr><tr><td>train/MSE</td><td>█▃▄▂▁▂▂▂▃▃</td></tr><tr><td>train/Max Error</td><td>█▃▃▁▂▂▃▃▅▃</td></tr><tr><td>train/loss</td><td>▄▄▁▆▅▅▇▅█▂</td></tr><tr><td>validation/MAE</td><td>▂▂▂▄▃▁▅▅▇█</td></tr><tr><td>validation/MSE</td><td>▃▃▄▄▂▁▆▅▆█</td></tr><tr><td>validation/Max Error</td><td>▆▅▃▄▂▄▅█▁▂</td></tr><tr><td>validation/loss</td><td>▅▁▄█▂▇▃▆▆▆</td></tr></table><br/></div><div class=\"wandb-col\"><h3>Run summary:</h3><br/><table class=\"wandb\"><tr><td>train/MAE</td><td>0.99236</td></tr><tr><td>train/MSE</td><td>1.49275</td></tr><tr><td>train/Max Error</td><td>4.0704</td></tr><tr><td>train/loss</td><td>1.4448</td></tr><tr><td>validation/MAE</td><td>1.03225</td></tr><tr><td>validation/MSE</td><td>1.57201</td></tr><tr><td>validation/Max Error</td><td>3.49521</td></tr><tr><td>validation/loss</td><td>1.76487</td></tr></table><br/></div></div>"
      ],
      "text/plain": [
       "<IPython.core.display.HTML object>"
      ]
     },
     "metadata": {},
     "output_type": "display_data"
    },
    {
     "data": {
      "text/html": [
       " View run <strong style=\"color:#cdcd00\">LIPO GCN 3-16, custom dataset</strong> at: <a href='https://wandb.ai/cus-tibor-none/ToxicML/runs/yaljs5xg' target=\"_blank\">https://wandb.ai/cus-tibor-none/ToxicML/runs/yaljs5xg</a><br/> View project at: <a href='https://wandb.ai/cus-tibor-none/ToxicML' target=\"_blank\">https://wandb.ai/cus-tibor-none/ToxicML</a><br/>Synced 5 W&B file(s), 0 media file(s), 8 artifact file(s) and 4 other file(s)"
      ],
      "text/plain": [
       "<IPython.core.display.HTML object>"
      ]
     },
     "metadata": {},
     "output_type": "display_data"
    },
    {
     "data": {
      "text/html": [
       "Find logs at: <code>./wandb/run-20241208_135804-yaljs5xg/logs</code>"
      ],
      "text/plain": [
       "<IPython.core.display.HTML object>"
      ]
     },
     "metadata": {},
     "output_type": "display_data"
    }
   ],
   "source": [
    "from ToxicMl.MLmodels.gcn import GCNReg, ChemGCNReg\n",
    "model = ChemGCNReg(3, 133, 16, 1)\n",
    "optimizer = torch.optim.Adam(model.parameters())\n",
    "lr_scheduler = torch.optim.lr_scheduler.ExponentialLR(optimizer, gamma = 0.09)\n",
    "loss_fn = torch.nn.MSELoss()\n",
    "device = torch.device('cuda' if torch.cuda.is_available() else 'cpu')\n",
    "\n",
    "trainer = GenericRegressionTrainer(\n",
    "    model,\n",
    "    optimizer,\n",
    "    loss_fn,\n",
    "    lr_scheduler,\n",
    "    train_metrics,\n",
    "    validation_metrics,\n",
    "    train,\n",
    "    validation,\n",
    "    test,\n",
    "    device,\n",
    "    None,\n",
    "    EPOCHS,\n",
    "    None,\n",
    "    32\n",
    ")\n",
    "\n",
    "trainer.train(\"LIPO GCN 3-16, custom dataset\")"
   ]
  },
  {
   "cell_type": "code",
   "execution_count": 4,
   "metadata": {},
   "outputs": [
    {
     "name": "stderr",
     "output_type": "stream",
     "text": [
      "/home/tibor/Documents/msc-datascience/2024w/Toxic/ToxicML/.venv/lib/python3.12/site-packages/torch_geometric/deprecation.py:26: UserWarning: 'data.DataLoader' is deprecated, use 'loader.DataLoader' instead\n",
      "  warnings.warn(out)\n"
     ]
    },
    {
     "data": {
      "text/html": [
       "Tracking run with wandb version 0.18.7"
      ],
      "text/plain": [
       "<IPython.core.display.HTML object>"
      ]
     },
     "metadata": {},
     "output_type": "display_data"
    },
    {
     "data": {
      "text/html": [
       "Run data is saved locally in <code>/home/tibor/Documents/msc-datascience/2024w/Toxic/ToxicML/ToxicMl/wandb/run-20241208_135822-qgbpjg1q</code>"
      ],
      "text/plain": [
       "<IPython.core.display.HTML object>"
      ]
     },
     "metadata": {},
     "output_type": "display_data"
    },
    {
     "data": {
      "text/html": [
       "Syncing run <strong><a href='https://wandb.ai/cus-tibor-none/ToxicML/runs/qgbpjg1q' target=\"_blank\">LIPO GCN 3-32, custom dataset</a></strong> to <a href='https://wandb.ai/cus-tibor-none/ToxicML' target=\"_blank\">Weights & Biases</a> (<a href='https://wandb.me/developer-guide' target=\"_blank\">docs</a>)<br/>"
      ],
      "text/plain": [
       "<IPython.core.display.HTML object>"
      ]
     },
     "metadata": {},
     "output_type": "display_data"
    },
    {
     "data": {
      "text/html": [
       " View project at <a href='https://wandb.ai/cus-tibor-none/ToxicML' target=\"_blank\">https://wandb.ai/cus-tibor-none/ToxicML</a>"
      ],
      "text/plain": [
       "<IPython.core.display.HTML object>"
      ]
     },
     "metadata": {},
     "output_type": "display_data"
    },
    {
     "data": {
      "text/html": [
       " View run at <a href='https://wandb.ai/cus-tibor-none/ToxicML/runs/qgbpjg1q' target=\"_blank\">https://wandb.ai/cus-tibor-none/ToxicML/runs/qgbpjg1q</a>"
      ],
      "text/plain": [
       "<IPython.core.display.HTML object>"
      ]
     },
     "metadata": {},
     "output_type": "display_data"
    },
    {
     "name": "stderr",
     "output_type": "stream",
     "text": [
      "train epoch:   0%|          | 0/105.0 [00:00<?, ?it/s]/home/tibor/Documents/msc-datascience/2024w/Toxic/ToxicML/.venv/lib/python3.12/site-packages/torch/nn/modules/loss.py:608: UserWarning: Using a target size (torch.Size([32])) that is different to the input size (torch.Size([32, 1])). This will likely lead to incorrect results due to broadcasting. Please ensure they have the same size.\n",
      "  return F.mse_loss(input, target, reduction=self.reduction)\n",
      "train epoch: 100%|██████████| 105/105.0 [00:01<00:00, 83.81it/s]\n",
      "val epoch:   0%|          | 0/14.0 [00:00<?, ?it/s]/home/tibor/Documents/msc-datascience/2024w/Toxic/ToxicML/.venv/lib/python3.12/site-packages/torch/nn/modules/loss.py:608: UserWarning: Using a target size (torch.Size([4])) that is different to the input size (torch.Size([4, 1])). This will likely lead to incorrect results due to broadcasting. Please ensure they have the same size.\n",
      "  return F.mse_loss(input, target, reduction=self.reduction)\n",
      "val epoch: 100%|██████████| 14/14.0 [00:00<00:00, 159.77it/s]\n",
      "train epoch: 100%|██████████| 105/105.0 [00:00<00:00, 107.48it/s]\n",
      "val epoch: 100%|██████████| 14/14.0 [00:00<00:00, 206.12it/s]\n",
      "train epoch: 100%|██████████| 105/105.0 [00:00<00:00, 113.16it/s]\n",
      "val epoch: 100%|██████████| 14/14.0 [00:00<00:00, 224.19it/s]\n",
      "train epoch: 100%|██████████| 105/105.0 [00:01<00:00, 93.82it/s]\n",
      "val epoch: 100%|██████████| 14/14.0 [00:00<00:00, 142.29it/s]\n",
      "train epoch: 100%|██████████| 105/105.0 [00:01<00:00, 96.39it/s]\n",
      "val epoch: 100%|██████████| 14/14.0 [00:00<00:00, 195.47it/s]\n",
      "train epoch: 100%|██████████| 105/105.0 [00:00<00:00, 118.63it/s]\n",
      "val epoch: 100%|██████████| 14/14.0 [00:00<00:00, 184.11it/s]\n",
      "train epoch: 100%|██████████| 105/105.0 [00:00<00:00, 110.31it/s]\n",
      "val epoch: 100%|██████████| 14/14.0 [00:00<00:00, 185.66it/s]\n",
      "train epoch: 100%|██████████| 105/105.0 [00:00<00:00, 105.09it/s]\n",
      "val epoch: 100%|██████████| 14/14.0 [00:00<00:00, 194.65it/s]\n",
      "train epoch: 100%|██████████| 105/105.0 [00:00<00:00, 113.31it/s]\n",
      "val epoch: 100%|██████████| 14/14.0 [00:00<00:00, 191.70it/s]\n",
      "train epoch: 100%|██████████| 105/105.0 [00:00<00:00, 117.60it/s]\n",
      "val epoch: 100%|██████████| 14/14.0 [00:00<00:00, 153.89it/s]\n"
     ]
    },
    {
     "data": {
      "text/html": [
       "\n",
       "    <style>\n",
       "        .wandb-row {\n",
       "            display: flex;\n",
       "            flex-direction: row;\n",
       "            flex-wrap: wrap;\n",
       "            justify-content: flex-start;\n",
       "            width: 100%;\n",
       "        }\n",
       "        .wandb-col {\n",
       "            display: flex;\n",
       "            flex-direction: column;\n",
       "            flex-basis: 100%;\n",
       "            flex: 1;\n",
       "            padding: 10px;\n",
       "        }\n",
       "    </style>\n",
       "<div class=\"wandb-row\"><div class=\"wandb-col\"><h3>Run history:</h3><br/><table class=\"wandb\"><tr><td>train/MAE</td><td>█▃▂▂▂▂▂▁▁▂</td></tr><tr><td>train/MSE</td><td>█▂▂▂▂▂▂▁▂▂</td></tr><tr><td>train/Max Error</td><td>▂▇▄█▁▃▃▁▄▂</td></tr><tr><td>train/loss</td><td>▂█▄▁▇▂▇▄▄▄</td></tr><tr><td>validation/MAE</td><td>█▅▅▅▃▁▇▁▃▄</td></tr><tr><td>validation/MSE</td><td>█▅▅▄▂▁▇▁▃▄</td></tr><tr><td>validation/Max Error</td><td>▃▂▄█▁▂▄▂▃▃</td></tr><tr><td>validation/loss</td><td>▅▄▇▂█▅▂▅▄▁</td></tr></table><br/></div><div class=\"wandb-col\"><h3>Run summary:</h3><br/><table class=\"wandb\"><tr><td>train/MAE</td><td>0.99017</td></tr><tr><td>train/MSE</td><td>1.4996</td></tr><tr><td>train/Max Error</td><td>4.03053</td></tr><tr><td>train/loss</td><td>1.49483</td></tr><tr><td>validation/MAE</td><td>1.00225</td></tr><tr><td>validation/MSE</td><td>1.50829</td></tr><tr><td>validation/Max Error</td><td>3.74647</td></tr><tr><td>validation/loss</td><td>0.45572</td></tr></table><br/></div></div>"
      ],
      "text/plain": [
       "<IPython.core.display.HTML object>"
      ]
     },
     "metadata": {},
     "output_type": "display_data"
    },
    {
     "data": {
      "text/html": [
       " View run <strong style=\"color:#cdcd00\">LIPO GCN 3-32, custom dataset</strong> at: <a href='https://wandb.ai/cus-tibor-none/ToxicML/runs/qgbpjg1q' target=\"_blank\">https://wandb.ai/cus-tibor-none/ToxicML/runs/qgbpjg1q</a><br/> View project at: <a href='https://wandb.ai/cus-tibor-none/ToxicML' target=\"_blank\">https://wandb.ai/cus-tibor-none/ToxicML</a><br/>Synced 5 W&B file(s), 0 media file(s), 8 artifact file(s) and 4 other file(s)"
      ],
      "text/plain": [
       "<IPython.core.display.HTML object>"
      ]
     },
     "metadata": {},
     "output_type": "display_data"
    },
    {
     "data": {
      "text/html": [
       "Find logs at: <code>./wandb/run-20241208_135822-qgbpjg1q/logs</code>"
      ],
      "text/plain": [
       "<IPython.core.display.HTML object>"
      ]
     },
     "metadata": {},
     "output_type": "display_data"
    }
   ],
   "source": [
    "from ToxicMl.MLmodels.gcn import GCNReg, ChemGCNReg\n",
    "model = ChemGCNReg(3, 133, 32, 1)\n",
    "optimizer = torch.optim.Adam(model.parameters())\n",
    "lr_scheduler = torch.optim.lr_scheduler.ExponentialLR(optimizer, gamma = 0.09)\n",
    "loss_fn = torch.nn.MSELoss()\n",
    "device = torch.device('cuda' if torch.cuda.is_available() else 'cpu')\n",
    "\n",
    "trainer = GenericRegressionTrainer(\n",
    "    model,\n",
    "    optimizer,\n",
    "    loss_fn,\n",
    "    lr_scheduler,\n",
    "    train_metrics,\n",
    "    validation_metrics,\n",
    "    train,\n",
    "    validation,\n",
    "    test,\n",
    "    device,\n",
    "    None,\n",
    "    EPOCHS,\n",
    "    None,\n",
    "    32\n",
    ")\n",
    "\n",
    "trainer.train(\"LIPO GCN 3-32, custom dataset\")"
   ]
  },
  {
   "cell_type": "code",
   "execution_count": 5,
   "metadata": {},
   "outputs": [
    {
     "name": "stderr",
     "output_type": "stream",
     "text": [
      "/home/tibor/Documents/msc-datascience/2024w/Toxic/ToxicML/.venv/lib/python3.12/site-packages/torch_geometric/deprecation.py:26: UserWarning: 'data.DataLoader' is deprecated, use 'loader.DataLoader' instead\n",
      "  warnings.warn(out)\n"
     ]
    },
    {
     "data": {
      "text/html": [
       "Tracking run with wandb version 0.18.7"
      ],
      "text/plain": [
       "<IPython.core.display.HTML object>"
      ]
     },
     "metadata": {},
     "output_type": "display_data"
    },
    {
     "data": {
      "text/html": [
       "Run data is saved locally in <code>/home/tibor/Documents/msc-datascience/2024w/Toxic/ToxicML/ToxicMl/wandb/run-20241208_135840-l854q931</code>"
      ],
      "text/plain": [
       "<IPython.core.display.HTML object>"
      ]
     },
     "metadata": {},
     "output_type": "display_data"
    },
    {
     "data": {
      "text/html": [
       "Syncing run <strong><a href='https://wandb.ai/cus-tibor-none/ToxicML/runs/l854q931' target=\"_blank\">LIPO GCN 3-64, custom dataset</a></strong> to <a href='https://wandb.ai/cus-tibor-none/ToxicML' target=\"_blank\">Weights & Biases</a> (<a href='https://wandb.me/developer-guide' target=\"_blank\">docs</a>)<br/>"
      ],
      "text/plain": [
       "<IPython.core.display.HTML object>"
      ]
     },
     "metadata": {},
     "output_type": "display_data"
    },
    {
     "data": {
      "text/html": [
       " View project at <a href='https://wandb.ai/cus-tibor-none/ToxicML' target=\"_blank\">https://wandb.ai/cus-tibor-none/ToxicML</a>"
      ],
      "text/plain": [
       "<IPython.core.display.HTML object>"
      ]
     },
     "metadata": {},
     "output_type": "display_data"
    },
    {
     "data": {
      "text/html": [
       " View run at <a href='https://wandb.ai/cus-tibor-none/ToxicML/runs/l854q931' target=\"_blank\">https://wandb.ai/cus-tibor-none/ToxicML/runs/l854q931</a>"
      ],
      "text/plain": [
       "<IPython.core.display.HTML object>"
      ]
     },
     "metadata": {},
     "output_type": "display_data"
    },
    {
     "name": "stderr",
     "output_type": "stream",
     "text": [
      "train epoch:   0%|          | 0/105.0 [00:00<?, ?it/s]/home/tibor/Documents/msc-datascience/2024w/Toxic/ToxicML/.venv/lib/python3.12/site-packages/torch/nn/modules/loss.py:608: UserWarning: Using a target size (torch.Size([32])) that is different to the input size (torch.Size([32, 1])). This will likely lead to incorrect results due to broadcasting. Please ensure they have the same size.\n",
      "  return F.mse_loss(input, target, reduction=self.reduction)\n",
      "train epoch: 100%|██████████| 105/105.0 [00:00<00:00, 105.51it/s]\n",
      "val epoch:   0%|          | 0/14.0 [00:00<?, ?it/s]/home/tibor/Documents/msc-datascience/2024w/Toxic/ToxicML/.venv/lib/python3.12/site-packages/torch/nn/modules/loss.py:608: UserWarning: Using a target size (torch.Size([4])) that is different to the input size (torch.Size([4, 1])). This will likely lead to incorrect results due to broadcasting. Please ensure they have the same size.\n",
      "  return F.mse_loss(input, target, reduction=self.reduction)\n",
      "val epoch: 100%|██████████| 14/14.0 [00:00<00:00, 177.11it/s]\n",
      "train epoch: 100%|██████████| 105/105.0 [00:01<00:00, 100.15it/s]\n",
      "val epoch: 100%|██████████| 14/14.0 [00:00<00:00, 178.01it/s]\n",
      "train epoch: 100%|██████████| 105/105.0 [00:01<00:00, 98.12it/s] \n",
      "val epoch: 100%|██████████| 14/14.0 [00:00<00:00, 180.44it/s]\n",
      "train epoch: 100%|██████████| 105/105.0 [00:01<00:00, 102.90it/s]\n",
      "val epoch: 100%|██████████| 14/14.0 [00:00<00:00, 174.84it/s]\n",
      "train epoch: 100%|██████████| 105/105.0 [00:01<00:00, 102.46it/s]\n",
      "val epoch: 100%|██████████| 14/14.0 [00:00<00:00, 179.52it/s]\n",
      "train epoch: 100%|██████████| 105/105.0 [00:01<00:00, 101.70it/s]\n",
      "val epoch: 100%|██████████| 14/14.0 [00:00<00:00, 176.78it/s]\n",
      "train epoch: 100%|██████████| 105/105.0 [00:01<00:00, 102.91it/s]\n",
      "val epoch: 100%|██████████| 14/14.0 [00:00<00:00, 178.79it/s]\n",
      "train epoch: 100%|██████████| 105/105.0 [00:01<00:00, 103.57it/s]\n",
      "val epoch: 100%|██████████| 14/14.0 [00:00<00:00, 176.15it/s]\n",
      "train epoch: 100%|██████████| 105/105.0 [00:01<00:00, 101.94it/s]\n",
      "val epoch: 100%|██████████| 14/14.0 [00:00<00:00, 178.41it/s]\n",
      "train epoch: 100%|██████████| 105/105.0 [00:01<00:00, 102.08it/s]\n",
      "val epoch: 100%|██████████| 14/14.0 [00:00<00:00, 177.00it/s]\n"
     ]
    },
    {
     "data": {
      "text/html": [
       "\n",
       "    <style>\n",
       "        .wandb-row {\n",
       "            display: flex;\n",
       "            flex-direction: row;\n",
       "            flex-wrap: wrap;\n",
       "            justify-content: flex-start;\n",
       "            width: 100%;\n",
       "        }\n",
       "        .wandb-col {\n",
       "            display: flex;\n",
       "            flex-direction: column;\n",
       "            flex-basis: 100%;\n",
       "            flex: 1;\n",
       "            padding: 10px;\n",
       "        }\n",
       "    </style>\n",
       "<div class=\"wandb-row\"><div class=\"wandb-col\"><h3>Run history:</h3><br/><table class=\"wandb\"><tr><td>train/MAE</td><td>█▂▁▂▂▂▂▁▂▁</td></tr><tr><td>train/MSE</td><td>█▂▁▂▂▂▂▁▂▁</td></tr><tr><td>train/Max Error</td><td>█▂▁▂▅▃▃▆▃▅</td></tr><tr><td>train/loss</td><td>▅▁▄█▇▃▅▂▇▄</td></tr><tr><td>validation/MAE</td><td>▄▆▄██▇▁▆▃▄</td></tr><tr><td>validation/MSE</td><td>▅▆▅▇▇▆▁█▆▄</td></tr><tr><td>validation/Max Error</td><td>▁▄▅▁▂▄▄█▄▃</td></tr><tr><td>validation/loss</td><td>▂▁▃▅▂▂▄▂▁█</td></tr></table><br/></div><div class=\"wandb-col\"><h3>Run summary:</h3><br/><table class=\"wandb\"><tr><td>train/MAE</td><td>0.96299</td></tr><tr><td>train/MSE</td><td>1.41951</td></tr><tr><td>train/Max Error</td><td>4.16037</td></tr><tr><td>train/loss</td><td>1.4378</td></tr><tr><td>validation/MAE</td><td>0.9792</td></tr><tr><td>validation/MSE</td><td>1.44027</td></tr><tr><td>validation/Max Error</td><td>3.55005</td></tr><tr><td>validation/loss</td><td>4.93431</td></tr></table><br/></div></div>"
      ],
      "text/plain": [
       "<IPython.core.display.HTML object>"
      ]
     },
     "metadata": {},
     "output_type": "display_data"
    },
    {
     "data": {
      "text/html": [
       " View run <strong style=\"color:#cdcd00\">LIPO GCN 3-64, custom dataset</strong> at: <a href='https://wandb.ai/cus-tibor-none/ToxicML/runs/l854q931' target=\"_blank\">https://wandb.ai/cus-tibor-none/ToxicML/runs/l854q931</a><br/> View project at: <a href='https://wandb.ai/cus-tibor-none/ToxicML' target=\"_blank\">https://wandb.ai/cus-tibor-none/ToxicML</a><br/>Synced 5 W&B file(s), 0 media file(s), 8 artifact file(s) and 4 other file(s)"
      ],
      "text/plain": [
       "<IPython.core.display.HTML object>"
      ]
     },
     "metadata": {},
     "output_type": "display_data"
    },
    {
     "data": {
      "text/html": [
       "Find logs at: <code>./wandb/run-20241208_135840-l854q931/logs</code>"
      ],
      "text/plain": [
       "<IPython.core.display.HTML object>"
      ]
     },
     "metadata": {},
     "output_type": "display_data"
    }
   ],
   "source": [
    "from ToxicMl.MLmodels.gcn import GCNReg, ChemGCNReg\n",
    "model = ChemGCNReg(3, 133, 64, 1)\n",
    "optimizer = torch.optim.Adam(model.parameters())\n",
    "lr_scheduler = torch.optim.lr_scheduler.ExponentialLR(optimizer, gamma = 0.09)\n",
    "loss_fn = torch.nn.MSELoss()\n",
    "device = torch.device('cuda' if torch.cuda.is_available() else 'cpu')\n",
    "\n",
    "trainer = GenericRegressionTrainer(\n",
    "    model,\n",
    "    optimizer,\n",
    "    loss_fn,\n",
    "    lr_scheduler,\n",
    "    train_metrics,\n",
    "    validation_metrics,\n",
    "    train,\n",
    "    validation,\n",
    "    test,\n",
    "    device,\n",
    "    None,\n",
    "    EPOCHS,\n",
    "    None,\n",
    "    32\n",
    ")\n",
    "\n",
    "trainer.train(\"LIPO GCN 3-64, custom dataset\")"
   ]
  },
  {
   "cell_type": "code",
   "execution_count": 6,
   "metadata": {},
   "outputs": [
    {
     "name": "stderr",
     "output_type": "stream",
     "text": [
      "/home/tibor/Documents/msc-datascience/2024w/Toxic/ToxicML/.venv/lib/python3.12/site-packages/torch_geometric/deprecation.py:26: UserWarning: 'data.DataLoader' is deprecated, use 'loader.DataLoader' instead\n",
      "  warnings.warn(out)\n"
     ]
    },
    {
     "data": {
      "text/html": [
       "Tracking run with wandb version 0.18.7"
      ],
      "text/plain": [
       "<IPython.core.display.HTML object>"
      ]
     },
     "metadata": {},
     "output_type": "display_data"
    },
    {
     "data": {
      "text/html": [
       "Run data is saved locally in <code>/home/tibor/Documents/msc-datascience/2024w/Toxic/ToxicML/ToxicMl/wandb/run-20241208_135857-n03kcgeo</code>"
      ],
      "text/plain": [
       "<IPython.core.display.HTML object>"
      ]
     },
     "metadata": {},
     "output_type": "display_data"
    },
    {
     "data": {
      "text/html": [
       "Syncing run <strong><a href='https://wandb.ai/cus-tibor-none/ToxicML/runs/n03kcgeo' target=\"_blank\">LIPO GCN 3-128, custom dataset</a></strong> to <a href='https://wandb.ai/cus-tibor-none/ToxicML' target=\"_blank\">Weights & Biases</a> (<a href='https://wandb.me/developer-guide' target=\"_blank\">docs</a>)<br/>"
      ],
      "text/plain": [
       "<IPython.core.display.HTML object>"
      ]
     },
     "metadata": {},
     "output_type": "display_data"
    },
    {
     "data": {
      "text/html": [
       " View project at <a href='https://wandb.ai/cus-tibor-none/ToxicML' target=\"_blank\">https://wandb.ai/cus-tibor-none/ToxicML</a>"
      ],
      "text/plain": [
       "<IPython.core.display.HTML object>"
      ]
     },
     "metadata": {},
     "output_type": "display_data"
    },
    {
     "data": {
      "text/html": [
       " View run at <a href='https://wandb.ai/cus-tibor-none/ToxicML/runs/n03kcgeo' target=\"_blank\">https://wandb.ai/cus-tibor-none/ToxicML/runs/n03kcgeo</a>"
      ],
      "text/plain": [
       "<IPython.core.display.HTML object>"
      ]
     },
     "metadata": {},
     "output_type": "display_data"
    },
    {
     "name": "stderr",
     "output_type": "stream",
     "text": [
      "train epoch:   0%|          | 0/105.0 [00:00<?, ?it/s]/home/tibor/Documents/msc-datascience/2024w/Toxic/ToxicML/.venv/lib/python3.12/site-packages/torch/nn/modules/loss.py:608: UserWarning: Using a target size (torch.Size([32])) that is different to the input size (torch.Size([32, 1])). This will likely lead to incorrect results due to broadcasting. Please ensure they have the same size.\n",
      "  return F.mse_loss(input, target, reduction=self.reduction)\n",
      "train epoch: 100%|██████████| 105/105.0 [00:01<00:00, 73.20it/s]\n",
      "val epoch:   0%|          | 0/14.0 [00:00<?, ?it/s]/home/tibor/Documents/msc-datascience/2024w/Toxic/ToxicML/.venv/lib/python3.12/site-packages/torch/nn/modules/loss.py:608: UserWarning: Using a target size (torch.Size([4])) that is different to the input size (torch.Size([4, 1])). This will likely lead to incorrect results due to broadcasting. Please ensure they have the same size.\n",
      "  return F.mse_loss(input, target, reduction=self.reduction)\n",
      "val epoch: 100%|██████████| 14/14.0 [00:00<00:00, 146.34it/s]\n",
      "train epoch: 100%|██████████| 105/105.0 [00:01<00:00, 78.65it/s]\n",
      "val epoch: 100%|██████████| 14/14.0 [00:00<00:00, 127.05it/s]\n",
      "train epoch: 100%|██████████| 105/105.0 [00:01<00:00, 69.58it/s]\n",
      "val epoch: 100%|██████████| 14/14.0 [00:00<00:00, 182.93it/s]\n",
      "train epoch: 100%|██████████| 105/105.0 [00:01<00:00, 73.59it/s]\n",
      "val epoch: 100%|██████████| 14/14.0 [00:00<00:00, 136.52it/s]\n",
      "train epoch: 100%|██████████| 105/105.0 [00:01<00:00, 72.92it/s]\n",
      "val epoch: 100%|██████████| 14/14.0 [00:00<00:00, 106.35it/s]\n",
      "train epoch: 100%|██████████| 105/105.0 [00:01<00:00, 69.66it/s]\n",
      "val epoch: 100%|██████████| 14/14.0 [00:00<00:00, 117.68it/s]\n",
      "train epoch: 100%|██████████| 105/105.0 [00:01<00:00, 69.24it/s]\n",
      "val epoch: 100%|██████████| 14/14.0 [00:00<00:00, 158.65it/s]\n",
      "train epoch: 100%|██████████| 105/105.0 [00:01<00:00, 81.29it/s]\n",
      "val epoch: 100%|██████████| 14/14.0 [00:00<00:00, 116.12it/s]\n",
      "train epoch: 100%|██████████| 105/105.0 [00:01<00:00, 66.44it/s]\n",
      "val epoch: 100%|██████████| 14/14.0 [00:00<00:00, 137.02it/s]\n",
      "train epoch: 100%|██████████| 105/105.0 [00:01<00:00, 83.33it/s]\n",
      "val epoch: 100%|██████████| 14/14.0 [00:00<00:00, 136.15it/s]\n"
     ]
    },
    {
     "data": {
      "text/html": [
       "\n",
       "    <style>\n",
       "        .wandb-row {\n",
       "            display: flex;\n",
       "            flex-direction: row;\n",
       "            flex-wrap: wrap;\n",
       "            justify-content: flex-start;\n",
       "            width: 100%;\n",
       "        }\n",
       "        .wandb-col {\n",
       "            display: flex;\n",
       "            flex-direction: column;\n",
       "            flex-basis: 100%;\n",
       "            flex: 1;\n",
       "            padding: 10px;\n",
       "        }\n",
       "    </style>\n",
       "<div class=\"wandb-row\"><div class=\"wandb-col\"><h3>Run history:</h3><br/><table class=\"wandb\"><tr><td>train/MAE</td><td>█▂▂▁▂▂▂▁▁▂</td></tr><tr><td>train/MSE</td><td>█▂▂▁▁▂▂▁▁▃</td></tr><tr><td>train/Max Error</td><td>█▄█▁▄▁▃▂▁▅</td></tr><tr><td>train/loss</td><td>▄▄▁▁▂▃▆▄█▅</td></tr><tr><td>validation/MAE</td><td>▁▅▃▇█▅▄▅▂▇</td></tr><tr><td>validation/MSE</td><td>▁▆▄▆▄▃▂▄▂█</td></tr><tr><td>validation/Max Error</td><td>▅▃▄█▁▆▁▂▅▆</td></tr><tr><td>validation/loss</td><td>▃▆▁█▅▂▄█▃▄</td></tr></table><br/></div><div class=\"wandb-col\"><h3>Run summary:</h3><br/><table class=\"wandb\"><tr><td>train/MAE</td><td>0.96771</td></tr><tr><td>train/MSE</td><td>1.44561</td></tr><tr><td>train/Max Error</td><td>4.04741</td></tr><tr><td>train/loss</td><td>1.44457</td></tr><tr><td>validation/MAE</td><td>0.98711</td></tr><tr><td>validation/MSE</td><td>1.49704</td></tr><tr><td>validation/Max Error</td><td>4.04737</td></tr><tr><td>validation/loss</td><td>1.86035</td></tr></table><br/></div></div>"
      ],
      "text/plain": [
       "<IPython.core.display.HTML object>"
      ]
     },
     "metadata": {},
     "output_type": "display_data"
    },
    {
     "data": {
      "text/html": [
       " View run <strong style=\"color:#cdcd00\">LIPO GCN 3-128, custom dataset</strong> at: <a href='https://wandb.ai/cus-tibor-none/ToxicML/runs/n03kcgeo' target=\"_blank\">https://wandb.ai/cus-tibor-none/ToxicML/runs/n03kcgeo</a><br/> View project at: <a href='https://wandb.ai/cus-tibor-none/ToxicML' target=\"_blank\">https://wandb.ai/cus-tibor-none/ToxicML</a><br/>Synced 5 W&B file(s), 0 media file(s), 8 artifact file(s) and 4 other file(s)"
      ],
      "text/plain": [
       "<IPython.core.display.HTML object>"
      ]
     },
     "metadata": {},
     "output_type": "display_data"
    },
    {
     "data": {
      "text/html": [
       "Find logs at: <code>./wandb/run-20241208_135857-n03kcgeo/logs</code>"
      ],
      "text/plain": [
       "<IPython.core.display.HTML object>"
      ]
     },
     "metadata": {},
     "output_type": "display_data"
    }
   ],
   "source": [
    "from ToxicMl.MLmodels.gcn import GCNReg, ChemGCNReg\n",
    "model = ChemGCNReg(3, 133, 128, 1)\n",
    "optimizer = torch.optim.Adam(model.parameters())\n",
    "lr_scheduler = torch.optim.lr_scheduler.ExponentialLR(optimizer, gamma = 0.09)\n",
    "loss_fn = torch.nn.MSELoss()\n",
    "device = torch.device('cuda' if torch.cuda.is_available() else 'cpu')\n",
    "\n",
    "trainer = GenericRegressionTrainer(\n",
    "    model,\n",
    "    optimizer,\n",
    "    loss_fn,\n",
    "    lr_scheduler,\n",
    "    train_metrics,\n",
    "    validation_metrics,\n",
    "    train,\n",
    "    validation,\n",
    "    test,\n",
    "    device,\n",
    "    None,\n",
    "    EPOCHS,\n",
    "    None,\n",
    "    32\n",
    ")\n",
    "\n",
    "trainer.train(\"LIPO GCN 3-128, custom dataset\")"
   ]
  },
  {
   "cell_type": "code",
   "execution_count": 7,
   "metadata": {},
   "outputs": [
    {
     "name": "stderr",
     "output_type": "stream",
     "text": [
      "/home/tibor/Documents/msc-datascience/2024w/Toxic/ToxicML/.venv/lib/python3.12/site-packages/torch_geometric/deprecation.py:26: UserWarning: 'data.DataLoader' is deprecated, use 'loader.DataLoader' instead\n",
      "  warnings.warn(out)\n"
     ]
    },
    {
     "data": {
      "text/html": [
       "Tracking run with wandb version 0.18.7"
      ],
      "text/plain": [
       "<IPython.core.display.HTML object>"
      ]
     },
     "metadata": {},
     "output_type": "display_data"
    },
    {
     "data": {
      "text/html": [
       "Run data is saved locally in <code>/home/tibor/Documents/msc-datascience/2024w/Toxic/ToxicML/ToxicMl/wandb/run-20241208_135920-gz7wec9e</code>"
      ],
      "text/plain": [
       "<IPython.core.display.HTML object>"
      ]
     },
     "metadata": {},
     "output_type": "display_data"
    },
    {
     "data": {
      "text/html": [
       "Syncing run <strong><a href='https://wandb.ai/cus-tibor-none/ToxicML/runs/gz7wec9e' target=\"_blank\">LIPO GCN 5-16, custom dataset</a></strong> to <a href='https://wandb.ai/cus-tibor-none/ToxicML' target=\"_blank\">Weights & Biases</a> (<a href='https://wandb.me/developer-guide' target=\"_blank\">docs</a>)<br/>"
      ],
      "text/plain": [
       "<IPython.core.display.HTML object>"
      ]
     },
     "metadata": {},
     "output_type": "display_data"
    },
    {
     "data": {
      "text/html": [
       " View project at <a href='https://wandb.ai/cus-tibor-none/ToxicML' target=\"_blank\">https://wandb.ai/cus-tibor-none/ToxicML</a>"
      ],
      "text/plain": [
       "<IPython.core.display.HTML object>"
      ]
     },
     "metadata": {},
     "output_type": "display_data"
    },
    {
     "data": {
      "text/html": [
       " View run at <a href='https://wandb.ai/cus-tibor-none/ToxicML/runs/gz7wec9e' target=\"_blank\">https://wandb.ai/cus-tibor-none/ToxicML/runs/gz7wec9e</a>"
      ],
      "text/plain": [
       "<IPython.core.display.HTML object>"
      ]
     },
     "metadata": {},
     "output_type": "display_data"
    },
    {
     "name": "stderr",
     "output_type": "stream",
     "text": [
      "train epoch:   0%|          | 0/105.0 [00:00<?, ?it/s]/home/tibor/Documents/msc-datascience/2024w/Toxic/ToxicML/.venv/lib/python3.12/site-packages/torch/nn/modules/loss.py:608: UserWarning: Using a target size (torch.Size([32])) that is different to the input size (torch.Size([32, 1])). This will likely lead to incorrect results due to broadcasting. Please ensure they have the same size.\n",
      "  return F.mse_loss(input, target, reduction=self.reduction)\n",
      "train epoch: 100%|██████████| 105/105.0 [00:01<00:00, 90.99it/s]\n",
      "val epoch:   0%|          | 0/14.0 [00:00<?, ?it/s]/home/tibor/Documents/msc-datascience/2024w/Toxic/ToxicML/.venv/lib/python3.12/site-packages/torch/nn/modules/loss.py:608: UserWarning: Using a target size (torch.Size([4])) that is different to the input size (torch.Size([4, 1])). This will likely lead to incorrect results due to broadcasting. Please ensure they have the same size.\n",
      "  return F.mse_loss(input, target, reduction=self.reduction)\n",
      "val epoch: 100%|██████████| 14/14.0 [00:00<00:00, 148.51it/s]\n",
      "train epoch: 100%|██████████| 105/105.0 [00:01<00:00, 88.82it/s]\n",
      "val epoch: 100%|██████████| 14/14.0 [00:00<00:00, 149.76it/s]\n",
      "train epoch: 100%|██████████| 105/105.0 [00:01<00:00, 88.93it/s]\n",
      "val epoch: 100%|██████████| 14/14.0 [00:00<00:00, 144.43it/s]\n",
      "train epoch: 100%|██████████| 105/105.0 [00:01<00:00, 64.95it/s]\n",
      "val epoch: 100%|██████████| 14/14.0 [00:00<00:00, 152.55it/s]\n",
      "train epoch: 100%|██████████| 105/105.0 [00:01<00:00, 103.55it/s]\n",
      "val epoch: 100%|██████████| 14/14.0 [00:00<00:00, 137.53it/s]\n",
      "train epoch: 100%|██████████| 105/105.0 [00:01<00:00, 86.70it/s]\n",
      "val epoch: 100%|██████████| 14/14.0 [00:00<00:00, 162.19it/s]\n",
      "train epoch: 100%|██████████| 105/105.0 [00:01<00:00, 89.31it/s]\n",
      "val epoch: 100%|██████████| 14/14.0 [00:00<00:00, 143.22it/s]\n",
      "train epoch: 100%|██████████| 105/105.0 [00:01<00:00, 89.00it/s]\n",
      "val epoch: 100%|██████████| 14/14.0 [00:00<00:00, 133.64it/s]\n",
      "train epoch: 100%|██████████| 105/105.0 [00:01<00:00, 85.73it/s]\n",
      "val epoch: 100%|██████████| 14/14.0 [00:00<00:00, 147.59it/s]\n",
      "train epoch: 100%|██████████| 105/105.0 [00:01<00:00, 82.45it/s]\n",
      "val epoch: 100%|██████████| 14/14.0 [00:00<00:00, 117.79it/s]\n"
     ]
    },
    {
     "data": {
      "text/html": [
       "\n",
       "    <style>\n",
       "        .wandb-row {\n",
       "            display: flex;\n",
       "            flex-direction: row;\n",
       "            flex-wrap: wrap;\n",
       "            justify-content: flex-start;\n",
       "            width: 100%;\n",
       "        }\n",
       "        .wandb-col {\n",
       "            display: flex;\n",
       "            flex-direction: column;\n",
       "            flex-basis: 100%;\n",
       "            flex: 1;\n",
       "            padding: 10px;\n",
       "        }\n",
       "    </style>\n",
       "<div class=\"wandb-row\"><div class=\"wandb-col\"><h3>Run history:</h3><br/><table class=\"wandb\"><tr><td>train/MAE</td><td>█▃▂▃▃▁▂▄▁▄</td></tr><tr><td>train/MSE</td><td>█▂▂▃▃▁▂▃▁▅</td></tr><tr><td>train/Max Error</td><td>▄▄▄█▃▃▁▆▃▃</td></tr><tr><td>train/loss</td><td>█▁▂▄▄█▅▆▄▁</td></tr><tr><td>validation/MAE</td><td>▄▂▂▆▄▂▄▅█▁</td></tr><tr><td>validation/MSE</td><td>▃▂▃▅▅▄▅▆█▁</td></tr><tr><td>validation/Max Error</td><td>▄▃▃▁███▃▆▃</td></tr><tr><td>validation/loss</td><td>▆▄██▅▁▅▃▆▂</td></tr></table><br/></div><div class=\"wandb-col\"><h3>Run summary:</h3><br/><table class=\"wandb\"><tr><td>train/MAE</td><td>1.01603</td></tr><tr><td>train/MSE</td><td>1.58697</td></tr><tr><td>train/Max Error</td><td>4.06519</td></tr><tr><td>train/loss</td><td>1.44043</td></tr><tr><td>validation/MAE</td><td>1.00151</td></tr><tr><td>validation/MSE</td><td>1.49483</td></tr><tr><td>validation/Max Error</td><td>3.57504</td></tr><tr><td>validation/loss</td><td>1.15481</td></tr></table><br/></div></div>"
      ],
      "text/plain": [
       "<IPython.core.display.HTML object>"
      ]
     },
     "metadata": {},
     "output_type": "display_data"
    },
    {
     "data": {
      "text/html": [
       " View run <strong style=\"color:#cdcd00\">LIPO GCN 5-16, custom dataset</strong> at: <a href='https://wandb.ai/cus-tibor-none/ToxicML/runs/gz7wec9e' target=\"_blank\">https://wandb.ai/cus-tibor-none/ToxicML/runs/gz7wec9e</a><br/> View project at: <a href='https://wandb.ai/cus-tibor-none/ToxicML' target=\"_blank\">https://wandb.ai/cus-tibor-none/ToxicML</a><br/>Synced 5 W&B file(s), 0 media file(s), 8 artifact file(s) and 4 other file(s)"
      ],
      "text/plain": [
       "<IPython.core.display.HTML object>"
      ]
     },
     "metadata": {},
     "output_type": "display_data"
    },
    {
     "data": {
      "text/html": [
       "Find logs at: <code>./wandb/run-20241208_135920-gz7wec9e/logs</code>"
      ],
      "text/plain": [
       "<IPython.core.display.HTML object>"
      ]
     },
     "metadata": {},
     "output_type": "display_data"
    }
   ],
   "source": [
    "from ToxicMl.MLmodels.gcn import GCNReg, ChemGCNReg\n",
    "model = ChemGCNReg(5, 133, 16, 1)\n",
    "optimizer = torch.optim.Adam(model.parameters())\n",
    "lr_scheduler = torch.optim.lr_scheduler.ExponentialLR(optimizer, gamma = 0.09)\n",
    "loss_fn = torch.nn.MSELoss()\n",
    "device = torch.device('cuda' if torch.cuda.is_available() else 'cpu')\n",
    "\n",
    "trainer = GenericRegressionTrainer(\n",
    "    model,\n",
    "    optimizer,\n",
    "    loss_fn,\n",
    "    lr_scheduler,\n",
    "    train_metrics,\n",
    "    validation_metrics,\n",
    "    train,\n",
    "    validation,\n",
    "    test,\n",
    "    device,\n",
    "    None,\n",
    "    EPOCHS,\n",
    "    None,\n",
    "    32\n",
    ")\n",
    "\n",
    "trainer.train(\"LIPO GCN 5-16, custom dataset\")"
   ]
  },
  {
   "cell_type": "code",
   "execution_count": 8,
   "metadata": {},
   "outputs": [
    {
     "name": "stderr",
     "output_type": "stream",
     "text": [
      "/home/tibor/Documents/msc-datascience/2024w/Toxic/ToxicML/.venv/lib/python3.12/site-packages/torch_geometric/deprecation.py:26: UserWarning: 'data.DataLoader' is deprecated, use 'loader.DataLoader' instead\n",
      "  warnings.warn(out)\n"
     ]
    },
    {
     "data": {
      "text/html": [
       "Tracking run with wandb version 0.18.7"
      ],
      "text/plain": [
       "<IPython.core.display.HTML object>"
      ]
     },
     "metadata": {},
     "output_type": "display_data"
    },
    {
     "data": {
      "text/html": [
       "Run data is saved locally in <code>/home/tibor/Documents/msc-datascience/2024w/Toxic/ToxicML/ToxicMl/wandb/run-20241208_135939-1w888jl4</code>"
      ],
      "text/plain": [
       "<IPython.core.display.HTML object>"
      ]
     },
     "metadata": {},
     "output_type": "display_data"
    },
    {
     "data": {
      "text/html": [
       "Syncing run <strong><a href='https://wandb.ai/cus-tibor-none/ToxicML/runs/1w888jl4' target=\"_blank\">LIPO GCN 5-32, custom dataset</a></strong> to <a href='https://wandb.ai/cus-tibor-none/ToxicML' target=\"_blank\">Weights & Biases</a> (<a href='https://wandb.me/developer-guide' target=\"_blank\">docs</a>)<br/>"
      ],
      "text/plain": [
       "<IPython.core.display.HTML object>"
      ]
     },
     "metadata": {},
     "output_type": "display_data"
    },
    {
     "data": {
      "text/html": [
       " View project at <a href='https://wandb.ai/cus-tibor-none/ToxicML' target=\"_blank\">https://wandb.ai/cus-tibor-none/ToxicML</a>"
      ],
      "text/plain": [
       "<IPython.core.display.HTML object>"
      ]
     },
     "metadata": {},
     "output_type": "display_data"
    },
    {
     "data": {
      "text/html": [
       " View run at <a href='https://wandb.ai/cus-tibor-none/ToxicML/runs/1w888jl4' target=\"_blank\">https://wandb.ai/cus-tibor-none/ToxicML/runs/1w888jl4</a>"
      ],
      "text/plain": [
       "<IPython.core.display.HTML object>"
      ]
     },
     "metadata": {},
     "output_type": "display_data"
    },
    {
     "name": "stderr",
     "output_type": "stream",
     "text": [
      "train epoch:   0%|          | 0/105.0 [00:00<?, ?it/s]/home/tibor/Documents/msc-datascience/2024w/Toxic/ToxicML/.venv/lib/python3.12/site-packages/torch/nn/modules/loss.py:608: UserWarning: Using a target size (torch.Size([32])) that is different to the input size (torch.Size([32, 1])). This will likely lead to incorrect results due to broadcasting. Please ensure they have the same size.\n",
      "  return F.mse_loss(input, target, reduction=self.reduction)\n",
      "train epoch: 100%|██████████| 105/105.0 [00:01<00:00, 82.65it/s]\n",
      "val epoch:   0%|          | 0/14.0 [00:00<?, ?it/s]/home/tibor/Documents/msc-datascience/2024w/Toxic/ToxicML/.venv/lib/python3.12/site-packages/torch/nn/modules/loss.py:608: UserWarning: Using a target size (torch.Size([4])) that is different to the input size (torch.Size([4, 1])). This will likely lead to incorrect results due to broadcasting. Please ensure they have the same size.\n",
      "  return F.mse_loss(input, target, reduction=self.reduction)\n",
      "val epoch: 100%|██████████| 14/14.0 [00:00<00:00, 137.16it/s]\n",
      "train epoch: 100%|██████████| 105/105.0 [00:01<00:00, 74.16it/s]\n",
      "val epoch: 100%|██████████| 14/14.0 [00:00<00:00, 116.95it/s]\n",
      "train epoch: 100%|██████████| 105/105.0 [00:01<00:00, 80.30it/s]\n",
      "val epoch: 100%|██████████| 14/14.0 [00:00<00:00, 151.86it/s]\n",
      "train epoch: 100%|██████████| 105/105.0 [00:01<00:00, 96.10it/s]\n",
      "val epoch: 100%|██████████| 14/14.0 [00:00<00:00, 169.61it/s]\n",
      "train epoch: 100%|██████████| 105/105.0 [00:01<00:00, 90.60it/s]\n",
      "val epoch: 100%|██████████| 14/14.0 [00:00<00:00, 133.24it/s]\n",
      "train epoch: 100%|██████████| 105/105.0 [00:01<00:00, 92.68it/s]\n",
      "val epoch: 100%|██████████| 14/14.0 [00:00<00:00, 171.73it/s]\n",
      "train epoch: 100%|██████████| 105/105.0 [00:01<00:00, 72.92it/s]\n",
      "val epoch: 100%|██████████| 14/14.0 [00:00<00:00, 129.55it/s]\n",
      "train epoch: 100%|██████████| 105/105.0 [00:01<00:00, 76.74it/s]\n",
      "val epoch: 100%|██████████| 14/14.0 [00:00<00:00, 128.83it/s]\n",
      "train epoch: 100%|██████████| 105/105.0 [00:01<00:00, 74.67it/s]\n",
      "val epoch: 100%|██████████| 14/14.0 [00:00<00:00, 132.84it/s]\n",
      "train epoch: 100%|██████████| 105/105.0 [00:01<00:00, 73.73it/s]\n",
      "val epoch: 100%|██████████| 14/14.0 [00:00<00:00, 137.18it/s]\n"
     ]
    },
    {
     "data": {
      "text/html": [
       "\n",
       "    <style>\n",
       "        .wandb-row {\n",
       "            display: flex;\n",
       "            flex-direction: row;\n",
       "            flex-wrap: wrap;\n",
       "            justify-content: flex-start;\n",
       "            width: 100%;\n",
       "        }\n",
       "        .wandb-col {\n",
       "            display: flex;\n",
       "            flex-direction: column;\n",
       "            flex-basis: 100%;\n",
       "            flex: 1;\n",
       "            padding: 10px;\n",
       "        }\n",
       "    </style>\n",
       "<div class=\"wandb-row\"><div class=\"wandb-col\"><h3>Run history:</h3><br/><table class=\"wandb\"><tr><td>train/MAE</td><td>█▂▂▂▂▁▁▁▃▂</td></tr><tr><td>train/MSE</td><td>█▂▂▁▂▁▁▁▂▂</td></tr><tr><td>train/Max Error</td><td>▄▆▇▇█▄▅▁▁▄</td></tr><tr><td>train/loss</td><td>█▄▂█▁█▆▄▆▆</td></tr><tr><td>validation/MAE</td><td>█▄▄▃▄▅▁▆▄▅</td></tr><tr><td>validation/MSE</td><td>▇▂▁▂▂▃▁█▂▂</td></tr><tr><td>validation/Max Error</td><td>▇▂▁▃▂▄▁█▃▂</td></tr><tr><td>validation/loss</td><td>▁▃█▆▂▅▆▃▁▄</td></tr></table><br/></div><div class=\"wandb-col\"><h3>Run summary:</h3><br/><table class=\"wandb\"><tr><td>train/MAE</td><td>1.00775</td></tr><tr><td>train/MSE</td><td>1.55886</td></tr><tr><td>train/Max Error</td><td>4.30223</td></tr><tr><td>train/loss</td><td>1.56228</td></tr><tr><td>validation/MAE</td><td>1.04556</td></tr><tr><td>validation/MSE</td><td>1.81206</td></tr><tr><td>validation/Max Error</td><td>9.50298</td></tr><tr><td>validation/loss</td><td>1.61228</td></tr></table><br/></div></div>"
      ],
      "text/plain": [
       "<IPython.core.display.HTML object>"
      ]
     },
     "metadata": {},
     "output_type": "display_data"
    },
    {
     "data": {
      "text/html": [
       " View run <strong style=\"color:#cdcd00\">LIPO GCN 5-32, custom dataset</strong> at: <a href='https://wandb.ai/cus-tibor-none/ToxicML/runs/1w888jl4' target=\"_blank\">https://wandb.ai/cus-tibor-none/ToxicML/runs/1w888jl4</a><br/> View project at: <a href='https://wandb.ai/cus-tibor-none/ToxicML' target=\"_blank\">https://wandb.ai/cus-tibor-none/ToxicML</a><br/>Synced 5 W&B file(s), 0 media file(s), 8 artifact file(s) and 4 other file(s)"
      ],
      "text/plain": [
       "<IPython.core.display.HTML object>"
      ]
     },
     "metadata": {},
     "output_type": "display_data"
    },
    {
     "data": {
      "text/html": [
       "Find logs at: <code>./wandb/run-20241208_135939-1w888jl4/logs</code>"
      ],
      "text/plain": [
       "<IPython.core.display.HTML object>"
      ]
     },
     "metadata": {},
     "output_type": "display_data"
    }
   ],
   "source": [
    "from ToxicMl.MLmodels.gcn import GCNReg, ChemGCNReg\n",
    "model = ChemGCNReg(5, 133, 32, 1)\n",
    "optimizer = torch.optim.Adam(model.parameters())\n",
    "lr_scheduler = torch.optim.lr_scheduler.ExponentialLR(optimizer, gamma = 0.09)\n",
    "loss_fn = torch.nn.MSELoss()\n",
    "device = torch.device('cuda' if torch.cuda.is_available() else 'cpu')\n",
    "\n",
    "trainer = GenericRegressionTrainer(\n",
    "    model,\n",
    "    optimizer,\n",
    "    loss_fn,\n",
    "    lr_scheduler,\n",
    "    train_metrics,\n",
    "    validation_metrics,\n",
    "    train,\n",
    "    validation,\n",
    "    test,\n",
    "    device,\n",
    "    None,\n",
    "    EPOCHS,\n",
    "    None,\n",
    "    32\n",
    ")\n",
    "\n",
    "trainer.train(\"LIPO GCN 5-32, custom dataset\")"
   ]
  },
  {
   "cell_type": "code",
   "execution_count": 9,
   "metadata": {},
   "outputs": [
    {
     "name": "stderr",
     "output_type": "stream",
     "text": [
      "/home/tibor/Documents/msc-datascience/2024w/Toxic/ToxicML/.venv/lib/python3.12/site-packages/torch_geometric/deprecation.py:26: UserWarning: 'data.DataLoader' is deprecated, use 'loader.DataLoader' instead\n",
      "  warnings.warn(out)\n"
     ]
    },
    {
     "data": {
      "text/html": [
       "Tracking run with wandb version 0.18.7"
      ],
      "text/plain": [
       "<IPython.core.display.HTML object>"
      ]
     },
     "metadata": {},
     "output_type": "display_data"
    },
    {
     "data": {
      "text/html": [
       "Run data is saved locally in <code>/home/tibor/Documents/msc-datascience/2024w/Toxic/ToxicML/ToxicMl/wandb/run-20241208_140000-kinf534x</code>"
      ],
      "text/plain": [
       "<IPython.core.display.HTML object>"
      ]
     },
     "metadata": {},
     "output_type": "display_data"
    },
    {
     "data": {
      "text/html": [
       "Syncing run <strong><a href='https://wandb.ai/cus-tibor-none/ToxicML/runs/kinf534x' target=\"_blank\">LIPO GCN 5-64, custom dataset</a></strong> to <a href='https://wandb.ai/cus-tibor-none/ToxicML' target=\"_blank\">Weights & Biases</a> (<a href='https://wandb.me/developer-guide' target=\"_blank\">docs</a>)<br/>"
      ],
      "text/plain": [
       "<IPython.core.display.HTML object>"
      ]
     },
     "metadata": {},
     "output_type": "display_data"
    },
    {
     "data": {
      "text/html": [
       " View project at <a href='https://wandb.ai/cus-tibor-none/ToxicML' target=\"_blank\">https://wandb.ai/cus-tibor-none/ToxicML</a>"
      ],
      "text/plain": [
       "<IPython.core.display.HTML object>"
      ]
     },
     "metadata": {},
     "output_type": "display_data"
    },
    {
     "data": {
      "text/html": [
       " View run at <a href='https://wandb.ai/cus-tibor-none/ToxicML/runs/kinf534x' target=\"_blank\">https://wandb.ai/cus-tibor-none/ToxicML/runs/kinf534x</a>"
      ],
      "text/plain": [
       "<IPython.core.display.HTML object>"
      ]
     },
     "metadata": {},
     "output_type": "display_data"
    },
    {
     "name": "stderr",
     "output_type": "stream",
     "text": [
      "train epoch:   0%|          | 0/105.0 [00:00<?, ?it/s]/home/tibor/Documents/msc-datascience/2024w/Toxic/ToxicML/.venv/lib/python3.12/site-packages/torch/nn/modules/loss.py:608: UserWarning: Using a target size (torch.Size([32])) that is different to the input size (torch.Size([32, 1])). This will likely lead to incorrect results due to broadcasting. Please ensure they have the same size.\n",
      "  return F.mse_loss(input, target, reduction=self.reduction)\n",
      "train epoch: 100%|██████████| 105/105.0 [00:01<00:00, 81.24it/s]\n",
      "val epoch:   0%|          | 0/14.0 [00:00<?, ?it/s]/home/tibor/Documents/msc-datascience/2024w/Toxic/ToxicML/.venv/lib/python3.12/site-packages/torch/nn/modules/loss.py:608: UserWarning: Using a target size (torch.Size([4])) that is different to the input size (torch.Size([4, 1])). This will likely lead to incorrect results due to broadcasting. Please ensure they have the same size.\n",
      "  return F.mse_loss(input, target, reduction=self.reduction)\n",
      "val epoch: 100%|██████████| 14/14.0 [00:00<00:00, 133.40it/s]\n",
      "train epoch: 100%|██████████| 105/105.0 [00:01<00:00, 82.55it/s]\n",
      "val epoch: 100%|██████████| 14/14.0 [00:00<00:00, 125.93it/s]\n",
      "train epoch: 100%|██████████| 105/105.0 [00:01<00:00, 72.07it/s]\n",
      "val epoch: 100%|██████████| 14/14.0 [00:00<00:00, 123.47it/s]\n",
      "train epoch: 100%|██████████| 105/105.0 [00:01<00:00, 63.96it/s]\n",
      "val epoch: 100%|██████████| 14/14.0 [00:00<00:00, 132.23it/s]\n",
      "train epoch: 100%|██████████| 105/105.0 [00:01<00:00, 67.00it/s]\n",
      "val epoch: 100%|██████████| 14/14.0 [00:00<00:00, 117.22it/s]\n",
      "train epoch: 100%|██████████| 105/105.0 [00:01<00:00, 65.69it/s]\n",
      "val epoch: 100%|██████████| 14/14.0 [00:00<00:00, 124.61it/s]\n",
      "train epoch: 100%|██████████| 105/105.0 [00:01<00:00, 68.26it/s]\n",
      "val epoch: 100%|██████████| 14/14.0 [00:00<00:00, 106.87it/s]\n",
      "train epoch: 100%|██████████| 105/105.0 [00:01<00:00, 64.85it/s]\n",
      "val epoch: 100%|██████████| 14/14.0 [00:00<00:00, 108.36it/s]\n",
      "train epoch: 100%|██████████| 105/105.0 [00:01<00:00, 66.51it/s]\n",
      "val epoch: 100%|██████████| 14/14.0 [00:00<00:00, 122.99it/s]\n",
      "train epoch: 100%|██████████| 105/105.0 [00:01<00:00, 68.96it/s]\n",
      "val epoch: 100%|██████████| 14/14.0 [00:00<00:00, 119.33it/s]\n"
     ]
    },
    {
     "data": {
      "text/html": [
       "\n",
       "    <style>\n",
       "        .wandb-row {\n",
       "            display: flex;\n",
       "            flex-direction: row;\n",
       "            flex-wrap: wrap;\n",
       "            justify-content: flex-start;\n",
       "            width: 100%;\n",
       "        }\n",
       "        .wandb-col {\n",
       "            display: flex;\n",
       "            flex-direction: column;\n",
       "            flex-basis: 100%;\n",
       "            flex: 1;\n",
       "            padding: 10px;\n",
       "        }\n",
       "    </style>\n",
       "<div class=\"wandb-row\"><div class=\"wandb-col\"><h3>Run history:</h3><br/><table class=\"wandb\"><tr><td>train/MAE</td><td>█▃▂▁▂▁▂▂▂▁</td></tr><tr><td>train/MSE</td><td>█▂▂▁▂▁▂▂▂▂</td></tr><tr><td>train/Max Error</td><td>▇▃█▅▁▁▄▁▂▂</td></tr><tr><td>train/loss</td><td>█▅▅▂▁▄▅▆▄▁</td></tr><tr><td>validation/MAE</td><td>▁▃▃▆▁▃▅▃▄█</td></tr><tr><td>validation/MSE</td><td>▁▅▅█▂▃▄▄▄█</td></tr><tr><td>validation/Max Error</td><td>▁▅▆█▂▂▁▃▂█</td></tr><tr><td>validation/loss</td><td>▃▁▃▁▄█▁▃▄▄</td></tr></table><br/></div><div class=\"wandb-col\"><h3>Run summary:</h3><br/><table class=\"wandb\"><tr><td>train/MAE</td><td>0.968</td></tr><tr><td>train/MSE</td><td>1.44149</td></tr><tr><td>train/Max Error</td><td>4.09774</td></tr><tr><td>train/loss</td><td>1.42078</td></tr><tr><td>validation/MAE</td><td>1.03351</td></tr><tr><td>validation/MSE</td><td>1.83342</td></tr><tr><td>validation/Max Error</td><td>11.90589</td></tr><tr><td>validation/loss</td><td>2.06807</td></tr></table><br/></div></div>"
      ],
      "text/plain": [
       "<IPython.core.display.HTML object>"
      ]
     },
     "metadata": {},
     "output_type": "display_data"
    },
    {
     "data": {
      "text/html": [
       " View run <strong style=\"color:#cdcd00\">LIPO GCN 5-64, custom dataset</strong> at: <a href='https://wandb.ai/cus-tibor-none/ToxicML/runs/kinf534x' target=\"_blank\">https://wandb.ai/cus-tibor-none/ToxicML/runs/kinf534x</a><br/> View project at: <a href='https://wandb.ai/cus-tibor-none/ToxicML' target=\"_blank\">https://wandb.ai/cus-tibor-none/ToxicML</a><br/>Synced 5 W&B file(s), 0 media file(s), 8 artifact file(s) and 4 other file(s)"
      ],
      "text/plain": [
       "<IPython.core.display.HTML object>"
      ]
     },
     "metadata": {},
     "output_type": "display_data"
    },
    {
     "data": {
      "text/html": [
       "Find logs at: <code>./wandb/run-20241208_140000-kinf534x/logs</code>"
      ],
      "text/plain": [
       "<IPython.core.display.HTML object>"
      ]
     },
     "metadata": {},
     "output_type": "display_data"
    }
   ],
   "source": [
    "from ToxicMl.MLmodels.gcn import GCNReg, ChemGCNReg\n",
    "model = ChemGCNReg(5, 133, 64, 1)\n",
    "optimizer = torch.optim.Adam(model.parameters())\n",
    "lr_scheduler = torch.optim.lr_scheduler.ExponentialLR(optimizer, gamma = 0.09)\n",
    "loss_fn = torch.nn.MSELoss()\n",
    "device = torch.device('cuda' if torch.cuda.is_available() else 'cpu')\n",
    "\n",
    "trainer = GenericRegressionTrainer(\n",
    "    model,\n",
    "    optimizer,\n",
    "    loss_fn,\n",
    "    lr_scheduler,\n",
    "    train_metrics,\n",
    "    validation_metrics,\n",
    "    train,\n",
    "    validation,\n",
    "    test,\n",
    "    device,\n",
    "    None,\n",
    "    EPOCHS,\n",
    "    None,\n",
    "    32\n",
    ")\n",
    "\n",
    "trainer.train(\"LIPO GCN 5-64, custom dataset\")"
   ]
  },
  {
   "cell_type": "code",
   "execution_count": 10,
   "metadata": {},
   "outputs": [
    {
     "name": "stderr",
     "output_type": "stream",
     "text": [
      "/home/tibor/Documents/msc-datascience/2024w/Toxic/ToxicML/.venv/lib/python3.12/site-packages/torch_geometric/deprecation.py:26: UserWarning: 'data.DataLoader' is deprecated, use 'loader.DataLoader' instead\n",
      "  warnings.warn(out)\n"
     ]
    },
    {
     "data": {
      "text/html": [
       "Tracking run with wandb version 0.18.7"
      ],
      "text/plain": [
       "<IPython.core.display.HTML object>"
      ]
     },
     "metadata": {},
     "output_type": "display_data"
    },
    {
     "data": {
      "text/html": [
       "Run data is saved locally in <code>/home/tibor/Documents/msc-datascience/2024w/Toxic/ToxicML/ToxicMl/wandb/run-20241208_140023-vfgl2hds</code>"
      ],
      "text/plain": [
       "<IPython.core.display.HTML object>"
      ]
     },
     "metadata": {},
     "output_type": "display_data"
    },
    {
     "data": {
      "text/html": [
       "Syncing run <strong><a href='https://wandb.ai/cus-tibor-none/ToxicML/runs/vfgl2hds' target=\"_blank\">LIPO GCN 5-128, custom dataset</a></strong> to <a href='https://wandb.ai/cus-tibor-none/ToxicML' target=\"_blank\">Weights & Biases</a> (<a href='https://wandb.me/developer-guide' target=\"_blank\">docs</a>)<br/>"
      ],
      "text/plain": [
       "<IPython.core.display.HTML object>"
      ]
     },
     "metadata": {},
     "output_type": "display_data"
    },
    {
     "data": {
      "text/html": [
       " View project at <a href='https://wandb.ai/cus-tibor-none/ToxicML' target=\"_blank\">https://wandb.ai/cus-tibor-none/ToxicML</a>"
      ],
      "text/plain": [
       "<IPython.core.display.HTML object>"
      ]
     },
     "metadata": {},
     "output_type": "display_data"
    },
    {
     "data": {
      "text/html": [
       " View run at <a href='https://wandb.ai/cus-tibor-none/ToxicML/runs/vfgl2hds' target=\"_blank\">https://wandb.ai/cus-tibor-none/ToxicML/runs/vfgl2hds</a>"
      ],
      "text/plain": [
       "<IPython.core.display.HTML object>"
      ]
     },
     "metadata": {},
     "output_type": "display_data"
    },
    {
     "name": "stderr",
     "output_type": "stream",
     "text": [
      "train epoch:   0%|          | 0/105.0 [00:00<?, ?it/s]/home/tibor/Documents/msc-datascience/2024w/Toxic/ToxicML/.venv/lib/python3.12/site-packages/torch/nn/modules/loss.py:608: UserWarning: Using a target size (torch.Size([32])) that is different to the input size (torch.Size([32, 1])). This will likely lead to incorrect results due to broadcasting. Please ensure they have the same size.\n",
      "  return F.mse_loss(input, target, reduction=self.reduction)\n",
      "train epoch: 100%|██████████| 105/105.0 [00:01<00:00, 54.86it/s]\n",
      "val epoch:  79%|███████▊  | 11/14.0 [00:00<00:00, 107.09it/s]/home/tibor/Documents/msc-datascience/2024w/Toxic/ToxicML/.venv/lib/python3.12/site-packages/torch/nn/modules/loss.py:608: UserWarning: Using a target size (torch.Size([4])) that is different to the input size (torch.Size([4, 1])). This will likely lead to incorrect results due to broadcasting. Please ensure they have the same size.\n",
      "  return F.mse_loss(input, target, reduction=self.reduction)\n",
      "val epoch: 100%|██████████| 14/14.0 [00:00<00:00, 108.48it/s]\n",
      "train epoch: 100%|██████████| 105/105.0 [00:01<00:00, 53.85it/s]\n",
      "val epoch: 100%|██████████| 14/14.0 [00:00<00:00, 109.36it/s]\n",
      "train epoch: 100%|██████████| 105/105.0 [00:01<00:00, 54.80it/s]\n",
      "val epoch: 100%|██████████| 14/14.0 [00:00<00:00, 99.93it/s] \n",
      "train epoch: 100%|██████████| 105/105.0 [00:02<00:00, 51.45it/s]\n",
      "val epoch: 100%|██████████| 14/14.0 [00:00<00:00, 96.53it/s]\n",
      "train epoch: 100%|██████████| 105/105.0 [00:02<00:00, 51.57it/s]\n",
      "val epoch: 100%|██████████| 14/14.0 [00:00<00:00, 133.34it/s]\n",
      "train epoch: 100%|██████████| 105/105.0 [00:01<00:00, 69.57it/s]\n",
      "val epoch: 100%|██████████| 14/14.0 [00:00<00:00, 110.78it/s]\n",
      "train epoch: 100%|██████████| 105/105.0 [00:01<00:00, 54.17it/s]\n",
      "val epoch: 100%|██████████| 14/14.0 [00:00<00:00, 111.35it/s]\n",
      "train epoch: 100%|██████████| 105/105.0 [00:02<00:00, 52.13it/s]\n",
      "val epoch: 100%|██████████| 14/14.0 [00:00<00:00, 74.93it/s]\n",
      "train epoch: 100%|██████████| 105/105.0 [00:02<00:00, 52.49it/s]\n",
      "val epoch: 100%|██████████| 14/14.0 [00:00<00:00, 93.65it/s]\n",
      "train epoch: 100%|██████████| 105/105.0 [00:02<00:00, 52.05it/s]\n",
      "val epoch: 100%|██████████| 14/14.0 [00:00<00:00, 109.58it/s]\n"
     ]
    },
    {
     "data": {
      "text/html": [
       "\n",
       "    <style>\n",
       "        .wandb-row {\n",
       "            display: flex;\n",
       "            flex-direction: row;\n",
       "            flex-wrap: wrap;\n",
       "            justify-content: flex-start;\n",
       "            width: 100%;\n",
       "        }\n",
       "        .wandb-col {\n",
       "            display: flex;\n",
       "            flex-direction: column;\n",
       "            flex-basis: 100%;\n",
       "            flex: 1;\n",
       "            padding: 10px;\n",
       "        }\n",
       "    </style>\n",
       "<div class=\"wandb-row\"><div class=\"wandb-col\"><h3>Run history:</h3><br/><table class=\"wandb\"><tr><td>train/MAE</td><td>█▅▁▂▃▃▄▃▁▄</td></tr><tr><td>train/MSE</td><td>█▃▁▂▃▂▄▃▁▄</td></tr><tr><td>train/Max Error</td><td>█▇▂▁▄▃▆█▆▄</td></tr><tr><td>train/loss</td><td>█▇▄▁▂▁▄▄▅▃</td></tr><tr><td>validation/MAE</td><td>█▄▅▆▄▁▅▅█▄</td></tr><tr><td>validation/MSE</td><td>▂▂▂▃▁▁▄▂█▂</td></tr><tr><td>validation/Max Error</td><td>▂▁▁▁▂▁▅▂█▁</td></tr><tr><td>validation/loss</td><td>▂▂▁▁▁▁█▁▁▁</td></tr></table><br/></div><div class=\"wandb-col\"><h3>Run summary:</h3><br/><table class=\"wandb\"><tr><td>train/MAE</td><td>0.97979</td></tr><tr><td>train/MSE</td><td>1.47338</td></tr><tr><td>train/Max Error</td><td>4.06218</td></tr><tr><td>train/loss</td><td>1.41963</td></tr><tr><td>validation/MAE</td><td>0.98517</td></tr><tr><td>validation/MSE</td><td>1.48775</td></tr><tr><td>validation/Max Error</td><td>3.50409</td></tr><tr><td>validation/loss</td><td>1.98743</td></tr></table><br/></div></div>"
      ],
      "text/plain": [
       "<IPython.core.display.HTML object>"
      ]
     },
     "metadata": {},
     "output_type": "display_data"
    },
    {
     "data": {
      "text/html": [
       " View run <strong style=\"color:#cdcd00\">LIPO GCN 5-128, custom dataset</strong> at: <a href='https://wandb.ai/cus-tibor-none/ToxicML/runs/vfgl2hds' target=\"_blank\">https://wandb.ai/cus-tibor-none/ToxicML/runs/vfgl2hds</a><br/> View project at: <a href='https://wandb.ai/cus-tibor-none/ToxicML' target=\"_blank\">https://wandb.ai/cus-tibor-none/ToxicML</a><br/>Synced 5 W&B file(s), 0 media file(s), 8 artifact file(s) and 4 other file(s)"
      ],
      "text/plain": [
       "<IPython.core.display.HTML object>"
      ]
     },
     "metadata": {},
     "output_type": "display_data"
    },
    {
     "data": {
      "text/html": [
       "Find logs at: <code>./wandb/run-20241208_140023-vfgl2hds/logs</code>"
      ],
      "text/plain": [
       "<IPython.core.display.HTML object>"
      ]
     },
     "metadata": {},
     "output_type": "display_data"
    }
   ],
   "source": [
    "from ToxicMl.MLmodels.gcn import GCNReg, ChemGCNReg\n",
    "model = ChemGCNReg(5, 133, 128, 1)\n",
    "optimizer = torch.optim.Adam(model.parameters())\n",
    "lr_scheduler = torch.optim.lr_scheduler.ExponentialLR(optimizer, gamma = 0.09)\n",
    "loss_fn = torch.nn.MSELoss()\n",
    "device = torch.device('cuda' if torch.cuda.is_available() else 'cpu')\n",
    "\n",
    "trainer = GenericRegressionTrainer(\n",
    "    model,\n",
    "    optimizer,\n",
    "    loss_fn,\n",
    "    lr_scheduler,\n",
    "    train_metrics,\n",
    "    validation_metrics,\n",
    "    train,\n",
    "    validation,\n",
    "    test,\n",
    "    device,\n",
    "    None,\n",
    "    EPOCHS,\n",
    "    None,\n",
    "    32\n",
    ")\n",
    "\n",
    "trainer.train(\"LIPO GCN 5-128, custom dataset\")"
   ]
  }
 ],
 "metadata": {
  "kernelspec": {
   "display_name": ".venv",
   "language": "python",
   "name": "python3"
  },
  "language_info": {
   "codemirror_mode": {
    "name": "ipython",
    "version": 3
   },
   "file_extension": ".py",
   "mimetype": "text/x-python",
   "name": "python",
   "nbconvert_exporter": "python",
   "pygments_lexer": "ipython3",
   "version": "3.12.7"
  }
 },
 "nbformat": 4,
 "nbformat_minor": 2
}
