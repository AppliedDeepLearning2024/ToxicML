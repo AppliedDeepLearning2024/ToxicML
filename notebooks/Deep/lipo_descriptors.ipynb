{
 "cells": [
  {
   "cell_type": "code",
   "execution_count": 1,
   "metadata": {},
   "outputs": [],
   "source": [
    "from ToxicMl.trainer import GenericRegressionTrainer\n",
    "from ToxicMl.metrics import MAE, MSE, MaxError\n",
    "\n",
    "import torch\n",
    "from ToxicMl.dataset import LipoDataset\n",
    "\n",
    "import torch\n",
    "from pathlib import Path\n",
    "\n",
    "root = Path(\"dataset/ogbg_mollipo_custom\")\n",
    "EPOCHS = 8"
   ]
  },
  {
   "cell_type": "code",
   "execution_count": 2,
   "metadata": {},
   "outputs": [],
   "source": [
    "dataset = LipoDataset(root)\n",
    "split_idx = dataset.get_idx_split() \n",
    "train = dataset[split_idx[\"train\"]]\n",
    "validation = dataset[split_idx[\"valid\"]]\n",
    "test = dataset[split_idx[\"test\"]]\n",
    "\n",
    "train_metrics = [MAE(), MSE(), MaxError()]\n",
    "validation_metrics = [MAE(), MSE(), MaxError()]\n",
    "EPOCHS = 10"
   ]
  },
  {
   "cell_type": "code",
   "execution_count": 8,
   "metadata": {},
   "outputs": [],
   "source": [
    "from ToxicMl.MLmodels.gcn import ChemConvBlock\n",
    "import torch\n",
    "import torch.nn.functional as F\n",
    "\n",
    "from torch.nn import Linear, ReLU\n",
    "from torch_geometric.data import Data\n",
    "from torch_geometric.nn.pool import global_max_pool\n",
    "\n",
    "from torch.nn import BatchNorm1d\n",
    "\n",
    "class ChemConvDescriptorsReg(torch.nn.Module):\n",
    "    def __init__(self, embedder_depth, in_channels, hidden_channels, out_channels, in_descriptors):\n",
    "        super().__init__()\n",
    "        self.in_descriptors = in_descriptors\n",
    "        self.encoder = torch.nn.ModuleList([\n",
    "            ChemConvBlock(in_channels=in_channels, out_channels=hidden_channels)\n",
    "            if i == 0\n",
    "            else ChemConvBlock(in_channels=hidden_channels, out_channels=hidden_channels)\n",
    "            for i in range(embedder_depth)])\n",
    "        self.norm1 = BatchNorm1d(hidden_channels+in_descriptors)\n",
    "        self.linear1 = Linear(hidden_channels+in_descriptors, 64)\n",
    "        self.relu1 = ReLU(inplace=True)\n",
    "        self.linear2 = Linear(64, 32)\n",
    "        self.relu2 = ReLU(inplace=True)\n",
    "        self.linear3 = Linear(32, out_channels)\n",
    "        self.relu3 = ReLU(inplace=True)\n",
    "        \n",
    "\n",
    "    def forward(self, data: Data):\n",
    "        for module in self.encoder:\n",
    "            data = module(data)\n",
    "        x = global_max_pool(data.x, data.batch)\n",
    "\n",
    "\n",
    "        d = data.descriptors.view(-1, self.in_descriptors)\n",
    "        x = torch.cat([x,d], dim=1)\n",
    "        x = self.norm1(x)\n",
    "        x = self.linear1(x)\n",
    "        x = self.relu1(x)\n",
    "        x = self.linear2(x)\n",
    "        x = self.relu2(x)\n",
    "        x = self.linear3(x)\n",
    "        x = self.relu3(x)\n",
    "        return x\n",
    "    "
   ]
  },
  {
   "cell_type": "code",
   "execution_count": 10,
   "metadata": {},
   "outputs": [
    {
     "name": "stderr",
     "output_type": "stream",
     "text": [
      "/home/tibor/Documents/msc-datascience/2024w/Toxic/ToxicML/.venv/lib/python3.12/site-packages/torch_geometric/deprecation.py:26: UserWarning: 'data.DataLoader' is deprecated, use 'loader.DataLoader' instead\n",
      "  warnings.warn(out)\n"
     ]
    },
    {
     "data": {
      "text/html": [
       "Tracking run with wandb version 0.18.7"
      ],
      "text/plain": [
       "<IPython.core.display.HTML object>"
      ]
     },
     "metadata": {},
     "output_type": "display_data"
    },
    {
     "data": {
      "text/html": [
       "Run data is saved locally in <code>/home/tibor/Documents/msc-datascience/2024w/Toxic/ToxicML/ToxicMl/wandb/run-20241208_215256-73eqmb9l</code>"
      ],
      "text/plain": [
       "<IPython.core.display.HTML object>"
      ]
     },
     "metadata": {},
     "output_type": "display_data"
    },
    {
     "data": {
      "text/html": [
       "Syncing run <strong><a href='https://wandb.ai/cus-tibor-none/ToxicML/runs/73eqmb9l' target=\"_blank\">LIPO GCN 3-16, custom dataset, descriptor</a></strong> to <a href='https://wandb.ai/cus-tibor-none/ToxicML' target=\"_blank\">Weights & Biases</a> (<a href='https://wandb.me/developer-guide' target=\"_blank\">docs</a>)<br/>"
      ],
      "text/plain": [
       "<IPython.core.display.HTML object>"
      ]
     },
     "metadata": {},
     "output_type": "display_data"
    },
    {
     "data": {
      "text/html": [
       " View project at <a href='https://wandb.ai/cus-tibor-none/ToxicML' target=\"_blank\">https://wandb.ai/cus-tibor-none/ToxicML</a>"
      ],
      "text/plain": [
       "<IPython.core.display.HTML object>"
      ]
     },
     "metadata": {},
     "output_type": "display_data"
    },
    {
     "data": {
      "text/html": [
       " View run at <a href='https://wandb.ai/cus-tibor-none/ToxicML/runs/73eqmb9l' target=\"_blank\">https://wandb.ai/cus-tibor-none/ToxicML/runs/73eqmb9l</a>"
      ],
      "text/plain": [
       "<IPython.core.display.HTML object>"
      ]
     },
     "metadata": {},
     "output_type": "display_data"
    },
    {
     "name": "stderr",
     "output_type": "stream",
     "text": [
      "train epoch:   0%|          | 0/105.0 [00:00<?, ?it/s]/home/tibor/Documents/msc-datascience/2024w/Toxic/ToxicML/.venv/lib/python3.12/site-packages/torch/nn/modules/loss.py:608: UserWarning: Using a target size (torch.Size([32])) that is different to the input size (torch.Size([32, 1])). This will likely lead to incorrect results due to broadcasting. Please ensure they have the same size.\n",
      "  return F.mse_loss(input, target, reduction=self.reduction)\n",
      "train epoch: 100%|██████████| 105/105.0 [00:00<00:00, 157.59it/s]\n",
      "val epoch:   0%|          | 0/14.0 [00:00<?, ?it/s]/home/tibor/Documents/msc-datascience/2024w/Toxic/ToxicML/.venv/lib/python3.12/site-packages/torch/nn/modules/loss.py:608: UserWarning: Using a target size (torch.Size([4])) that is different to the input size (torch.Size([4, 1])). This will likely lead to incorrect results due to broadcasting. Please ensure they have the same size.\n",
      "  return F.mse_loss(input, target, reduction=self.reduction)\n",
      "val epoch: 100%|██████████| 14/14.0 [00:00<00:00, 237.90it/s]\n",
      "train epoch: 100%|██████████| 105/105.0 [00:00<00:00, 138.89it/s]\n",
      "val epoch: 100%|██████████| 14/14.0 [00:00<00:00, 232.49it/s]\n",
      "train epoch: 100%|██████████| 105/105.0 [00:00<00:00, 149.71it/s]\n",
      "val epoch: 100%|██████████| 14/14.0 [00:00<00:00, 225.44it/s]\n",
      "train epoch: 100%|██████████| 105/105.0 [00:00<00:00, 132.13it/s]\n",
      "val epoch: 100%|██████████| 14/14.0 [00:00<00:00, 232.77it/s]\n",
      "train epoch: 100%|██████████| 105/105.0 [00:00<00:00, 142.96it/s]\n",
      "val epoch: 100%|██████████| 14/14.0 [00:00<00:00, 253.44it/s]\n",
      "train epoch: 100%|██████████| 105/105.0 [00:00<00:00, 142.93it/s]\n",
      "val epoch: 100%|██████████| 14/14.0 [00:00<00:00, 194.00it/s]\n",
      "train epoch: 100%|██████████| 105/105.0 [00:00<00:00, 137.52it/s]\n",
      "val epoch: 100%|██████████| 14/14.0 [00:00<00:00, 232.47it/s]\n",
      "train epoch: 100%|██████████| 105/105.0 [00:00<00:00, 162.23it/s]\n",
      "val epoch: 100%|██████████| 14/14.0 [00:00<00:00, 262.33it/s]\n",
      "train epoch: 100%|██████████| 105/105.0 [00:00<00:00, 151.73it/s]\n",
      "val epoch: 100%|██████████| 14/14.0 [00:00<00:00, 239.14it/s]\n",
      "train epoch: 100%|██████████| 105/105.0 [00:00<00:00, 142.55it/s]\n",
      "val epoch: 100%|██████████| 14/14.0 [00:00<00:00, 264.58it/s]\n"
     ]
    },
    {
     "data": {
      "text/html": [
       "\n",
       "    <style>\n",
       "        .wandb-row {\n",
       "            display: flex;\n",
       "            flex-direction: row;\n",
       "            flex-wrap: wrap;\n",
       "            justify-content: flex-start;\n",
       "            width: 100%;\n",
       "        }\n",
       "        .wandb-col {\n",
       "            display: flex;\n",
       "            flex-direction: column;\n",
       "            flex-basis: 100%;\n",
       "            flex: 1;\n",
       "            padding: 10px;\n",
       "        }\n",
       "    </style>\n",
       "<div class=\"wandb-row\"><div class=\"wandb-col\"><h3>Run history:</h3><br/><table class=\"wandb\"><tr><td>train/MAE</td><td>█▁▁▁▁▁▁▁▁▁</td></tr><tr><td>train/MSE</td><td>█▁▁▁▁▁▁▁▁▁</td></tr><tr><td>train/Max Error</td><td>█▂▃▂▁▂▂▁▁▂</td></tr><tr><td>train/loss</td><td>█▁▁▂▂▂▂▂▃▃</td></tr><tr><td>validation/MAE</td><td>▄▄▃▅█▄▁▅▂▂</td></tr><tr><td>validation/MSE</td><td>▁█▇██▇▆█▆▇</td></tr><tr><td>validation/Max Error</td><td>▁█▆▇▆▇▆▇▆▇</td></tr><tr><td>validation/loss</td><td>▁▁▁▁▁▁█▁▁▁</td></tr></table><br/></div><div class=\"wandb-col\"><h3>Run summary:</h3><br/><table class=\"wandb\"><tr><td>train/MAE</td><td>0.97885</td></tr><tr><td>train/MSE</td><td>1.48639</td></tr><tr><td>train/Max Error</td><td>4.72509</td></tr><tr><td>train/loss</td><td>1.38589</td></tr><tr><td>validation/MAE</td><td>1.19882</td></tr><tr><td>validation/MSE</td><td>10.49697</td></tr><tr><td>validation/Max Error</td><td>60.27538</td></tr><tr><td>validation/loss</td><td>1.58488</td></tr></table><br/></div></div>"
      ],
      "text/plain": [
       "<IPython.core.display.HTML object>"
      ]
     },
     "metadata": {},
     "output_type": "display_data"
    },
    {
     "data": {
      "text/html": [
       " View run <strong style=\"color:#cdcd00\">LIPO GCN 3-16, custom dataset, descriptor</strong> at: <a href='https://wandb.ai/cus-tibor-none/ToxicML/runs/73eqmb9l' target=\"_blank\">https://wandb.ai/cus-tibor-none/ToxicML/runs/73eqmb9l</a><br/> View project at: <a href='https://wandb.ai/cus-tibor-none/ToxicML' target=\"_blank\">https://wandb.ai/cus-tibor-none/ToxicML</a><br/>Synced 5 W&B file(s), 0 media file(s), 8 artifact file(s) and 4 other file(s)"
      ],
      "text/plain": [
       "<IPython.core.display.HTML object>"
      ]
     },
     "metadata": {},
     "output_type": "display_data"
    },
    {
     "data": {
      "text/html": [
       "Find logs at: <code>./wandb/run-20241208_215256-73eqmb9l/logs</code>"
      ],
      "text/plain": [
       "<IPython.core.display.HTML object>"
      ]
     },
     "metadata": {},
     "output_type": "display_data"
    }
   ],
   "source": [
    "from ToxicMl.MLmodels.gcn import GCNReg, ChemGCNReg\n",
    "model = ChemConvDescriptorsReg(3, 133, 16, 1, 200)\n",
    "optimizer = torch.optim.Adam(model.parameters())\n",
    "lr_scheduler = torch.optim.lr_scheduler.ExponentialLR(optimizer, gamma = 0.09)\n",
    "loss_fn = torch.nn.MSELoss()\n",
    "device = torch.device('cuda' if torch.cuda.is_available() else 'cpu')\n",
    "\n",
    "trainer = GenericRegressionTrainer(\n",
    "    model,\n",
    "    optimizer,\n",
    "    loss_fn,\n",
    "    lr_scheduler,\n",
    "    train_metrics,\n",
    "    validation_metrics,\n",
    "    train,\n",
    "    validation,\n",
    "    test,\n",
    "    device,\n",
    "    None,\n",
    "    EPOCHS,\n",
    "    None,\n",
    "    32\n",
    ")\n",
    "\n",
    "trainer.train(\"LIPO GCN 3-16, custom dataset, descriptor\")"
   ]
  },
  {
   "cell_type": "code",
   "execution_count": 11,
   "metadata": {},
   "outputs": [
    {
     "name": "stderr",
     "output_type": "stream",
     "text": [
      "/home/tibor/Documents/msc-datascience/2024w/Toxic/ToxicML/.venv/lib/python3.12/site-packages/torch_geometric/deprecation.py:26: UserWarning: 'data.DataLoader' is deprecated, use 'loader.DataLoader' instead\n",
      "  warnings.warn(out)\n"
     ]
    },
    {
     "data": {
      "text/html": [
       "Tracking run with wandb version 0.18.7"
      ],
      "text/plain": [
       "<IPython.core.display.HTML object>"
      ]
     },
     "metadata": {},
     "output_type": "display_data"
    },
    {
     "data": {
      "text/html": [
       "Run data is saved locally in <code>/home/tibor/Documents/msc-datascience/2024w/Toxic/ToxicML/ToxicMl/wandb/run-20241208_215315-77jo22qp</code>"
      ],
      "text/plain": [
       "<IPython.core.display.HTML object>"
      ]
     },
     "metadata": {},
     "output_type": "display_data"
    },
    {
     "data": {
      "text/html": [
       "Syncing run <strong><a href='https://wandb.ai/cus-tibor-none/ToxicML/runs/77jo22qp' target=\"_blank\">LIPO GCN 3-32, custom dataset, descriptor</a></strong> to <a href='https://wandb.ai/cus-tibor-none/ToxicML' target=\"_blank\">Weights & Biases</a> (<a href='https://wandb.me/developer-guide' target=\"_blank\">docs</a>)<br/>"
      ],
      "text/plain": [
       "<IPython.core.display.HTML object>"
      ]
     },
     "metadata": {},
     "output_type": "display_data"
    },
    {
     "data": {
      "text/html": [
       " View project at <a href='https://wandb.ai/cus-tibor-none/ToxicML' target=\"_blank\">https://wandb.ai/cus-tibor-none/ToxicML</a>"
      ],
      "text/plain": [
       "<IPython.core.display.HTML object>"
      ]
     },
     "metadata": {},
     "output_type": "display_data"
    },
    {
     "data": {
      "text/html": [
       " View run at <a href='https://wandb.ai/cus-tibor-none/ToxicML/runs/77jo22qp' target=\"_blank\">https://wandb.ai/cus-tibor-none/ToxicML/runs/77jo22qp</a>"
      ],
      "text/plain": [
       "<IPython.core.display.HTML object>"
      ]
     },
     "metadata": {},
     "output_type": "display_data"
    },
    {
     "name": "stderr",
     "output_type": "stream",
     "text": [
      "train epoch:   0%|          | 0/105.0 [00:00<?, ?it/s]/home/tibor/Documents/msc-datascience/2024w/Toxic/ToxicML/.venv/lib/python3.12/site-packages/torch/nn/modules/loss.py:608: UserWarning: Using a target size (torch.Size([32])) that is different to the input size (torch.Size([32, 1])). This will likely lead to incorrect results due to broadcasting. Please ensure they have the same size.\n",
      "  return F.mse_loss(input, target, reduction=self.reduction)\n",
      "train epoch: 100%|██████████| 105/105.0 [00:00<00:00, 134.65it/s]\n",
      "val epoch:   0%|          | 0/14.0 [00:00<?, ?it/s]/home/tibor/Documents/msc-datascience/2024w/Toxic/ToxicML/.venv/lib/python3.12/site-packages/torch/nn/modules/loss.py:608: UserWarning: Using a target size (torch.Size([4])) that is different to the input size (torch.Size([4, 1])). This will likely lead to incorrect results due to broadcasting. Please ensure they have the same size.\n",
      "  return F.mse_loss(input, target, reduction=self.reduction)\n",
      "val epoch: 100%|██████████| 14/14.0 [00:00<00:00, 228.56it/s]\n",
      "train epoch: 100%|██████████| 105/105.0 [00:00<00:00, 140.02it/s]\n",
      "val epoch: 100%|██████████| 14/14.0 [00:00<00:00, 231.07it/s]\n",
      "train epoch: 100%|██████████| 105/105.0 [00:00<00:00, 146.04it/s]\n",
      "val epoch: 100%|██████████| 14/14.0 [00:00<00:00, 230.93it/s]\n",
      "train epoch: 100%|██████████| 105/105.0 [00:00<00:00, 142.26it/s]\n",
      "val epoch: 100%|██████████| 14/14.0 [00:00<00:00, 229.94it/s]\n",
      "train epoch: 100%|██████████| 105/105.0 [00:00<00:00, 133.27it/s]\n",
      "val epoch: 100%|██████████| 14/14.0 [00:00<00:00, 253.19it/s]\n",
      "train epoch: 100%|██████████| 105/105.0 [00:00<00:00, 138.97it/s]\n",
      "val epoch: 100%|██████████| 14/14.0 [00:00<00:00, 235.60it/s]\n",
      "train epoch: 100%|██████████| 105/105.0 [00:00<00:00, 133.00it/s]\n",
      "val epoch: 100%|██████████| 14/14.0 [00:00<00:00, 237.41it/s]\n",
      "train epoch: 100%|██████████| 105/105.0 [00:00<00:00, 136.14it/s]\n",
      "val epoch: 100%|██████████| 14/14.0 [00:00<00:00, 245.44it/s]\n",
      "train epoch: 100%|██████████| 105/105.0 [00:00<00:00, 129.69it/s]\n",
      "val epoch: 100%|██████████| 14/14.0 [00:00<00:00, 219.88it/s]\n",
      "train epoch: 100%|██████████| 105/105.0 [00:00<00:00, 141.10it/s]\n",
      "val epoch: 100%|██████████| 14/14.0 [00:00<00:00, 228.00it/s]\n"
     ]
    },
    {
     "data": {
      "text/html": [
       "\n",
       "    <style>\n",
       "        .wandb-row {\n",
       "            display: flex;\n",
       "            flex-direction: row;\n",
       "            flex-wrap: wrap;\n",
       "            justify-content: flex-start;\n",
       "            width: 100%;\n",
       "        }\n",
       "        .wandb-col {\n",
       "            display: flex;\n",
       "            flex-direction: column;\n",
       "            flex-basis: 100%;\n",
       "            flex: 1;\n",
       "            padding: 10px;\n",
       "        }\n",
       "    </style>\n",
       "<div class=\"wandb-row\"><div class=\"wandb-col\"><h3>Run history:</h3><br/><table class=\"wandb\"><tr><td>train/MAE</td><td>█▁▁▁▁▁▁▁▁▁</td></tr><tr><td>train/MSE</td><td>█▁▁▁▁▁▁▁▁▁</td></tr><tr><td>train/Max Error</td><td>█▁▁▂▁▁▁▁▁▂</td></tr><tr><td>train/loss</td><td>█▂▂▄▂▃▁▁▁▃</td></tr><tr><td>validation/MAE</td><td>▁▇▅▆▆▇▇▇█▅</td></tr><tr><td>validation/MSE</td><td>▁██▇▇███▇▇</td></tr><tr><td>validation/Max Error</td><td>▁██▇▇███▇█</td></tr><tr><td>validation/loss</td><td>▂▂▃█▂▄▁▄▂▁</td></tr></table><br/></div><div class=\"wandb-col\"><h3>Run summary:</h3><br/><table class=\"wandb\"><tr><td>train/MAE</td><td>0.99053</td></tr><tr><td>train/MSE</td><td>1.52832</td></tr><tr><td>train/Max Error</td><td>4.16707</td></tr><tr><td>train/loss</td><td>1.43532</td></tr><tr><td>validation/MAE</td><td>1.55259</td></tr><tr><td>validation/MSE</td><td>118.19404</td></tr><tr><td>validation/Max Error</td><td>221.23167</td></tr><tr><td>validation/loss</td><td>0.54184</td></tr></table><br/></div></div>"
      ],
      "text/plain": [
       "<IPython.core.display.HTML object>"
      ]
     },
     "metadata": {},
     "output_type": "display_data"
    },
    {
     "data": {
      "text/html": [
       " View run <strong style=\"color:#cdcd00\">LIPO GCN 3-32, custom dataset, descriptor</strong> at: <a href='https://wandb.ai/cus-tibor-none/ToxicML/runs/77jo22qp' target=\"_blank\">https://wandb.ai/cus-tibor-none/ToxicML/runs/77jo22qp</a><br/> View project at: <a href='https://wandb.ai/cus-tibor-none/ToxicML' target=\"_blank\">https://wandb.ai/cus-tibor-none/ToxicML</a><br/>Synced 5 W&B file(s), 0 media file(s), 8 artifact file(s) and 4 other file(s)"
      ],
      "text/plain": [
       "<IPython.core.display.HTML object>"
      ]
     },
     "metadata": {},
     "output_type": "display_data"
    },
    {
     "data": {
      "text/html": [
       "Find logs at: <code>./wandb/run-20241208_215315-77jo22qp/logs</code>"
      ],
      "text/plain": [
       "<IPython.core.display.HTML object>"
      ]
     },
     "metadata": {},
     "output_type": "display_data"
    }
   ],
   "source": [
    "model = ChemConvDescriptorsReg(3, 133, 32, 1, 200)\n",
    "optimizer = torch.optim.Adam(model.parameters())\n",
    "lr_scheduler = torch.optim.lr_scheduler.ExponentialLR(optimizer, gamma = 0.09)\n",
    "loss_fn = torch.nn.MSELoss()\n",
    "device = torch.device('cuda' if torch.cuda.is_available() else 'cpu')\n",
    "\n",
    "trainer = GenericRegressionTrainer(\n",
    "    model,\n",
    "    optimizer,\n",
    "    loss_fn,\n",
    "    lr_scheduler,\n",
    "    train_metrics,\n",
    "    validation_metrics,\n",
    "    train,\n",
    "    validation,\n",
    "    test,\n",
    "    device,\n",
    "    None,\n",
    "    EPOCHS,\n",
    "    None,\n",
    "    32\n",
    ")\n",
    "\n",
    "trainer.train(\"LIPO GCN 3-32, custom dataset, descriptor\")"
   ]
  },
  {
   "cell_type": "code",
   "execution_count": 12,
   "metadata": {},
   "outputs": [
    {
     "name": "stderr",
     "output_type": "stream",
     "text": [
      "/home/tibor/Documents/msc-datascience/2024w/Toxic/ToxicML/.venv/lib/python3.12/site-packages/torch_geometric/deprecation.py:26: UserWarning: 'data.DataLoader' is deprecated, use 'loader.DataLoader' instead\n",
      "  warnings.warn(out)\n"
     ]
    },
    {
     "data": {
      "text/html": [
       "Tracking run with wandb version 0.18.7"
      ],
      "text/plain": [
       "<IPython.core.display.HTML object>"
      ]
     },
     "metadata": {},
     "output_type": "display_data"
    },
    {
     "data": {
      "text/html": [
       "Run data is saved locally in <code>/home/tibor/Documents/msc-datascience/2024w/Toxic/ToxicML/ToxicMl/wandb/run-20241208_215330-ehap6d6a</code>"
      ],
      "text/plain": [
       "<IPython.core.display.HTML object>"
      ]
     },
     "metadata": {},
     "output_type": "display_data"
    },
    {
     "data": {
      "text/html": [
       "Syncing run <strong><a href='https://wandb.ai/cus-tibor-none/ToxicML/runs/ehap6d6a' target=\"_blank\">LIPO GCN 3-64, custom dataset, descriptor</a></strong> to <a href='https://wandb.ai/cus-tibor-none/ToxicML' target=\"_blank\">Weights & Biases</a> (<a href='https://wandb.me/developer-guide' target=\"_blank\">docs</a>)<br/>"
      ],
      "text/plain": [
       "<IPython.core.display.HTML object>"
      ]
     },
     "metadata": {},
     "output_type": "display_data"
    },
    {
     "data": {
      "text/html": [
       " View project at <a href='https://wandb.ai/cus-tibor-none/ToxicML' target=\"_blank\">https://wandb.ai/cus-tibor-none/ToxicML</a>"
      ],
      "text/plain": [
       "<IPython.core.display.HTML object>"
      ]
     },
     "metadata": {},
     "output_type": "display_data"
    },
    {
     "data": {
      "text/html": [
       " View run at <a href='https://wandb.ai/cus-tibor-none/ToxicML/runs/ehap6d6a' target=\"_blank\">https://wandb.ai/cus-tibor-none/ToxicML/runs/ehap6d6a</a>"
      ],
      "text/plain": [
       "<IPython.core.display.HTML object>"
      ]
     },
     "metadata": {},
     "output_type": "display_data"
    },
    {
     "name": "stderr",
     "output_type": "stream",
     "text": [
      "train epoch:   0%|          | 0/105.0 [00:00<?, ?it/s]/home/tibor/Documents/msc-datascience/2024w/Toxic/ToxicML/.venv/lib/python3.12/site-packages/torch/nn/modules/loss.py:608: UserWarning: Using a target size (torch.Size([32])) that is different to the input size (torch.Size([32, 1])). This will likely lead to incorrect results due to broadcasting. Please ensure they have the same size.\n",
      "  return F.mse_loss(input, target, reduction=self.reduction)\n",
      "train epoch: 100%|██████████| 105/105.0 [00:00<00:00, 109.18it/s]\n",
      "val epoch:   0%|          | 0/14.0 [00:00<?, ?it/s]/home/tibor/Documents/msc-datascience/2024w/Toxic/ToxicML/.venv/lib/python3.12/site-packages/torch/nn/modules/loss.py:608: UserWarning: Using a target size (torch.Size([4])) that is different to the input size (torch.Size([4, 1])). This will likely lead to incorrect results due to broadcasting. Please ensure they have the same size.\n",
      "  return F.mse_loss(input, target, reduction=self.reduction)\n",
      "val epoch: 100%|██████████| 14/14.0 [00:00<00:00, 206.37it/s]\n",
      "train epoch: 100%|██████████| 105/105.0 [00:00<00:00, 112.75it/s]\n",
      "val epoch: 100%|██████████| 14/14.0 [00:00<00:00, 214.85it/s]\n",
      "train epoch: 100%|██████████| 105/105.0 [00:00<00:00, 114.79it/s]\n",
      "val epoch: 100%|██████████| 14/14.0 [00:00<00:00, 268.91it/s]\n",
      "train epoch: 100%|██████████| 105/105.0 [00:00<00:00, 138.78it/s]\n",
      "val epoch: 100%|██████████| 14/14.0 [00:00<00:00, 211.88it/s]\n",
      "train epoch: 100%|██████████| 105/105.0 [00:00<00:00, 123.56it/s]\n",
      "val epoch: 100%|██████████| 14/14.0 [00:00<00:00, 242.51it/s]\n",
      "train epoch: 100%|██████████| 105/105.0 [00:00<00:00, 130.90it/s]\n",
      "val epoch: 100%|██████████| 14/14.0 [00:00<00:00, 258.97it/s]\n",
      "train epoch: 100%|██████████| 105/105.0 [00:00<00:00, 136.44it/s]\n",
      "val epoch: 100%|██████████| 14/14.0 [00:00<00:00, 208.86it/s]\n",
      "train epoch: 100%|██████████| 105/105.0 [00:00<00:00, 122.30it/s]\n",
      "val epoch: 100%|██████████| 14/14.0 [00:00<00:00, 215.25it/s]\n",
      "train epoch: 100%|██████████| 105/105.0 [00:00<00:00, 134.29it/s]\n",
      "val epoch: 100%|██████████| 14/14.0 [00:00<00:00, 214.69it/s]\n",
      "train epoch: 100%|██████████| 105/105.0 [00:00<00:00, 126.65it/s]\n",
      "val epoch: 100%|██████████| 14/14.0 [00:00<00:00, 225.90it/s]\n"
     ]
    },
    {
     "data": {
      "text/html": [
       "\n",
       "    <style>\n",
       "        .wandb-row {\n",
       "            display: flex;\n",
       "            flex-direction: row;\n",
       "            flex-wrap: wrap;\n",
       "            justify-content: flex-start;\n",
       "            width: 100%;\n",
       "        }\n",
       "        .wandb-col {\n",
       "            display: flex;\n",
       "            flex-direction: column;\n",
       "            flex-basis: 100%;\n",
       "            flex: 1;\n",
       "            padding: 10px;\n",
       "        }\n",
       "    </style>\n",
       "<div class=\"wandb-row\"><div class=\"wandb-col\"><h3>Run history:</h3><br/><table class=\"wandb\"><tr><td>train/MAE</td><td>█▁▁▁▁▁▁▁▁▁</td></tr><tr><td>train/MSE</td><td>█▁▁▁▁▁▁▁▁▁</td></tr><tr><td>train/Max Error</td><td>█▃▂▂▂▃▁▂▂▁</td></tr><tr><td>train/loss</td><td>█▂▁▂▂▃▁▂▁▂</td></tr><tr><td>validation/MAE</td><td>▇▄▄▆▄▆▄▁█▄</td></tr><tr><td>validation/MSE</td><td>▁▇███▆▆▄█▇</td></tr><tr><td>validation/Max Error</td><td>▁█▇▇▇▅▅▄▄▇</td></tr><tr><td>validation/loss</td><td>█▃▃▁▄▅▂▃▄█</td></tr></table><br/></div><div class=\"wandb-col\"><h3>Run summary:</h3><br/><table class=\"wandb\"><tr><td>train/MAE</td><td>0.99044</td></tr><tr><td>train/MSE</td><td>1.50873</td></tr><tr><td>train/Max Error</td><td>3.89094</td></tr><tr><td>train/loss</td><td>1.39478</td></tr><tr><td>validation/MAE</td><td>1.15028</td></tr><tr><td>validation/MSE</td><td>4.75795</td></tr><tr><td>validation/Max Error</td><td>33.74727</td></tr><tr><td>validation/loss</td><td>3.35059</td></tr></table><br/></div></div>"
      ],
      "text/plain": [
       "<IPython.core.display.HTML object>"
      ]
     },
     "metadata": {},
     "output_type": "display_data"
    },
    {
     "data": {
      "text/html": [
       " View run <strong style=\"color:#cdcd00\">LIPO GCN 3-64, custom dataset, descriptor</strong> at: <a href='https://wandb.ai/cus-tibor-none/ToxicML/runs/ehap6d6a' target=\"_blank\">https://wandb.ai/cus-tibor-none/ToxicML/runs/ehap6d6a</a><br/> View project at: <a href='https://wandb.ai/cus-tibor-none/ToxicML' target=\"_blank\">https://wandb.ai/cus-tibor-none/ToxicML</a><br/>Synced 5 W&B file(s), 0 media file(s), 8 artifact file(s) and 4 other file(s)"
      ],
      "text/plain": [
       "<IPython.core.display.HTML object>"
      ]
     },
     "metadata": {},
     "output_type": "display_data"
    },
    {
     "data": {
      "text/html": [
       "Find logs at: <code>./wandb/run-20241208_215330-ehap6d6a/logs</code>"
      ],
      "text/plain": [
       "<IPython.core.display.HTML object>"
      ]
     },
     "metadata": {},
     "output_type": "display_data"
    }
   ],
   "source": [
    "model = ChemConvDescriptorsReg(3, 133, 64, 1, 200)\n",
    "optimizer = torch.optim.Adam(model.parameters())\n",
    "lr_scheduler = torch.optim.lr_scheduler.ExponentialLR(optimizer, gamma = 0.09)\n",
    "loss_fn = torch.nn.MSELoss()\n",
    "device = torch.device('cuda' if torch.cuda.is_available() else 'cpu')\n",
    "\n",
    "trainer = GenericRegressionTrainer(\n",
    "    model,\n",
    "    optimizer,\n",
    "    loss_fn,\n",
    "    lr_scheduler,\n",
    "    train_metrics,\n",
    "    validation_metrics,\n",
    "    train,\n",
    "    validation,\n",
    "    test,\n",
    "    device,\n",
    "    None,\n",
    "    EPOCHS,\n",
    "    None,\n",
    "    32\n",
    ")\n",
    "\n",
    "trainer.train(\"LIPO GCN 3-64, custom dataset, descriptor\")"
   ]
  },
  {
   "cell_type": "code",
   "execution_count": 13,
   "metadata": {},
   "outputs": [
    {
     "name": "stderr",
     "output_type": "stream",
     "text": [
      "/home/tibor/Documents/msc-datascience/2024w/Toxic/ToxicML/.venv/lib/python3.12/site-packages/torch_geometric/deprecation.py:26: UserWarning: 'data.DataLoader' is deprecated, use 'loader.DataLoader' instead\n",
      "  warnings.warn(out)\n"
     ]
    },
    {
     "data": {
      "text/html": [
       "Tracking run with wandb version 0.18.7"
      ],
      "text/plain": [
       "<IPython.core.display.HTML object>"
      ]
     },
     "metadata": {},
     "output_type": "display_data"
    },
    {
     "data": {
      "text/html": [
       "Run data is saved locally in <code>/home/tibor/Documents/msc-datascience/2024w/Toxic/ToxicML/ToxicMl/wandb/run-20241208_215347-26pmvoca</code>"
      ],
      "text/plain": [
       "<IPython.core.display.HTML object>"
      ]
     },
     "metadata": {},
     "output_type": "display_data"
    },
    {
     "data": {
      "text/html": [
       "Syncing run <strong><a href='https://wandb.ai/cus-tibor-none/ToxicML/runs/26pmvoca' target=\"_blank\">LIPO GCN 5-16, custom dataset, descriptor</a></strong> to <a href='https://wandb.ai/cus-tibor-none/ToxicML' target=\"_blank\">Weights & Biases</a> (<a href='https://wandb.me/developer-guide' target=\"_blank\">docs</a>)<br/>"
      ],
      "text/plain": [
       "<IPython.core.display.HTML object>"
      ]
     },
     "metadata": {},
     "output_type": "display_data"
    },
    {
     "data": {
      "text/html": [
       " View project at <a href='https://wandb.ai/cus-tibor-none/ToxicML' target=\"_blank\">https://wandb.ai/cus-tibor-none/ToxicML</a>"
      ],
      "text/plain": [
       "<IPython.core.display.HTML object>"
      ]
     },
     "metadata": {},
     "output_type": "display_data"
    },
    {
     "data": {
      "text/html": [
       " View run at <a href='https://wandb.ai/cus-tibor-none/ToxicML/runs/26pmvoca' target=\"_blank\">https://wandb.ai/cus-tibor-none/ToxicML/runs/26pmvoca</a>"
      ],
      "text/plain": [
       "<IPython.core.display.HTML object>"
      ]
     },
     "metadata": {},
     "output_type": "display_data"
    },
    {
     "name": "stderr",
     "output_type": "stream",
     "text": [
      "train epoch:   0%|          | 0/105.0 [00:00<?, ?it/s]/home/tibor/Documents/msc-datascience/2024w/Toxic/ToxicML/.venv/lib/python3.12/site-packages/torch/nn/modules/loss.py:608: UserWarning: Using a target size (torch.Size([32])) that is different to the input size (torch.Size([32, 1])). This will likely lead to incorrect results due to broadcasting. Please ensure they have the same size.\n",
      "  return F.mse_loss(input, target, reduction=self.reduction)\n",
      "train epoch: 100%|██████████| 105/105.0 [00:00<00:00, 112.73it/s]\n",
      "val epoch:   0%|          | 0/14.0 [00:00<?, ?it/s]/home/tibor/Documents/msc-datascience/2024w/Toxic/ToxicML/.venv/lib/python3.12/site-packages/torch/nn/modules/loss.py:608: UserWarning: Using a target size (torch.Size([4])) that is different to the input size (torch.Size([4, 1])). This will likely lead to incorrect results due to broadcasting. Please ensure they have the same size.\n",
      "  return F.mse_loss(input, target, reduction=self.reduction)\n",
      "val epoch: 100%|██████████| 14/14.0 [00:00<00:00, 191.21it/s]\n",
      "train epoch: 100%|██████████| 105/105.0 [00:00<00:00, 107.72it/s]\n",
      "val epoch: 100%|██████████| 14/14.0 [00:00<00:00, 197.89it/s]\n",
      "train epoch: 100%|██████████| 105/105.0 [00:00<00:00, 113.73it/s]\n",
      "val epoch: 100%|██████████| 14/14.0 [00:00<00:00, 192.71it/s]\n",
      "train epoch: 100%|██████████| 105/105.0 [00:00<00:00, 124.52it/s]\n",
      "val epoch: 100%|██████████| 14/14.0 [00:00<00:00, 221.55it/s]\n",
      "train epoch: 100%|██████████| 105/105.0 [00:00<00:00, 131.95it/s]\n",
      "val epoch: 100%|██████████| 14/14.0 [00:00<00:00, 190.01it/s]\n",
      "train epoch: 100%|██████████| 105/105.0 [00:00<00:00, 105.09it/s]\n",
      "val epoch: 100%|██████████| 14/14.0 [00:00<00:00, 185.20it/s]\n",
      "train epoch: 100%|██████████| 105/105.0 [00:01<00:00, 104.10it/s]\n",
      "val epoch: 100%|██████████| 14/14.0 [00:00<00:00, 179.98it/s]\n",
      "train epoch: 100%|██████████| 105/105.0 [00:00<00:00, 110.69it/s]\n",
      "val epoch: 100%|██████████| 14/14.0 [00:00<00:00, 197.96it/s]\n",
      "train epoch: 100%|██████████| 105/105.0 [00:00<00:00, 130.86it/s]\n",
      "val epoch: 100%|██████████| 14/14.0 [00:00<00:00, 194.13it/s]\n",
      "train epoch: 100%|██████████| 105/105.0 [00:00<00:00, 119.69it/s]\n",
      "val epoch: 100%|██████████| 14/14.0 [00:00<00:00, 227.33it/s]\n"
     ]
    },
    {
     "data": {
      "text/html": [
       "\n",
       "    <style>\n",
       "        .wandb-row {\n",
       "            display: flex;\n",
       "            flex-direction: row;\n",
       "            flex-wrap: wrap;\n",
       "            justify-content: flex-start;\n",
       "            width: 100%;\n",
       "        }\n",
       "        .wandb-col {\n",
       "            display: flex;\n",
       "            flex-direction: column;\n",
       "            flex-basis: 100%;\n",
       "            flex: 1;\n",
       "            padding: 10px;\n",
       "        }\n",
       "    </style>\n",
       "<div class=\"wandb-row\"><div class=\"wandb-col\"><h3>Run history:</h3><br/><table class=\"wandb\"><tr><td>train/MAE</td><td>█▁▁▁▁▁▁▁▁▁</td></tr><tr><td>train/MSE</td><td>█▁▁▁▁▁▁▁▁▁</td></tr><tr><td>train/Max Error</td><td>█▁▁▁▁▂▂▂▂▁</td></tr><tr><td>train/loss</td><td>█▁▄▃▂▄▃▄▃▂</td></tr><tr><td>validation/MAE</td><td>▆█▁▂▇▅▅▆▁▆</td></tr><tr><td>validation/MSE</td><td>▂█▃▁▅▄▃▄▃▅</td></tr><tr><td>validation/Max Error</td><td>▂█▄▁▃▄▂▄▄▅</td></tr><tr><td>validation/loss</td><td>▁▂▃▁█▅▂▃▄▂</td></tr></table><br/></div><div class=\"wandb-col\"><h3>Run summary:</h3><br/><table class=\"wandb\"><tr><td>train/MAE</td><td>0.98207</td></tr><tr><td>train/MSE</td><td>1.49246</td></tr><tr><td>train/Max Error</td><td>4.52619</td></tr><tr><td>train/loss</td><td>1.39088</td></tr><tr><td>validation/MAE</td><td>1.16542</td></tr><tr><td>validation/MSE</td><td>5.65767</td></tr><tr><td>validation/Max Error</td><td>39.3958</td></tr><tr><td>validation/loss</td><td>0.485</td></tr></table><br/></div></div>"
      ],
      "text/plain": [
       "<IPython.core.display.HTML object>"
      ]
     },
     "metadata": {},
     "output_type": "display_data"
    },
    {
     "data": {
      "text/html": [
       " View run <strong style=\"color:#cdcd00\">LIPO GCN 5-16, custom dataset, descriptor</strong> at: <a href='https://wandb.ai/cus-tibor-none/ToxicML/runs/26pmvoca' target=\"_blank\">https://wandb.ai/cus-tibor-none/ToxicML/runs/26pmvoca</a><br/> View project at: <a href='https://wandb.ai/cus-tibor-none/ToxicML' target=\"_blank\">https://wandb.ai/cus-tibor-none/ToxicML</a><br/>Synced 5 W&B file(s), 0 media file(s), 8 artifact file(s) and 4 other file(s)"
      ],
      "text/plain": [
       "<IPython.core.display.HTML object>"
      ]
     },
     "metadata": {},
     "output_type": "display_data"
    },
    {
     "data": {
      "text/html": [
       "Find logs at: <code>./wandb/run-20241208_215347-26pmvoca/logs</code>"
      ],
      "text/plain": [
       "<IPython.core.display.HTML object>"
      ]
     },
     "metadata": {},
     "output_type": "display_data"
    }
   ],
   "source": [
    "model = ChemConvDescriptorsReg(5, 133, 16, 1, 200)\n",
    "optimizer = torch.optim.Adam(model.parameters())\n",
    "lr_scheduler = torch.optim.lr_scheduler.ExponentialLR(optimizer, gamma = 0.09)\n",
    "loss_fn = torch.nn.MSELoss()\n",
    "device = torch.device('cuda' if torch.cuda.is_available() else 'cpu')\n",
    "\n",
    "trainer = GenericRegressionTrainer(\n",
    "    model,\n",
    "    optimizer,\n",
    "    loss_fn,\n",
    "    lr_scheduler,\n",
    "    train_metrics,\n",
    "    validation_metrics,\n",
    "    train,\n",
    "    validation,\n",
    "    test,\n",
    "    device,\n",
    "    None,\n",
    "    EPOCHS,\n",
    "    None,\n",
    "    32\n",
    ")\n",
    "\n",
    "trainer.train(\"LIPO GCN 5-16, custom dataset, descriptor\")"
   ]
  },
  {
   "cell_type": "code",
   "execution_count": 14,
   "metadata": {},
   "outputs": [
    {
     "name": "stderr",
     "output_type": "stream",
     "text": [
      "/home/tibor/Documents/msc-datascience/2024w/Toxic/ToxicML/.venv/lib/python3.12/site-packages/torch_geometric/deprecation.py:26: UserWarning: 'data.DataLoader' is deprecated, use 'loader.DataLoader' instead\n",
      "  warnings.warn(out)\n"
     ]
    },
    {
     "data": {
      "text/html": [
       "Tracking run with wandb version 0.18.7"
      ],
      "text/plain": [
       "<IPython.core.display.HTML object>"
      ]
     },
     "metadata": {},
     "output_type": "display_data"
    },
    {
     "data": {
      "text/html": [
       "Run data is saved locally in <code>/home/tibor/Documents/msc-datascience/2024w/Toxic/ToxicML/ToxicMl/wandb/run-20241208_215414-b8p4fpk9</code>"
      ],
      "text/plain": [
       "<IPython.core.display.HTML object>"
      ]
     },
     "metadata": {},
     "output_type": "display_data"
    },
    {
     "data": {
      "text/html": [
       "Syncing run <strong><a href='https://wandb.ai/cus-tibor-none/ToxicML/runs/b8p4fpk9' target=\"_blank\">LIPO GCN 5-32, custom dataset, descriptor</a></strong> to <a href='https://wandb.ai/cus-tibor-none/ToxicML' target=\"_blank\">Weights & Biases</a> (<a href='https://wandb.me/developer-guide' target=\"_blank\">docs</a>)<br/>"
      ],
      "text/plain": [
       "<IPython.core.display.HTML object>"
      ]
     },
     "metadata": {},
     "output_type": "display_data"
    },
    {
     "data": {
      "text/html": [
       " View project at <a href='https://wandb.ai/cus-tibor-none/ToxicML' target=\"_blank\">https://wandb.ai/cus-tibor-none/ToxicML</a>"
      ],
      "text/plain": [
       "<IPython.core.display.HTML object>"
      ]
     },
     "metadata": {},
     "output_type": "display_data"
    },
    {
     "data": {
      "text/html": [
       " View run at <a href='https://wandb.ai/cus-tibor-none/ToxicML/runs/b8p4fpk9' target=\"_blank\">https://wandb.ai/cus-tibor-none/ToxicML/runs/b8p4fpk9</a>"
      ],
      "text/plain": [
       "<IPython.core.display.HTML object>"
      ]
     },
     "metadata": {},
     "output_type": "display_data"
    },
    {
     "name": "stderr",
     "output_type": "stream",
     "text": [
      "train epoch:   0%|          | 0/105.0 [00:00<?, ?it/s]/home/tibor/Documents/msc-datascience/2024w/Toxic/ToxicML/.venv/lib/python3.12/site-packages/torch/nn/modules/loss.py:608: UserWarning: Using a target size (torch.Size([32])) that is different to the input size (torch.Size([32, 1])). This will likely lead to incorrect results due to broadcasting. Please ensure they have the same size.\n",
      "  return F.mse_loss(input, target, reduction=self.reduction)\n",
      "train epoch: 100%|██████████| 105/105.0 [00:00<00:00, 105.83it/s]\n",
      "val epoch:   0%|          | 0/14.0 [00:00<?, ?it/s]/home/tibor/Documents/msc-datascience/2024w/Toxic/ToxicML/.venv/lib/python3.12/site-packages/torch/nn/modules/loss.py:608: UserWarning: Using a target size (torch.Size([4])) that is different to the input size (torch.Size([4, 1])). This will likely lead to incorrect results due to broadcasting. Please ensure they have the same size.\n",
      "  return F.mse_loss(input, target, reduction=self.reduction)\n",
      "val epoch: 100%|██████████| 14/14.0 [00:00<00:00, 179.31it/s]\n",
      "train epoch: 100%|██████████| 105/105.0 [00:01<00:00, 103.47it/s]\n",
      "val epoch: 100%|██████████| 14/14.0 [00:00<00:00, 184.22it/s]\n",
      "train epoch: 100%|██████████| 105/105.0 [00:00<00:00, 124.89it/s]\n",
      "val epoch: 100%|██████████| 14/14.0 [00:00<00:00, 219.34it/s]\n",
      "train epoch: 100%|██████████| 105/105.0 [00:00<00:00, 111.96it/s]\n",
      "val epoch: 100%|██████████| 14/14.0 [00:00<00:00, 185.08it/s]\n",
      "train epoch: 100%|██████████| 105/105.0 [00:00<00:00, 114.90it/s]\n",
      "val epoch: 100%|██████████| 14/14.0 [00:00<00:00, 185.41it/s]\n",
      "train epoch: 100%|██████████| 105/105.0 [00:00<00:00, 112.65it/s]\n",
      "val epoch: 100%|██████████| 14/14.0 [00:00<00:00, 215.29it/s]\n",
      "train epoch: 100%|██████████| 105/105.0 [00:01<00:00, 98.64it/s]\n",
      "val epoch: 100%|██████████| 14/14.0 [00:00<00:00, 174.69it/s]\n",
      "train epoch: 100%|██████████| 105/105.0 [00:00<00:00, 110.89it/s]\n",
      "val epoch: 100%|██████████| 14/14.0 [00:00<00:00, 219.28it/s]\n",
      "train epoch: 100%|██████████| 105/105.0 [00:01<00:00, 96.29it/s]\n",
      "val epoch: 100%|██████████| 14/14.0 [00:00<00:00, 174.76it/s]\n",
      "train epoch: 100%|██████████| 105/105.0 [00:01<00:00, 98.97it/s]\n",
      "val epoch: 100%|██████████| 14/14.0 [00:00<00:00, 192.17it/s]\n"
     ]
    },
    {
     "data": {
      "text/html": [
       "\n",
       "    <style>\n",
       "        .wandb-row {\n",
       "            display: flex;\n",
       "            flex-direction: row;\n",
       "            flex-wrap: wrap;\n",
       "            justify-content: flex-start;\n",
       "            width: 100%;\n",
       "        }\n",
       "        .wandb-col {\n",
       "            display: flex;\n",
       "            flex-direction: column;\n",
       "            flex-basis: 100%;\n",
       "            flex: 1;\n",
       "            padding: 10px;\n",
       "        }\n",
       "    </style>\n",
       "<div class=\"wandb-row\"><div class=\"wandb-col\"><h3>Run history:</h3><br/><table class=\"wandb\"><tr><td>train/MAE</td><td>█▁▁▁▁▁▁▁▁▁</td></tr><tr><td>train/MSE</td><td>█▁▁▁▁▁▁▁▁▁</td></tr><tr><td>train/Max Error</td><td>█▂▂▂▂▂▁▂▃▂</td></tr><tr><td>train/loss</td><td>█▁▂▄▂▂▂▃▂▁</td></tr><tr><td>validation/MAE</td><td>▁▅▅▆▅▆█▅▆▃</td></tr><tr><td>validation/MSE</td><td>▁▅▅▅▄▅█▄▅▄</td></tr><tr><td>validation/Max Error</td><td>▁██▇█▇▇█▇▇</td></tr><tr><td>validation/loss</td><td>▁▁▁▁█▁▁▁▁▁</td></tr></table><br/></div><div class=\"wandb-col\"><h3>Run summary:</h3><br/><table class=\"wandb\"><tr><td>train/MAE</td><td>0.98279</td></tr><tr><td>train/MSE</td><td>1.49421</td></tr><tr><td>train/Max Error</td><td>4.60001</td></tr><tr><td>train/loss</td><td>1.3899</td></tr><tr><td>validation/MAE</td><td>1.29059</td></tr><tr><td>validation/MSE</td><td>15.14099</td></tr><tr><td>validation/Max Error</td><td>73.50523</td></tr><tr><td>validation/loss</td><td>0.6377</td></tr></table><br/></div></div>"
      ],
      "text/plain": [
       "<IPython.core.display.HTML object>"
      ]
     },
     "metadata": {},
     "output_type": "display_data"
    },
    {
     "data": {
      "text/html": [
       " View run <strong style=\"color:#cdcd00\">LIPO GCN 5-32, custom dataset, descriptor</strong> at: <a href='https://wandb.ai/cus-tibor-none/ToxicML/runs/b8p4fpk9' target=\"_blank\">https://wandb.ai/cus-tibor-none/ToxicML/runs/b8p4fpk9</a><br/> View project at: <a href='https://wandb.ai/cus-tibor-none/ToxicML' target=\"_blank\">https://wandb.ai/cus-tibor-none/ToxicML</a><br/>Synced 5 W&B file(s), 0 media file(s), 8 artifact file(s) and 4 other file(s)"
      ],
      "text/plain": [
       "<IPython.core.display.HTML object>"
      ]
     },
     "metadata": {},
     "output_type": "display_data"
    },
    {
     "data": {
      "text/html": [
       "Find logs at: <code>./wandb/run-20241208_215414-b8p4fpk9/logs</code>"
      ],
      "text/plain": [
       "<IPython.core.display.HTML object>"
      ]
     },
     "metadata": {},
     "output_type": "display_data"
    }
   ],
   "source": [
    "model = ChemConvDescriptorsReg(5, 133, 32, 1, 200)\n",
    "optimizer = torch.optim.Adam(model.parameters())\n",
    "lr_scheduler = torch.optim.lr_scheduler.ExponentialLR(optimizer, gamma = 0.09)\n",
    "loss_fn = torch.nn.MSELoss()\n",
    "device = torch.device('cuda' if torch.cuda.is_available() else 'cpu')\n",
    "\n",
    "trainer = GenericRegressionTrainer(\n",
    "    model,\n",
    "    optimizer,\n",
    "    loss_fn,\n",
    "    lr_scheduler,\n",
    "    train_metrics,\n",
    "    validation_metrics,\n",
    "    train,\n",
    "    validation,\n",
    "    test,\n",
    "    device,\n",
    "    None,\n",
    "    EPOCHS,\n",
    "    None,\n",
    "    32\n",
    ")\n",
    "\n",
    "trainer.train(\"LIPO GCN 5-32, custom dataset, descriptor\")"
   ]
  },
  {
   "cell_type": "code",
   "execution_count": 15,
   "metadata": {},
   "outputs": [
    {
     "name": "stderr",
     "output_type": "stream",
     "text": [
      "/home/tibor/Documents/msc-datascience/2024w/Toxic/ToxicML/.venv/lib/python3.12/site-packages/torch_geometric/deprecation.py:26: UserWarning: 'data.DataLoader' is deprecated, use 'loader.DataLoader' instead\n",
      "  warnings.warn(out)\n"
     ]
    },
    {
     "data": {
      "text/html": [
       "Tracking run with wandb version 0.18.7"
      ],
      "text/plain": [
       "<IPython.core.display.HTML object>"
      ]
     },
     "metadata": {},
     "output_type": "display_data"
    },
    {
     "data": {
      "text/html": [
       "Run data is saved locally in <code>/home/tibor/Documents/msc-datascience/2024w/Toxic/ToxicML/ToxicMl/wandb/run-20241208_215433-02ahus2f</code>"
      ],
      "text/plain": [
       "<IPython.core.display.HTML object>"
      ]
     },
     "metadata": {},
     "output_type": "display_data"
    },
    {
     "data": {
      "text/html": [
       "Syncing run <strong><a href='https://wandb.ai/cus-tibor-none/ToxicML/runs/02ahus2f' target=\"_blank\">LIPO GCN 5-64, custom dataset, descriptor</a></strong> to <a href='https://wandb.ai/cus-tibor-none/ToxicML' target=\"_blank\">Weights & Biases</a> (<a href='https://wandb.me/developer-guide' target=\"_blank\">docs</a>)<br/>"
      ],
      "text/plain": [
       "<IPython.core.display.HTML object>"
      ]
     },
     "metadata": {},
     "output_type": "display_data"
    },
    {
     "data": {
      "text/html": [
       " View project at <a href='https://wandb.ai/cus-tibor-none/ToxicML' target=\"_blank\">https://wandb.ai/cus-tibor-none/ToxicML</a>"
      ],
      "text/plain": [
       "<IPython.core.display.HTML object>"
      ]
     },
     "metadata": {},
     "output_type": "display_data"
    },
    {
     "data": {
      "text/html": [
       " View run at <a href='https://wandb.ai/cus-tibor-none/ToxicML/runs/02ahus2f' target=\"_blank\">https://wandb.ai/cus-tibor-none/ToxicML/runs/02ahus2f</a>"
      ],
      "text/plain": [
       "<IPython.core.display.HTML object>"
      ]
     },
     "metadata": {},
     "output_type": "display_data"
    },
    {
     "name": "stderr",
     "output_type": "stream",
     "text": [
      "train epoch:   0%|          | 0/105.0 [00:00<?, ?it/s]/home/tibor/Documents/msc-datascience/2024w/Toxic/ToxicML/.venv/lib/python3.12/site-packages/torch/nn/modules/loss.py:608: UserWarning: Using a target size (torch.Size([32])) that is different to the input size (torch.Size([32, 1])). This will likely lead to incorrect results due to broadcasting. Please ensure they have the same size.\n",
      "  return F.mse_loss(input, target, reduction=self.reduction)\n",
      "train epoch: 100%|██████████| 105/105.0 [00:01<00:00, 92.42it/s]\n",
      "val epoch:  57%|█████▋    | 8/14.0 [00:00<00:00, 78.96it/s]/home/tibor/Documents/msc-datascience/2024w/Toxic/ToxicML/.venv/lib/python3.12/site-packages/torch/nn/modules/loss.py:608: UserWarning: Using a target size (torch.Size([4])) that is different to the input size (torch.Size([4, 1])). This will likely lead to incorrect results due to broadcasting. Please ensure they have the same size.\n",
      "  return F.mse_loss(input, target, reduction=self.reduction)\n",
      "val epoch: 100%|██████████| 14/14.0 [00:00<00:00, 93.33it/s]\n",
      "train epoch: 100%|██████████| 105/105.0 [00:01<00:00, 90.60it/s]\n",
      "val epoch: 100%|██████████| 14/14.0 [00:00<00:00, 155.97it/s]\n",
      "train epoch: 100%|██████████| 105/105.0 [00:01<00:00, 74.55it/s]\n",
      "val epoch: 100%|██████████| 14/14.0 [00:00<00:00, 117.77it/s]\n",
      "train epoch: 100%|██████████| 105/105.0 [00:01<00:00, 66.95it/s]\n",
      "val epoch: 100%|██████████| 14/14.0 [00:00<00:00, 98.45it/s] \n",
      "train epoch: 100%|██████████| 105/105.0 [00:01<00:00, 64.18it/s]\n",
      "val epoch: 100%|██████████| 14/14.0 [00:00<00:00, 121.00it/s]\n",
      "train epoch: 100%|██████████| 105/105.0 [00:01<00:00, 63.41it/s]\n",
      "val epoch: 100%|██████████| 14/14.0 [00:00<00:00, 121.87it/s]\n",
      "train epoch: 100%|██████████| 105/105.0 [00:01<00:00, 67.03it/s]\n",
      "val epoch: 100%|██████████| 14/14.0 [00:00<00:00, 120.37it/s]\n",
      "train epoch: 100%|██████████| 105/105.0 [00:01<00:00, 68.29it/s]\n",
      "val epoch: 100%|██████████| 14/14.0 [00:00<00:00, 120.80it/s]\n",
      "train epoch: 100%|██████████| 105/105.0 [00:01<00:00, 67.91it/s]\n",
      "val epoch: 100%|██████████| 14/14.0 [00:00<00:00, 129.16it/s]\n",
      "train epoch: 100%|██████████| 105/105.0 [00:01<00:00, 65.64it/s]\n",
      "val epoch: 100%|██████████| 14/14.0 [00:00<00:00, 121.58it/s]\n"
     ]
    },
    {
     "data": {
      "text/html": [
       "\n",
       "    <style>\n",
       "        .wandb-row {\n",
       "            display: flex;\n",
       "            flex-direction: row;\n",
       "            flex-wrap: wrap;\n",
       "            justify-content: flex-start;\n",
       "            width: 100%;\n",
       "        }\n",
       "        .wandb-col {\n",
       "            display: flex;\n",
       "            flex-direction: column;\n",
       "            flex-basis: 100%;\n",
       "            flex: 1;\n",
       "            padding: 10px;\n",
       "        }\n",
       "    </style>\n",
       "<div class=\"wandb-row\"><div class=\"wandb-col\"><h3>Run history:</h3><br/><table class=\"wandb\"><tr><td>train/MAE</td><td>█▁▁▁▁▁▁▁▁▁</td></tr><tr><td>train/MSE</td><td>█▁▁▁▁▁▁▁▁▁</td></tr><tr><td>train/Max Error</td><td>█▃▂▁▂▂▃▃▂▃</td></tr><tr><td>train/loss</td><td>█▁▃▇▄▂▅▁▄▂</td></tr><tr><td>validation/MAE</td><td>▂▂▂▁▅█▃▃▅▇</td></tr><tr><td>validation/MSE</td><td>▁█▆▆▆█▇▇▇▆</td></tr><tr><td>validation/Max Error</td><td>▁█▇▇▇▇▇▇▇▇</td></tr><tr><td>validation/loss</td><td>▄▃▆█▅▂▁▄▇▇</td></tr></table><br/></div><div class=\"wandb-col\"><h3>Run summary:</h3><br/><table class=\"wandb\"><tr><td>train/MAE</td><td>0.9834</td></tr><tr><td>train/MSE</td><td>1.50239</td></tr><tr><td>train/Max Error</td><td>4.85438</td></tr><tr><td>train/loss</td><td>1.39243</td></tr><tr><td>validation/MAE</td><td>1.42404</td></tr><tr><td>validation/MSE</td><td>20.00425</td></tr><tr><td>validation/Max Error</td><td>68.46175</td></tr><tr><td>validation/loss</td><td>1.29894</td></tr></table><br/></div></div>"
      ],
      "text/plain": [
       "<IPython.core.display.HTML object>"
      ]
     },
     "metadata": {},
     "output_type": "display_data"
    },
    {
     "data": {
      "text/html": [
       " View run <strong style=\"color:#cdcd00\">LIPO GCN 5-64, custom dataset, descriptor</strong> at: <a href='https://wandb.ai/cus-tibor-none/ToxicML/runs/02ahus2f' target=\"_blank\">https://wandb.ai/cus-tibor-none/ToxicML/runs/02ahus2f</a><br/> View project at: <a href='https://wandb.ai/cus-tibor-none/ToxicML' target=\"_blank\">https://wandb.ai/cus-tibor-none/ToxicML</a><br/>Synced 5 W&B file(s), 0 media file(s), 8 artifact file(s) and 4 other file(s)"
      ],
      "text/plain": [
       "<IPython.core.display.HTML object>"
      ]
     },
     "metadata": {},
     "output_type": "display_data"
    },
    {
     "data": {
      "text/html": [
       "Find logs at: <code>./wandb/run-20241208_215433-02ahus2f/logs</code>"
      ],
      "text/plain": [
       "<IPython.core.display.HTML object>"
      ]
     },
     "metadata": {},
     "output_type": "display_data"
    }
   ],
   "source": [
    "model = ChemConvDescriptorsReg(5, 133, 64, 1, 200)\n",
    "optimizer = torch.optim.Adam(model.parameters())\n",
    "lr_scheduler = torch.optim.lr_scheduler.ExponentialLR(optimizer, gamma = 0.09)\n",
    "loss_fn = torch.nn.MSELoss()\n",
    "device = torch.device('cuda' if torch.cuda.is_available() else 'cpu')\n",
    "\n",
    "trainer = GenericRegressionTrainer(\n",
    "    model,\n",
    "    optimizer,\n",
    "    loss_fn,\n",
    "    lr_scheduler,\n",
    "    train_metrics,\n",
    "    validation_metrics,\n",
    "    train,\n",
    "    validation,\n",
    "    test,\n",
    "    device,\n",
    "    None,\n",
    "    EPOCHS,\n",
    "    None,\n",
    "    32\n",
    ")\n",
    "\n",
    "trainer.train(\"LIPO GCN 5-64, custom dataset, descriptor\")"
   ]
  },
  {
   "cell_type": "code",
   "execution_count": null,
   "metadata": {},
   "outputs": [],
   "source": []
  }
 ],
 "metadata": {
  "kernelspec": {
   "display_name": ".venv",
   "language": "python",
   "name": "python3"
  },
  "language_info": {
   "codemirror_mode": {
    "name": "ipython",
    "version": 3
   },
   "file_extension": ".py",
   "mimetype": "text/x-python",
   "name": "python",
   "nbconvert_exporter": "python",
   "pygments_lexer": "ipython3",
   "version": "3.12.7"
  }
 },
 "nbformat": 4,
 "nbformat_minor": 2
}
