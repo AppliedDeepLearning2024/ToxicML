{
 "cells": [
  {
   "cell_type": "code",
   "execution_count": 1,
   "metadata": {},
   "outputs": [],
   "source": [
    "from ToxicMl.trainer import GenericClassificationTrainer\n",
    "from ToxicMl.metrics import Accuracy, F1, Recall, Precision\n",
    "from ToxicMl.dataset import HivDataset\n",
    "from torch_geometric.loader import ImbalancedSampler\n",
    "\n",
    "\n",
    "from pathlib import Path\n",
    "\n",
    "EPOCHS = 8\n",
    "\n",
    "root = Path(\"dataset/ogbg_molhiv_custom\")\n",
    "dataset = HivDataset(root)\n",
    "split_idx = dataset.get_idx_split() \n",
    "train = dataset[split_idx[\"train\"]]\n",
    "validation = dataset[split_idx[\"valid\"]]\n",
    "test = dataset[split_idx[\"test\"]]\n",
    "\n",
    "train_metrics = [F1(), Accuracy(), Recall(), Precision()]\n",
    "validation_metrics = [F1(), Accuracy(), Recall(), Precision()]"
   ]
  },
  {
   "cell_type": "code",
   "execution_count": 2,
   "metadata": {},
   "outputs": [],
   "source": [
    "from ToxicMl.MLmodels.attention import ChemAttentionBlock\n",
    "import torch\n",
    "import torch.nn.functional as F\n",
    "\n",
    "from torch.nn import Linear, ReLU\n",
    "from torch_geometric.data import Data\n",
    "from torch_geometric.nn.pool import global_max_pool\n",
    "\n",
    "from torch.nn import BatchNorm1d\n",
    "\n",
    "class ChemAttentionDescriptors(torch.nn.Module):\n",
    "    def __init__(self, embedder_depth, in_channels, hidden_channels, out_channels, in_descriptors):\n",
    "        super().__init__()\n",
    "        self.in_descriptors = in_descriptors\n",
    "        self.encoder = torch.nn.ModuleList([\n",
    "            ChemAttentionBlock(in_channels=in_channels, out_channels=hidden_channels)\n",
    "            if i == 0\n",
    "            else ChemAttentionBlock(in_channels=hidden_channels, out_channels=hidden_channels)\n",
    "            for i in range(embedder_depth)])\n",
    "        self.norm1 = BatchNorm1d(hidden_channels+in_descriptors)\n",
    "        self.linear1 = Linear(hidden_channels+in_descriptors, 64)\n",
    "        self.relu1 = ReLU(inplace=True)\n",
    "        self.linear2 = Linear(64, 32)\n",
    "        self.relu2 = ReLU(inplace=True)\n",
    "        self.linear3 = Linear(32, out_channels)\n",
    "        self.relu3 = ReLU(inplace=True)\n",
    "        \n",
    "\n",
    "    def forward(self, data: Data):\n",
    "        for module in self.encoder:\n",
    "            data = module(data)\n",
    "        x = global_max_pool(data.x, data.batch)\n",
    "\n",
    "\n",
    "        d = data.descriptors.view(-1, self.in_descriptors)\n",
    "        x = torch.cat([x,d], dim=1)\n",
    "        x = self.norm1(x)\n",
    "        x = self.linear1(x)\n",
    "        x = self.relu1(x)\n",
    "        x = self.linear2(x)\n",
    "        x = self.relu2(x)\n",
    "        x = self.linear3(x)\n",
    "        x = self.relu3(x)\n",
    "        return F.softmax(x)\n",
    "    "
   ]
  },
  {
   "cell_type": "code",
   "execution_count": 3,
   "metadata": {},
   "outputs": [
    {
     "name": "stderr",
     "output_type": "stream",
     "text": [
      "/home/tibor/Documents/msc-datascience/2024w/Toxic/ToxicML/.venv/lib/python3.12/site-packages/torch_geometric/deprecation.py:26: UserWarning: 'data.DataLoader' is deprecated, use 'loader.DataLoader' instead\n",
      "  warnings.warn(out)\n",
      "\u001b[34m\u001b[1mwandb\u001b[0m: Using wandb-core as the SDK backend.  Please refer to https://wandb.me/wandb-core for more information.\n",
      "\u001b[34m\u001b[1mwandb\u001b[0m: Currently logged in as: \u001b[33mcus-tibor\u001b[0m (\u001b[33mcus-tibor-none\u001b[0m). Use \u001b[1m`wandb login --relogin`\u001b[0m to force relogin\n"
     ]
    },
    {
     "data": {
      "text/html": [
       "Tracking run with wandb version 0.18.7"
      ],
      "text/plain": [
       "<IPython.core.display.HTML object>"
      ]
     },
     "metadata": {},
     "output_type": "display_data"
    },
    {
     "data": {
      "text/html": [
       "Run data is saved locally in <code>/home/tibor/Documents/msc-datascience/2024w/Toxic/ToxicML/ToxicMl/wandb/run-20241208_181031-v75d0vw1</code>"
      ],
      "text/plain": [
       "<IPython.core.display.HTML object>"
      ]
     },
     "metadata": {},
     "output_type": "display_data"
    },
    {
     "data": {
      "text/html": [
       "Syncing run <strong><a href='https://wandb.ai/cus-tibor-none/ToxicML/runs/v75d0vw1' target=\"_blank\">HIV ChemAttention 3-16, sampling, custom dataset, descriptors</a></strong> to <a href='https://wandb.ai/cus-tibor-none/ToxicML' target=\"_blank\">Weights & Biases</a> (<a href='https://wandb.me/developer-guide' target=\"_blank\">docs</a>)<br/>"
      ],
      "text/plain": [
       "<IPython.core.display.HTML object>"
      ]
     },
     "metadata": {},
     "output_type": "display_data"
    },
    {
     "data": {
      "text/html": [
       " View project at <a href='https://wandb.ai/cus-tibor-none/ToxicML' target=\"_blank\">https://wandb.ai/cus-tibor-none/ToxicML</a>"
      ],
      "text/plain": [
       "<IPython.core.display.HTML object>"
      ]
     },
     "metadata": {},
     "output_type": "display_data"
    },
    {
     "data": {
      "text/html": [
       " View run at <a href='https://wandb.ai/cus-tibor-none/ToxicML/runs/v75d0vw1' target=\"_blank\">https://wandb.ai/cus-tibor-none/ToxicML/runs/v75d0vw1</a>"
      ],
      "text/plain": [
       "<IPython.core.display.HTML object>"
      ]
     },
     "metadata": {},
     "output_type": "display_data"
    },
    {
     "name": "stderr",
     "output_type": "stream",
     "text": [
      "train epoch:   0%|          | 0/1029.0 [00:00<?, ?it/s]/tmp/ipykernel_14768/3053635579.py:44: UserWarning: Implicit dimension choice for softmax has been deprecated. Change the call to include dim=X as an argument.\n",
      "  return F.softmax(x)\n",
      "train epoch: 100%|██████████| 1029/1029.0 [00:09<00:00, 106.75it/s]\n",
      "val epoch: 100%|██████████| 129/129.0 [00:01<00:00, 116.10it/s]\n",
      "train epoch: 100%|██████████| 1029/1029.0 [00:09<00:00, 103.99it/s]\n",
      "val epoch: 100%|██████████| 129/129.0 [00:00<00:00, 213.94it/s]\n",
      "train epoch: 100%|██████████| 1029/1029.0 [00:10<00:00, 101.41it/s]\n",
      "val epoch: 100%|██████████| 129/129.0 [00:00<00:00, 203.58it/s]\n",
      "train epoch: 100%|██████████| 1029/1029.0 [00:11<00:00, 89.72it/s]\n",
      "val epoch: 100%|██████████| 129/129.0 [00:00<00:00, 182.57it/s]\n",
      "train epoch: 100%|██████████| 1029/1029.0 [00:11<00:00, 86.15it/s]\n",
      "val epoch: 100%|██████████| 129/129.0 [00:00<00:00, 170.45it/s]\n",
      "train epoch: 100%|██████████| 1029/1029.0 [00:13<00:00, 73.64it/s]\n",
      "val epoch: 100%|██████████| 129/129.0 [00:00<00:00, 159.50it/s]\n",
      "train epoch: 100%|██████████| 1029/1029.0 [00:13<00:00, 78.20it/s]\n",
      "val epoch: 100%|██████████| 129/129.0 [00:00<00:00, 153.80it/s]\n",
      "train epoch: 100%|██████████| 1029/1029.0 [00:12<00:00, 83.51it/s]\n",
      "val epoch: 100%|██████████| 129/129.0 [00:00<00:00, 166.00it/s]\n"
     ]
    },
    {
     "data": {
      "text/html": [
       "\n",
       "    <style>\n",
       "        .wandb-row {\n",
       "            display: flex;\n",
       "            flex-direction: row;\n",
       "            flex-wrap: wrap;\n",
       "            justify-content: flex-start;\n",
       "            width: 100%;\n",
       "        }\n",
       "        .wandb-col {\n",
       "            display: flex;\n",
       "            flex-direction: column;\n",
       "            flex-basis: 100%;\n",
       "            flex: 1;\n",
       "            padding: 10px;\n",
       "        }\n",
       "    </style>\n",
       "<div class=\"wandb-row\"><div class=\"wandb-col\"><h3>Run history:</h3><br/><table class=\"wandb\"><tr><td>train/Accuracy</td><td>▁▇▇██▇██</td></tr><tr><td>train/F1</td><td>▁▇▇▇█▇██</td></tr><tr><td>train/Precision</td><td>▁▄▆▇▇▆▇█</td></tr><tr><td>train/Recall</td><td>▁█▇██▇██</td></tr><tr><td>train/loss</td><td>▆▁▂▄▄▆█▇</td></tr><tr><td>validation/Accuracy</td><td>▂▇█▅▆▄▆▁</td></tr><tr><td>validation/F1</td><td>▂▇█▅▆▄▆▁</td></tr><tr><td>validation/Precision</td><td>▁██▁▁█▁▁</td></tr><tr><td>validation/Recall</td><td>▂▇█▅▆▄▆▁</td></tr><tr><td>validation/loss</td><td>▅▄█▃▁▃▆▃</td></tr></table><br/></div><div class=\"wandb-col\"><h3>Run summary:</h3><br/><table class=\"wandb\"><tr><td>train/Accuracy</td><td>0.789</td></tr><tr><td>train/F1</td><td>0.7707</td></tr><tr><td>train/Precision</td><td>0.70959</td></tr><tr><td>train/Recall</td><td>0.84333</td></tr><tr><td>train/loss</td><td>0.77187</td></tr><tr><td>validation/Accuracy</td><td>0.8337</td></tr><tr><td>validation/F1</td><td>0.11628</td></tr><tr><td>validation/Precision</td><td>0.55556</td></tr><tr><td>validation/Recall</td><td>0.06494</td></tr><tr><td>validation/loss</td><td>0.73039</td></tr></table><br/></div></div>"
      ],
      "text/plain": [
       "<IPython.core.display.HTML object>"
      ]
     },
     "metadata": {},
     "output_type": "display_data"
    },
    {
     "data": {
      "text/html": [
       " View run <strong style=\"color:#cdcd00\">HIV ChemAttention 3-16, sampling, custom dataset, descriptors</strong> at: <a href='https://wandb.ai/cus-tibor-none/ToxicML/runs/v75d0vw1' target=\"_blank\">https://wandb.ai/cus-tibor-none/ToxicML/runs/v75d0vw1</a><br/> View project at: <a href='https://wandb.ai/cus-tibor-none/ToxicML' target=\"_blank\">https://wandb.ai/cus-tibor-none/ToxicML</a><br/>Synced 5 W&B file(s), 0 media file(s), 4 artifact file(s) and 1 other file(s)"
      ],
      "text/plain": [
       "<IPython.core.display.HTML object>"
      ]
     },
     "metadata": {},
     "output_type": "display_data"
    },
    {
     "data": {
      "text/html": [
       "Find logs at: <code>./wandb/run-20241208_181031-v75d0vw1/logs</code>"
      ],
      "text/plain": [
       "<IPython.core.display.HTML object>"
      ]
     },
     "metadata": {},
     "output_type": "display_data"
    }
   ],
   "source": [
    "from ToxicMl.MLmodels.attention import ChemAttention\n",
    "model = ChemAttentionDescriptors(3, 133, 16, 2, 202)\n",
    "optimizer = torch.optim.Adam(model.parameters())\n",
    "lr_scheduler = torch.optim.lr_scheduler.ExponentialLR(optimizer, gamma = 0.09)\n",
    "loss_fn = torch.nn.CrossEntropyLoss()\n",
    "sampler = ImbalancedSampler(train) \n",
    "device = torch.device('cuda' if torch.cuda.is_available() else 'cpu')\n",
    "\n",
    "trainer = GenericClassificationTrainer(\n",
    "    model,\n",
    "    optimizer,\n",
    "    loss_fn,\n",
    "    lr_scheduler,\n",
    "    train_metrics,\n",
    "    validation_metrics,\n",
    "    train,\n",
    "    validation,\n",
    "    test,\n",
    "    device,\n",
    "    sampler,\n",
    "    EPOCHS,\n",
    "    None,\n",
    "    32\n",
    ")\n",
    "\n",
    "trainer.train(\"HIV ChemAttention 3-16, sampling, custom dataset, descriptors\")"
   ]
  },
  {
   "cell_type": "code",
   "execution_count": 4,
   "metadata": {},
   "outputs": [
    {
     "name": "stderr",
     "output_type": "stream",
     "text": [
      "/home/tibor/Documents/msc-datascience/2024w/Toxic/ToxicML/.venv/lib/python3.12/site-packages/torch_geometric/deprecation.py:26: UserWarning: 'data.DataLoader' is deprecated, use 'loader.DataLoader' instead\n",
      "  warnings.warn(out)\n"
     ]
    },
    {
     "data": {
      "text/html": [
       "Tracking run with wandb version 0.18.7"
      ],
      "text/plain": [
       "<IPython.core.display.HTML object>"
      ]
     },
     "metadata": {},
     "output_type": "display_data"
    },
    {
     "data": {
      "text/html": [
       "Run data is saved locally in <code>/home/tibor/Documents/msc-datascience/2024w/Toxic/ToxicML/ToxicMl/wandb/run-20241208_181220-qgvwptug</code>"
      ],
      "text/plain": [
       "<IPython.core.display.HTML object>"
      ]
     },
     "metadata": {},
     "output_type": "display_data"
    },
    {
     "data": {
      "text/html": [
       "Syncing run <strong><a href='https://wandb.ai/cus-tibor-none/ToxicML/runs/qgvwptug' target=\"_blank\">HIV ChemAttention 3-32, sampling, custom dataset, descriptors</a></strong> to <a href='https://wandb.ai/cus-tibor-none/ToxicML' target=\"_blank\">Weights & Biases</a> (<a href='https://wandb.me/developer-guide' target=\"_blank\">docs</a>)<br/>"
      ],
      "text/plain": [
       "<IPython.core.display.HTML object>"
      ]
     },
     "metadata": {},
     "output_type": "display_data"
    },
    {
     "data": {
      "text/html": [
       " View project at <a href='https://wandb.ai/cus-tibor-none/ToxicML' target=\"_blank\">https://wandb.ai/cus-tibor-none/ToxicML</a>"
      ],
      "text/plain": [
       "<IPython.core.display.HTML object>"
      ]
     },
     "metadata": {},
     "output_type": "display_data"
    },
    {
     "data": {
      "text/html": [
       " View run at <a href='https://wandb.ai/cus-tibor-none/ToxicML/runs/qgvwptug' target=\"_blank\">https://wandb.ai/cus-tibor-none/ToxicML/runs/qgvwptug</a>"
      ],
      "text/plain": [
       "<IPython.core.display.HTML object>"
      ]
     },
     "metadata": {},
     "output_type": "display_data"
    },
    {
     "name": "stderr",
     "output_type": "stream",
     "text": [
      "train epoch:   0%|          | 0/1029.0 [00:00<?, ?it/s]/tmp/ipykernel_14768/3053635579.py:44: UserWarning: Implicit dimension choice for softmax has been deprecated. Change the call to include dim=X as an argument.\n",
      "  return F.softmax(x)\n",
      "train epoch: 100%|██████████| 1029/1029.0 [00:11<00:00, 89.94it/s]\n",
      "val epoch: 100%|██████████| 129/129.0 [00:00<00:00, 167.24it/s]\n",
      "train epoch: 100%|██████████| 1029/1029.0 [00:13<00:00, 76.41it/s]\n",
      "val epoch: 100%|██████████| 129/129.0 [00:00<00:00, 148.07it/s]\n",
      "train epoch: 100%|██████████| 1029/1029.0 [00:13<00:00, 77.29it/s]\n",
      "val epoch: 100%|██████████| 129/129.0 [00:00<00:00, 171.98it/s]\n",
      "train epoch: 100%|██████████| 1029/1029.0 [00:12<00:00, 79.89it/s]\n",
      "val epoch: 100%|██████████| 129/129.0 [00:00<00:00, 151.33it/s]\n",
      "train epoch: 100%|██████████| 1029/1029.0 [00:12<00:00, 81.18it/s]\n",
      "val epoch: 100%|██████████| 129/129.0 [00:00<00:00, 137.54it/s]\n",
      "train epoch: 100%|██████████| 1029/1029.0 [00:14<00:00, 73.09it/s]\n",
      "val epoch: 100%|██████████| 129/129.0 [00:00<00:00, 132.21it/s]\n",
      "train epoch: 100%|██████████| 1029/1029.0 [00:13<00:00, 76.97it/s]\n",
      "val epoch: 100%|██████████| 129/129.0 [00:00<00:00, 149.59it/s]\n",
      "train epoch: 100%|██████████| 1029/1029.0 [00:13<00:00, 77.45it/s]\n",
      "val epoch: 100%|██████████| 129/129.0 [00:00<00:00, 171.94it/s]\n"
     ]
    },
    {
     "data": {
      "text/html": [
       "\n",
       "    <style>\n",
       "        .wandb-row {\n",
       "            display: flex;\n",
       "            flex-direction: row;\n",
       "            flex-wrap: wrap;\n",
       "            justify-content: flex-start;\n",
       "            width: 100%;\n",
       "        }\n",
       "        .wandb-col {\n",
       "            display: flex;\n",
       "            flex-direction: column;\n",
       "            flex-basis: 100%;\n",
       "            flex: 1;\n",
       "            padding: 10px;\n",
       "        }\n",
       "    </style>\n",
       "<div class=\"wandb-row\"><div class=\"wandb-col\"><h3>Run history:</h3><br/><table class=\"wandb\"><tr><td>train/Accuracy</td><td>▁▇▇▇████</td></tr><tr><td>train/F1</td><td>▁▇▇▇████</td></tr><tr><td>train/Precision</td><td>▁▇▇▇██▇█</td></tr><tr><td>train/Recall</td><td>▁▇█████▇</td></tr><tr><td>train/loss</td><td>▅▄▂▃▂█▅▁</td></tr><tr><td>validation/Accuracy</td><td>▂█▁▄▆▃▃▂</td></tr><tr><td>validation/F1</td><td>▄█▁▇▇▃▃▃</td></tr><tr><td>validation/Precision</td><td>█▁▅█▅▃▅▆</td></tr><tr><td>validation/Recall</td><td>▄█▁▆▇▃▃▃</td></tr><tr><td>validation/loss</td><td>▅▁▅▂█▂▅▁</td></tr></table><br/></div><div class=\"wandb-col\"><h3>Run summary:</h3><br/><table class=\"wandb\"><tr><td>train/Accuracy</td><td>0.8114</td></tr><tr><td>train/F1</td><td>0.80064</td></tr><tr><td>train/Precision</td><td>0.76171</td></tr><tr><td>train/Recall</td><td>0.84377</td></tr><tr><td>train/loss</td><td>0.31576</td></tr><tr><td>validation/Accuracy</td><td>0.8468</td></tr><tr><td>validation/F1</td><td>0.14634</td></tr><tr><td>validation/Precision</td><td>0.66667</td></tr><tr><td>validation/Recall</td><td>0.08219</td></tr><tr><td>validation/loss</td><td>0.39953</td></tr></table><br/></div></div>"
      ],
      "text/plain": [
       "<IPython.core.display.HTML object>"
      ]
     },
     "metadata": {},
     "output_type": "display_data"
    },
    {
     "data": {
      "text/html": [
       " View run <strong style=\"color:#cdcd00\">HIV ChemAttention 3-32, sampling, custom dataset, descriptors</strong> at: <a href='https://wandb.ai/cus-tibor-none/ToxicML/runs/qgvwptug' target=\"_blank\">https://wandb.ai/cus-tibor-none/ToxicML/runs/qgvwptug</a><br/> View project at: <a href='https://wandb.ai/cus-tibor-none/ToxicML' target=\"_blank\">https://wandb.ai/cus-tibor-none/ToxicML</a><br/>Synced 5 W&B file(s), 0 media file(s), 2 artifact file(s) and 1 other file(s)"
      ],
      "text/plain": [
       "<IPython.core.display.HTML object>"
      ]
     },
     "metadata": {},
     "output_type": "display_data"
    },
    {
     "data": {
      "text/html": [
       "Find logs at: <code>./wandb/run-20241208_181220-qgvwptug/logs</code>"
      ],
      "text/plain": [
       "<IPython.core.display.HTML object>"
      ]
     },
     "metadata": {},
     "output_type": "display_data"
    }
   ],
   "source": [
    "model = ChemAttentionDescriptors(3, 133, 32, 2, 202)\n",
    "optimizer = torch.optim.Adam(model.parameters())\n",
    "lr_scheduler = torch.optim.lr_scheduler.ExponentialLR(optimizer, gamma = 0.09)\n",
    "loss_fn = torch.nn.CrossEntropyLoss()\n",
    "sampler = ImbalancedSampler(train) \n",
    "device = torch.device('cuda' if torch.cuda.is_available() else 'cpu')\n",
    "\n",
    "trainer = GenericClassificationTrainer(\n",
    "    model,\n",
    "    optimizer,\n",
    "    loss_fn,\n",
    "    lr_scheduler,\n",
    "    train_metrics,\n",
    "    validation_metrics,\n",
    "    train,\n",
    "    validation,\n",
    "    test,\n",
    "    device,\n",
    "    sampler,\n",
    "    EPOCHS,\n",
    "    None,\n",
    "    32\n",
    ")\n",
    "\n",
    "trainer.train(\"HIV ChemAttention 3-32, sampling, custom dataset, descriptors\")"
   ]
  },
  {
   "cell_type": "code",
   "execution_count": 5,
   "metadata": {},
   "outputs": [
    {
     "name": "stderr",
     "output_type": "stream",
     "text": [
      "/home/tibor/Documents/msc-datascience/2024w/Toxic/ToxicML/.venv/lib/python3.12/site-packages/torch_geometric/deprecation.py:26: UserWarning: 'data.DataLoader' is deprecated, use 'loader.DataLoader' instead\n",
      "  warnings.warn(out)\n"
     ]
    },
    {
     "data": {
      "text/html": [
       "Tracking run with wandb version 0.18.7"
      ],
      "text/plain": [
       "<IPython.core.display.HTML object>"
      ]
     },
     "metadata": {},
     "output_type": "display_data"
    },
    {
     "data": {
      "text/html": [
       "Run data is saved locally in <code>/home/tibor/Documents/msc-datascience/2024w/Toxic/ToxicML/ToxicMl/wandb/run-20241208_181419-eokv7khj</code>"
      ],
      "text/plain": [
       "<IPython.core.display.HTML object>"
      ]
     },
     "metadata": {},
     "output_type": "display_data"
    },
    {
     "data": {
      "text/html": [
       "Syncing run <strong><a href='https://wandb.ai/cus-tibor-none/ToxicML/runs/eokv7khj' target=\"_blank\">HIV ChemAttention 3-64, sampling, custom dataset, descriptors</a></strong> to <a href='https://wandb.ai/cus-tibor-none/ToxicML' target=\"_blank\">Weights & Biases</a> (<a href='https://wandb.me/developer-guide' target=\"_blank\">docs</a>)<br/>"
      ],
      "text/plain": [
       "<IPython.core.display.HTML object>"
      ]
     },
     "metadata": {},
     "output_type": "display_data"
    },
    {
     "data": {
      "text/html": [
       " View project at <a href='https://wandb.ai/cus-tibor-none/ToxicML' target=\"_blank\">https://wandb.ai/cus-tibor-none/ToxicML</a>"
      ],
      "text/plain": [
       "<IPython.core.display.HTML object>"
      ]
     },
     "metadata": {},
     "output_type": "display_data"
    },
    {
     "data": {
      "text/html": [
       " View run at <a href='https://wandb.ai/cus-tibor-none/ToxicML/runs/eokv7khj' target=\"_blank\">https://wandb.ai/cus-tibor-none/ToxicML/runs/eokv7khj</a>"
      ],
      "text/plain": [
       "<IPython.core.display.HTML object>"
      ]
     },
     "metadata": {},
     "output_type": "display_data"
    },
    {
     "name": "stderr",
     "output_type": "stream",
     "text": [
      "train epoch:   0%|          | 0/1029.0 [00:00<?, ?it/s]/tmp/ipykernel_14768/3053635579.py:44: UserWarning: Implicit dimension choice for softmax has been deprecated. Change the call to include dim=X as an argument.\n",
      "  return F.softmax(x)\n",
      "train epoch: 100%|██████████| 1029/1029.0 [00:15<00:00, 67.80it/s]\n",
      "val epoch: 100%|██████████| 129/129.0 [00:00<00:00, 147.93it/s]\n",
      "train epoch: 100%|██████████| 1029/1029.0 [00:14<00:00, 70.32it/s]\n",
      "val epoch: 100%|██████████| 129/129.0 [00:00<00:00, 168.98it/s]\n",
      "train epoch: 100%|██████████| 1029/1029.0 [00:16<00:00, 62.51it/s]\n",
      "val epoch: 100%|██████████| 129/129.0 [00:00<00:00, 135.44it/s]\n",
      "train epoch: 100%|██████████| 1029/1029.0 [00:16<00:00, 63.70it/s]\n",
      "val epoch: 100%|██████████| 129/129.0 [00:00<00:00, 146.50it/s]\n",
      "train epoch: 100%|██████████| 1029/1029.0 [00:15<00:00, 65.53it/s]\n",
      "val epoch: 100%|██████████| 129/129.0 [00:01<00:00, 126.31it/s]\n",
      "train epoch: 100%|██████████| 1029/1029.0 [00:14<00:00, 69.16it/s]\n",
      "val epoch: 100%|██████████| 129/129.0 [00:00<00:00, 156.58it/s]\n",
      "train epoch: 100%|██████████| 1029/1029.0 [00:16<00:00, 62.81it/s]\n",
      "val epoch: 100%|██████████| 129/129.0 [00:00<00:00, 155.94it/s]\n",
      "train epoch: 100%|██████████| 1029/1029.0 [00:14<00:00, 68.68it/s]\n",
      "val epoch: 100%|██████████| 129/129.0 [00:00<00:00, 153.21it/s]\n"
     ]
    },
    {
     "data": {
      "text/html": [
       "\n",
       "    <style>\n",
       "        .wandb-row {\n",
       "            display: flex;\n",
       "            flex-direction: row;\n",
       "            flex-wrap: wrap;\n",
       "            justify-content: flex-start;\n",
       "            width: 100%;\n",
       "        }\n",
       "        .wandb-col {\n",
       "            display: flex;\n",
       "            flex-direction: column;\n",
       "            flex-basis: 100%;\n",
       "            flex: 1;\n",
       "            padding: 10px;\n",
       "        }\n",
       "    </style>\n",
       "<div class=\"wandb-row\"><div class=\"wandb-col\"><h3>Run history:</h3><br/><table class=\"wandb\"><tr><td>train/Accuracy</td><td>▁▇▇█████</td></tr><tr><td>train/F1</td><td>▁▇▇█████</td></tr><tr><td>train/Precision</td><td>▁▇██████</td></tr><tr><td>train/Recall</td><td>▁▇▇█████</td></tr><tr><td>train/loss</td><td>▁█▆▅▃▂▆▄</td></tr><tr><td>validation/Accuracy</td><td>▃▅█▇█▇▅▁</td></tr><tr><td>validation/F1</td><td>▂▄█▃█▆▅▁</td></tr><tr><td>validation/Precision</td><td>▆▅▅▁▅▅▆█</td></tr><tr><td>validation/Recall</td><td>▂▄█▄█▆▅▁</td></tr><tr><td>validation/loss</td><td>▅▁▃▃▄▅█▂</td></tr></table><br/></div><div class=\"wandb-col\"><h3>Run summary:</h3><br/><table class=\"wandb\"><tr><td>train/Accuracy</td><td>0.8015</td></tr><tr><td>train/F1</td><td>0.78812</td></tr><tr><td>train/Precision</td><td>0.74023</td></tr><tr><td>train/Recall</td><td>0.84264</td></tr><tr><td>train/loss</td><td>0.61363</td></tr><tr><td>validation/Accuracy</td><td>0.8014</td></tr><tr><td>validation/F1</td><td>0.11292</td></tr><tr><td>validation/Precision</td><td>0.64198</td></tr><tr><td>validation/Recall</td><td>0.0619</td></tr><tr><td>validation/loss</td><td>0.43952</td></tr></table><br/></div></div>"
      ],
      "text/plain": [
       "<IPython.core.display.HTML object>"
      ]
     },
     "metadata": {},
     "output_type": "display_data"
    },
    {
     "data": {
      "text/html": [
       " View run <strong style=\"color:#cdcd00\">HIV ChemAttention 3-64, sampling, custom dataset, descriptors</strong> at: <a href='https://wandb.ai/cus-tibor-none/ToxicML/runs/eokv7khj' target=\"_blank\">https://wandb.ai/cus-tibor-none/ToxicML/runs/eokv7khj</a><br/> View project at: <a href='https://wandb.ai/cus-tibor-none/ToxicML' target=\"_blank\">https://wandb.ai/cus-tibor-none/ToxicML</a><br/>Synced 5 W&B file(s), 0 media file(s), 2 artifact file(s) and 1 other file(s)"
      ],
      "text/plain": [
       "<IPython.core.display.HTML object>"
      ]
     },
     "metadata": {},
     "output_type": "display_data"
    },
    {
     "data": {
      "text/html": [
       "Find logs at: <code>./wandb/run-20241208_181419-eokv7khj/logs</code>"
      ],
      "text/plain": [
       "<IPython.core.display.HTML object>"
      ]
     },
     "metadata": {},
     "output_type": "display_data"
    }
   ],
   "source": [
    "from ToxicMl.MLmodels.attention import ChemAttention\n",
    "model = ChemAttentionDescriptors(3, 133, 64, 2, 202)\n",
    "optimizer = torch.optim.Adam(model.parameters())\n",
    "lr_scheduler = torch.optim.lr_scheduler.ExponentialLR(optimizer, gamma = 0.09)\n",
    "loss_fn = torch.nn.CrossEntropyLoss()\n",
    "sampler = ImbalancedSampler(train) \n",
    "device = torch.device('cuda' if torch.cuda.is_available() else 'cpu')\n",
    "\n",
    "trainer = GenericClassificationTrainer(\n",
    "    model,\n",
    "    optimizer,\n",
    "    loss_fn,\n",
    "    lr_scheduler,\n",
    "    train_metrics,\n",
    "    validation_metrics,\n",
    "    train,\n",
    "    validation,\n",
    "    test,\n",
    "    device,\n",
    "    sampler,\n",
    "    EPOCHS,\n",
    "    None,\n",
    "    32\n",
    ")\n",
    "\n",
    "trainer.train(\"HIV ChemAttention 3-64, sampling, custom dataset, descriptors\")"
   ]
  },
  {
   "cell_type": "code",
   "execution_count": 6,
   "metadata": {},
   "outputs": [
    {
     "name": "stderr",
     "output_type": "stream",
     "text": [
      "/home/tibor/Documents/msc-datascience/2024w/Toxic/ToxicML/.venv/lib/python3.12/site-packages/torch_geometric/deprecation.py:26: UserWarning: 'data.DataLoader' is deprecated, use 'loader.DataLoader' instead\n",
      "  warnings.warn(out)\n"
     ]
    },
    {
     "data": {
      "text/html": [
       "Tracking run with wandb version 0.18.7"
      ],
      "text/plain": [
       "<IPython.core.display.HTML object>"
      ]
     },
     "metadata": {},
     "output_type": "display_data"
    },
    {
     "data": {
      "text/html": [
       "Run data is saved locally in <code>/home/tibor/Documents/msc-datascience/2024w/Toxic/ToxicML/ToxicMl/wandb/run-20241208_181638-bmzq7f8e</code>"
      ],
      "text/plain": [
       "<IPython.core.display.HTML object>"
      ]
     },
     "metadata": {},
     "output_type": "display_data"
    },
    {
     "data": {
      "text/html": [
       "Syncing run <strong><a href='https://wandb.ai/cus-tibor-none/ToxicML/runs/bmzq7f8e' target=\"_blank\">HIV ChemAttention 5-16, sampling, custom dataset, descriptors</a></strong> to <a href='https://wandb.ai/cus-tibor-none/ToxicML' target=\"_blank\">Weights & Biases</a> (<a href='https://wandb.me/developer-guide' target=\"_blank\">docs</a>)<br/>"
      ],
      "text/plain": [
       "<IPython.core.display.HTML object>"
      ]
     },
     "metadata": {},
     "output_type": "display_data"
    },
    {
     "data": {
      "text/html": [
       " View project at <a href='https://wandb.ai/cus-tibor-none/ToxicML' target=\"_blank\">https://wandb.ai/cus-tibor-none/ToxicML</a>"
      ],
      "text/plain": [
       "<IPython.core.display.HTML object>"
      ]
     },
     "metadata": {},
     "output_type": "display_data"
    },
    {
     "data": {
      "text/html": [
       " View run at <a href='https://wandb.ai/cus-tibor-none/ToxicML/runs/bmzq7f8e' target=\"_blank\">https://wandb.ai/cus-tibor-none/ToxicML/runs/bmzq7f8e</a>"
      ],
      "text/plain": [
       "<IPython.core.display.HTML object>"
      ]
     },
     "metadata": {},
     "output_type": "display_data"
    },
    {
     "name": "stderr",
     "output_type": "stream",
     "text": [
      "train epoch:   0%|          | 0/1029.0 [00:00<?, ?it/s]/tmp/ipykernel_14768/3053635579.py:44: UserWarning: Implicit dimension choice for softmax has been deprecated. Change the call to include dim=X as an argument.\n",
      "  return F.softmax(x)\n",
      "train epoch: 100%|██████████| 1029/1029.0 [00:13<00:00, 75.64it/s]\n",
      "val epoch: 100%|██████████| 129/129.0 [00:00<00:00, 141.40it/s]\n",
      "train epoch: 100%|██████████| 1029/1029.0 [00:15<00:00, 67.10it/s]\n",
      "val epoch: 100%|██████████| 129/129.0 [00:00<00:00, 148.96it/s]\n",
      "train epoch: 100%|██████████| 1029/1029.0 [00:15<00:00, 67.20it/s]\n",
      "val epoch: 100%|██████████| 129/129.0 [00:00<00:00, 145.36it/s]\n",
      "train epoch: 100%|██████████| 1029/1029.0 [00:15<00:00, 68.37it/s]\n",
      "val epoch: 100%|██████████| 129/129.0 [00:00<00:00, 144.13it/s]\n",
      "train epoch: 100%|██████████| 1029/1029.0 [00:15<00:00, 67.84it/s]\n",
      "val epoch: 100%|██████████| 129/129.0 [00:00<00:00, 152.25it/s]\n",
      "train epoch: 100%|██████████| 1029/1029.0 [00:14<00:00, 68.89it/s]\n",
      "val epoch: 100%|██████████| 129/129.0 [00:00<00:00, 152.90it/s]\n",
      "train epoch: 100%|██████████| 1029/1029.0 [00:14<00:00, 68.97it/s]\n",
      "val epoch: 100%|██████████| 129/129.0 [00:01<00:00, 127.53it/s]\n",
      "train epoch: 100%|██████████| 1029/1029.0 [00:14<00:00, 68.95it/s]\n",
      "val epoch: 100%|██████████| 129/129.0 [00:00<00:00, 153.75it/s]\n"
     ]
    },
    {
     "data": {
      "text/html": [
       "\n",
       "    <style>\n",
       "        .wandb-row {\n",
       "            display: flex;\n",
       "            flex-direction: row;\n",
       "            flex-wrap: wrap;\n",
       "            justify-content: flex-start;\n",
       "            width: 100%;\n",
       "        }\n",
       "        .wandb-col {\n",
       "            display: flex;\n",
       "            flex-direction: column;\n",
       "            flex-basis: 100%;\n",
       "            flex: 1;\n",
       "            padding: 10px;\n",
       "        }\n",
       "    </style>\n",
       "<div class=\"wandb-row\"><div class=\"wandb-col\"><h3>Run history:</h3><br/><table class=\"wandb\"><tr><td>train/Accuracy</td><td>▁▇███▇██</td></tr><tr><td>train/F1</td><td>▁▇███▇██</td></tr><tr><td>train/Precision</td><td>▁▆█▇▇▇█▇</td></tr><tr><td>train/Recall</td><td>▁▆▇▇█▆▇▇</td></tr><tr><td>train/loss</td><td>▂▃▁▄▃▃█▁</td></tr><tr><td>validation/Accuracy</td><td>█▁▅▇█▄▅▇</td></tr><tr><td>validation/F1</td><td>█▁▃▇▇▃▃█</td></tr><tr><td>validation/Precision</td><td>▃█▁▃▁▅▁▅</td></tr><tr><td>validation/Recall</td><td>█▁▃▇▇▃▃█</td></tr><tr><td>validation/loss</td><td>▇▂▆▃█▂▂▁</td></tr></table><br/></div><div class=\"wandb-col\"><h3>Run summary:</h3><br/><table class=\"wandb\"><tr><td>train/Accuracy</td><td>0.8107</td></tr><tr><td>train/F1</td><td>0.80118</td></tr><tr><td>train/Precision</td><td>0.75972</td></tr><tr><td>train/Recall</td><td>0.84742</td></tr><tr><td>train/loss</td><td>0.37504</td></tr><tr><td>validation/Accuracy</td><td>0.8519</td></tr><tr><td>validation/F1</td><td>0.13617</td></tr><tr><td>validation/Precision</td><td>0.59259</td></tr><tr><td>validation/Recall</td><td>0.07692</td></tr><tr><td>validation/loss</td><td>0.36669</td></tr></table><br/></div></div>"
      ],
      "text/plain": [
       "<IPython.core.display.HTML object>"
      ]
     },
     "metadata": {},
     "output_type": "display_data"
    },
    {
     "data": {
      "text/html": [
       " View run <strong style=\"color:#cdcd00\">HIV ChemAttention 5-16, sampling, custom dataset, descriptors</strong> at: <a href='https://wandb.ai/cus-tibor-none/ToxicML/runs/bmzq7f8e' target=\"_blank\">https://wandb.ai/cus-tibor-none/ToxicML/runs/bmzq7f8e</a><br/> View project at: <a href='https://wandb.ai/cus-tibor-none/ToxicML' target=\"_blank\">https://wandb.ai/cus-tibor-none/ToxicML</a><br/>Synced 5 W&B file(s), 0 media file(s), 2 artifact file(s) and 1 other file(s)"
      ],
      "text/plain": [
       "<IPython.core.display.HTML object>"
      ]
     },
     "metadata": {},
     "output_type": "display_data"
    },
    {
     "data": {
      "text/html": [
       "Find logs at: <code>./wandb/run-20241208_181638-bmzq7f8e/logs</code>"
      ],
      "text/plain": [
       "<IPython.core.display.HTML object>"
      ]
     },
     "metadata": {},
     "output_type": "display_data"
    }
   ],
   "source": [
    "from ToxicMl.MLmodels.attention import ChemAttention\n",
    "model = ChemAttentionDescriptors(5, 133, 16, 2, 202)\n",
    "optimizer = torch.optim.Adam(model.parameters())\n",
    "lr_scheduler = torch.optim.lr_scheduler.ExponentialLR(optimizer, gamma = 0.09)\n",
    "loss_fn = torch.nn.CrossEntropyLoss()\n",
    "sampler = ImbalancedSampler(train) \n",
    "device = torch.device('cuda' if torch.cuda.is_available() else 'cpu')\n",
    "\n",
    "trainer = GenericClassificationTrainer(\n",
    "    model,\n",
    "    optimizer,\n",
    "    loss_fn,\n",
    "    lr_scheduler,\n",
    "    train_metrics,\n",
    "    validation_metrics,\n",
    "    train,\n",
    "    validation,\n",
    "    test,\n",
    "    device,\n",
    "    sampler,\n",
    "    EPOCHS,\n",
    "    None,\n",
    "    32\n",
    ")\n",
    "\n",
    "trainer.train(\"HIV ChemAttention 5-16, sampling, custom dataset, descriptors\")"
   ]
  },
  {
   "cell_type": "code",
   "execution_count": 7,
   "metadata": {},
   "outputs": [
    {
     "name": "stderr",
     "output_type": "stream",
     "text": [
      "/home/tibor/Documents/msc-datascience/2024w/Toxic/ToxicML/.venv/lib/python3.12/site-packages/torch_geometric/deprecation.py:26: UserWarning: 'data.DataLoader' is deprecated, use 'loader.DataLoader' instead\n",
      "  warnings.warn(out)\n"
     ]
    },
    {
     "data": {
      "text/html": [
       "Tracking run with wandb version 0.18.7"
      ],
      "text/plain": [
       "<IPython.core.display.HTML object>"
      ]
     },
     "metadata": {},
     "output_type": "display_data"
    },
    {
     "data": {
      "text/html": [
       "Run data is saved locally in <code>/home/tibor/Documents/msc-datascience/2024w/Toxic/ToxicML/ToxicMl/wandb/run-20241208_181852-jxynhb7m</code>"
      ],
      "text/plain": [
       "<IPython.core.display.HTML object>"
      ]
     },
     "metadata": {},
     "output_type": "display_data"
    },
    {
     "data": {
      "text/html": [
       "Syncing run <strong><a href='https://wandb.ai/cus-tibor-none/ToxicML/runs/jxynhb7m' target=\"_blank\">HIV ChemAttention 5-32, sampling, custom dataset, descriptors</a></strong> to <a href='https://wandb.ai/cus-tibor-none/ToxicML' target=\"_blank\">Weights & Biases</a> (<a href='https://wandb.me/developer-guide' target=\"_blank\">docs</a>)<br/>"
      ],
      "text/plain": [
       "<IPython.core.display.HTML object>"
      ]
     },
     "metadata": {},
     "output_type": "display_data"
    },
    {
     "data": {
      "text/html": [
       " View project at <a href='https://wandb.ai/cus-tibor-none/ToxicML' target=\"_blank\">https://wandb.ai/cus-tibor-none/ToxicML</a>"
      ],
      "text/plain": [
       "<IPython.core.display.HTML object>"
      ]
     },
     "metadata": {},
     "output_type": "display_data"
    },
    {
     "data": {
      "text/html": [
       " View run at <a href='https://wandb.ai/cus-tibor-none/ToxicML/runs/jxynhb7m' target=\"_blank\">https://wandb.ai/cus-tibor-none/ToxicML/runs/jxynhb7m</a>"
      ],
      "text/plain": [
       "<IPython.core.display.HTML object>"
      ]
     },
     "metadata": {},
     "output_type": "display_data"
    },
    {
     "name": "stderr",
     "output_type": "stream",
     "text": [
      "train epoch:   0%|          | 0/1029.0 [00:00<?, ?it/s]/tmp/ipykernel_14768/3053635579.py:44: UserWarning: Implicit dimension choice for softmax has been deprecated. Change the call to include dim=X as an argument.\n",
      "  return F.softmax(x)\n",
      "train epoch: 100%|██████████| 1029/1029.0 [00:15<00:00, 66.45it/s]\n",
      "val epoch: 100%|██████████| 129/129.0 [00:00<00:00, 137.46it/s]\n",
      "train epoch: 100%|██████████| 1029/1029.0 [00:16<00:00, 61.06it/s]\n",
      "val epoch: 100%|██████████| 129/129.0 [00:00<00:00, 137.47it/s]\n",
      "train epoch: 100%|██████████| 1029/1029.0 [00:17<00:00, 60.51it/s]\n",
      "val epoch: 100%|██████████| 129/129.0 [00:00<00:00, 143.42it/s]\n",
      "train epoch: 100%|██████████| 1029/1029.0 [00:16<00:00, 62.50it/s]\n",
      "val epoch: 100%|██████████| 129/129.0 [00:00<00:00, 136.22it/s]\n",
      "train epoch: 100%|██████████| 1029/1029.0 [00:17<00:00, 59.62it/s]\n",
      "val epoch: 100%|██████████| 129/129.0 [00:00<00:00, 129.97it/s]\n",
      "train epoch: 100%|██████████| 1029/1029.0 [00:19<00:00, 51.71it/s]\n",
      "val epoch: 100%|██████████| 129/129.0 [00:01<00:00, 123.46it/s]\n",
      "train epoch: 100%|██████████| 1029/1029.0 [00:20<00:00, 49.66it/s]\n",
      "val epoch: 100%|██████████| 129/129.0 [00:01<00:00, 107.61it/s]\n",
      "train epoch: 100%|██████████| 1029/1029.0 [00:19<00:00, 52.97it/s]\n",
      "val epoch: 100%|██████████| 129/129.0 [00:01<00:00, 115.72it/s]\n"
     ]
    },
    {
     "data": {
      "text/html": [
       "\n",
       "    <style>\n",
       "        .wandb-row {\n",
       "            display: flex;\n",
       "            flex-direction: row;\n",
       "            flex-wrap: wrap;\n",
       "            justify-content: flex-start;\n",
       "            width: 100%;\n",
       "        }\n",
       "        .wandb-col {\n",
       "            display: flex;\n",
       "            flex-direction: column;\n",
       "            flex-basis: 100%;\n",
       "            flex: 1;\n",
       "            padding: 10px;\n",
       "        }\n",
       "    </style>\n",
       "<div class=\"wandb-row\"><div class=\"wandb-col\"><h3>Run history:</h3><br/><table class=\"wandb\"><tr><td>train/Accuracy</td><td>▁▇█▇▇█▇█</td></tr><tr><td>train/F1</td><td>▁▇█▇▇█▇█</td></tr><tr><td>train/Precision</td><td>▁▇█▇▇███</td></tr><tr><td>train/Recall</td><td>▁▇█▇▇▇▇█</td></tr><tr><td>train/loss</td><td>▂▁█▆▄▄▁▂</td></tr><tr><td>validation/Accuracy</td><td>▁█▆▆▇▇▇▇</td></tr><tr><td>validation/F1</td><td>▁█▇▅▇▆▆▇</td></tr><tr><td>validation/Precision</td><td>█▁▅▂▂▂▁▃</td></tr><tr><td>validation/Recall</td><td>▁█▇▅▇▆▆▇</td></tr><tr><td>validation/loss</td><td>█▁▅▄▆█▇█</td></tr></table><br/></div><div class=\"wandb-col\"><h3>Run summary:</h3><br/><table class=\"wandb\"><tr><td>train/Accuracy</td><td>0.8103</td></tr><tr><td>train/F1</td><td>0.80045</td></tr><tr><td>train/Precision</td><td>0.76272</td></tr><tr><td>train/Recall</td><td>0.8421</td></tr><tr><td>train/loss</td><td>0.42448</td></tr><tr><td>validation/Accuracy</td><td>0.8335</td></tr><tr><td>validation/F1</td><td>0.13181</td></tr><tr><td>validation/Precision</td><td>0.64198</td></tr><tr><td>validation/Recall</td><td>0.07345</td></tr><tr><td>validation/loss</td><td>0.4771</td></tr></table><br/></div></div>"
      ],
      "text/plain": [
       "<IPython.core.display.HTML object>"
      ]
     },
     "metadata": {},
     "output_type": "display_data"
    },
    {
     "data": {
      "text/html": [
       " View run <strong style=\"color:#cdcd00\">HIV ChemAttention 5-32, sampling, custom dataset, descriptors</strong> at: <a href='https://wandb.ai/cus-tibor-none/ToxicML/runs/jxynhb7m' target=\"_blank\">https://wandb.ai/cus-tibor-none/ToxicML/runs/jxynhb7m</a><br/> View project at: <a href='https://wandb.ai/cus-tibor-none/ToxicML' target=\"_blank\">https://wandb.ai/cus-tibor-none/ToxicML</a><br/>Synced 5 W&B file(s), 0 media file(s), 2 artifact file(s) and 1 other file(s)"
      ],
      "text/plain": [
       "<IPython.core.display.HTML object>"
      ]
     },
     "metadata": {},
     "output_type": "display_data"
    },
    {
     "data": {
      "text/html": [
       "Find logs at: <code>./wandb/run-20241208_181852-jxynhb7m/logs</code>"
      ],
      "text/plain": [
       "<IPython.core.display.HTML object>"
      ]
     },
     "metadata": {},
     "output_type": "display_data"
    }
   ],
   "source": [
    "from ToxicMl.MLmodels.attention import ChemAttention\n",
    "model = ChemAttentionDescriptors(5, 133, 32, 2, 202)\n",
    "optimizer = torch.optim.Adam(model.parameters())\n",
    "lr_scheduler = torch.optim.lr_scheduler.ExponentialLR(optimizer, gamma = 0.09)\n",
    "loss_fn = torch.nn.CrossEntropyLoss()\n",
    "sampler = ImbalancedSampler(train) \n",
    "device = torch.device('cuda' if torch.cuda.is_available() else 'cpu')\n",
    "\n",
    "trainer = GenericClassificationTrainer(\n",
    "    model,\n",
    "    optimizer,\n",
    "    loss_fn,\n",
    "    lr_scheduler,\n",
    "    train_metrics,\n",
    "    validation_metrics,\n",
    "    train,\n",
    "    validation,\n",
    "    test,\n",
    "    device,\n",
    "    sampler,\n",
    "    EPOCHS,\n",
    "    None,\n",
    "    32\n",
    ")\n",
    "\n",
    "trainer.train(\"HIV ChemAttention 5-32, sampling, custom dataset, descriptors\")"
   ]
  },
  {
   "cell_type": "code",
   "execution_count": 8,
   "metadata": {},
   "outputs": [
    {
     "name": "stderr",
     "output_type": "stream",
     "text": [
      "/home/tibor/Documents/msc-datascience/2024w/Toxic/ToxicML/.venv/lib/python3.12/site-packages/torch_geometric/deprecation.py:26: UserWarning: 'data.DataLoader' is deprecated, use 'loader.DataLoader' instead\n",
      "  warnings.warn(out)\n"
     ]
    },
    {
     "data": {
      "text/html": [
       "Tracking run with wandb version 0.18.7"
      ],
      "text/plain": [
       "<IPython.core.display.HTML object>"
      ]
     },
     "metadata": {},
     "output_type": "display_data"
    },
    {
     "data": {
      "text/html": [
       "Run data is saved locally in <code>/home/tibor/Documents/msc-datascience/2024w/Toxic/ToxicML/ToxicMl/wandb/run-20241208_182131-82l4f08a</code>"
      ],
      "text/plain": [
       "<IPython.core.display.HTML object>"
      ]
     },
     "metadata": {},
     "output_type": "display_data"
    },
    {
     "data": {
      "text/html": [
       "Syncing run <strong><a href='https://wandb.ai/cus-tibor-none/ToxicML/runs/82l4f08a' target=\"_blank\">HIV ChemAttention 5-64, sampling, custom dataset, descriptors</a></strong> to <a href='https://wandb.ai/cus-tibor-none/ToxicML' target=\"_blank\">Weights & Biases</a> (<a href='https://wandb.me/developer-guide' target=\"_blank\">docs</a>)<br/>"
      ],
      "text/plain": [
       "<IPython.core.display.HTML object>"
      ]
     },
     "metadata": {},
     "output_type": "display_data"
    },
    {
     "data": {
      "text/html": [
       " View project at <a href='https://wandb.ai/cus-tibor-none/ToxicML' target=\"_blank\">https://wandb.ai/cus-tibor-none/ToxicML</a>"
      ],
      "text/plain": [
       "<IPython.core.display.HTML object>"
      ]
     },
     "metadata": {},
     "output_type": "display_data"
    },
    {
     "data": {
      "text/html": [
       " View run at <a href='https://wandb.ai/cus-tibor-none/ToxicML/runs/82l4f08a' target=\"_blank\">https://wandb.ai/cus-tibor-none/ToxicML/runs/82l4f08a</a>"
      ],
      "text/plain": [
       "<IPython.core.display.HTML object>"
      ]
     },
     "metadata": {},
     "output_type": "display_data"
    },
    {
     "name": "stderr",
     "output_type": "stream",
     "text": [
      "train epoch:   0%|          | 0/1029.0 [00:00<?, ?it/s]/tmp/ipykernel_14768/3053635579.py:44: UserWarning: Implicit dimension choice for softmax has been deprecated. Change the call to include dim=X as an argument.\n",
      "  return F.softmax(x)\n",
      "train epoch: 100%|██████████| 1029/1029.0 [00:24<00:00, 42.84it/s]\n",
      "val epoch: 100%|██████████| 129/129.0 [00:01<00:00, 110.12it/s]\n",
      "train epoch: 100%|██████████| 1029/1029.0 [00:22<00:00, 46.13it/s]\n",
      "val epoch: 100%|██████████| 129/129.0 [00:01<00:00, 97.62it/s] \n",
      "train epoch: 100%|██████████| 1029/1029.0 [00:22<00:00, 45.53it/s]\n",
      "val epoch: 100%|██████████| 129/129.0 [00:01<00:00, 105.03it/s]\n",
      "train epoch: 100%|██████████| 1029/1029.0 [00:22<00:00, 44.86it/s]\n",
      "val epoch: 100%|██████████| 129/129.0 [00:01<00:00, 109.31it/s]\n",
      "train epoch: 100%|██████████| 1029/1029.0 [00:21<00:00, 47.38it/s]\n",
      "val epoch: 100%|██████████| 129/129.0 [00:01<00:00, 115.88it/s]\n",
      "train epoch: 100%|██████████| 1029/1029.0 [00:21<00:00, 47.20it/s]\n",
      "val epoch: 100%|██████████| 129/129.0 [00:01<00:00, 106.05it/s]\n",
      "train epoch: 100%|██████████| 1029/1029.0 [00:23<00:00, 43.99it/s]\n",
      "val epoch: 100%|██████████| 129/129.0 [00:01<00:00, 113.24it/s]\n",
      "train epoch: 100%|██████████| 1029/1029.0 [00:21<00:00, 48.53it/s]\n",
      "val epoch: 100%|██████████| 129/129.0 [00:01<00:00, 114.93it/s]\n"
     ]
    },
    {
     "data": {
      "text/html": [
       "\n",
       "    <style>\n",
       "        .wandb-row {\n",
       "            display: flex;\n",
       "            flex-direction: row;\n",
       "            flex-wrap: wrap;\n",
       "            justify-content: flex-start;\n",
       "            width: 100%;\n",
       "        }\n",
       "        .wandb-col {\n",
       "            display: flex;\n",
       "            flex-direction: column;\n",
       "            flex-basis: 100%;\n",
       "            flex: 1;\n",
       "            padding: 10px;\n",
       "        }\n",
       "    </style>\n",
       "<div class=\"wandb-row\"><div class=\"wandb-col\"><h3>Run history:</h3><br/><table class=\"wandb\"><tr><td>train/Accuracy</td><td>▁▇██████</td></tr><tr><td>train/F1</td><td>▁▇██████</td></tr><tr><td>train/Precision</td><td>▁▇██████</td></tr><tr><td>train/Recall</td><td>▁▇██▇█▇█</td></tr><tr><td>train/loss</td><td>▅▁█▂▄▆▁▄</td></tr><tr><td>validation/Accuracy</td><td>▁▅▇▃█▁▆▄</td></tr><tr><td>validation/F1</td><td>▁▄▅▅▇▂█▃</td></tr><tr><td>validation/Precision</td><td>▄▂▁█▃▅▆▄</td></tr><tr><td>validation/Recall</td><td>▁▄▆▅█▂█▃</td></tr><tr><td>validation/loss</td><td>█▃▄▄▄▁▄▅</td></tr></table><br/></div><div class=\"wandb-col\"><h3>Run summary:</h3><br/><table class=\"wandb\"><tr><td>train/Accuracy</td><td>0.7982</td></tr><tr><td>train/F1</td><td>0.78597</td></tr><tr><td>train/Precision</td><td>0.74595</td></tr><tr><td>train/Recall</td><td>0.83053</td></tr><tr><td>train/loss</td><td>0.53728</td></tr><tr><td>validation/Accuracy</td><td>0.8288</td></tr><tr><td>validation/F1</td><td>0.12</td></tr><tr><td>validation/Precision</td><td>0.59259</td></tr><tr><td>validation/Recall</td><td>0.06676</td></tr><tr><td>validation/loss</td><td>0.47794</td></tr></table><br/></div></div>"
      ],
      "text/plain": [
       "<IPython.core.display.HTML object>"
      ]
     },
     "metadata": {},
     "output_type": "display_data"
    },
    {
     "data": {
      "text/html": [
       " View run <strong style=\"color:#cdcd00\">HIV ChemAttention 5-64, sampling, custom dataset, descriptors</strong> at: <a href='https://wandb.ai/cus-tibor-none/ToxicML/runs/82l4f08a' target=\"_blank\">https://wandb.ai/cus-tibor-none/ToxicML/runs/82l4f08a</a><br/> View project at: <a href='https://wandb.ai/cus-tibor-none/ToxicML' target=\"_blank\">https://wandb.ai/cus-tibor-none/ToxicML</a><br/>Synced 5 W&B file(s), 0 media file(s), 2 artifact file(s) and 1 other file(s)"
      ],
      "text/plain": [
       "<IPython.core.display.HTML object>"
      ]
     },
     "metadata": {},
     "output_type": "display_data"
    },
    {
     "data": {
      "text/html": [
       "Find logs at: <code>./wandb/run-20241208_182131-82l4f08a/logs</code>"
      ],
      "text/plain": [
       "<IPython.core.display.HTML object>"
      ]
     },
     "metadata": {},
     "output_type": "display_data"
    }
   ],
   "source": [
    "from ToxicMl.MLmodels.attention import ChemAttention\n",
    "model = ChemAttentionDescriptors(5, 133, 64, 2, 202)\n",
    "optimizer = torch.optim.Adam(model.parameters())\n",
    "lr_scheduler = torch.optim.lr_scheduler.ExponentialLR(optimizer, gamma = 0.09)\n",
    "loss_fn = torch.nn.CrossEntropyLoss()\n",
    "sampler = ImbalancedSampler(train) \n",
    "device = torch.device('cuda' if torch.cuda.is_available() else 'cpu')\n",
    "\n",
    "trainer = GenericClassificationTrainer(\n",
    "    model,\n",
    "    optimizer,\n",
    "    loss_fn,\n",
    "    lr_scheduler,\n",
    "    train_metrics,\n",
    "    validation_metrics,\n",
    "    train,\n",
    "    validation,\n",
    "    test,\n",
    "    device,\n",
    "    sampler,\n",
    "    EPOCHS,\n",
    "    None,\n",
    "    32\n",
    ")\n",
    "\n",
    "trainer.train(\"HIV ChemAttention 5-64, sampling, custom dataset, descriptors\")"
   ]
  },
  {
   "cell_type": "code",
   "execution_count": 9,
   "metadata": {},
   "outputs": [
    {
     "name": "stderr",
     "output_type": "stream",
     "text": [
      "/home/tibor/Documents/msc-datascience/2024w/Toxic/ToxicML/.venv/lib/python3.12/site-packages/torch_geometric/deprecation.py:26: UserWarning: 'data.DataLoader' is deprecated, use 'loader.DataLoader' instead\n",
      "  warnings.warn(out)\n"
     ]
    },
    {
     "data": {
      "text/html": [
       "Tracking run with wandb version 0.18.7"
      ],
      "text/plain": [
       "<IPython.core.display.HTML object>"
      ]
     },
     "metadata": {},
     "output_type": "display_data"
    },
    {
     "data": {
      "text/html": [
       "Run data is saved locally in <code>/home/tibor/Documents/msc-datascience/2024w/Toxic/ToxicML/ToxicMl/wandb/run-20241208_182448-pl8f0u3b</code>"
      ],
      "text/plain": [
       "<IPython.core.display.HTML object>"
      ]
     },
     "metadata": {},
     "output_type": "display_data"
    },
    {
     "data": {
      "text/html": [
       "Syncing run <strong><a href='https://wandb.ai/cus-tibor-none/ToxicML/runs/pl8f0u3b' target=\"_blank\">HIV ChemAttention 5-128, sampling, custom dataset, descriptors</a></strong> to <a href='https://wandb.ai/cus-tibor-none/ToxicML' target=\"_blank\">Weights & Biases</a> (<a href='https://wandb.me/developer-guide' target=\"_blank\">docs</a>)<br/>"
      ],
      "text/plain": [
       "<IPython.core.display.HTML object>"
      ]
     },
     "metadata": {},
     "output_type": "display_data"
    },
    {
     "data": {
      "text/html": [
       " View project at <a href='https://wandb.ai/cus-tibor-none/ToxicML' target=\"_blank\">https://wandb.ai/cus-tibor-none/ToxicML</a>"
      ],
      "text/plain": [
       "<IPython.core.display.HTML object>"
      ]
     },
     "metadata": {},
     "output_type": "display_data"
    },
    {
     "data": {
      "text/html": [
       " View run at <a href='https://wandb.ai/cus-tibor-none/ToxicML/runs/pl8f0u3b' target=\"_blank\">https://wandb.ai/cus-tibor-none/ToxicML/runs/pl8f0u3b</a>"
      ],
      "text/plain": [
       "<IPython.core.display.HTML object>"
      ]
     },
     "metadata": {},
     "output_type": "display_data"
    },
    {
     "name": "stderr",
     "output_type": "stream",
     "text": [
      "train epoch:   0%|          | 0/1029.0 [00:00<?, ?it/s]/tmp/ipykernel_14768/3053635579.py:44: UserWarning: Implicit dimension choice for softmax has been deprecated. Change the call to include dim=X as an argument.\n",
      "  return F.softmax(x)\n",
      "train epoch: 100%|██████████| 1029/1029.0 [00:28<00:00, 36.23it/s]\n",
      "val epoch: 100%|██████████| 129/129.0 [00:01<00:00, 77.20it/s]\n",
      "train epoch: 100%|██████████| 1029/1029.0 [00:30<00:00, 33.83it/s]\n",
      "val epoch: 100%|██████████| 129/129.0 [00:01<00:00, 85.39it/s]\n",
      "train epoch: 100%|██████████| 1029/1029.0 [00:30<00:00, 34.25it/s]\n",
      "val epoch: 100%|██████████| 129/129.0 [00:01<00:00, 88.63it/s]\n",
      "train epoch: 100%|██████████| 1029/1029.0 [00:30<00:00, 33.43it/s]\n",
      "val epoch: 100%|██████████| 129/129.0 [00:01<00:00, 72.29it/s]\n",
      "train epoch: 100%|██████████| 1029/1029.0 [00:31<00:00, 32.35it/s]\n",
      "val epoch: 100%|██████████| 129/129.0 [00:01<00:00, 77.50it/s]\n",
      "train epoch: 100%|██████████| 1029/1029.0 [00:30<00:00, 34.10it/s]\n",
      "val epoch: 100%|██████████| 129/129.0 [00:01<00:00, 69.46it/s]\n",
      "train epoch: 100%|██████████| 1029/1029.0 [00:30<00:00, 33.96it/s]\n",
      "val epoch: 100%|██████████| 129/129.0 [00:01<00:00, 85.96it/s]\n",
      "train epoch: 100%|██████████| 1029/1029.0 [00:29<00:00, 34.98it/s]\n",
      "val epoch: 100%|██████████| 129/129.0 [00:01<00:00, 93.44it/s]\n"
     ]
    },
    {
     "data": {
      "text/html": [
       "\n",
       "    <style>\n",
       "        .wandb-row {\n",
       "            display: flex;\n",
       "            flex-direction: row;\n",
       "            flex-wrap: wrap;\n",
       "            justify-content: flex-start;\n",
       "            width: 100%;\n",
       "        }\n",
       "        .wandb-col {\n",
       "            display: flex;\n",
       "            flex-direction: column;\n",
       "            flex-basis: 100%;\n",
       "            flex: 1;\n",
       "            padding: 10px;\n",
       "        }\n",
       "    </style>\n",
       "<div class=\"wandb-row\"><div class=\"wandb-col\"><h3>Run history:</h3><br/><table class=\"wandb\"><tr><td>train/Accuracy</td><td>▁▇█▇████</td></tr><tr><td>train/F1</td><td>▁▇█▇████</td></tr><tr><td>train/Precision</td><td>▁▇█▇█▇▇█</td></tr><tr><td>train/Recall</td><td>▁▇▇▇███▇</td></tr><tr><td>train/loss</td><td>▇▅▄▁▁█▅█</td></tr><tr><td>validation/Accuracy</td><td>▂█▄▁▂▅█▅</td></tr><tr><td>validation/F1</td><td>▁▇▅▆▃▅█▄</td></tr><tr><td>validation/Precision</td><td>▁▄▄█▃▄▅▃</td></tr><tr><td>validation/Recall</td><td>▁▇▄▅▃▅█▄</td></tr><tr><td>validation/loss</td><td>▄▂▄▆▃▂▁█</td></tr></table><br/></div><div class=\"wandb-col\"><h3>Run summary:</h3><br/><table class=\"wandb\"><tr><td>train/Accuracy</td><td>0.7923</td></tr><tr><td>train/F1</td><td>0.78059</td></tr><tr><td>train/Precision</td><td>0.74252</td></tr><tr><td>train/Recall</td><td>0.82278</td></tr><tr><td>train/loss</td><td>0.60205</td></tr><tr><td>validation/Accuracy</td><td>0.8094</td></tr><tr><td>validation/F1</td><td>0.10706</td></tr><tr><td>validation/Precision</td><td>0.58025</td></tr><tr><td>validation/Recall</td><td>0.05897</td></tr><tr><td>validation/loss</td><td>0.62091</td></tr></table><br/></div></div>"
      ],
      "text/plain": [
       "<IPython.core.display.HTML object>"
      ]
     },
     "metadata": {},
     "output_type": "display_data"
    },
    {
     "data": {
      "text/html": [
       " View run <strong style=\"color:#cdcd00\">HIV ChemAttention 5-128, sampling, custom dataset, descriptors</strong> at: <a href='https://wandb.ai/cus-tibor-none/ToxicML/runs/pl8f0u3b' target=\"_blank\">https://wandb.ai/cus-tibor-none/ToxicML/runs/pl8f0u3b</a><br/> View project at: <a href='https://wandb.ai/cus-tibor-none/ToxicML' target=\"_blank\">https://wandb.ai/cus-tibor-none/ToxicML</a><br/>Synced 5 W&B file(s), 0 media file(s), 2 artifact file(s) and 1 other file(s)"
      ],
      "text/plain": [
       "<IPython.core.display.HTML object>"
      ]
     },
     "metadata": {},
     "output_type": "display_data"
    },
    {
     "data": {
      "text/html": [
       "Find logs at: <code>./wandb/run-20241208_182448-pl8f0u3b/logs</code>"
      ],
      "text/plain": [
       "<IPython.core.display.HTML object>"
      ]
     },
     "metadata": {},
     "output_type": "display_data"
    }
   ],
   "source": [
    "from ToxicMl.MLmodels.attention import ChemAttention\n",
    "model = ChemAttentionDescriptors(5, 133, 128, 2, 202)\n",
    "optimizer = torch.optim.Adam(model.parameters())\n",
    "lr_scheduler = torch.optim.lr_scheduler.ExponentialLR(optimizer, gamma = 0.09)\n",
    "loss_fn = torch.nn.CrossEntropyLoss()\n",
    "sampler = ImbalancedSampler(train) \n",
    "device = torch.device('cuda' if torch.cuda.is_available() else 'cpu')\n",
    "\n",
    "trainer = GenericClassificationTrainer(\n",
    "    model,\n",
    "    optimizer,\n",
    "    loss_fn,\n",
    "    lr_scheduler,\n",
    "    train_metrics,\n",
    "    validation_metrics,\n",
    "    train,\n",
    "    validation,\n",
    "    test,\n",
    "    device,\n",
    "    sampler,\n",
    "    EPOCHS,\n",
    "    None,\n",
    "    32\n",
    ")\n",
    "\n",
    "trainer.train(\"HIV ChemAttention 5-128, sampling, custom dataset, descriptors\")"
   ]
  },
  {
   "cell_type": "code",
   "execution_count": null,
   "metadata": {},
   "outputs": [],
   "source": []
  }
 ],
 "metadata": {
  "kernelspec": {
   "display_name": ".venv",
   "language": "python",
   "name": "python3"
  },
  "language_info": {
   "codemirror_mode": {
    "name": "ipython",
    "version": 3
   },
   "file_extension": ".py",
   "mimetype": "text/x-python",
   "name": "python",
   "nbconvert_exporter": "python",
   "pygments_lexer": "ipython3",
   "version": "3.12.7"
  }
 },
 "nbformat": 4,
 "nbformat_minor": 2
}
