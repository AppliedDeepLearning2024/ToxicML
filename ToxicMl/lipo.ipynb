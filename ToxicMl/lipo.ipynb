{
 "cells": [
  {
   "cell_type": "code",
   "execution_count": 1,
   "metadata": {},
   "outputs": [],
   "source": [
    "from ToxicMl.evaluation import get_lipo_data\n",
    "from ToxicMl.trainer import GenericRegressionTrainer\n",
    "from ToxicMl.metrics import MAE, MSE, MaxError\n",
    "\n",
    "import torch"
   ]
  },
  {
   "cell_type": "code",
   "execution_count": 2,
   "metadata": {},
   "outputs": [
    {
     "name": "stderr",
     "output_type": "stream",
     "text": [
      "/home/tibor/Documents/msc-datascience/2024w/Toxic/ToxicML/.venv/lib/python3.12/site-packages/ogb/graphproppred/dataset_pyg.py:68: FutureWarning: You are using `torch.load` with `weights_only=False` (the current default value), which uses the default pickle module implicitly. It is possible to construct malicious pickle data which will execute arbitrary code during unpickling (See https://github.com/pytorch/pytorch/blob/main/SECURITY.md#untrusted-models for more details). In a future release, the default value for `weights_only` will be flipped to `True`. This limits the functions that could be executed during unpickling. Arbitrary objects will no longer be allowed to be loaded via this mode unless they are explicitly allowlisted by the user via `torch.serialization.add_safe_globals`. We recommend you start setting `weights_only=True` for any use case where you don't have full control of the loaded file. Please open an issue on GitHub for any issues related to this experimental feature.\n",
      "  self.data, self.slices = torch.load(self.processed_paths[0])\n"
     ]
    }
   ],
   "source": [
    "dataset, train, validation, test = get_lipo_data()\n",
    "train_metrics = [MAE(), MSE(), MaxError()]\n",
    "validation_metrics = [MAE(), MSE(), MaxError()]\n",
    "EPOCHS = 10"
   ]
  },
  {
   "cell_type": "code",
   "execution_count": 3,
   "metadata": {},
   "outputs": [
    {
     "name": "stderr",
     "output_type": "stream",
     "text": [
      "/home/tibor/Documents/msc-datascience/2024w/Toxic/ToxicML/.venv/lib/python3.12/site-packages/torch_geometric/deprecation.py:26: UserWarning: 'data.DataLoader' is deprecated, use 'loader.DataLoader' instead\n",
      "  warnings.warn(out)\n",
      "\u001b[34m\u001b[1mwandb\u001b[0m: Using wandb-core as the SDK backend.  Please refer to https://wandb.me/wandb-core for more information.\n",
      "\u001b[34m\u001b[1mwandb\u001b[0m: Currently logged in as: \u001b[33mcus-tibor\u001b[0m (\u001b[33mcus-tibor-none\u001b[0m). Use \u001b[1m`wandb login --relogin`\u001b[0m to force relogin\n"
     ]
    },
    {
     "data": {
      "text/html": [
       "Tracking run with wandb version 0.18.7"
      ],
      "text/plain": [
       "<IPython.core.display.HTML object>"
      ]
     },
     "metadata": {},
     "output_type": "display_data"
    },
    {
     "data": {
      "text/html": [
       "Run data is saved locally in <code>/home/tibor/Documents/msc-datascience/2024w/Toxic/ToxicML/ToxicMl/wandb/run-20241207_121527-4ba6qd3o</code>"
      ],
      "text/plain": [
       "<IPython.core.display.HTML object>"
      ]
     },
     "metadata": {},
     "output_type": "display_data"
    },
    {
     "data": {
      "text/html": [
       "Syncing run <strong><a href='https://wandb.ai/cus-tibor-none/ToxicML/runs/4ba6qd3o' target=\"_blank\">LIPO base GCN</a></strong> to <a href='https://wandb.ai/cus-tibor-none/ToxicML' target=\"_blank\">Weights & Biases</a> (<a href='https://wandb.me/developer-guide' target=\"_blank\">docs</a>)<br/>"
      ],
      "text/plain": [
       "<IPython.core.display.HTML object>"
      ]
     },
     "metadata": {},
     "output_type": "display_data"
    },
    {
     "data": {
      "text/html": [
       " View project at <a href='https://wandb.ai/cus-tibor-none/ToxicML' target=\"_blank\">https://wandb.ai/cus-tibor-none/ToxicML</a>"
      ],
      "text/plain": [
       "<IPython.core.display.HTML object>"
      ]
     },
     "metadata": {},
     "output_type": "display_data"
    },
    {
     "data": {
      "text/html": [
       " View run at <a href='https://wandb.ai/cus-tibor-none/ToxicML/runs/4ba6qd3o' target=\"_blank\">https://wandb.ai/cus-tibor-none/ToxicML/runs/4ba6qd3o</a>"
      ],
      "text/plain": [
       "<IPython.core.display.HTML object>"
      ]
     },
     "metadata": {},
     "output_type": "display_data"
    },
    {
     "name": "stderr",
     "output_type": "stream",
     "text": [
      "train epoch:   0%|          | 0/105.0 [00:00<?, ?it/s]/home/tibor/Documents/msc-datascience/2024w/Toxic/ToxicML/.venv/lib/python3.12/site-packages/torch/nn/modules/loss.py:608: UserWarning: Using a target size (torch.Size([32])) that is different to the input size (torch.Size([32, 1])). This will likely lead to incorrect results due to broadcasting. Please ensure they have the same size.\n",
      "  return F.mse_loss(input, target, reduction=self.reduction)\n",
      "train epoch: 100%|██████████| 105/105.0 [00:00<00:00, 134.64it/s]\n",
      "val epoch:   0%|          | 0/14.0 [00:00<?, ?it/s]/home/tibor/Documents/msc-datascience/2024w/Toxic/ToxicML/.venv/lib/python3.12/site-packages/torch/nn/modules/loss.py:608: UserWarning: Using a target size (torch.Size([4])) that is different to the input size (torch.Size([4, 1])). This will likely lead to incorrect results due to broadcasting. Please ensure they have the same size.\n",
      "  return F.mse_loss(input, target, reduction=self.reduction)\n",
      "val epoch: 100%|██████████| 14/14.0 [00:00<00:00, 169.85it/s]\n",
      "train epoch: 100%|██████████| 105/105.0 [00:00<00:00, 241.02it/s]\n",
      "val epoch: 100%|██████████| 14/14.0 [00:00<00:00, 314.10it/s]\n",
      "train epoch: 100%|██████████| 105/105.0 [00:00<00:00, 220.54it/s]\n",
      "val epoch: 100%|██████████| 14/14.0 [00:00<00:00, 205.88it/s]\n",
      "train epoch: 100%|██████████| 105/105.0 [00:00<00:00, 220.20it/s]\n",
      "val epoch: 100%|██████████| 14/14.0 [00:00<00:00, 249.20it/s]\n",
      "train epoch: 100%|██████████| 105/105.0 [00:00<00:00, 221.95it/s]\n",
      "val epoch: 100%|██████████| 14/14.0 [00:00<00:00, 249.46it/s]\n",
      "train epoch: 100%|██████████| 105/105.0 [00:00<00:00, 201.15it/s]\n",
      "val epoch: 100%|██████████| 14/14.0 [00:00<00:00, 298.28it/s]\n",
      "train epoch: 100%|██████████| 105/105.0 [00:00<00:00, 236.35it/s]\n",
      "val epoch: 100%|██████████| 14/14.0 [00:00<00:00, 256.33it/s]\n",
      "train epoch: 100%|██████████| 105/105.0 [00:00<00:00, 214.47it/s]\n",
      "val epoch: 100%|██████████| 14/14.0 [00:00<00:00, 272.68it/s]\n",
      "train epoch: 100%|██████████| 105/105.0 [00:00<00:00, 171.33it/s]\n",
      "val epoch: 100%|██████████| 14/14.0 [00:00<00:00, 301.10it/s]\n",
      "train epoch: 100%|██████████| 105/105.0 [00:00<00:00, 248.96it/s]\n",
      "val epoch: 100%|██████████| 14/14.0 [00:00<00:00, 299.35it/s]\n"
     ]
    },
    {
     "data": {
      "text/html": [
       "\n",
       "    <style>\n",
       "        .wandb-row {\n",
       "            display: flex;\n",
       "            flex-direction: row;\n",
       "            flex-wrap: wrap;\n",
       "            justify-content: flex-start;\n",
       "            width: 100%;\n",
       "        }\n",
       "        .wandb-col {\n",
       "            display: flex;\n",
       "            flex-direction: column;\n",
       "            flex-basis: 100%;\n",
       "            flex: 1;\n",
       "            padding: 10px;\n",
       "        }\n",
       "    </style>\n",
       "<div class=\"wandb-row\"><div class=\"wandb-col\"><h3>Run history:</h3><br/><table class=\"wandb\"><tr><td>train/MAE</td><td>█▁▁▁▁▁▁▁▁▁</td></tr><tr><td>train/MSE</td><td>█▁▁▁▁▁▁▁▁▁</td></tr><tr><td>train/Max Error</td><td>█▃▂▁▂▃▂▂▂▃</td></tr><tr><td>train/loss</td><td>▄▁▅▅▅█▂▆▃█</td></tr><tr><td>validation/MAE</td><td>▁▇████████</td></tr><tr><td>validation/MSE</td><td>▁▇████████</td></tr><tr><td>validation/Max Error</td><td>█▂▁▁▁▁▁▁▁▁</td></tr><tr><td>validation/loss</td><td>▇▄█▂▂▄▂▄▁▄</td></tr></table><br/></div><div class=\"wandb-col\"><h3>Run summary:</h3><br/><table class=\"wandb\"><tr><td>train/MAE</td><td>1.23881</td></tr><tr><td>train/MSE</td><td>2.40971</td></tr><tr><td>train/Max Error</td><td>6.65685</td></tr><tr><td>train/loss</td><td>2.38083</td></tr><tr><td>validation/MAE</td><td>0.97494</td></tr><tr><td>validation/MSE</td><td>1.38918</td></tr><tr><td>validation/Max Error</td><td>3.83158</td></tr><tr><td>validation/loss</td><td>1.28666</td></tr></table><br/></div></div>"
      ],
      "text/plain": [
       "<IPython.core.display.HTML object>"
      ]
     },
     "metadata": {},
     "output_type": "display_data"
    },
    {
     "data": {
      "text/html": [
       " View run <strong style=\"color:#cdcd00\">LIPO base GCN</strong> at: <a href='https://wandb.ai/cus-tibor-none/ToxicML/runs/4ba6qd3o' target=\"_blank\">https://wandb.ai/cus-tibor-none/ToxicML/runs/4ba6qd3o</a><br/> View project at: <a href='https://wandb.ai/cus-tibor-none/ToxicML' target=\"_blank\">https://wandb.ai/cus-tibor-none/ToxicML</a><br/>Synced 5 W&B file(s), 0 media file(s), 8 artifact file(s) and 4 other file(s)"
      ],
      "text/plain": [
       "<IPython.core.display.HTML object>"
      ]
     },
     "metadata": {},
     "output_type": "display_data"
    },
    {
     "data": {
      "text/html": [
       "Find logs at: <code>./wandb/run-20241207_121527-4ba6qd3o/logs</code>"
      ],
      "text/plain": [
       "<IPython.core.display.HTML object>"
      ]
     },
     "metadata": {},
     "output_type": "display_data"
    }
   ],
   "source": [
    "from ToxicMl.MLmodels.gcn import GCNReg, ChemGCNReg\n",
    "\n",
    "model = GCNReg(9, 16, 1)\n",
    "optimizer = torch.optim.Adam(model.parameters())\n",
    "lr_scheduler = torch.optim.lr_scheduler.ExponentialLR(optimizer, gamma = 0.09)\n",
    "loss_fn = torch.nn.MSELoss()\n",
    "device = torch.device('cuda' if torch.cuda.is_available() else 'cpu')\n",
    "\n",
    "trainer = GenericRegressionTrainer(\n",
    "    model,\n",
    "    optimizer,\n",
    "    loss_fn,\n",
    "    lr_scheduler,\n",
    "    train_metrics,\n",
    "    validation_metrics,\n",
    "    train,\n",
    "    validation,\n",
    "    test,\n",
    "    device,\n",
    "    None,\n",
    "    EPOCHS,\n",
    "    None,\n",
    "    32\n",
    ")\n",
    "\n",
    "trainer.train(\"LIPO base GCN\")"
   ]
  },
  {
   "cell_type": "code",
   "execution_count": 4,
   "metadata": {},
   "outputs": [
    {
     "name": "stderr",
     "output_type": "stream",
     "text": [
      "/home/tibor/Documents/msc-datascience/2024w/Toxic/ToxicML/.venv/lib/python3.12/site-packages/torch_geometric/deprecation.py:26: UserWarning: 'data.DataLoader' is deprecated, use 'loader.DataLoader' instead\n",
      "  warnings.warn(out)\n"
     ]
    },
    {
     "data": {
      "text/html": [
       "Tracking run with wandb version 0.18.7"
      ],
      "text/plain": [
       "<IPython.core.display.HTML object>"
      ]
     },
     "metadata": {},
     "output_type": "display_data"
    },
    {
     "data": {
      "text/html": [
       "Run data is saved locally in <code>/home/tibor/Documents/msc-datascience/2024w/Toxic/ToxicML/ToxicMl/wandb/run-20241207_121540-52nhk1g0</code>"
      ],
      "text/plain": [
       "<IPython.core.display.HTML object>"
      ]
     },
     "metadata": {},
     "output_type": "display_data"
    },
    {
     "data": {
      "text/html": [
       "Syncing run <strong><a href='https://wandb.ai/cus-tibor-none/ToxicML/runs/52nhk1g0' target=\"_blank\">LIPO GCN 3-16</a></strong> to <a href='https://wandb.ai/cus-tibor-none/ToxicML' target=\"_blank\">Weights & Biases</a> (<a href='https://wandb.me/developer-guide' target=\"_blank\">docs</a>)<br/>"
      ],
      "text/plain": [
       "<IPython.core.display.HTML object>"
      ]
     },
     "metadata": {},
     "output_type": "display_data"
    },
    {
     "data": {
      "text/html": [
       " View project at <a href='https://wandb.ai/cus-tibor-none/ToxicML' target=\"_blank\">https://wandb.ai/cus-tibor-none/ToxicML</a>"
      ],
      "text/plain": [
       "<IPython.core.display.HTML object>"
      ]
     },
     "metadata": {},
     "output_type": "display_data"
    },
    {
     "data": {
      "text/html": [
       " View run at <a href='https://wandb.ai/cus-tibor-none/ToxicML/runs/52nhk1g0' target=\"_blank\">https://wandb.ai/cus-tibor-none/ToxicML/runs/52nhk1g0</a>"
      ],
      "text/plain": [
       "<IPython.core.display.HTML object>"
      ]
     },
     "metadata": {},
     "output_type": "display_data"
    },
    {
     "name": "stderr",
     "output_type": "stream",
     "text": [
      "train epoch:   0%|          | 0/105.0 [00:00<?, ?it/s]/home/tibor/Documents/msc-datascience/2024w/Toxic/ToxicML/.venv/lib/python3.12/site-packages/torch/nn/modules/loss.py:608: UserWarning: Using a target size (torch.Size([32])) that is different to the input size (torch.Size([32, 1])). This will likely lead to incorrect results due to broadcasting. Please ensure they have the same size.\n",
      "  return F.mse_loss(input, target, reduction=self.reduction)\n",
      "train epoch: 100%|██████████| 105/105.0 [00:00<00:00, 143.20it/s]\n",
      "val epoch:   0%|          | 0/14.0 [00:00<?, ?it/s]/home/tibor/Documents/msc-datascience/2024w/Toxic/ToxicML/.venv/lib/python3.12/site-packages/torch/nn/modules/loss.py:608: UserWarning: Using a target size (torch.Size([4])) that is different to the input size (torch.Size([4, 1])). This will likely lead to incorrect results due to broadcasting. Please ensure they have the same size.\n",
      "  return F.mse_loss(input, target, reduction=self.reduction)\n",
      "val epoch: 100%|██████████| 14/14.0 [00:00<00:00, 193.95it/s]\n",
      "train epoch: 100%|██████████| 105/105.0 [00:00<00:00, 119.57it/s]\n",
      "val epoch: 100%|██████████| 14/14.0 [00:00<00:00, 213.17it/s]\n",
      "train epoch: 100%|██████████| 105/105.0 [00:00<00:00, 153.10it/s]\n",
      "val epoch: 100%|██████████| 14/14.0 [00:00<00:00, 236.26it/s]\n",
      "train epoch: 100%|██████████| 105/105.0 [00:00<00:00, 146.17it/s]\n",
      "val epoch: 100%|██████████| 14/14.0 [00:00<00:00, 225.48it/s]\n",
      "train epoch: 100%|██████████| 105/105.0 [00:00<00:00, 132.74it/s]\n",
      "val epoch: 100%|██████████| 14/14.0 [00:00<00:00, 245.58it/s]\n",
      "train epoch: 100%|██████████| 105/105.0 [00:00<00:00, 131.70it/s]\n",
      "val epoch: 100%|██████████| 14/14.0 [00:00<00:00, 199.36it/s]\n",
      "train epoch: 100%|██████████| 105/105.0 [00:00<00:00, 133.28it/s]\n",
      "val epoch: 100%|██████████| 14/14.0 [00:00<00:00, 228.08it/s]\n",
      "train epoch: 100%|██████████| 105/105.0 [00:00<00:00, 125.82it/s]\n",
      "val epoch: 100%|██████████| 14/14.0 [00:00<00:00, 236.18it/s]\n",
      "train epoch: 100%|██████████| 105/105.0 [00:00<00:00, 138.82it/s]\n",
      "val epoch: 100%|██████████| 14/14.0 [00:00<00:00, 238.84it/s]\n",
      "train epoch: 100%|██████████| 105/105.0 [00:00<00:00, 139.84it/s]\n",
      "val epoch: 100%|██████████| 14/14.0 [00:00<00:00, 226.92it/s]\n"
     ]
    },
    {
     "data": {
      "text/html": [
       "\n",
       "    <style>\n",
       "        .wandb-row {\n",
       "            display: flex;\n",
       "            flex-direction: row;\n",
       "            flex-wrap: wrap;\n",
       "            justify-content: flex-start;\n",
       "            width: 100%;\n",
       "        }\n",
       "        .wandb-col {\n",
       "            display: flex;\n",
       "            flex-direction: column;\n",
       "            flex-basis: 100%;\n",
       "            flex: 1;\n",
       "            padding: 10px;\n",
       "        }\n",
       "    </style>\n",
       "<div class=\"wandb-row\"><div class=\"wandb-col\"><h3>Run history:</h3><br/><table class=\"wandb\"><tr><td>train/MAE</td><td>█▁▁▁▁▁▂▁▁▁</td></tr><tr><td>train/MSE</td><td>█▁▁▁▁▁▂▁▁▁</td></tr><tr><td>train/Max Error</td><td>█▁▂▁▄▃▂▄▄▁</td></tr><tr><td>train/loss</td><td>▁▄█▆▂▄▅▂▂▂</td></tr><tr><td>validation/MAE</td><td>▂▃▂▅▄█▁▆▃▄</td></tr><tr><td>validation/MSE</td><td>▃▃▃▆▅█▁▆▂▃</td></tr><tr><td>validation/Max Error</td><td>▆▃█▅▆▃▄█▁▁</td></tr><tr><td>validation/loss</td><td>▃▂▁▅█▅▁▂▂▂</td></tr></table><br/></div><div class=\"wandb-col\"><h3>Run summary:</h3><br/><table class=\"wandb\"><tr><td>train/MAE</td><td>1.0068</td></tr><tr><td>train/MSE</td><td>1.53073</td></tr><tr><td>train/Max Error</td><td>4.01494</td></tr><tr><td>train/loss</td><td>1.49174</td></tr><tr><td>validation/MAE</td><td>0.93675</td></tr><tr><td>validation/MSE</td><td>1.28898</td></tr><tr><td>validation/Max Error</td><td>3.17885</td></tr><tr><td>validation/loss</td><td>0.79384</td></tr></table><br/></div></div>"
      ],
      "text/plain": [
       "<IPython.core.display.HTML object>"
      ]
     },
     "metadata": {},
     "output_type": "display_data"
    },
    {
     "data": {
      "text/html": [
       " View run <strong style=\"color:#cdcd00\">LIPO GCN 3-16</strong> at: <a href='https://wandb.ai/cus-tibor-none/ToxicML/runs/52nhk1g0' target=\"_blank\">https://wandb.ai/cus-tibor-none/ToxicML/runs/52nhk1g0</a><br/> View project at: <a href='https://wandb.ai/cus-tibor-none/ToxicML' target=\"_blank\">https://wandb.ai/cus-tibor-none/ToxicML</a><br/>Synced 5 W&B file(s), 0 media file(s), 8 artifact file(s) and 4 other file(s)"
      ],
      "text/plain": [
       "<IPython.core.display.HTML object>"
      ]
     },
     "metadata": {},
     "output_type": "display_data"
    },
    {
     "data": {
      "text/html": [
       "Find logs at: <code>./wandb/run-20241207_121540-52nhk1g0/logs</code>"
      ],
      "text/plain": [
       "<IPython.core.display.HTML object>"
      ]
     },
     "metadata": {},
     "output_type": "display_data"
    }
   ],
   "source": [
    "model = ChemGCNReg(3, 9, 16, 1)\n",
    "optimizer = torch.optim.Adam(model.parameters())\n",
    "lr_scheduler = torch.optim.lr_scheduler.ExponentialLR(optimizer, gamma = 0.09)\n",
    "loss_fn = torch.nn.MSELoss()\n",
    "device = torch.device('cuda' if torch.cuda.is_available() else 'cpu')\n",
    "\n",
    "trainer = GenericRegressionTrainer(\n",
    "    model,\n",
    "    optimizer,\n",
    "    loss_fn,\n",
    "    lr_scheduler,\n",
    "    train_metrics,\n",
    "    validation_metrics,\n",
    "    train,\n",
    "    validation,\n",
    "    test,\n",
    "    device,\n",
    "    None,\n",
    "    EPOCHS,\n",
    "    None,\n",
    "    32\n",
    ")\n",
    "\n",
    "trainer.train(\"LIPO GCN 3-16\")"
   ]
  },
  {
   "cell_type": "code",
   "execution_count": 5,
   "metadata": {},
   "outputs": [
    {
     "name": "stderr",
     "output_type": "stream",
     "text": [
      "/home/tibor/Documents/msc-datascience/2024w/Toxic/ToxicML/.venv/lib/python3.12/site-packages/torch_geometric/deprecation.py:26: UserWarning: 'data.DataLoader' is deprecated, use 'loader.DataLoader' instead\n",
      "  warnings.warn(out)\n"
     ]
    },
    {
     "data": {
      "text/html": [
       "Tracking run with wandb version 0.18.7"
      ],
      "text/plain": [
       "<IPython.core.display.HTML object>"
      ]
     },
     "metadata": {},
     "output_type": "display_data"
    },
    {
     "data": {
      "text/html": [
       "Run data is saved locally in <code>/home/tibor/Documents/msc-datascience/2024w/Toxic/ToxicML/ToxicMl/wandb/run-20241207_121555-tnc6wip8</code>"
      ],
      "text/plain": [
       "<IPython.core.display.HTML object>"
      ]
     },
     "metadata": {},
     "output_type": "display_data"
    },
    {
     "data": {
      "text/html": [
       "Syncing run <strong><a href='https://wandb.ai/cus-tibor-none/ToxicML/runs/tnc6wip8' target=\"_blank\">LIPO GCN 3-32</a></strong> to <a href='https://wandb.ai/cus-tibor-none/ToxicML' target=\"_blank\">Weights & Biases</a> (<a href='https://wandb.me/developer-guide' target=\"_blank\">docs</a>)<br/>"
      ],
      "text/plain": [
       "<IPython.core.display.HTML object>"
      ]
     },
     "metadata": {},
     "output_type": "display_data"
    },
    {
     "data": {
      "text/html": [
       " View project at <a href='https://wandb.ai/cus-tibor-none/ToxicML' target=\"_blank\">https://wandb.ai/cus-tibor-none/ToxicML</a>"
      ],
      "text/plain": [
       "<IPython.core.display.HTML object>"
      ]
     },
     "metadata": {},
     "output_type": "display_data"
    },
    {
     "data": {
      "text/html": [
       " View run at <a href='https://wandb.ai/cus-tibor-none/ToxicML/runs/tnc6wip8' target=\"_blank\">https://wandb.ai/cus-tibor-none/ToxicML/runs/tnc6wip8</a>"
      ],
      "text/plain": [
       "<IPython.core.display.HTML object>"
      ]
     },
     "metadata": {},
     "output_type": "display_data"
    },
    {
     "name": "stderr",
     "output_type": "stream",
     "text": [
      "train epoch:   0%|          | 0/105.0 [00:00<?, ?it/s]/home/tibor/Documents/msc-datascience/2024w/Toxic/ToxicML/.venv/lib/python3.12/site-packages/torch/nn/modules/loss.py:608: UserWarning: Using a target size (torch.Size([32])) that is different to the input size (torch.Size([32, 1])). This will likely lead to incorrect results due to broadcasting. Please ensure they have the same size.\n",
      "  return F.mse_loss(input, target, reduction=self.reduction)\n",
      "train epoch: 100%|██████████| 105/105.0 [00:00<00:00, 133.98it/s]\n",
      "val epoch:   0%|          | 0/14.0 [00:00<?, ?it/s]/home/tibor/Documents/msc-datascience/2024w/Toxic/ToxicML/.venv/lib/python3.12/site-packages/torch/nn/modules/loss.py:608: UserWarning: Using a target size (torch.Size([4])) that is different to the input size (torch.Size([4, 1])). This will likely lead to incorrect results due to broadcasting. Please ensure they have the same size.\n",
      "  return F.mse_loss(input, target, reduction=self.reduction)\n",
      "val epoch: 100%|██████████| 14/14.0 [00:00<00:00, 214.13it/s]\n",
      "train epoch: 100%|██████████| 105/105.0 [00:00<00:00, 142.18it/s]\n",
      "val epoch: 100%|██████████| 14/14.0 [00:00<00:00, 202.59it/s]\n",
      "train epoch: 100%|██████████| 105/105.0 [00:00<00:00, 123.62it/s]\n",
      "val epoch: 100%|██████████| 14/14.0 [00:00<00:00, 224.95it/s]\n",
      "train epoch: 100%|██████████| 105/105.0 [00:00<00:00, 128.96it/s]\n",
      "val epoch: 100%|██████████| 14/14.0 [00:00<00:00, 225.37it/s]\n",
      "train epoch: 100%|██████████| 105/105.0 [00:00<00:00, 140.53it/s]\n",
      "val epoch: 100%|██████████| 14/14.0 [00:00<00:00, 231.34it/s]\n",
      "train epoch: 100%|██████████| 105/105.0 [00:00<00:00, 121.58it/s]\n",
      "val epoch: 100%|██████████| 14/14.0 [00:00<00:00, 199.76it/s]\n",
      "train epoch: 100%|██████████| 105/105.0 [00:00<00:00, 127.75it/s]\n",
      "val epoch: 100%|██████████| 14/14.0 [00:00<00:00, 206.15it/s]\n",
      "train epoch: 100%|██████████| 105/105.0 [00:00<00:00, 147.90it/s]\n",
      "val epoch: 100%|██████████| 14/14.0 [00:00<00:00, 162.27it/s]\n",
      "train epoch: 100%|██████████| 105/105.0 [00:00<00:00, 144.74it/s]\n",
      "val epoch: 100%|██████████| 14/14.0 [00:00<00:00, 204.87it/s]\n",
      "train epoch: 100%|██████████| 105/105.0 [00:00<00:00, 155.55it/s]\n",
      "val epoch: 100%|██████████| 14/14.0 [00:00<00:00, 204.54it/s]\n"
     ]
    },
    {
     "data": {
      "text/html": [
       "\n",
       "    <style>\n",
       "        .wandb-row {\n",
       "            display: flex;\n",
       "            flex-direction: row;\n",
       "            flex-wrap: wrap;\n",
       "            justify-content: flex-start;\n",
       "            width: 100%;\n",
       "        }\n",
       "        .wandb-col {\n",
       "            display: flex;\n",
       "            flex-direction: column;\n",
       "            flex-basis: 100%;\n",
       "            flex: 1;\n",
       "            padding: 10px;\n",
       "        }\n",
       "    </style>\n",
       "<div class=\"wandb-row\"><div class=\"wandb-col\"><h3>Run history:</h3><br/><table class=\"wandb\"><tr><td>train/MAE</td><td>█▁▁▁▁▁▁▁▁▁</td></tr><tr><td>train/MSE</td><td>█▁▁▁▁▁▁▁▁▁</td></tr><tr><td>train/Max Error</td><td>█▃▆▁▂▂▁▂▁▃</td></tr><tr><td>train/loss</td><td>▃▅█▂▆▄▃▆▁▅</td></tr><tr><td>validation/MAE</td><td>▁▄▄▃▄▄▂▃▂█</td></tr><tr><td>validation/MSE</td><td>▁▅▄▃▄▅▃▄▁█</td></tr><tr><td>validation/Max Error</td><td>▂█▁▁▂▂▂▂▂▂</td></tr><tr><td>validation/loss</td><td>▄▆█▃▁▁▇▂▂▁</td></tr></table><br/></div><div class=\"wandb-col\"><h3>Run summary:</h3><br/><table class=\"wandb\"><tr><td>train/MAE</td><td>0.99796</td></tr><tr><td>train/MSE</td><td>1.52235</td></tr><tr><td>train/Max Error</td><td>4.66599</td></tr><tr><td>train/loss</td><td>1.55408</td></tr><tr><td>validation/MAE</td><td>0.97744</td></tr><tr><td>validation/MSE</td><td>1.3891</td></tr><tr><td>validation/Max Error</td><td>3.44217</td></tr><tr><td>validation/loss</td><td>0.42862</td></tr></table><br/></div></div>"
      ],
      "text/plain": [
       "<IPython.core.display.HTML object>"
      ]
     },
     "metadata": {},
     "output_type": "display_data"
    },
    {
     "data": {
      "text/html": [
       " View run <strong style=\"color:#cdcd00\">LIPO GCN 3-32</strong> at: <a href='https://wandb.ai/cus-tibor-none/ToxicML/runs/tnc6wip8' target=\"_blank\">https://wandb.ai/cus-tibor-none/ToxicML/runs/tnc6wip8</a><br/> View project at: <a href='https://wandb.ai/cus-tibor-none/ToxicML' target=\"_blank\">https://wandb.ai/cus-tibor-none/ToxicML</a><br/>Synced 5 W&B file(s), 0 media file(s), 8 artifact file(s) and 4 other file(s)"
      ],
      "text/plain": [
       "<IPython.core.display.HTML object>"
      ]
     },
     "metadata": {},
     "output_type": "display_data"
    },
    {
     "data": {
      "text/html": [
       "Find logs at: <code>./wandb/run-20241207_121555-tnc6wip8/logs</code>"
      ],
      "text/plain": [
       "<IPython.core.display.HTML object>"
      ]
     },
     "metadata": {},
     "output_type": "display_data"
    }
   ],
   "source": [
    "model = ChemGCNReg(3, 9, 32, 1)\n",
    "optimizer = torch.optim.Adam(model.parameters())\n",
    "lr_scheduler = torch.optim.lr_scheduler.ExponentialLR(optimizer, gamma = 0.09)\n",
    "loss_fn = torch.nn.MSELoss()\n",
    "device = torch.device('cuda' if torch.cuda.is_available() else 'cpu')\n",
    "\n",
    "trainer = GenericRegressionTrainer(\n",
    "    model,\n",
    "    optimizer,\n",
    "    loss_fn,\n",
    "    lr_scheduler,\n",
    "    train_metrics,\n",
    "    validation_metrics,\n",
    "    train,\n",
    "    validation,\n",
    "    test,\n",
    "    device,\n",
    "    None,\n",
    "    EPOCHS,\n",
    "    None,\n",
    "    32\n",
    ")\n",
    "\n",
    "trainer.train(\"LIPO GCN 3-32\")"
   ]
  },
  {
   "cell_type": "code",
   "execution_count": 6,
   "metadata": {},
   "outputs": [
    {
     "name": "stderr",
     "output_type": "stream",
     "text": [
      "/home/tibor/Documents/msc-datascience/2024w/Toxic/ToxicML/.venv/lib/python3.12/site-packages/torch_geometric/deprecation.py:26: UserWarning: 'data.DataLoader' is deprecated, use 'loader.DataLoader' instead\n",
      "  warnings.warn(out)\n"
     ]
    },
    {
     "data": {
      "text/html": [
       "Tracking run with wandb version 0.18.7"
      ],
      "text/plain": [
       "<IPython.core.display.HTML object>"
      ]
     },
     "metadata": {},
     "output_type": "display_data"
    },
    {
     "data": {
      "text/html": [
       "Run data is saved locally in <code>/home/tibor/Documents/msc-datascience/2024w/Toxic/ToxicML/ToxicMl/wandb/run-20241207_121610-oj4cg3g5</code>"
      ],
      "text/plain": [
       "<IPython.core.display.HTML object>"
      ]
     },
     "metadata": {},
     "output_type": "display_data"
    },
    {
     "data": {
      "text/html": [
       "Syncing run <strong><a href='https://wandb.ai/cus-tibor-none/ToxicML/runs/oj4cg3g5' target=\"_blank\">LIPO GCN 5-32</a></strong> to <a href='https://wandb.ai/cus-tibor-none/ToxicML' target=\"_blank\">Weights & Biases</a> (<a href='https://wandb.me/developer-guide' target=\"_blank\">docs</a>)<br/>"
      ],
      "text/plain": [
       "<IPython.core.display.HTML object>"
      ]
     },
     "metadata": {},
     "output_type": "display_data"
    },
    {
     "data": {
      "text/html": [
       " View project at <a href='https://wandb.ai/cus-tibor-none/ToxicML' target=\"_blank\">https://wandb.ai/cus-tibor-none/ToxicML</a>"
      ],
      "text/plain": [
       "<IPython.core.display.HTML object>"
      ]
     },
     "metadata": {},
     "output_type": "display_data"
    },
    {
     "data": {
      "text/html": [
       " View run at <a href='https://wandb.ai/cus-tibor-none/ToxicML/runs/oj4cg3g5' target=\"_blank\">https://wandb.ai/cus-tibor-none/ToxicML/runs/oj4cg3g5</a>"
      ],
      "text/plain": [
       "<IPython.core.display.HTML object>"
      ]
     },
     "metadata": {},
     "output_type": "display_data"
    },
    {
     "name": "stderr",
     "output_type": "stream",
     "text": [
      "train epoch:   0%|          | 0/105.0 [00:00<?, ?it/s]/home/tibor/Documents/msc-datascience/2024w/Toxic/ToxicML/.venv/lib/python3.12/site-packages/torch/nn/modules/loss.py:608: UserWarning: Using a target size (torch.Size([32])) that is different to the input size (torch.Size([32, 1])). This will likely lead to incorrect results due to broadcasting. Please ensure they have the same size.\n",
      "  return F.mse_loss(input, target, reduction=self.reduction)\n",
      "train epoch: 100%|██████████| 105/105.0 [00:00<00:00, 107.88it/s]\n",
      "val epoch:   0%|          | 0/14.0 [00:00<?, ?it/s]/home/tibor/Documents/msc-datascience/2024w/Toxic/ToxicML/.venv/lib/python3.12/site-packages/torch/nn/modules/loss.py:608: UserWarning: Using a target size (torch.Size([4])) that is different to the input size (torch.Size([4, 1])). This will likely lead to incorrect results due to broadcasting. Please ensure they have the same size.\n",
      "  return F.mse_loss(input, target, reduction=self.reduction)\n",
      "val epoch: 100%|██████████| 14/14.0 [00:00<00:00, 187.46it/s]\n",
      "train epoch: 100%|██████████| 105/105.0 [00:01<00:00, 99.41it/s]\n",
      "val epoch: 100%|██████████| 14/14.0 [00:00<00:00, 197.80it/s]\n",
      "train epoch: 100%|██████████| 105/105.0 [00:01<00:00, 99.97it/s]\n",
      "val epoch: 100%|██████████| 14/14.0 [00:00<00:00, 159.32it/s]\n",
      "train epoch: 100%|██████████| 105/105.0 [00:01<00:00, 98.63it/s]\n",
      "val epoch: 100%|██████████| 14/14.0 [00:00<00:00, 204.40it/s]\n",
      "train epoch: 100%|██████████| 105/105.0 [00:00<00:00, 106.99it/s]\n",
      "val epoch: 100%|██████████| 14/14.0 [00:00<00:00, 155.58it/s]\n",
      "train epoch: 100%|██████████| 105/105.0 [00:00<00:00, 110.80it/s]\n",
      "val epoch: 100%|██████████| 14/14.0 [00:00<00:00, 186.30it/s]\n",
      "train epoch: 100%|██████████| 105/105.0 [00:00<00:00, 114.64it/s]\n",
      "val epoch: 100%|██████████| 14/14.0 [00:00<00:00, 164.76it/s]\n",
      "train epoch: 100%|██████████| 105/105.0 [00:01<00:00, 103.97it/s]\n",
      "val epoch: 100%|██████████| 14/14.0 [00:00<00:00, 155.31it/s]\n",
      "train epoch: 100%|██████████| 105/105.0 [00:01<00:00, 102.76it/s]\n",
      "val epoch: 100%|██████████| 14/14.0 [00:00<00:00, 161.94it/s]\n",
      "train epoch: 100%|██████████| 105/105.0 [00:01<00:00, 102.17it/s]\n",
      "val epoch: 100%|██████████| 14/14.0 [00:00<00:00, 204.08it/s]\n"
     ]
    },
    {
     "data": {
      "text/html": [
       "\n",
       "    <style>\n",
       "        .wandb-row {\n",
       "            display: flex;\n",
       "            flex-direction: row;\n",
       "            flex-wrap: wrap;\n",
       "            justify-content: flex-start;\n",
       "            width: 100%;\n",
       "        }\n",
       "        .wandb-col {\n",
       "            display: flex;\n",
       "            flex-direction: column;\n",
       "            flex-basis: 100%;\n",
       "            flex: 1;\n",
       "            padding: 10px;\n",
       "        }\n",
       "    </style>\n",
       "<div class=\"wandb-row\"><div class=\"wandb-col\"><h3>Run history:</h3><br/><table class=\"wandb\"><tr><td>train/MAE</td><td>█▂▂▁▁▁▁▂▁▁</td></tr><tr><td>train/MSE</td><td>█▂▂▁▁▁▁▂▁▁</td></tr><tr><td>train/Max Error</td><td>▃▄▁█▄▁▃▅▄▁</td></tr><tr><td>train/loss</td><td>█▅▂▄▅▄▂▃▇▁</td></tr><tr><td>validation/MAE</td><td>▁█▅▇▆▄▆▅▃█</td></tr><tr><td>validation/MSE</td><td>▁▆▅█▅▄▇▄▃█</td></tr><tr><td>validation/Max Error</td><td>▆▆▂█▂▇▆▄▁▅</td></tr><tr><td>validation/loss</td><td>▆███▂▆▅▇▁▁</td></tr></table><br/></div><div class=\"wandb-col\"><h3>Run summary:</h3><br/><table class=\"wandb\"><tr><td>train/MAE</td><td>0.99359</td></tr><tr><td>train/MSE</td><td>1.51608</td></tr><tr><td>train/Max Error</td><td>3.90081</td></tr><tr><td>train/loss</td><td>1.4752</td></tr><tr><td>validation/MAE</td><td>0.95529</td></tr><tr><td>validation/MSE</td><td>1.35153</td></tr><tr><td>validation/Max Error</td><td>3.72567</td></tr><tr><td>validation/loss</td><td>0.63105</td></tr></table><br/></div></div>"
      ],
      "text/plain": [
       "<IPython.core.display.HTML object>"
      ]
     },
     "metadata": {},
     "output_type": "display_data"
    },
    {
     "data": {
      "text/html": [
       " View run <strong style=\"color:#cdcd00\">LIPO GCN 5-32</strong> at: <a href='https://wandb.ai/cus-tibor-none/ToxicML/runs/oj4cg3g5' target=\"_blank\">https://wandb.ai/cus-tibor-none/ToxicML/runs/oj4cg3g5</a><br/> View project at: <a href='https://wandb.ai/cus-tibor-none/ToxicML' target=\"_blank\">https://wandb.ai/cus-tibor-none/ToxicML</a><br/>Synced 5 W&B file(s), 0 media file(s), 8 artifact file(s) and 4 other file(s)"
      ],
      "text/plain": [
       "<IPython.core.display.HTML object>"
      ]
     },
     "metadata": {},
     "output_type": "display_data"
    },
    {
     "data": {
      "text/html": [
       "Find logs at: <code>./wandb/run-20241207_121610-oj4cg3g5/logs</code>"
      ],
      "text/plain": [
       "<IPython.core.display.HTML object>"
      ]
     },
     "metadata": {},
     "output_type": "display_data"
    }
   ],
   "source": [
    "model = ChemGCNReg(5, 9, 32, 1)\n",
    "optimizer = torch.optim.Adam(model.parameters())\n",
    "lr_scheduler = torch.optim.lr_scheduler.ExponentialLR(optimizer, gamma = 0.09)\n",
    "loss_fn = torch.nn.MSELoss()\n",
    "device = torch.device('cuda' if torch.cuda.is_available() else 'cpu')\n",
    "\n",
    "trainer = GenericRegressionTrainer(\n",
    "    model,\n",
    "    optimizer,\n",
    "    loss_fn,\n",
    "    lr_scheduler,\n",
    "    train_metrics,\n",
    "    validation_metrics,\n",
    "    train,\n",
    "    validation,\n",
    "    test,\n",
    "    device,\n",
    "    None,\n",
    "    EPOCHS,\n",
    "    None,\n",
    "    32\n",
    ")\n",
    "\n",
    "trainer.train(\"LIPO GCN 5-32\")"
   ]
  },
  {
   "cell_type": "code",
   "execution_count": 8,
   "metadata": {},
   "outputs": [
    {
     "name": "stderr",
     "output_type": "stream",
     "text": [
      "/home/tibor/Documents/msc-datascience/2024w/Toxic/ToxicML/.venv/lib/python3.12/site-packages/torch_geometric/deprecation.py:26: UserWarning: 'data.DataLoader' is deprecated, use 'loader.DataLoader' instead\n",
      "  warnings.warn(out)\n"
     ]
    },
    {
     "data": {
      "text/html": [
       "Tracking run with wandb version 0.18.7"
      ],
      "text/plain": [
       "<IPython.core.display.HTML object>"
      ]
     },
     "metadata": {},
     "output_type": "display_data"
    },
    {
     "data": {
      "text/html": [
       "Run data is saved locally in <code>/home/tibor/Documents/msc-datascience/2024w/Toxic/ToxicML/ToxicMl/wandb/run-20241207_121902-tzxnwthk</code>"
      ],
      "text/plain": [
       "<IPython.core.display.HTML object>"
      ]
     },
     "metadata": {},
     "output_type": "display_data"
    },
    {
     "data": {
      "text/html": [
       "Syncing run <strong><a href='https://wandb.ai/cus-tibor-none/ToxicML/runs/tzxnwthk' target=\"_blank\">LIPO GCN 5-64</a></strong> to <a href='https://wandb.ai/cus-tibor-none/ToxicML' target=\"_blank\">Weights & Biases</a> (<a href='https://wandb.me/developer-guide' target=\"_blank\">docs</a>)<br/>"
      ],
      "text/plain": [
       "<IPython.core.display.HTML object>"
      ]
     },
     "metadata": {},
     "output_type": "display_data"
    },
    {
     "data": {
      "text/html": [
       " View project at <a href='https://wandb.ai/cus-tibor-none/ToxicML' target=\"_blank\">https://wandb.ai/cus-tibor-none/ToxicML</a>"
      ],
      "text/plain": [
       "<IPython.core.display.HTML object>"
      ]
     },
     "metadata": {},
     "output_type": "display_data"
    },
    {
     "data": {
      "text/html": [
       " View run at <a href='https://wandb.ai/cus-tibor-none/ToxicML/runs/tzxnwthk' target=\"_blank\">https://wandb.ai/cus-tibor-none/ToxicML/runs/tzxnwthk</a>"
      ],
      "text/plain": [
       "<IPython.core.display.HTML object>"
      ]
     },
     "metadata": {},
     "output_type": "display_data"
    },
    {
     "name": "stderr",
     "output_type": "stream",
     "text": [
      "train epoch:   0%|          | 0/105.0 [00:00<?, ?it/s]/home/tibor/Documents/msc-datascience/2024w/Toxic/ToxicML/.venv/lib/python3.12/site-packages/torch/nn/modules/loss.py:608: UserWarning: Using a target size (torch.Size([32])) that is different to the input size (torch.Size([32, 1])). This will likely lead to incorrect results due to broadcasting. Please ensure they have the same size.\n",
      "  return F.mse_loss(input, target, reduction=self.reduction)\n",
      "train epoch: 100%|██████████| 105/105.0 [00:01<00:00, 83.62it/s]\n",
      "val epoch:   0%|          | 0/14.0 [00:00<?, ?it/s]/home/tibor/Documents/msc-datascience/2024w/Toxic/ToxicML/.venv/lib/python3.12/site-packages/torch/nn/modules/loss.py:608: UserWarning: Using a target size (torch.Size([4])) that is different to the input size (torch.Size([4, 1])). This will likely lead to incorrect results due to broadcasting. Please ensure they have the same size.\n",
      "  return F.mse_loss(input, target, reduction=self.reduction)\n",
      "val epoch: 100%|██████████| 14/14.0 [00:00<00:00, 180.46it/s]\n",
      "train epoch: 100%|██████████| 105/105.0 [00:01<00:00, 83.82it/s]\n",
      "val epoch: 100%|██████████| 14/14.0 [00:00<00:00, 98.59it/s]\n",
      "train epoch: 100%|██████████| 105/105.0 [00:01<00:00, 96.22it/s]\n",
      "val epoch: 100%|██████████| 14/14.0 [00:00<00:00, 160.90it/s]\n",
      "train epoch: 100%|██████████| 105/105.0 [00:01<00:00, 92.27it/s]\n",
      "val epoch: 100%|██████████| 14/14.0 [00:00<00:00, 167.55it/s]\n",
      "train epoch: 100%|██████████| 105/105.0 [00:01<00:00, 91.96it/s]\n",
      "val epoch: 100%|██████████| 14/14.0 [00:00<00:00, 150.85it/s]\n",
      "train epoch: 100%|██████████| 105/105.0 [00:01<00:00, 100.90it/s]\n",
      "val epoch: 100%|██████████| 14/14.0 [00:00<00:00, 192.47it/s]\n",
      "train epoch: 100%|██████████| 105/105.0 [00:00<00:00, 105.90it/s]\n",
      "val epoch: 100%|██████████| 14/14.0 [00:00<00:00, 197.53it/s]\n",
      "train epoch: 100%|██████████| 105/105.0 [00:01<00:00, 103.70it/s]\n",
      "val epoch: 100%|██████████| 14/14.0 [00:00<00:00, 158.63it/s]\n",
      "train epoch: 100%|██████████| 105/105.0 [00:01<00:00, 97.10it/s]\n",
      "val epoch: 100%|██████████| 14/14.0 [00:00<00:00, 174.56it/s]\n",
      "train epoch: 100%|██████████| 105/105.0 [00:01<00:00, 94.38it/s]\n",
      "val epoch: 100%|██████████| 14/14.0 [00:00<00:00, 177.80it/s]\n"
     ]
    },
    {
     "data": {
      "text/html": [
       "\n",
       "    <style>\n",
       "        .wandb-row {\n",
       "            display: flex;\n",
       "            flex-direction: row;\n",
       "            flex-wrap: wrap;\n",
       "            justify-content: flex-start;\n",
       "            width: 100%;\n",
       "        }\n",
       "        .wandb-col {\n",
       "            display: flex;\n",
       "            flex-direction: column;\n",
       "            flex-basis: 100%;\n",
       "            flex: 1;\n",
       "            padding: 10px;\n",
       "        }\n",
       "    </style>\n",
       "<div class=\"wandb-row\"><div class=\"wandb-col\"><h3>Run history:</h3><br/><table class=\"wandb\"><tr><td>train/MAE</td><td>█▂▁▁▁▁▂▁▁▁</td></tr><tr><td>train/MSE</td><td>█▁▁▁▁▁▁▁▁▁</td></tr><tr><td>train/Max Error</td><td>▃▄▅▄▂▅▆█▁▄</td></tr><tr><td>train/loss</td><td>▅▄▁▃▅▇▂▂█▆</td></tr><tr><td>validation/MAE</td><td>█▆▂▂▂▂█▅▁▄</td></tr><tr><td>validation/MSE</td><td>██▁▃▂▃▆▅▃▄</td></tr><tr><td>validation/Max Error</td><td>▃▅█▁▇▆▇▄▂▆</td></tr><tr><td>validation/loss</td><td>█▅▁▅▃█▂▃▆▂</td></tr></table><br/></div><div class=\"wandb-col\"><h3>Run summary:</h3><br/><table class=\"wandb\"><tr><td>train/MAE</td><td>0.97836</td></tr><tr><td>train/MSE</td><td>1.47576</td></tr><tr><td>train/Max Error</td><td>4.24069</td></tr><tr><td>train/loss</td><td>1.50276</td></tr><tr><td>validation/MAE</td><td>0.92218</td></tr><tr><td>validation/MSE</td><td>1.26281</td></tr><tr><td>validation/Max Error</td><td>3.51973</td></tr><tr><td>validation/loss</td><td>0.72081</td></tr></table><br/></div></div>"
      ],
      "text/plain": [
       "<IPython.core.display.HTML object>"
      ]
     },
     "metadata": {},
     "output_type": "display_data"
    },
    {
     "data": {
      "text/html": [
       " View run <strong style=\"color:#cdcd00\">LIPO GCN 5-64</strong> at: <a href='https://wandb.ai/cus-tibor-none/ToxicML/runs/tzxnwthk' target=\"_blank\">https://wandb.ai/cus-tibor-none/ToxicML/runs/tzxnwthk</a><br/> View project at: <a href='https://wandb.ai/cus-tibor-none/ToxicML' target=\"_blank\">https://wandb.ai/cus-tibor-none/ToxicML</a><br/>Synced 5 W&B file(s), 0 media file(s), 8 artifact file(s) and 4 other file(s)"
      ],
      "text/plain": [
       "<IPython.core.display.HTML object>"
      ]
     },
     "metadata": {},
     "output_type": "display_data"
    },
    {
     "data": {
      "text/html": [
       "Find logs at: <code>./wandb/run-20241207_121902-tzxnwthk/logs</code>"
      ],
      "text/plain": [
       "<IPython.core.display.HTML object>"
      ]
     },
     "metadata": {},
     "output_type": "display_data"
    }
   ],
   "source": [
    "model = ChemGCNReg(5, 9, 64, 1)\n",
    "optimizer = torch.optim.Adam(model.parameters())\n",
    "lr_scheduler = torch.optim.lr_scheduler.ExponentialLR(optimizer, gamma = 0.09)\n",
    "loss_fn = torch.nn.MSELoss()\n",
    "device = torch.device('cuda' if torch.cuda.is_available() else 'cpu')\n",
    "\n",
    "trainer = GenericRegressionTrainer(\n",
    "    model,\n",
    "    optimizer,\n",
    "    loss_fn,\n",
    "    lr_scheduler,\n",
    "    train_metrics,\n",
    "    validation_metrics,\n",
    "    train,\n",
    "    validation,\n",
    "    test,\n",
    "    device,\n",
    "    None,\n",
    "    EPOCHS,\n",
    "    None,\n",
    "    32\n",
    ")\n",
    "\n",
    "trainer.train(\"LIPO GCN 5-64\")"
   ]
  },
  {
   "cell_type": "code",
   "execution_count": 9,
   "metadata": {},
   "outputs": [],
   "source": [
    "torch.save(model.state_dict(), \"../saved_models/ChemGCN_lipo\")"
   ]
  },
  {
   "cell_type": "code",
   "execution_count": 10,
   "metadata": {},
   "outputs": [
    {
     "name": "stderr",
     "output_type": "stream",
     "text": [
      "/home/tibor/Documents/msc-datascience/2024w/Toxic/ToxicML/.venv/lib/python3.12/site-packages/torch_geometric/deprecation.py:26: UserWarning: 'data.DataLoader' is deprecated, use 'loader.DataLoader' instead\n",
      "  warnings.warn(out)\n"
     ]
    },
    {
     "data": {
      "text/html": [
       "Tracking run with wandb version 0.18.7"
      ],
      "text/plain": [
       "<IPython.core.display.HTML object>"
      ]
     },
     "metadata": {},
     "output_type": "display_data"
    },
    {
     "data": {
      "text/html": [
       "Run data is saved locally in <code>/home/tibor/Documents/msc-datascience/2024w/Toxic/ToxicML/ToxicMl/wandb/run-20241207_121921-69wp35n9</code>"
      ],
      "text/plain": [
       "<IPython.core.display.HTML object>"
      ]
     },
     "metadata": {},
     "output_type": "display_data"
    },
    {
     "data": {
      "text/html": [
       "Syncing run <strong><a href='https://wandb.ai/cus-tibor-none/ToxicML/runs/69wp35n9' target=\"_blank\">LIPO sage 3-16</a></strong> to <a href='https://wandb.ai/cus-tibor-none/ToxicML' target=\"_blank\">Weights & Biases</a> (<a href='https://wandb.me/developer-guide' target=\"_blank\">docs</a>)<br/>"
      ],
      "text/plain": [
       "<IPython.core.display.HTML object>"
      ]
     },
     "metadata": {},
     "output_type": "display_data"
    },
    {
     "data": {
      "text/html": [
       " View project at <a href='https://wandb.ai/cus-tibor-none/ToxicML' target=\"_blank\">https://wandb.ai/cus-tibor-none/ToxicML</a>"
      ],
      "text/plain": [
       "<IPython.core.display.HTML object>"
      ]
     },
     "metadata": {},
     "output_type": "display_data"
    },
    {
     "data": {
      "text/html": [
       " View run at <a href='https://wandb.ai/cus-tibor-none/ToxicML/runs/69wp35n9' target=\"_blank\">https://wandb.ai/cus-tibor-none/ToxicML/runs/69wp35n9</a>"
      ],
      "text/plain": [
       "<IPython.core.display.HTML object>"
      ]
     },
     "metadata": {},
     "output_type": "display_data"
    },
    {
     "name": "stderr",
     "output_type": "stream",
     "text": [
      "train epoch:   0%|          | 0/105.0 [00:00<?, ?it/s]/home/tibor/Documents/msc-datascience/2024w/Toxic/ToxicML/.venv/lib/python3.12/site-packages/torch/nn/modules/loss.py:608: UserWarning: Using a target size (torch.Size([32])) that is different to the input size (torch.Size([32, 1])). This will likely lead to incorrect results due to broadcasting. Please ensure they have the same size.\n",
      "  return F.mse_loss(input, target, reduction=self.reduction)\n",
      "train epoch: 100%|██████████| 105/105.0 [00:00<00:00, 160.46it/s]\n",
      "val epoch:   0%|          | 0/14.0 [00:00<?, ?it/s]/home/tibor/Documents/msc-datascience/2024w/Toxic/ToxicML/.venv/lib/python3.12/site-packages/torch/nn/modules/loss.py:608: UserWarning: Using a target size (torch.Size([4])) that is different to the input size (torch.Size([4, 1])). This will likely lead to incorrect results due to broadcasting. Please ensure they have the same size.\n",
      "  return F.mse_loss(input, target, reduction=self.reduction)\n",
      "val epoch: 100%|██████████| 14/14.0 [00:00<00:00, 165.33it/s]\n",
      "train epoch: 100%|██████████| 105/105.0 [00:00<00:00, 145.71it/s]\n",
      "val epoch: 100%|██████████| 14/14.0 [00:00<00:00, 249.59it/s]\n",
      "train epoch: 100%|██████████| 105/105.0 [00:00<00:00, 148.24it/s]\n",
      "val epoch: 100%|██████████| 14/14.0 [00:00<00:00, 269.78it/s]\n",
      "train epoch: 100%|██████████| 105/105.0 [00:00<00:00, 144.46it/s]\n",
      "val epoch: 100%|██████████| 14/14.0 [00:00<00:00, 224.47it/s]\n",
      "train epoch: 100%|██████████| 105/105.0 [00:00<00:00, 132.68it/s]\n",
      "val epoch: 100%|██████████| 14/14.0 [00:00<00:00, 225.95it/s]\n",
      "train epoch: 100%|██████████| 105/105.0 [00:00<00:00, 150.94it/s]\n",
      "val epoch: 100%|██████████| 14/14.0 [00:00<00:00, 278.86it/s]\n",
      "train epoch: 100%|██████████| 105/105.0 [00:00<00:00, 167.10it/s]\n",
      "val epoch: 100%|██████████| 14/14.0 [00:00<00:00, 277.72it/s]\n",
      "train epoch: 100%|██████████| 105/105.0 [00:00<00:00, 144.28it/s]\n",
      "val epoch: 100%|██████████| 14/14.0 [00:00<00:00, 235.90it/s]\n",
      "train epoch: 100%|██████████| 105/105.0 [00:00<00:00, 166.18it/s]\n",
      "val epoch: 100%|██████████| 14/14.0 [00:00<00:00, 242.00it/s]\n",
      "train epoch: 100%|██████████| 105/105.0 [00:00<00:00, 161.93it/s]\n",
      "val epoch: 100%|██████████| 14/14.0 [00:00<00:00, 239.47it/s]\n"
     ]
    },
    {
     "data": {
      "text/html": [
       "\n",
       "    <style>\n",
       "        .wandb-row {\n",
       "            display: flex;\n",
       "            flex-direction: row;\n",
       "            flex-wrap: wrap;\n",
       "            justify-content: flex-start;\n",
       "            width: 100%;\n",
       "        }\n",
       "        .wandb-col {\n",
       "            display: flex;\n",
       "            flex-direction: column;\n",
       "            flex-basis: 100%;\n",
       "            flex: 1;\n",
       "            padding: 10px;\n",
       "        }\n",
       "    </style>\n",
       "<div class=\"wandb-row\"><div class=\"wandb-col\"><h3>Run history:</h3><br/><table class=\"wandb\"><tr><td>train/MAE</td><td>█▃▃▂▂▁▂▃▂▃</td></tr><tr><td>train/MSE</td><td>█▂▂▂▁▁▁▂▁▂</td></tr><tr><td>train/Max Error</td><td>▄▄█▁▄▄▁▂▂▃</td></tr><tr><td>train/loss</td><td>▂█▁▅▄▆█▆▁▆</td></tr><tr><td>validation/MAE</td><td>▆█▄▆▆▆▄▁▄▁</td></tr><tr><td>validation/MSE</td><td>▂█▁▁▄▃▂▁▁▁</td></tr><tr><td>validation/Max Error</td><td>▂█▂▁▄▃▂▁▁▁</td></tr><tr><td>validation/loss</td><td>▁▂█▁▂▁▁▂▁▂</td></tr></table><br/></div><div class=\"wandb-col\"><h3>Run summary:</h3><br/><table class=\"wandb\"><tr><td>train/MAE</td><td>1.00675</td></tr><tr><td>train/MSE</td><td>1.54758</td></tr><tr><td>train/Max Error</td><td>4.2101</td></tr><tr><td>train/loss</td><td>1.53225</td></tr><tr><td>validation/MAE</td><td>0.92989</td></tr><tr><td>validation/MSE</td><td>1.3154</td></tr><tr><td>validation/Max Error</td><td>3.36046</td></tr><tr><td>validation/loss</td><td>1.15496</td></tr></table><br/></div></div>"
      ],
      "text/plain": [
       "<IPython.core.display.HTML object>"
      ]
     },
     "metadata": {},
     "output_type": "display_data"
    },
    {
     "data": {
      "text/html": [
       " View run <strong style=\"color:#cdcd00\">LIPO sage 3-16</strong> at: <a href='https://wandb.ai/cus-tibor-none/ToxicML/runs/69wp35n9' target=\"_blank\">https://wandb.ai/cus-tibor-none/ToxicML/runs/69wp35n9</a><br/> View project at: <a href='https://wandb.ai/cus-tibor-none/ToxicML' target=\"_blank\">https://wandb.ai/cus-tibor-none/ToxicML</a><br/>Synced 5 W&B file(s), 0 media file(s), 8 artifact file(s) and 4 other file(s)"
      ],
      "text/plain": [
       "<IPython.core.display.HTML object>"
      ]
     },
     "metadata": {},
     "output_type": "display_data"
    },
    {
     "data": {
      "text/html": [
       "Find logs at: <code>./wandb/run-20241207_121921-69wp35n9/logs</code>"
      ],
      "text/plain": [
       "<IPython.core.display.HTML object>"
      ]
     },
     "metadata": {},
     "output_type": "display_data"
    }
   ],
   "source": [
    "from MLmodels.sage import ChemSageReg\n",
    "\n",
    "model = ChemSageReg(3, 9, 16, 1)\n",
    "optimizer = torch.optim.Adam(model.parameters())\n",
    "lr_scheduler = torch.optim.lr_scheduler.ExponentialLR(optimizer, gamma = 0.09)\n",
    "loss_fn = torch.nn.MSELoss()\n",
    "device = torch.device('cuda' if torch.cuda.is_available() else 'cpu')\n",
    "\n",
    "trainer = GenericRegressionTrainer(\n",
    "    model,\n",
    "    optimizer,\n",
    "    loss_fn,\n",
    "    lr_scheduler,\n",
    "    train_metrics,\n",
    "    validation_metrics,\n",
    "    train,\n",
    "    validation,\n",
    "    test,\n",
    "    device,\n",
    "    None,\n",
    "    EPOCHS,\n",
    "    None,\n",
    "    32\n",
    ")\n",
    "\n",
    "trainer.train(\"LIPO sage 3-16\")"
   ]
  },
  {
   "cell_type": "code",
   "execution_count": 11,
   "metadata": {},
   "outputs": [
    {
     "name": "stderr",
     "output_type": "stream",
     "text": [
      "/home/tibor/Documents/msc-datascience/2024w/Toxic/ToxicML/.venv/lib/python3.12/site-packages/torch_geometric/deprecation.py:26: UserWarning: 'data.DataLoader' is deprecated, use 'loader.DataLoader' instead\n",
      "  warnings.warn(out)\n"
     ]
    },
    {
     "data": {
      "text/html": [
       "Tracking run with wandb version 0.18.7"
      ],
      "text/plain": [
       "<IPython.core.display.HTML object>"
      ]
     },
     "metadata": {},
     "output_type": "display_data"
    },
    {
     "data": {
      "text/html": [
       "Run data is saved locally in <code>/home/tibor/Documents/msc-datascience/2024w/Toxic/ToxicML/ToxicMl/wandb/run-20241207_121935-6wrfvb57</code>"
      ],
      "text/plain": [
       "<IPython.core.display.HTML object>"
      ]
     },
     "metadata": {},
     "output_type": "display_data"
    },
    {
     "data": {
      "text/html": [
       "Syncing run <strong><a href='https://wandb.ai/cus-tibor-none/ToxicML/runs/6wrfvb57' target=\"_blank\">LIPO sage 3-32</a></strong> to <a href='https://wandb.ai/cus-tibor-none/ToxicML' target=\"_blank\">Weights & Biases</a> (<a href='https://wandb.me/developer-guide' target=\"_blank\">docs</a>)<br/>"
      ],
      "text/plain": [
       "<IPython.core.display.HTML object>"
      ]
     },
     "metadata": {},
     "output_type": "display_data"
    },
    {
     "data": {
      "text/html": [
       " View project at <a href='https://wandb.ai/cus-tibor-none/ToxicML' target=\"_blank\">https://wandb.ai/cus-tibor-none/ToxicML</a>"
      ],
      "text/plain": [
       "<IPython.core.display.HTML object>"
      ]
     },
     "metadata": {},
     "output_type": "display_data"
    },
    {
     "data": {
      "text/html": [
       " View run at <a href='https://wandb.ai/cus-tibor-none/ToxicML/runs/6wrfvb57' target=\"_blank\">https://wandb.ai/cus-tibor-none/ToxicML/runs/6wrfvb57</a>"
      ],
      "text/plain": [
       "<IPython.core.display.HTML object>"
      ]
     },
     "metadata": {},
     "output_type": "display_data"
    },
    {
     "name": "stderr",
     "output_type": "stream",
     "text": [
      "train epoch:   0%|          | 0/105.0 [00:00<?, ?it/s]/home/tibor/Documents/msc-datascience/2024w/Toxic/ToxicML/.venv/lib/python3.12/site-packages/torch/nn/modules/loss.py:608: UserWarning: Using a target size (torch.Size([32])) that is different to the input size (torch.Size([32, 1])). This will likely lead to incorrect results due to broadcasting. Please ensure they have the same size.\n",
      "  return F.mse_loss(input, target, reduction=self.reduction)\n",
      "train epoch: 100%|██████████| 105/105.0 [00:00<00:00, 153.38it/s]\n",
      "val epoch:   0%|          | 0/14.0 [00:00<?, ?it/s]/home/tibor/Documents/msc-datascience/2024w/Toxic/ToxicML/.venv/lib/python3.12/site-packages/torch/nn/modules/loss.py:608: UserWarning: Using a target size (torch.Size([4])) that is different to the input size (torch.Size([4, 1])). This will likely lead to incorrect results due to broadcasting. Please ensure they have the same size.\n",
      "  return F.mse_loss(input, target, reduction=self.reduction)\n",
      "val epoch: 100%|██████████| 14/14.0 [00:00<00:00, 231.39it/s]\n",
      "train epoch: 100%|██████████| 105/105.0 [00:00<00:00, 148.85it/s]\n",
      "val epoch: 100%|██████████| 14/14.0 [00:00<00:00, 283.51it/s]\n",
      "train epoch: 100%|██████████| 105/105.0 [00:00<00:00, 150.67it/s]\n",
      "val epoch: 100%|██████████| 14/14.0 [00:00<00:00, 227.71it/s]\n",
      "train epoch: 100%|██████████| 105/105.0 [00:00<00:00, 162.85it/s]\n",
      "val epoch: 100%|██████████| 14/14.0 [00:00<00:00, 229.73it/s]\n",
      "train epoch: 100%|██████████| 105/105.0 [00:00<00:00, 160.38it/s]\n",
      "val epoch: 100%|██████████| 14/14.0 [00:00<00:00, 285.09it/s]\n",
      "train epoch: 100%|██████████| 105/105.0 [00:00<00:00, 162.05it/s]\n",
      "val epoch: 100%|██████████| 14/14.0 [00:00<00:00, 287.20it/s]\n",
      "train epoch: 100%|██████████| 105/105.0 [00:00<00:00, 152.30it/s]\n",
      "val epoch: 100%|██████████| 14/14.0 [00:00<00:00, 232.07it/s]\n",
      "train epoch: 100%|██████████| 105/105.0 [00:00<00:00, 155.47it/s]\n",
      "val epoch: 100%|██████████| 14/14.0 [00:00<00:00, 295.36it/s]\n",
      "train epoch: 100%|██████████| 105/105.0 [00:00<00:00, 169.40it/s]\n",
      "val epoch: 100%|██████████| 14/14.0 [00:00<00:00, 292.13it/s]\n",
      "train epoch: 100%|██████████| 105/105.0 [00:00<00:00, 144.74it/s]\n",
      "val epoch: 100%|██████████| 14/14.0 [00:00<00:00, 226.29it/s]\n"
     ]
    },
    {
     "data": {
      "text/html": [
       "\n",
       "    <style>\n",
       "        .wandb-row {\n",
       "            display: flex;\n",
       "            flex-direction: row;\n",
       "            flex-wrap: wrap;\n",
       "            justify-content: flex-start;\n",
       "            width: 100%;\n",
       "        }\n",
       "        .wandb-col {\n",
       "            display: flex;\n",
       "            flex-direction: column;\n",
       "            flex-basis: 100%;\n",
       "            flex: 1;\n",
       "            padding: 10px;\n",
       "        }\n",
       "    </style>\n",
       "<div class=\"wandb-row\"><div class=\"wandb-col\"><h3>Run history:</h3><br/><table class=\"wandb\"><tr><td>train/MAE</td><td>█▂▁▁▂▂▂▁▁▂</td></tr><tr><td>train/MSE</td><td>█▂▁▁▂▁▂▁▁▂</td></tr><tr><td>train/Max Error</td><td>▅▄▁▃▂▆█▅▆▇</td></tr><tr><td>train/loss</td><td>▃█▃▄▂▂▆▅▂▁</td></tr><tr><td>validation/MAE</td><td>▄▁▄▄█▅▂▅▁▂</td></tr><tr><td>validation/MSE</td><td>▄▃█▂▇▇▁▆▄▃</td></tr><tr><td>validation/Max Error</td><td>▆▄▅▁▄█▆▇▃▅</td></tr><tr><td>validation/loss</td><td>█▃▃▁▅▄▃▁▁▃</td></tr></table><br/></div><div class=\"wandb-col\"><h3>Run summary:</h3><br/><table class=\"wandb\"><tr><td>train/MAE</td><td>1.00858</td></tr><tr><td>train/MSE</td><td>1.55896</td></tr><tr><td>train/Max Error</td><td>4.76086</td></tr><tr><td>train/loss</td><td>1.4555</td></tr><tr><td>validation/MAE</td><td>0.94565</td></tr><tr><td>validation/MSE</td><td>1.33061</td></tr><tr><td>validation/Max Error</td><td>3.57873</td></tr><tr><td>validation/loss</td><td>1.6224</td></tr></table><br/></div></div>"
      ],
      "text/plain": [
       "<IPython.core.display.HTML object>"
      ]
     },
     "metadata": {},
     "output_type": "display_data"
    },
    {
     "data": {
      "text/html": [
       " View run <strong style=\"color:#cdcd00\">LIPO sage 3-32</strong> at: <a href='https://wandb.ai/cus-tibor-none/ToxicML/runs/6wrfvb57' target=\"_blank\">https://wandb.ai/cus-tibor-none/ToxicML/runs/6wrfvb57</a><br/> View project at: <a href='https://wandb.ai/cus-tibor-none/ToxicML' target=\"_blank\">https://wandb.ai/cus-tibor-none/ToxicML</a><br/>Synced 5 W&B file(s), 0 media file(s), 8 artifact file(s) and 4 other file(s)"
      ],
      "text/plain": [
       "<IPython.core.display.HTML object>"
      ]
     },
     "metadata": {},
     "output_type": "display_data"
    },
    {
     "data": {
      "text/html": [
       "Find logs at: <code>./wandb/run-20241207_121935-6wrfvb57/logs</code>"
      ],
      "text/plain": [
       "<IPython.core.display.HTML object>"
      ]
     },
     "metadata": {},
     "output_type": "display_data"
    }
   ],
   "source": [
    "from MLmodels.sage import ChemSageReg\n",
    "\n",
    "model = ChemSageReg(3, 9, 32, 1)\n",
    "optimizer = torch.optim.Adam(model.parameters())\n",
    "lr_scheduler = torch.optim.lr_scheduler.ExponentialLR(optimizer, gamma = 0.09)\n",
    "loss_fn = torch.nn.MSELoss()\n",
    "device = torch.device('cuda' if torch.cuda.is_available() else 'cpu')\n",
    "\n",
    "trainer = GenericRegressionTrainer(\n",
    "    model,\n",
    "    optimizer,\n",
    "    loss_fn,\n",
    "    lr_scheduler,\n",
    "    train_metrics,\n",
    "    validation_metrics,\n",
    "    train,\n",
    "    validation,\n",
    "    test,\n",
    "    device,\n",
    "    None,\n",
    "    EPOCHS,\n",
    "    None,\n",
    "    32\n",
    ")\n",
    "\n",
    "trainer.train(\"LIPO sage 3-32\")"
   ]
  },
  {
   "cell_type": "code",
   "execution_count": 12,
   "metadata": {},
   "outputs": [
    {
     "name": "stderr",
     "output_type": "stream",
     "text": [
      "/home/tibor/Documents/msc-datascience/2024w/Toxic/ToxicML/.venv/lib/python3.12/site-packages/torch_geometric/deprecation.py:26: UserWarning: 'data.DataLoader' is deprecated, use 'loader.DataLoader' instead\n",
      "  warnings.warn(out)\n"
     ]
    },
    {
     "data": {
      "text/html": [
       "Tracking run with wandb version 0.18.7"
      ],
      "text/plain": [
       "<IPython.core.display.HTML object>"
      ]
     },
     "metadata": {},
     "output_type": "display_data"
    },
    {
     "data": {
      "text/html": [
       "Run data is saved locally in <code>/home/tibor/Documents/msc-datascience/2024w/Toxic/ToxicML/ToxicMl/wandb/run-20241207_121949-6onmlawy</code>"
      ],
      "text/plain": [
       "<IPython.core.display.HTML object>"
      ]
     },
     "metadata": {},
     "output_type": "display_data"
    },
    {
     "data": {
      "text/html": [
       "Syncing run <strong><a href='https://wandb.ai/cus-tibor-none/ToxicML/runs/6onmlawy' target=\"_blank\">LIPO sage 5-32</a></strong> to <a href='https://wandb.ai/cus-tibor-none/ToxicML' target=\"_blank\">Weights & Biases</a> (<a href='https://wandb.me/developer-guide' target=\"_blank\">docs</a>)<br/>"
      ],
      "text/plain": [
       "<IPython.core.display.HTML object>"
      ]
     },
     "metadata": {},
     "output_type": "display_data"
    },
    {
     "data": {
      "text/html": [
       " View project at <a href='https://wandb.ai/cus-tibor-none/ToxicML' target=\"_blank\">https://wandb.ai/cus-tibor-none/ToxicML</a>"
      ],
      "text/plain": [
       "<IPython.core.display.HTML object>"
      ]
     },
     "metadata": {},
     "output_type": "display_data"
    },
    {
     "data": {
      "text/html": [
       " View run at <a href='https://wandb.ai/cus-tibor-none/ToxicML/runs/6onmlawy' target=\"_blank\">https://wandb.ai/cus-tibor-none/ToxicML/runs/6onmlawy</a>"
      ],
      "text/plain": [
       "<IPython.core.display.HTML object>"
      ]
     },
     "metadata": {},
     "output_type": "display_data"
    },
    {
     "name": "stderr",
     "output_type": "stream",
     "text": [
      "train epoch:   0%|          | 0/105.0 [00:00<?, ?it/s]/home/tibor/Documents/msc-datascience/2024w/Toxic/ToxicML/.venv/lib/python3.12/site-packages/torch/nn/modules/loss.py:608: UserWarning: Using a target size (torch.Size([32])) that is different to the input size (torch.Size([32, 1])). This will likely lead to incorrect results due to broadcasting. Please ensure they have the same size.\n",
      "  return F.mse_loss(input, target, reduction=self.reduction)\n",
      "train epoch: 100%|██████████| 105/105.0 [00:00<00:00, 116.93it/s]\n",
      "val epoch:   0%|          | 0/14.0 [00:00<?, ?it/s]/home/tibor/Documents/msc-datascience/2024w/Toxic/ToxicML/.venv/lib/python3.12/site-packages/torch/nn/modules/loss.py:608: UserWarning: Using a target size (torch.Size([4])) that is different to the input size (torch.Size([4, 1])). This will likely lead to incorrect results due to broadcasting. Please ensure they have the same size.\n",
      "  return F.mse_loss(input, target, reduction=self.reduction)\n",
      "val epoch: 100%|██████████| 14/14.0 [00:00<00:00, 193.61it/s]\n",
      "train epoch: 100%|██████████| 105/105.0 [00:00<00:00, 121.64it/s]\n",
      "val epoch: 100%|██████████| 14/14.0 [00:00<00:00, 194.65it/s]\n",
      "train epoch: 100%|██████████| 105/105.0 [00:00<00:00, 121.35it/s]\n",
      "val epoch: 100%|██████████| 14/14.0 [00:00<00:00, 245.82it/s]\n",
      "train epoch: 100%|██████████| 105/105.0 [00:00<00:00, 108.93it/s]\n",
      "val epoch: 100%|██████████| 14/14.0 [00:00<00:00, 189.81it/s]\n",
      "train epoch: 100%|██████████| 105/105.0 [00:00<00:00, 111.15it/s]\n",
      "val epoch: 100%|██████████| 14/14.0 [00:00<00:00, 218.34it/s]\n",
      "train epoch: 100%|██████████| 105/105.0 [00:01<00:00, 103.40it/s]\n",
      "val epoch: 100%|██████████| 14/14.0 [00:00<00:00, 124.04it/s]\n",
      "train epoch: 100%|██████████| 105/105.0 [00:00<00:00, 106.11it/s]\n",
      "val epoch: 100%|██████████| 14/14.0 [00:00<00:00, 187.38it/s]\n",
      "train epoch: 100%|██████████| 105/105.0 [00:01<00:00, 103.38it/s]\n",
      "val epoch: 100%|██████████| 14/14.0 [00:00<00:00, 230.56it/s]\n",
      "train epoch: 100%|██████████| 105/105.0 [00:00<00:00, 116.92it/s]\n",
      "val epoch: 100%|██████████| 14/14.0 [00:00<00:00, 234.49it/s]\n",
      "train epoch: 100%|██████████| 105/105.0 [00:00<00:00, 113.51it/s]\n",
      "val epoch: 100%|██████████| 14/14.0 [00:00<00:00, 228.25it/s]\n"
     ]
    },
    {
     "data": {
      "text/html": [
       "\n",
       "    <style>\n",
       "        .wandb-row {\n",
       "            display: flex;\n",
       "            flex-direction: row;\n",
       "            flex-wrap: wrap;\n",
       "            justify-content: flex-start;\n",
       "            width: 100%;\n",
       "        }\n",
       "        .wandb-col {\n",
       "            display: flex;\n",
       "            flex-direction: column;\n",
       "            flex-basis: 100%;\n",
       "            flex: 1;\n",
       "            padding: 10px;\n",
       "        }\n",
       "    </style>\n",
       "<div class=\"wandb-row\"><div class=\"wandb-col\"><h3>Run history:</h3><br/><table class=\"wandb\"><tr><td>train/MAE</td><td>█▁▂▁▁▁▁▂▂▁</td></tr><tr><td>train/MSE</td><td>█▁▂▁▁▁▁▂▁▂</td></tr><tr><td>train/Max Error</td><td>█▅▁▇▆▂▇▁▅▃</td></tr><tr><td>train/loss</td><td>▅▁▅▆▆▅▃▅▁█</td></tr><tr><td>validation/MAE</td><td>▁▂▆▄▄▄█▅▅▂</td></tr><tr><td>validation/MSE</td><td>▁▃█▇▂▄▆▃▂▂</td></tr><tr><td>validation/Max Error</td><td>▃▆▇█▃▄▄▃▁▄</td></tr><tr><td>validation/loss</td><td>▁▂▁▅▃▃▄▂█▃</td></tr></table><br/></div><div class=\"wandb-col\"><h3>Run summary:</h3><br/><table class=\"wandb\"><tr><td>train/MAE</td><td>1.02467</td></tr><tr><td>train/MSE</td><td>1.63291</td></tr><tr><td>train/Max Error</td><td>4.20084</td></tr><tr><td>train/loss</td><td>1.64201</td></tr><tr><td>validation/MAE</td><td>0.95693</td></tr><tr><td>validation/MSE</td><td>1.40813</td></tr><tr><td>validation/Max Error</td><td>4.29163</td></tr><tr><td>validation/loss</td><td>1.76633</td></tr></table><br/></div></div>"
      ],
      "text/plain": [
       "<IPython.core.display.HTML object>"
      ]
     },
     "metadata": {},
     "output_type": "display_data"
    },
    {
     "data": {
      "text/html": [
       " View run <strong style=\"color:#cdcd00\">LIPO sage 5-32</strong> at: <a href='https://wandb.ai/cus-tibor-none/ToxicML/runs/6onmlawy' target=\"_blank\">https://wandb.ai/cus-tibor-none/ToxicML/runs/6onmlawy</a><br/> View project at: <a href='https://wandb.ai/cus-tibor-none/ToxicML' target=\"_blank\">https://wandb.ai/cus-tibor-none/ToxicML</a><br/>Synced 5 W&B file(s), 0 media file(s), 8 artifact file(s) and 4 other file(s)"
      ],
      "text/plain": [
       "<IPython.core.display.HTML object>"
      ]
     },
     "metadata": {},
     "output_type": "display_data"
    },
    {
     "data": {
      "text/html": [
       "Find logs at: <code>./wandb/run-20241207_121949-6onmlawy/logs</code>"
      ],
      "text/plain": [
       "<IPython.core.display.HTML object>"
      ]
     },
     "metadata": {},
     "output_type": "display_data"
    }
   ],
   "source": [
    "from MLmodels.sage import ChemSageReg\n",
    "\n",
    "model = ChemSageReg(5, 9, 32, 1)\n",
    "optimizer = torch.optim.Adam(model.parameters())\n",
    "lr_scheduler = torch.optim.lr_scheduler.ExponentialLR(optimizer, gamma = 0.09)\n",
    "loss_fn = torch.nn.MSELoss()\n",
    "device = torch.device('cuda' if torch.cuda.is_available() else 'cpu')\n",
    "\n",
    "trainer = GenericRegressionTrainer(\n",
    "    model,\n",
    "    optimizer,\n",
    "    loss_fn,\n",
    "    lr_scheduler,\n",
    "    train_metrics,\n",
    "    validation_metrics,\n",
    "    train,\n",
    "    validation,\n",
    "    test,\n",
    "    device,\n",
    "    None,\n",
    "    EPOCHS,\n",
    "    None,\n",
    "    32\n",
    ")\n",
    "\n",
    "trainer.train(\"LIPO sage 5-32\")"
   ]
  },
  {
   "cell_type": "code",
   "execution_count": 13,
   "metadata": {},
   "outputs": [
    {
     "name": "stderr",
     "output_type": "stream",
     "text": [
      "/home/tibor/Documents/msc-datascience/2024w/Toxic/ToxicML/.venv/lib/python3.12/site-packages/torch_geometric/deprecation.py:26: UserWarning: 'data.DataLoader' is deprecated, use 'loader.DataLoader' instead\n",
      "  warnings.warn(out)\n"
     ]
    },
    {
     "data": {
      "text/html": [
       "Tracking run with wandb version 0.18.7"
      ],
      "text/plain": [
       "<IPython.core.display.HTML object>"
      ]
     },
     "metadata": {},
     "output_type": "display_data"
    },
    {
     "data": {
      "text/html": [
       "Run data is saved locally in <code>/home/tibor/Documents/msc-datascience/2024w/Toxic/ToxicML/ToxicMl/wandb/run-20241207_122006-ufh0d9lb</code>"
      ],
      "text/plain": [
       "<IPython.core.display.HTML object>"
      ]
     },
     "metadata": {},
     "output_type": "display_data"
    },
    {
     "data": {
      "text/html": [
       "Syncing run <strong><a href='https://wandb.ai/cus-tibor-none/ToxicML/runs/ufh0d9lb' target=\"_blank\">LIPO sage 5-64</a></strong> to <a href='https://wandb.ai/cus-tibor-none/ToxicML' target=\"_blank\">Weights & Biases</a> (<a href='https://wandb.me/developer-guide' target=\"_blank\">docs</a>)<br/>"
      ],
      "text/plain": [
       "<IPython.core.display.HTML object>"
      ]
     },
     "metadata": {},
     "output_type": "display_data"
    },
    {
     "data": {
      "text/html": [
       " View project at <a href='https://wandb.ai/cus-tibor-none/ToxicML' target=\"_blank\">https://wandb.ai/cus-tibor-none/ToxicML</a>"
      ],
      "text/plain": [
       "<IPython.core.display.HTML object>"
      ]
     },
     "metadata": {},
     "output_type": "display_data"
    },
    {
     "data": {
      "text/html": [
       " View run at <a href='https://wandb.ai/cus-tibor-none/ToxicML/runs/ufh0d9lb' target=\"_blank\">https://wandb.ai/cus-tibor-none/ToxicML/runs/ufh0d9lb</a>"
      ],
      "text/plain": [
       "<IPython.core.display.HTML object>"
      ]
     },
     "metadata": {},
     "output_type": "display_data"
    },
    {
     "name": "stderr",
     "output_type": "stream",
     "text": [
      "train epoch:   0%|          | 0/105.0 [00:00<?, ?it/s]/home/tibor/Documents/msc-datascience/2024w/Toxic/ToxicML/.venv/lib/python3.12/site-packages/torch/nn/modules/loss.py:608: UserWarning: Using a target size (torch.Size([32])) that is different to the input size (torch.Size([32, 1])). This will likely lead to incorrect results due to broadcasting. Please ensure they have the same size.\n",
      "  return F.mse_loss(input, target, reduction=self.reduction)\n",
      "train epoch: 100%|██████████| 105/105.0 [00:01<00:00, 98.73it/s]\n",
      "val epoch:   0%|          | 0/14.0 [00:00<?, ?it/s]/home/tibor/Documents/msc-datascience/2024w/Toxic/ToxicML/.venv/lib/python3.12/site-packages/torch/nn/modules/loss.py:608: UserWarning: Using a target size (torch.Size([4])) that is different to the input size (torch.Size([4, 1])). This will likely lead to incorrect results due to broadcasting. Please ensure they have the same size.\n",
      "  return F.mse_loss(input, target, reduction=self.reduction)\n",
      "val epoch: 100%|██████████| 14/14.0 [00:00<00:00, 179.13it/s]\n",
      "train epoch: 100%|██████████| 105/105.0 [00:01<00:00, 95.84it/s]\n",
      "val epoch: 100%|██████████| 14/14.0 [00:00<00:00, 185.97it/s]\n",
      "train epoch: 100%|██████████| 105/105.0 [00:01<00:00, 101.43it/s]\n",
      "val epoch: 100%|██████████| 14/14.0 [00:00<00:00, 228.45it/s]\n",
      "train epoch: 100%|██████████| 105/105.0 [00:00<00:00, 106.89it/s]\n",
      "val epoch: 100%|██████████| 14/14.0 [00:00<00:00, 213.72it/s]\n",
      "train epoch: 100%|██████████| 105/105.0 [00:00<00:00, 108.29it/s]\n",
      "val epoch: 100%|██████████| 14/14.0 [00:00<00:00, 182.31it/s]\n",
      "train epoch: 100%|██████████| 105/105.0 [00:01<00:00, 97.12it/s]\n",
      "val epoch: 100%|██████████| 14/14.0 [00:00<00:00, 228.49it/s]\n",
      "train epoch: 100%|██████████| 105/105.0 [00:01<00:00, 102.96it/s]\n",
      "val epoch: 100%|██████████| 14/14.0 [00:00<00:00, 171.90it/s]\n",
      "train epoch: 100%|██████████| 105/105.0 [00:01<00:00, 91.39it/s]\n",
      "val epoch: 100%|██████████| 14/14.0 [00:00<00:00, 165.70it/s]\n",
      "train epoch: 100%|██████████| 105/105.0 [00:01<00:00, 77.06it/s]\n",
      "val epoch: 100%|██████████| 14/14.0 [00:00<00:00, 139.94it/s]\n",
      "train epoch: 100%|██████████| 105/105.0 [00:01<00:00, 74.36it/s]\n",
      "val epoch: 100%|██████████| 14/14.0 [00:00<00:00, 163.96it/s]\n"
     ]
    },
    {
     "data": {
      "text/html": [
       "\n",
       "    <style>\n",
       "        .wandb-row {\n",
       "            display: flex;\n",
       "            flex-direction: row;\n",
       "            flex-wrap: wrap;\n",
       "            justify-content: flex-start;\n",
       "            width: 100%;\n",
       "        }\n",
       "        .wandb-col {\n",
       "            display: flex;\n",
       "            flex-direction: column;\n",
       "            flex-basis: 100%;\n",
       "            flex: 1;\n",
       "            padding: 10px;\n",
       "        }\n",
       "    </style>\n",
       "<div class=\"wandb-row\"><div class=\"wandb-col\"><h3>Run history:</h3><br/><table class=\"wandb\"><tr><td>train/MAE</td><td>█▃▁▁▁▂▂▂▂▁</td></tr><tr><td>train/MSE</td><td>█▂▁▁▁▂▂▂▂▁</td></tr><tr><td>train/Max Error</td><td>▇▂▁▄▁▂▃▂█▃</td></tr><tr><td>train/loss</td><td>█▄▂▂▁▃▆▂▂▆</td></tr><tr><td>validation/MAE</td><td>█▁▄▂▅▄▃▃▃▃</td></tr><tr><td>validation/MSE</td><td>▇▁▅▂██▃▄▄▄</td></tr><tr><td>validation/Max Error</td><td>▄▃▄▂▇█▅▁▃▃</td></tr><tr><td>validation/loss</td><td>▃▆▄▆▁▄█▆▂█</td></tr></table><br/></div><div class=\"wandb-col\"><h3>Run summary:</h3><br/><table class=\"wandb\"><tr><td>train/MAE</td><td>0.9695</td></tr><tr><td>train/MSE</td><td>1.45031</td></tr><tr><td>train/Max Error</td><td>4.00576</td></tr><tr><td>train/loss</td><td>1.45151</td></tr><tr><td>validation/MAE</td><td>0.91607</td></tr><tr><td>validation/MSE</td><td>1.23623</td></tr><tr><td>validation/Max Error</td><td>3.42776</td></tr><tr><td>validation/loss</td><td>1.94139</td></tr></table><br/></div></div>"
      ],
      "text/plain": [
       "<IPython.core.display.HTML object>"
      ]
     },
     "metadata": {},
     "output_type": "display_data"
    },
    {
     "data": {
      "text/html": [
       " View run <strong style=\"color:#cdcd00\">LIPO sage 5-64</strong> at: <a href='https://wandb.ai/cus-tibor-none/ToxicML/runs/ufh0d9lb' target=\"_blank\">https://wandb.ai/cus-tibor-none/ToxicML/runs/ufh0d9lb</a><br/> View project at: <a href='https://wandb.ai/cus-tibor-none/ToxicML' target=\"_blank\">https://wandb.ai/cus-tibor-none/ToxicML</a><br/>Synced 5 W&B file(s), 0 media file(s), 8 artifact file(s) and 4 other file(s)"
      ],
      "text/plain": [
       "<IPython.core.display.HTML object>"
      ]
     },
     "metadata": {},
     "output_type": "display_data"
    },
    {
     "data": {
      "text/html": [
       "Find logs at: <code>./wandb/run-20241207_122006-ufh0d9lb/logs</code>"
      ],
      "text/plain": [
       "<IPython.core.display.HTML object>"
      ]
     },
     "metadata": {},
     "output_type": "display_data"
    }
   ],
   "source": [
    "from MLmodels.sage import ChemSageReg\n",
    "\n",
    "model = ChemSageReg(5, 9, 64, 1)\n",
    "optimizer = torch.optim.Adam(model.parameters())\n",
    "lr_scheduler = torch.optim.lr_scheduler.ExponentialLR(optimizer, gamma = 0.09)\n",
    "loss_fn = torch.nn.MSELoss()\n",
    "device = torch.device('cuda' if torch.cuda.is_available() else 'cpu')\n",
    "\n",
    "trainer = GenericRegressionTrainer(\n",
    "    model,\n",
    "    optimizer,\n",
    "    loss_fn,\n",
    "    lr_scheduler,\n",
    "    train_metrics,\n",
    "    validation_metrics,\n",
    "    train,\n",
    "    validation,\n",
    "    test,\n",
    "    device,\n",
    "    None,\n",
    "    EPOCHS,\n",
    "    None,\n",
    "    32\n",
    ")\n",
    "\n",
    "trainer.train(\"LIPO sage 5-64\")"
   ]
  },
  {
   "cell_type": "code",
   "execution_count": 5,
   "metadata": {},
   "outputs": [
    {
     "name": "stderr",
     "output_type": "stream",
     "text": [
      "/home/tibor/Documents/msc-datascience/2024w/Toxic/ToxicML/.venv/lib/python3.12/site-packages/torch_geometric/deprecation.py:26: UserWarning: 'data.DataLoader' is deprecated, use 'loader.DataLoader' instead\n",
      "  warnings.warn(out)\n",
      "\u001b[34m\u001b[1mwandb\u001b[0m: Using wandb-core as the SDK backend.  Please refer to https://wandb.me/wandb-core for more information.\n",
      "\u001b[34m\u001b[1mwandb\u001b[0m: Currently logged in as: \u001b[33mcus-tibor\u001b[0m (\u001b[33mcus-tibor-none\u001b[0m). Use \u001b[1m`wandb login --relogin`\u001b[0m to force relogin\n"
     ]
    },
    {
     "data": {
      "text/html": [
       "Tracking run with wandb version 0.18.7"
      ],
      "text/plain": [
       "<IPython.core.display.HTML object>"
      ]
     },
     "metadata": {},
     "output_type": "display_data"
    },
    {
     "data": {
      "text/html": [
       "Run data is saved locally in <code>/home/tibor/Documents/msc-datascience/2024w/Toxic/ToxicML/ToxicMl/wandb/run-20241207_134712-nipqjn74</code>"
      ],
      "text/plain": [
       "<IPython.core.display.HTML object>"
      ]
     },
     "metadata": {},
     "output_type": "display_data"
    },
    {
     "data": {
      "text/html": [
       "Syncing run <strong><a href='https://wandb.ai/cus-tibor-none/ToxicML/runs/nipqjn74' target=\"_blank\">LIPO attention 3-16</a></strong> to <a href='https://wandb.ai/cus-tibor-none/ToxicML' target=\"_blank\">Weights & Biases</a> (<a href='https://wandb.me/developer-guide' target=\"_blank\">docs</a>)<br/>"
      ],
      "text/plain": [
       "<IPython.core.display.HTML object>"
      ]
     },
     "metadata": {},
     "output_type": "display_data"
    },
    {
     "data": {
      "text/html": [
       " View project at <a href='https://wandb.ai/cus-tibor-none/ToxicML' target=\"_blank\">https://wandb.ai/cus-tibor-none/ToxicML</a>"
      ],
      "text/plain": [
       "<IPython.core.display.HTML object>"
      ]
     },
     "metadata": {},
     "output_type": "display_data"
    },
    {
     "data": {
      "text/html": [
       " View run at <a href='https://wandb.ai/cus-tibor-none/ToxicML/runs/nipqjn74' target=\"_blank\">https://wandb.ai/cus-tibor-none/ToxicML/runs/nipqjn74</a>"
      ],
      "text/plain": [
       "<IPython.core.display.HTML object>"
      ]
     },
     "metadata": {},
     "output_type": "display_data"
    },
    {
     "name": "stderr",
     "output_type": "stream",
     "text": [
      "train epoch:   0%|          | 0/105.0 [00:00<?, ?it/s]/home/tibor/Documents/msc-datascience/2024w/Toxic/ToxicML/.venv/lib/python3.12/site-packages/torch/nn/modules/loss.py:608: UserWarning: Using a target size (torch.Size([32])) that is different to the input size (torch.Size([32, 1])). This will likely lead to incorrect results due to broadcasting. Please ensure they have the same size.\n",
      "  return F.mse_loss(input, target, reduction=self.reduction)\n",
      "train epoch: 100%|██████████| 105/105.0 [00:01<00:00, 63.87it/s]\n",
      "val epoch:  93%|█████████▎| 13/14.0 [00:00<00:00, 125.52it/s]/home/tibor/Documents/msc-datascience/2024w/Toxic/ToxicML/.venv/lib/python3.12/site-packages/torch/nn/modules/loss.py:608: UserWarning: Using a target size (torch.Size([4])) that is different to the input size (torch.Size([4, 1])). This will likely lead to incorrect results due to broadcasting. Please ensure they have the same size.\n",
      "  return F.mse_loss(input, target, reduction=self.reduction)\n",
      "val epoch: 100%|██████████| 14/14.0 [00:00<00:00, 130.37it/s]\n",
      "train epoch: 100%|██████████| 105/105.0 [00:01<00:00, 100.89it/s]\n",
      "val epoch: 100%|██████████| 14/14.0 [00:00<00:00, 175.73it/s]\n",
      "train epoch: 100%|██████████| 105/105.0 [00:01<00:00, 95.95it/s] \n",
      "val epoch: 100%|██████████| 14/14.0 [00:00<00:00, 168.94it/s]\n",
      "train epoch: 100%|██████████| 105/105.0 [00:01<00:00, 100.63it/s]\n",
      "val epoch: 100%|██████████| 14/14.0 [00:00<00:00, 163.28it/s]\n",
      "train epoch: 100%|██████████| 105/105.0 [00:01<00:00, 91.25it/s]\n",
      "val epoch: 100%|██████████| 14/14.0 [00:00<00:00, 206.30it/s]\n",
      "train epoch: 100%|██████████| 105/105.0 [00:01<00:00, 102.86it/s]\n",
      "val epoch: 100%|██████████| 14/14.0 [00:00<00:00, 220.27it/s]\n",
      "train epoch: 100%|██████████| 105/105.0 [00:01<00:00, 100.78it/s]\n",
      "val epoch: 100%|██████████| 14/14.0 [00:00<00:00, 170.14it/s]\n",
      "train epoch: 100%|██████████| 105/105.0 [00:01<00:00, 102.10it/s]\n",
      "val epoch: 100%|██████████| 14/14.0 [00:00<00:00, 191.99it/s]\n",
      "train epoch: 100%|██████████| 105/105.0 [00:01<00:00, 103.45it/s]\n",
      "val epoch: 100%|██████████| 14/14.0 [00:00<00:00, 183.71it/s]\n",
      "train epoch: 100%|██████████| 105/105.0 [00:01<00:00, 99.44it/s]\n",
      "val epoch: 100%|██████████| 14/14.0 [00:00<00:00, 185.03it/s]\n"
     ]
    },
    {
     "data": {
      "text/html": [
       "\n",
       "    <style>\n",
       "        .wandb-row {\n",
       "            display: flex;\n",
       "            flex-direction: row;\n",
       "            flex-wrap: wrap;\n",
       "            justify-content: flex-start;\n",
       "            width: 100%;\n",
       "        }\n",
       "        .wandb-col {\n",
       "            display: flex;\n",
       "            flex-direction: column;\n",
       "            flex-basis: 100%;\n",
       "            flex: 1;\n",
       "            padding: 10px;\n",
       "        }\n",
       "    </style>\n",
       "<div class=\"wandb-row\"><div class=\"wandb-col\"><h3>Run history:</h3><br/><table class=\"wandb\"><tr><td>train/MAE</td><td>█▁▁▁▁▁▁▁▁▁</td></tr><tr><td>train/MSE</td><td>█▁▁▁▁▂▁▁▁▁</td></tr><tr><td>train/Max Error</td><td>█▁▂▃▂▃▃▂▄▄</td></tr><tr><td>train/loss</td><td>█▇▅▆▁▄▅▇▇▅</td></tr><tr><td>validation/MAE</td><td>▃▃▂▄▄▁▁▃▂█</td></tr><tr><td>validation/MSE</td><td>▃▃▃▆▅▂▁▄▄█</td></tr><tr><td>validation/Max Error</td><td>▅▃▇█▇▅▄▁▅█</td></tr><tr><td>validation/loss</td><td>▁▂▂▂▂▂▂█▁▄</td></tr></table><br/></div><div class=\"wandb-col\"><h3>Run summary:</h3><br/><table class=\"wandb\"><tr><td>train/MAE</td><td>1.01963</td></tr><tr><td>train/MSE</td><td>1.58433</td></tr><tr><td>train/Max Error</td><td>4.69228</td></tr><tr><td>train/loss</td><td>1.55514</td></tr><tr><td>validation/MAE</td><td>0.99493</td></tr><tr><td>validation/MSE</td><td>1.46699</td></tr><tr><td>validation/Max Error</td><td>3.78525</td></tr><tr><td>validation/loss</td><td>1.58402</td></tr></table><br/></div></div>"
      ],
      "text/plain": [
       "<IPython.core.display.HTML object>"
      ]
     },
     "metadata": {},
     "output_type": "display_data"
    },
    {
     "data": {
      "text/html": [
       " View run <strong style=\"color:#cdcd00\">LIPO attention 3-16</strong> at: <a href='https://wandb.ai/cus-tibor-none/ToxicML/runs/nipqjn74' target=\"_blank\">https://wandb.ai/cus-tibor-none/ToxicML/runs/nipqjn74</a><br/> View project at: <a href='https://wandb.ai/cus-tibor-none/ToxicML' target=\"_blank\">https://wandb.ai/cus-tibor-none/ToxicML</a><br/>Synced 5 W&B file(s), 0 media file(s), 8 artifact file(s) and 4 other file(s)"
      ],
      "text/plain": [
       "<IPython.core.display.HTML object>"
      ]
     },
     "metadata": {},
     "output_type": "display_data"
    },
    {
     "data": {
      "text/html": [
       "Find logs at: <code>./wandb/run-20241207_134712-nipqjn74/logs</code>"
      ],
      "text/plain": [
       "<IPython.core.display.HTML object>"
      ]
     },
     "metadata": {},
     "output_type": "display_data"
    }
   ],
   "source": [
    "from MLmodels.attention import ChemAttentionReg\n",
    "model = ChemAttentionReg(3, 9, 16, 1)\n",
    "optimizer = torch.optim.Adam(model.parameters())\n",
    "lr_scheduler = torch.optim.lr_scheduler.ExponentialLR(optimizer, gamma = 0.09)\n",
    "loss_fn = torch.nn.MSELoss()\n",
    "device = torch.device('cuda' if torch.cuda.is_available() else 'cpu')\n",
    "trainer = GenericRegressionTrainer(\n",
    "    model,\n",
    "    optimizer,\n",
    "    loss_fn,\n",
    "    lr_scheduler,\n",
    "    train_metrics,\n",
    "    validation_metrics,\n",
    "    train,\n",
    "    validation,\n",
    "    test,\n",
    "    device,\n",
    "    None,\n",
    "    EPOCHS,\n",
    "    None,\n",
    "    32\n",
    ")\n",
    "\n",
    "trainer.train(\"LIPO attention 3-16\")"
   ]
  },
  {
   "cell_type": "code",
   "execution_count": 6,
   "metadata": {},
   "outputs": [
    {
     "name": "stderr",
     "output_type": "stream",
     "text": [
      "/home/tibor/Documents/msc-datascience/2024w/Toxic/ToxicML/.venv/lib/python3.12/site-packages/torch_geometric/deprecation.py:26: UserWarning: 'data.DataLoader' is deprecated, use 'loader.DataLoader' instead\n",
      "  warnings.warn(out)\n"
     ]
    },
    {
     "data": {
      "text/html": [
       "Tracking run with wandb version 0.18.7"
      ],
      "text/plain": [
       "<IPython.core.display.HTML object>"
      ]
     },
     "metadata": {},
     "output_type": "display_data"
    },
    {
     "data": {
      "text/html": [
       "Run data is saved locally in <code>/home/tibor/Documents/msc-datascience/2024w/Toxic/ToxicML/ToxicMl/wandb/run-20241207_134730-hy9stnaw</code>"
      ],
      "text/plain": [
       "<IPython.core.display.HTML object>"
      ]
     },
     "metadata": {},
     "output_type": "display_data"
    },
    {
     "data": {
      "text/html": [
       "Syncing run <strong><a href='https://wandb.ai/cus-tibor-none/ToxicML/runs/hy9stnaw' target=\"_blank\">LIPO attention 3-32</a></strong> to <a href='https://wandb.ai/cus-tibor-none/ToxicML' target=\"_blank\">Weights & Biases</a> (<a href='https://wandb.me/developer-guide' target=\"_blank\">docs</a>)<br/>"
      ],
      "text/plain": [
       "<IPython.core.display.HTML object>"
      ]
     },
     "metadata": {},
     "output_type": "display_data"
    },
    {
     "data": {
      "text/html": [
       " View project at <a href='https://wandb.ai/cus-tibor-none/ToxicML' target=\"_blank\">https://wandb.ai/cus-tibor-none/ToxicML</a>"
      ],
      "text/plain": [
       "<IPython.core.display.HTML object>"
      ]
     },
     "metadata": {},
     "output_type": "display_data"
    },
    {
     "data": {
      "text/html": [
       " View run at <a href='https://wandb.ai/cus-tibor-none/ToxicML/runs/hy9stnaw' target=\"_blank\">https://wandb.ai/cus-tibor-none/ToxicML/runs/hy9stnaw</a>"
      ],
      "text/plain": [
       "<IPython.core.display.HTML object>"
      ]
     },
     "metadata": {},
     "output_type": "display_data"
    },
    {
     "name": "stderr",
     "output_type": "stream",
     "text": [
      "train epoch:   0%|          | 0/105.0 [00:00<?, ?it/s]/home/tibor/Documents/msc-datascience/2024w/Toxic/ToxicML/.venv/lib/python3.12/site-packages/torch/nn/modules/loss.py:608: UserWarning: Using a target size (torch.Size([32])) that is different to the input size (torch.Size([32, 1])). This will likely lead to incorrect results due to broadcasting. Please ensure they have the same size.\n",
      "  return F.mse_loss(input, target, reduction=self.reduction)\n",
      "train epoch: 100%|██████████| 105/105.0 [00:01<00:00, 95.67it/s] \n",
      "val epoch:   0%|          | 0/14.0 [00:00<?, ?it/s]/home/tibor/Documents/msc-datascience/2024w/Toxic/ToxicML/.venv/lib/python3.12/site-packages/torch/nn/modules/loss.py:608: UserWarning: Using a target size (torch.Size([4])) that is different to the input size (torch.Size([4, 1])). This will likely lead to incorrect results due to broadcasting. Please ensure they have the same size.\n",
      "  return F.mse_loss(input, target, reduction=self.reduction)\n",
      "val epoch: 100%|██████████| 14/14.0 [00:00<00:00, 164.72it/s]\n",
      "train epoch: 100%|██████████| 105/105.0 [00:01<00:00, 90.76it/s]\n",
      "val epoch: 100%|██████████| 14/14.0 [00:00<00:00, 157.00it/s]\n",
      "train epoch: 100%|██████████| 105/105.0 [00:01<00:00, 89.51it/s]\n",
      "val epoch: 100%|██████████| 14/14.0 [00:00<00:00, 173.50it/s]\n",
      "train epoch: 100%|██████████| 105/105.0 [00:01<00:00, 88.54it/s]\n",
      "val epoch: 100%|██████████| 14/14.0 [00:00<00:00, 161.30it/s]\n",
      "train epoch: 100%|██████████| 105/105.0 [00:01<00:00, 92.16it/s]\n",
      "val epoch: 100%|██████████| 14/14.0 [00:00<00:00, 168.09it/s]\n",
      "train epoch: 100%|██████████| 105/105.0 [00:01<00:00, 82.92it/s]\n",
      "val epoch: 100%|██████████| 14/14.0 [00:00<00:00, 165.48it/s]\n",
      "train epoch: 100%|██████████| 105/105.0 [00:01<00:00, 83.87it/s]\n",
      "val epoch: 100%|██████████| 14/14.0 [00:00<00:00, 164.04it/s]\n",
      "train epoch: 100%|██████████| 105/105.0 [00:01<00:00, 91.66it/s]\n",
      "val epoch: 100%|██████████| 14/14.0 [00:00<00:00, 185.07it/s]\n",
      "train epoch: 100%|██████████| 105/105.0 [00:01<00:00, 86.92it/s]\n",
      "val epoch: 100%|██████████| 14/14.0 [00:00<00:00, 182.25it/s]\n",
      "train epoch: 100%|██████████| 105/105.0 [00:01<00:00, 95.58it/s]\n",
      "val epoch: 100%|██████████| 14/14.0 [00:00<00:00, 192.84it/s]\n"
     ]
    },
    {
     "data": {
      "text/html": [
       "\n",
       "    <style>\n",
       "        .wandb-row {\n",
       "            display: flex;\n",
       "            flex-direction: row;\n",
       "            flex-wrap: wrap;\n",
       "            justify-content: flex-start;\n",
       "            width: 100%;\n",
       "        }\n",
       "        .wandb-col {\n",
       "            display: flex;\n",
       "            flex-direction: column;\n",
       "            flex-basis: 100%;\n",
       "            flex: 1;\n",
       "            padding: 10px;\n",
       "        }\n",
       "    </style>\n",
       "<div class=\"wandb-row\"><div class=\"wandb-col\"><h3>Run history:</h3><br/><table class=\"wandb\"><tr><td>train/MAE</td><td>█▂▁▁▁▂▁▁▁▂</td></tr><tr><td>train/MSE</td><td>█▂▂▁▁▂▂▁▂▂</td></tr><tr><td>train/Max Error</td><td>█▂▃▂▂▁▄▂▃▂</td></tr><tr><td>train/loss</td><td>▆▂▄▄▆█▅▄▁▁</td></tr><tr><td>validation/MAE</td><td>▁▃▆▄▃▃█▆▁▃</td></tr><tr><td>validation/MSE</td><td>▂▆█▃▁▅▇▇▂▅</td></tr><tr><td>validation/Max Error</td><td>▄▇▃▄▅▇▁█▃▄</td></tr><tr><td>validation/loss</td><td>▁▃▂▆▁█▅▁▅▃</td></tr></table><br/></div><div class=\"wandb-col\"><h3>Run summary:</h3><br/><table class=\"wandb\"><tr><td>train/MAE</td><td>0.99797</td></tr><tr><td>train/MSE</td><td>1.51324</td></tr><tr><td>train/Max Error</td><td>4.05129</td></tr><tr><td>train/loss</td><td>1.43482</td></tr><tr><td>validation/MAE</td><td>0.92523</td></tr><tr><td>validation/MSE</td><td>1.29436</td></tr><tr><td>validation/Max Error</td><td>3.39414</td></tr><tr><td>validation/loss</td><td>1.03907</td></tr></table><br/></div></div>"
      ],
      "text/plain": [
       "<IPython.core.display.HTML object>"
      ]
     },
     "metadata": {},
     "output_type": "display_data"
    },
    {
     "data": {
      "text/html": [
       " View run <strong style=\"color:#cdcd00\">LIPO attention 3-32</strong> at: <a href='https://wandb.ai/cus-tibor-none/ToxicML/runs/hy9stnaw' target=\"_blank\">https://wandb.ai/cus-tibor-none/ToxicML/runs/hy9stnaw</a><br/> View project at: <a href='https://wandb.ai/cus-tibor-none/ToxicML' target=\"_blank\">https://wandb.ai/cus-tibor-none/ToxicML</a><br/>Synced 5 W&B file(s), 0 media file(s), 8 artifact file(s) and 4 other file(s)"
      ],
      "text/plain": [
       "<IPython.core.display.HTML object>"
      ]
     },
     "metadata": {},
     "output_type": "display_data"
    },
    {
     "data": {
      "text/html": [
       "Find logs at: <code>./wandb/run-20241207_134730-hy9stnaw/logs</code>"
      ],
      "text/plain": [
       "<IPython.core.display.HTML object>"
      ]
     },
     "metadata": {},
     "output_type": "display_data"
    }
   ],
   "source": [
    "from MLmodels.attention import ChemAttentionReg\n",
    "model = ChemAttentionReg(3, 9, 32, 1)\n",
    "optimizer = torch.optim.Adam(model.parameters())\n",
    "lr_scheduler = torch.optim.lr_scheduler.ExponentialLR(optimizer, gamma = 0.09)\n",
    "loss_fn = torch.nn.MSELoss()\n",
    "device = torch.device('cuda' if torch.cuda.is_available() else 'cpu')\n",
    "trainer = GenericRegressionTrainer(\n",
    "    model,\n",
    "    optimizer,\n",
    "    loss_fn,\n",
    "    lr_scheduler,\n",
    "    train_metrics,\n",
    "    validation_metrics,\n",
    "    train,\n",
    "    validation,\n",
    "    test,\n",
    "    device,\n",
    "    None,\n",
    "    EPOCHS,\n",
    "    None,\n",
    "    32\n",
    ")\n",
    "\n",
    "trainer.train(\"LIPO attention 3-32\")"
   ]
  },
  {
   "cell_type": "code",
   "execution_count": 8,
   "metadata": {},
   "outputs": [
    {
     "name": "stderr",
     "output_type": "stream",
     "text": [
      "/home/tibor/Documents/msc-datascience/2024w/Toxic/ToxicML/.venv/lib/python3.12/site-packages/torch_geometric/deprecation.py:26: UserWarning: 'data.DataLoader' is deprecated, use 'loader.DataLoader' instead\n",
      "  warnings.warn(out)\n"
     ]
    },
    {
     "data": {
      "text/html": [
       "Tracking run with wandb version 0.18.7"
      ],
      "text/plain": [
       "<IPython.core.display.HTML object>"
      ]
     },
     "metadata": {},
     "output_type": "display_data"
    },
    {
     "data": {
      "text/html": [
       "Run data is saved locally in <code>/home/tibor/Documents/msc-datascience/2024w/Toxic/ToxicML/ToxicMl/wandb/run-20241207_135023-0i4tf8no</code>"
      ],
      "text/plain": [
       "<IPython.core.display.HTML object>"
      ]
     },
     "metadata": {},
     "output_type": "display_data"
    },
    {
     "data": {
      "text/html": [
       "Syncing run <strong><a href='https://wandb.ai/cus-tibor-none/ToxicML/runs/0i4tf8no' target=\"_blank\">LIPO attention 5-32</a></strong> to <a href='https://wandb.ai/cus-tibor-none/ToxicML' target=\"_blank\">Weights & Biases</a> (<a href='https://wandb.me/developer-guide' target=\"_blank\">docs</a>)<br/>"
      ],
      "text/plain": [
       "<IPython.core.display.HTML object>"
      ]
     },
     "metadata": {},
     "output_type": "display_data"
    },
    {
     "data": {
      "text/html": [
       " View project at <a href='https://wandb.ai/cus-tibor-none/ToxicML' target=\"_blank\">https://wandb.ai/cus-tibor-none/ToxicML</a>"
      ],
      "text/plain": [
       "<IPython.core.display.HTML object>"
      ]
     },
     "metadata": {},
     "output_type": "display_data"
    },
    {
     "data": {
      "text/html": [
       " View run at <a href='https://wandb.ai/cus-tibor-none/ToxicML/runs/0i4tf8no' target=\"_blank\">https://wandb.ai/cus-tibor-none/ToxicML/runs/0i4tf8no</a>"
      ],
      "text/plain": [
       "<IPython.core.display.HTML object>"
      ]
     },
     "metadata": {},
     "output_type": "display_data"
    },
    {
     "name": "stderr",
     "output_type": "stream",
     "text": [
      "train epoch:   0%|          | 0/105.0 [00:00<?, ?it/s]/home/tibor/Documents/msc-datascience/2024w/Toxic/ToxicML/.venv/lib/python3.12/site-packages/torch/nn/modules/loss.py:608: UserWarning: Using a target size (torch.Size([32])) that is different to the input size (torch.Size([32, 1])). This will likely lead to incorrect results due to broadcasting. Please ensure they have the same size.\n",
      "  return F.mse_loss(input, target, reduction=self.reduction)\n",
      "train epoch: 100%|██████████| 105/105.0 [00:01<00:00, 71.50it/s]\n",
      "val epoch:  93%|█████████▎| 13/14.0 [00:00<00:00, 128.49it/s]/home/tibor/Documents/msc-datascience/2024w/Toxic/ToxicML/.venv/lib/python3.12/site-packages/torch/nn/modules/loss.py:608: UserWarning: Using a target size (torch.Size([4])) that is different to the input size (torch.Size([4, 1])). This will likely lead to incorrect results due to broadcasting. Please ensure they have the same size.\n",
      "  return F.mse_loss(input, target, reduction=self.reduction)\n",
      "val epoch: 100%|██████████| 14/14.0 [00:00<00:00, 130.91it/s]\n",
      "train epoch: 100%|██████████| 105/105.0 [00:01<00:00, 71.59it/s]\n",
      "val epoch: 100%|██████████| 14/14.0 [00:00<00:00, 125.68it/s]\n",
      "train epoch: 100%|██████████| 105/105.0 [00:01<00:00, 70.88it/s]\n",
      "val epoch: 100%|██████████| 14/14.0 [00:00<00:00, 129.14it/s]\n",
      "train epoch: 100%|██████████| 105/105.0 [00:01<00:00, 65.65it/s]\n",
      "val epoch: 100%|██████████| 14/14.0 [00:00<00:00, 127.09it/s]\n",
      "train epoch: 100%|██████████| 105/105.0 [00:01<00:00, 63.14it/s]\n",
      "val epoch: 100%|██████████| 14/14.0 [00:00<00:00, 128.96it/s]\n",
      "train epoch: 100%|██████████| 105/105.0 [00:01<00:00, 64.15it/s]\n",
      "val epoch: 100%|██████████| 14/14.0 [00:00<00:00, 130.77it/s]\n",
      "train epoch: 100%|██████████| 105/105.0 [00:01<00:00, 68.96it/s]\n",
      "val epoch: 100%|██████████| 14/14.0 [00:00<00:00, 158.40it/s]\n",
      "train epoch: 100%|██████████| 105/105.0 [00:01<00:00, 72.88it/s]\n",
      "val epoch: 100%|██████████| 14/14.0 [00:00<00:00, 131.28it/s]\n",
      "train epoch: 100%|██████████| 105/105.0 [00:01<00:00, 65.27it/s]\n",
      "val epoch: 100%|██████████| 14/14.0 [00:00<00:00, 137.27it/s]\n",
      "train epoch: 100%|██████████| 105/105.0 [00:01<00:00, 70.85it/s]\n",
      "val epoch: 100%|██████████| 14/14.0 [00:00<00:00, 153.21it/s]\n"
     ]
    },
    {
     "data": {
      "text/html": [
       "\n",
       "    <style>\n",
       "        .wandb-row {\n",
       "            display: flex;\n",
       "            flex-direction: row;\n",
       "            flex-wrap: wrap;\n",
       "            justify-content: flex-start;\n",
       "            width: 100%;\n",
       "        }\n",
       "        .wandb-col {\n",
       "            display: flex;\n",
       "            flex-direction: column;\n",
       "            flex-basis: 100%;\n",
       "            flex: 1;\n",
       "            padding: 10px;\n",
       "        }\n",
       "    </style>\n",
       "<div class=\"wandb-row\"><div class=\"wandb-col\"><h3>Run history:</h3><br/><table class=\"wandb\"><tr><td>train/MAE</td><td>█▂▂▂▁▁▂▁▁▁</td></tr><tr><td>train/MSE</td><td>█▁▂▁▁▁▂▁▁▁</td></tr><tr><td>train/Max Error</td><td>█▁▂▂▁▂▂▃▃▄</td></tr><tr><td>train/loss</td><td>█▅▆▅▇▂▇▁▄▁</td></tr><tr><td>validation/MAE</td><td>█▇▁█▃▃▂▁▂█</td></tr><tr><td>validation/MSE</td><td>█▇▂█▁▅▁▅▄▇</td></tr><tr><td>validation/Max Error</td><td>▅▄▃▇▃▄▁█▄▃</td></tr><tr><td>validation/loss</td><td>█▇▂▅▇▁▃▁▆▄</td></tr></table><br/></div><div class=\"wandb-col\"><h3>Run summary:</h3><br/><table class=\"wandb\"><tr><td>train/MAE</td><td>1.01904</td></tr><tr><td>train/MSE</td><td>1.59168</td></tr><tr><td>train/Max Error</td><td>5.07588</td></tr><tr><td>train/loss</td><td>1.47634</td></tr><tr><td>validation/MAE</td><td>0.99094</td></tr><tr><td>validation/MSE</td><td>1.44031</td></tr><tr><td>validation/Max Error</td><td>3.68897</td></tr><tr><td>validation/loss</td><td>1.34402</td></tr></table><br/></div></div>"
      ],
      "text/plain": [
       "<IPython.core.display.HTML object>"
      ]
     },
     "metadata": {},
     "output_type": "display_data"
    },
    {
     "data": {
      "text/html": [
       " View run <strong style=\"color:#cdcd00\">LIPO attention 5-32</strong> at: <a href='https://wandb.ai/cus-tibor-none/ToxicML/runs/0i4tf8no' target=\"_blank\">https://wandb.ai/cus-tibor-none/ToxicML/runs/0i4tf8no</a><br/> View project at: <a href='https://wandb.ai/cus-tibor-none/ToxicML' target=\"_blank\">https://wandb.ai/cus-tibor-none/ToxicML</a><br/>Synced 5 W&B file(s), 0 media file(s), 8 artifact file(s) and 4 other file(s)"
      ],
      "text/plain": [
       "<IPython.core.display.HTML object>"
      ]
     },
     "metadata": {},
     "output_type": "display_data"
    },
    {
     "data": {
      "text/html": [
       "Find logs at: <code>./wandb/run-20241207_135023-0i4tf8no/logs</code>"
      ],
      "text/plain": [
       "<IPython.core.display.HTML object>"
      ]
     },
     "metadata": {},
     "output_type": "display_data"
    }
   ],
   "source": [
    "from MLmodels.attention import ChemAttentionReg\n",
    "model = ChemAttentionReg(5, 9, 32, 1)\n",
    "optimizer = torch.optim.Adam(model.parameters())\n",
    "lr_scheduler = torch.optim.lr_scheduler.ExponentialLR(optimizer, gamma = 0.09)\n",
    "loss_fn = torch.nn.MSELoss()\n",
    "device = torch.device('cuda' if torch.cuda.is_available() else 'cpu')\n",
    "trainer = GenericRegressionTrainer(\n",
    "    model,\n",
    "    optimizer,\n",
    "    loss_fn,\n",
    "    lr_scheduler,\n",
    "    train_metrics,\n",
    "    validation_metrics,\n",
    "    train,\n",
    "    validation,\n",
    "    test,\n",
    "    device,\n",
    "    None,\n",
    "    EPOCHS,\n",
    "    None,\n",
    "    32\n",
    ")\n",
    "\n",
    "trainer.train(\"LIPO attention 5-32\")"
   ]
  },
  {
   "cell_type": "code",
   "execution_count": 7,
   "metadata": {},
   "outputs": [
    {
     "name": "stderr",
     "output_type": "stream",
     "text": [
      "/home/tibor/Documents/msc-datascience/2024w/Toxic/ToxicML/.venv/lib/python3.12/site-packages/torch_geometric/deprecation.py:26: UserWarning: 'data.DataLoader' is deprecated, use 'loader.DataLoader' instead\n",
      "  warnings.warn(out)\n"
     ]
    },
    {
     "data": {
      "text/html": [
       "Tracking run with wandb version 0.18.7"
      ],
      "text/plain": [
       "<IPython.core.display.HTML object>"
      ]
     },
     "metadata": {},
     "output_type": "display_data"
    },
    {
     "data": {
      "text/html": [
       "Run data is saved locally in <code>/home/tibor/Documents/msc-datascience/2024w/Toxic/ToxicML/ToxicMl/wandb/run-20241207_134749-dgue9iez</code>"
      ],
      "text/plain": [
       "<IPython.core.display.HTML object>"
      ]
     },
     "metadata": {},
     "output_type": "display_data"
    },
    {
     "data": {
      "text/html": [
       "Syncing run <strong><a href='https://wandb.ai/cus-tibor-none/ToxicML/runs/dgue9iez' target=\"_blank\">LIPO attention 5-64</a></strong> to <a href='https://wandb.ai/cus-tibor-none/ToxicML' target=\"_blank\">Weights & Biases</a> (<a href='https://wandb.me/developer-guide' target=\"_blank\">docs</a>)<br/>"
      ],
      "text/plain": [
       "<IPython.core.display.HTML object>"
      ]
     },
     "metadata": {},
     "output_type": "display_data"
    },
    {
     "data": {
      "text/html": [
       " View project at <a href='https://wandb.ai/cus-tibor-none/ToxicML' target=\"_blank\">https://wandb.ai/cus-tibor-none/ToxicML</a>"
      ],
      "text/plain": [
       "<IPython.core.display.HTML object>"
      ]
     },
     "metadata": {},
     "output_type": "display_data"
    },
    {
     "data": {
      "text/html": [
       " View run at <a href='https://wandb.ai/cus-tibor-none/ToxicML/runs/dgue9iez' target=\"_blank\">https://wandb.ai/cus-tibor-none/ToxicML/runs/dgue9iez</a>"
      ],
      "text/plain": [
       "<IPython.core.display.HTML object>"
      ]
     },
     "metadata": {},
     "output_type": "display_data"
    },
    {
     "name": "stderr",
     "output_type": "stream",
     "text": [
      "train epoch:   0%|          | 0/105.0 [00:00<?, ?it/s]/home/tibor/Documents/msc-datascience/2024w/Toxic/ToxicML/.venv/lib/python3.12/site-packages/torch/nn/modules/loss.py:608: UserWarning: Using a target size (torch.Size([32])) that is different to the input size (torch.Size([32, 1])). This will likely lead to incorrect results due to broadcasting. Please ensure they have the same size.\n",
      "  return F.mse_loss(input, target, reduction=self.reduction)\n",
      "train epoch: 100%|██████████| 105/105.0 [00:01<00:00, 55.87it/s]\n",
      "val epoch:   0%|          | 0/14.0 [00:00<?, ?it/s]/home/tibor/Documents/msc-datascience/2024w/Toxic/ToxicML/.venv/lib/python3.12/site-packages/torch/nn/modules/loss.py:608: UserWarning: Using a target size (torch.Size([4])) that is different to the input size (torch.Size([4, 1])). This will likely lead to incorrect results due to broadcasting. Please ensure they have the same size.\n",
      "  return F.mse_loss(input, target, reduction=self.reduction)\n",
      "val epoch: 100%|██████████| 14/14.0 [00:00<00:00, 136.05it/s]\n",
      "train epoch: 100%|██████████| 105/105.0 [00:01<00:00, 53.87it/s]\n",
      "val epoch: 100%|██████████| 14/14.0 [00:00<00:00, 133.00it/s]\n",
      "train epoch: 100%|██████████| 105/105.0 [00:01<00:00, 55.23it/s]\n",
      "val epoch: 100%|██████████| 14/14.0 [00:00<00:00, 152.31it/s]\n",
      "train epoch: 100%|██████████| 105/105.0 [00:01<00:00, 59.22it/s]\n",
      "val epoch: 100%|██████████| 14/14.0 [00:00<00:00, 112.08it/s]\n",
      "train epoch: 100%|██████████| 105/105.0 [00:01<00:00, 56.51it/s]\n",
      "val epoch: 100%|██████████| 14/14.0 [00:00<00:00, 118.93it/s]\n",
      "train epoch: 100%|██████████| 105/105.0 [00:01<00:00, 63.05it/s]\n",
      "val epoch: 100%|██████████| 14/14.0 [00:00<00:00, 133.62it/s]\n",
      "train epoch: 100%|██████████| 105/105.0 [00:02<00:00, 48.55it/s]\n",
      "val epoch: 100%|██████████| 14/14.0 [00:00<00:00, 100.00it/s]\n",
      "train epoch: 100%|██████████| 105/105.0 [00:02<00:00, 44.79it/s]\n",
      "val epoch: 100%|██████████| 14/14.0 [00:00<00:00, 91.03it/s]\n",
      "train epoch: 100%|██████████| 105/105.0 [00:02<00:00, 46.38it/s]\n",
      "val epoch: 100%|██████████| 14/14.0 [00:00<00:00, 85.40it/s]\n",
      "train epoch: 100%|██████████| 105/105.0 [00:02<00:00, 46.54it/s]\n",
      "val epoch: 100%|██████████| 14/14.0 [00:00<00:00, 102.67it/s]\n"
     ]
    },
    {
     "data": {
      "text/html": [
       "\n",
       "    <style>\n",
       "        .wandb-row {\n",
       "            display: flex;\n",
       "            flex-direction: row;\n",
       "            flex-wrap: wrap;\n",
       "            justify-content: flex-start;\n",
       "            width: 100%;\n",
       "        }\n",
       "        .wandb-col {\n",
       "            display: flex;\n",
       "            flex-direction: column;\n",
       "            flex-basis: 100%;\n",
       "            flex: 1;\n",
       "            padding: 10px;\n",
       "        }\n",
       "    </style>\n",
       "<div class=\"wandb-row\"><div class=\"wandb-col\"><h3>Run history:</h3><br/><table class=\"wandb\"><tr><td>train/MAE</td><td>█▁▁▁▁▁▁▁▁▁</td></tr><tr><td>train/MSE</td><td>█▁▁▁▁▁▁▁▁▁</td></tr><tr><td>train/Max Error</td><td>█▂▂▁▂▄▂▂▂▃</td></tr><tr><td>train/loss</td><td>█▄▃▃▄▁▅▁▃▄</td></tr><tr><td>validation/MAE</td><td>▃▆▃▇▁▃▅█▁▄</td></tr><tr><td>validation/MSE</td><td>▄█▂▃▁▃▄▇▁▅</td></tr><tr><td>validation/Max Error</td><td>▃█▂▁▁▂▂█▁█</td></tr><tr><td>validation/loss</td><td>▁█▇▂▃▂▅▁█▄</td></tr></table><br/></div><div class=\"wandb-col\"><h3>Run summary:</h3><br/><table class=\"wandb\"><tr><td>train/MAE</td><td>0.99828</td></tr><tr><td>train/MSE</td><td>1.51169</td></tr><tr><td>train/Max Error</td><td>4.43062</td></tr><tr><td>train/loss</td><td>1.50493</td></tr><tr><td>validation/MAE</td><td>0.9487</td></tr><tr><td>validation/MSE</td><td>1.40403</td></tr><tr><td>validation/Max Error</td><td>6.58231</td></tr><tr><td>validation/loss</td><td>1.35451</td></tr></table><br/></div></div>"
      ],
      "text/plain": [
       "<IPython.core.display.HTML object>"
      ]
     },
     "metadata": {},
     "output_type": "display_data"
    },
    {
     "data": {
      "text/html": [
       " View run <strong style=\"color:#cdcd00\">LIPO attention 5-64</strong> at: <a href='https://wandb.ai/cus-tibor-none/ToxicML/runs/dgue9iez' target=\"_blank\">https://wandb.ai/cus-tibor-none/ToxicML/runs/dgue9iez</a><br/> View project at: <a href='https://wandb.ai/cus-tibor-none/ToxicML' target=\"_blank\">https://wandb.ai/cus-tibor-none/ToxicML</a><br/>Synced 5 W&B file(s), 0 media file(s), 8 artifact file(s) and 4 other file(s)"
      ],
      "text/plain": [
       "<IPython.core.display.HTML object>"
      ]
     },
     "metadata": {},
     "output_type": "display_data"
    },
    {
     "data": {
      "text/html": [
       "Find logs at: <code>./wandb/run-20241207_134749-dgue9iez/logs</code>"
      ],
      "text/plain": [
       "<IPython.core.display.HTML object>"
      ]
     },
     "metadata": {},
     "output_type": "display_data"
    }
   ],
   "source": [
    "from MLmodels.attention import ChemAttentionReg\n",
    "model = ChemAttentionReg(5, 9, 64, 1)\n",
    "optimizer = torch.optim.Adam(model.parameters())\n",
    "lr_scheduler = torch.optim.lr_scheduler.ExponentialLR(optimizer, gamma = 0.09)\n",
    "loss_fn = torch.nn.MSELoss()\n",
    "device = torch.device('cuda' if torch.cuda.is_available() else 'cpu')\n",
    "trainer = GenericRegressionTrainer(\n",
    "    model,\n",
    "    optimizer,\n",
    "    loss_fn,\n",
    "    lr_scheduler,\n",
    "    train_metrics,\n",
    "    validation_metrics,\n",
    "    train,\n",
    "    validation,\n",
    "    test,\n",
    "    device,\n",
    "    None,\n",
    "    EPOCHS,\n",
    "    None,\n",
    "    32\n",
    ")\n",
    "\n",
    "trainer.train(\"LIPO attention 5-64\")"
   ]
  },
  {
   "cell_type": "code",
   "execution_count": null,
   "metadata": {},
   "outputs": [],
   "source": []
  },
  {
   "cell_type": "code",
   "execution_count": null,
   "metadata": {},
   "outputs": [],
   "source": []
  }
 ],
 "metadata": {
  "kernelspec": {
   "display_name": ".venv",
   "language": "python",
   "name": "python3"
  },
  "language_info": {
   "codemirror_mode": {
    "name": "ipython",
    "version": 3
   },
   "file_extension": ".py",
   "mimetype": "text/x-python",
   "name": "python",
   "nbconvert_exporter": "python",
   "pygments_lexer": "ipython3",
   "version": "3.12.7"
  }
 },
 "nbformat": 4,
 "nbformat_minor": 2
}
