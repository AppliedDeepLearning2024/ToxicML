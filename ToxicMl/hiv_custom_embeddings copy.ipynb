{
 "cells": [
  {
   "cell_type": "code",
   "execution_count": 10,
   "metadata": {},
   "outputs": [],
   "source": [
    "from ToxicMl.trainer import GenericClassificationTrainer\n",
    "from ToxicMl.metrics import Accuracy, F1, Recall, Precision\n",
    "from ToxicMl.dataset import HivDataset\n",
    "\n",
    "import torch\n",
    "from torch_geometric.loader import ImbalancedSampler\n",
    "\n",
    "from pathlib import Path\n",
    "\n",
    "root = Path(\"dataset/ogbg_molhiv_custom\")\n",
    "EPOCHS = 8"
   ]
  },
  {
   "cell_type": "code",
   "execution_count": 11,
   "metadata": {},
   "outputs": [],
   "source": [
    "dataset = HivDataset(root)\n",
    "split_idx = dataset.get_idx_split() \n",
    "train = dataset[split_idx[\"train\"]]\n",
    "validation = dataset[split_idx[\"valid\"]]\n",
    "test = dataset[split_idx[\"test\"]]\n",
    "\n",
    "train_metrics = [F1(), Accuracy(), Recall(), Precision()]\n",
    "validation_metrics = [F1(), Accuracy(), Recall(), Precision()]"
   ]
  },
  {
   "cell_type": "code",
   "execution_count": 12,
   "metadata": {},
   "outputs": [
    {
     "name": "stderr",
     "output_type": "stream",
     "text": [
      "/home/tibor/Documents/msc-datascience/2024w/Toxic/ToxicML/.venv/lib/python3.12/site-packages/torch_geometric/deprecation.py:26: UserWarning: 'data.DataLoader' is deprecated, use 'loader.DataLoader' instead\n",
      "  warnings.warn(out)\n",
      "\u001b[34m\u001b[1mwandb\u001b[0m: Using wandb-core as the SDK backend.  Please refer to https://wandb.me/wandb-core for more information.\n",
      "\u001b[34m\u001b[1mwandb\u001b[0m: Currently logged in as: \u001b[33mcus-tibor\u001b[0m (\u001b[33mcus-tibor-none\u001b[0m). Use \u001b[1m`wandb login --relogin`\u001b[0m to force relogin\n"
     ]
    },
    {
     "data": {
      "text/html": [
       "Tracking run with wandb version 0.18.7"
      ],
      "text/plain": [
       "<IPython.core.display.HTML object>"
      ]
     },
     "metadata": {},
     "output_type": "display_data"
    },
    {
     "data": {
      "text/html": [
       "Run data is saved locally in <code>/home/tibor/Documents/msc-datascience/2024w/Toxic/ToxicML/ToxicMl/wandb/run-20241208_131945-mty0fgwi</code>"
      ],
      "text/plain": [
       "<IPython.core.display.HTML object>"
      ]
     },
     "metadata": {},
     "output_type": "display_data"
    },
    {
     "data": {
      "text/html": [
       "Syncing run <strong><a href='https://wandb.ai/cus-tibor-none/ToxicML/runs/mty0fgwi' target=\"_blank\">HIV ChemAttention 3-16, sampling, custom dataset</a></strong> to <a href='https://wandb.ai/cus-tibor-none/ToxicML' target=\"_blank\">Weights & Biases</a> (<a href='https://wandb.me/developer-guide' target=\"_blank\">docs</a>)<br/>"
      ],
      "text/plain": [
       "<IPython.core.display.HTML object>"
      ]
     },
     "metadata": {},
     "output_type": "display_data"
    },
    {
     "data": {
      "text/html": [
       " View project at <a href='https://wandb.ai/cus-tibor-none/ToxicML' target=\"_blank\">https://wandb.ai/cus-tibor-none/ToxicML</a>"
      ],
      "text/plain": [
       "<IPython.core.display.HTML object>"
      ]
     },
     "metadata": {},
     "output_type": "display_data"
    },
    {
     "data": {
      "text/html": [
       " View run at <a href='https://wandb.ai/cus-tibor-none/ToxicML/runs/mty0fgwi' target=\"_blank\">https://wandb.ai/cus-tibor-none/ToxicML/runs/mty0fgwi</a>"
      ],
      "text/plain": [
       "<IPython.core.display.HTML object>"
      ]
     },
     "metadata": {},
     "output_type": "display_data"
    },
    {
     "name": "stderr",
     "output_type": "stream",
     "text": [
      "train epoch: 100%|██████████| 1029/1029.0 [00:16<00:00, 61.88it/s]\n",
      "val epoch: 100%|██████████| 129/129.0 [00:01<00:00, 85.51it/s]\n",
      "train epoch: 100%|██████████| 1029/1029.0 [00:16<00:00, 64.16it/s]\n",
      "val epoch: 100%|██████████| 129/129.0 [00:01<00:00, 112.81it/s]\n",
      "train epoch: 100%|██████████| 1029/1029.0 [00:17<00:00, 60.25it/s]\n",
      "val epoch: 100%|██████████| 129/129.0 [00:01<00:00, 108.80it/s]\n",
      "train epoch: 100%|██████████| 1029/1029.0 [00:16<00:00, 62.92it/s]\n",
      "val epoch: 100%|██████████| 129/129.0 [00:01<00:00, 105.00it/s]\n",
      "train epoch: 100%|██████████| 1029/1029.0 [00:15<00:00, 65.27it/s]\n",
      "val epoch: 100%|██████████| 129/129.0 [00:00<00:00, 134.68it/s]\n",
      "train epoch: 100%|██████████| 1029/1029.0 [00:16<00:00, 62.82it/s]\n",
      "val epoch: 100%|██████████| 129/129.0 [00:01<00:00, 122.06it/s]\n",
      "train epoch: 100%|██████████| 1029/1029.0 [00:15<00:00, 66.59it/s]\n",
      "val epoch: 100%|██████████| 129/129.0 [00:01<00:00, 123.31it/s]\n",
      "train epoch: 100%|██████████| 1029/1029.0 [00:15<00:00, 65.64it/s]\n",
      "val epoch: 100%|██████████| 129/129.0 [00:01<00:00, 127.66it/s]\n"
     ]
    },
    {
     "data": {
      "text/html": [
       "\n",
       "    <style>\n",
       "        .wandb-row {\n",
       "            display: flex;\n",
       "            flex-direction: row;\n",
       "            flex-wrap: wrap;\n",
       "            justify-content: flex-start;\n",
       "            width: 100%;\n",
       "        }\n",
       "        .wandb-col {\n",
       "            display: flex;\n",
       "            flex-direction: column;\n",
       "            flex-basis: 100%;\n",
       "            flex: 1;\n",
       "            padding: 10px;\n",
       "        }\n",
       "    </style>\n",
       "<div class=\"wandb-row\"><div class=\"wandb-col\"><h3>Run history:</h3><br/><table class=\"wandb\"><tr><td>train/Accuracy</td><td>▁▇██▇███</td></tr><tr><td>train/F1</td><td>▁▆█▇▇▇▇▇</td></tr><tr><td>train/Precision</td><td>▁▄█▇▇▇▇▇</td></tr><tr><td>train/Recall</td><td>▁███▇▇▇█</td></tr><tr><td>train/loss</td><td>█▁▆▅▆▆█▃</td></tr><tr><td>validation/Accuracy</td><td>▄▃▄▅█▁▆▇</td></tr><tr><td>validation/F1</td><td>▁█▄▅▇▇▅▇</td></tr><tr><td>validation/Precision</td><td>▁█▄▄▄█▄▄</td></tr><tr><td>validation/Recall</td><td>▁█▄▅▇▇▅▇</td></tr><tr><td>validation/loss</td><td>▆█▅▄▁▄▁▁</td></tr></table><br/></div><div class=\"wandb-col\"><h3>Run summary:</h3><br/><table class=\"wandb\"><tr><td>train/Accuracy</td><td>0.6482</td></tr><tr><td>train/F1</td><td>0.61996</td></tr><tr><td>train/Precision</td><td>0.57423</td></tr><tr><td>train/Recall</td><td>0.67361</td></tr><tr><td>train/loss</td><td>0.44291</td></tr><tr><td>validation/Accuracy</td><td>0.769</td></tr><tr><td>validation/F1</td><td>0.07946</td></tr><tr><td>validation/Precision</td><td>0.50617</td></tr><tr><td>validation/Recall</td><td>0.04311</td></tr><tr><td>validation/loss</td><td>0.54199</td></tr></table><br/></div></div>"
      ],
      "text/plain": [
       "<IPython.core.display.HTML object>"
      ]
     },
     "metadata": {},
     "output_type": "display_data"
    },
    {
     "data": {
      "text/html": [
       " View run <strong style=\"color:#cdcd00\">HIV ChemAttention 3-16, sampling, custom dataset</strong> at: <a href='https://wandb.ai/cus-tibor-none/ToxicML/runs/mty0fgwi' target=\"_blank\">https://wandb.ai/cus-tibor-none/ToxicML/runs/mty0fgwi</a><br/> View project at: <a href='https://wandb.ai/cus-tibor-none/ToxicML' target=\"_blank\">https://wandb.ai/cus-tibor-none/ToxicML</a><br/>Synced 4 W&B file(s), 0 media file(s), 5 artifact file(s) and 1 other file(s)"
      ],
      "text/plain": [
       "<IPython.core.display.HTML object>"
      ]
     },
     "metadata": {},
     "output_type": "display_data"
    },
    {
     "data": {
      "text/html": [
       "Find logs at: <code>./wandb/run-20241208_131945-mty0fgwi/logs</code>"
      ],
      "text/plain": [
       "<IPython.core.display.HTML object>"
      ]
     },
     "metadata": {},
     "output_type": "display_data"
    }
   ],
   "source": [
    "from ToxicMl.MLmodels.attention import ChemAttention\n",
    "model = ChemAttention(3, 133, 16, 2)\n",
    "optimizer = torch.optim.Adam(model.parameters())\n",
    "lr_scheduler = torch.optim.lr_scheduler.ExponentialLR(optimizer, gamma = 0.09)\n",
    "loss_fn = torch.nn.CrossEntropyLoss()\n",
    "sampler = ImbalancedSampler(train) \n",
    "device = torch.device('cuda' if torch.cuda.is_available() else 'cpu')\n",
    "\n",
    "trainer = GenericClassificationTrainer(\n",
    "    model,\n",
    "    optimizer,\n",
    "    loss_fn,\n",
    "    lr_scheduler,\n",
    "    train_metrics,\n",
    "    validation_metrics,\n",
    "    train,\n",
    "    validation,\n",
    "    test,\n",
    "    device,\n",
    "    sampler,\n",
    "    EPOCHS,\n",
    "    None,\n",
    "    32\n",
    ")\n",
    "\n",
    "trainer.train(\"HIV ChemAttention 3-16, sampling, custom dataset\")"
   ]
  },
  {
   "cell_type": "code",
   "execution_count": 13,
   "metadata": {},
   "outputs": [
    {
     "name": "stderr",
     "output_type": "stream",
     "text": [
      "/home/tibor/Documents/msc-datascience/2024w/Toxic/ToxicML/.venv/lib/python3.12/site-packages/torch_geometric/deprecation.py:26: UserWarning: 'data.DataLoader' is deprecated, use 'loader.DataLoader' instead\n",
      "  warnings.warn(out)\n"
     ]
    },
    {
     "data": {
      "text/html": [
       "Tracking run with wandb version 0.18.7"
      ],
      "text/plain": [
       "<IPython.core.display.HTML object>"
      ]
     },
     "metadata": {},
     "output_type": "display_data"
    },
    {
     "data": {
      "text/html": [
       "Run data is saved locally in <code>/home/tibor/Documents/msc-datascience/2024w/Toxic/ToxicML/ToxicMl/wandb/run-20241208_132214-tyx7tend</code>"
      ],
      "text/plain": [
       "<IPython.core.display.HTML object>"
      ]
     },
     "metadata": {},
     "output_type": "display_data"
    },
    {
     "data": {
      "text/html": [
       "Syncing run <strong><a href='https://wandb.ai/cus-tibor-none/ToxicML/runs/tyx7tend' target=\"_blank\">HIV ChemAttention 3-32, sampling, custom dataset</a></strong> to <a href='https://wandb.ai/cus-tibor-none/ToxicML' target=\"_blank\">Weights & Biases</a> (<a href='https://wandb.me/developer-guide' target=\"_blank\">docs</a>)<br/>"
      ],
      "text/plain": [
       "<IPython.core.display.HTML object>"
      ]
     },
     "metadata": {},
     "output_type": "display_data"
    },
    {
     "data": {
      "text/html": [
       " View project at <a href='https://wandb.ai/cus-tibor-none/ToxicML' target=\"_blank\">https://wandb.ai/cus-tibor-none/ToxicML</a>"
      ],
      "text/plain": [
       "<IPython.core.display.HTML object>"
      ]
     },
     "metadata": {},
     "output_type": "display_data"
    },
    {
     "data": {
      "text/html": [
       " View run at <a href='https://wandb.ai/cus-tibor-none/ToxicML/runs/tyx7tend' target=\"_blank\">https://wandb.ai/cus-tibor-none/ToxicML/runs/tyx7tend</a>"
      ],
      "text/plain": [
       "<IPython.core.display.HTML object>"
      ]
     },
     "metadata": {},
     "output_type": "display_data"
    },
    {
     "name": "stderr",
     "output_type": "stream",
     "text": [
      "train epoch: 100%|██████████| 1029/1029.0 [00:16<00:00, 63.42it/s]\n",
      "val epoch: 100%|██████████| 129/129.0 [00:01<00:00, 124.90it/s]\n",
      "train epoch: 100%|██████████| 1029/1029.0 [00:16<00:00, 62.19it/s]\n",
      "val epoch: 100%|██████████| 129/129.0 [00:01<00:00, 113.24it/s]\n",
      "train epoch: 100%|██████████| 1029/1029.0 [00:17<00:00, 58.85it/s]\n",
      "val epoch: 100%|██████████| 129/129.0 [00:01<00:00, 113.38it/s]\n",
      "train epoch: 100%|██████████| 1029/1029.0 [00:15<00:00, 64.67it/s]\n",
      "val epoch: 100%|██████████| 129/129.0 [00:01<00:00, 114.78it/s]\n",
      "train epoch: 100%|██████████| 1029/1029.0 [00:15<00:00, 64.95it/s]\n",
      "val epoch: 100%|██████████| 129/129.0 [00:00<00:00, 131.30it/s]\n",
      "train epoch: 100%|██████████| 1029/1029.0 [00:15<00:00, 67.46it/s]\n",
      "val epoch: 100%|██████████| 129/129.0 [00:00<00:00, 132.36it/s]\n",
      "train epoch: 100%|██████████| 1029/1029.0 [00:15<00:00, 66.40it/s]\n",
      "val epoch: 100%|██████████| 129/129.0 [00:01<00:00, 118.95it/s]\n",
      "train epoch: 100%|██████████| 1029/1029.0 [00:16<00:00, 63.06it/s]\n",
      "val epoch: 100%|██████████| 129/129.0 [00:01<00:00, 117.16it/s]\n"
     ]
    },
    {
     "data": {
      "text/html": [
       "\n",
       "    <style>\n",
       "        .wandb-row {\n",
       "            display: flex;\n",
       "            flex-direction: row;\n",
       "            flex-wrap: wrap;\n",
       "            justify-content: flex-start;\n",
       "            width: 100%;\n",
       "        }\n",
       "        .wandb-col {\n",
       "            display: flex;\n",
       "            flex-direction: column;\n",
       "            flex-basis: 100%;\n",
       "            flex: 1;\n",
       "            padding: 10px;\n",
       "        }\n",
       "    </style>\n",
       "<div class=\"wandb-row\"><div class=\"wandb-col\"><h3>Run history:</h3><br/><table class=\"wandb\"><tr><td>train/Accuracy</td><td>▁▇█▇██▇█</td></tr><tr><td>train/F1</td><td>▁▇█▆▇███</td></tr><tr><td>train/Precision</td><td>▁▇█▁▇█▆▆</td></tr><tr><td>train/Recall</td><td>▁▇█▇████</td></tr><tr><td>train/loss</td><td>▅▁▆▄█▅▅▂</td></tr><tr><td>validation/Accuracy</td><td>█▄▁▄▄▆▆▅</td></tr><tr><td>validation/F1</td><td>█▆▆▄▁▇█▅</td></tr><tr><td>validation/Precision</td><td>▄▅█▄▁▅▅▃</td></tr><tr><td>validation/Recall</td><td>█▆▆▄▁▇█▅</td></tr><tr><td>validation/loss</td><td>▃█▄▅▅▁▁▃</td></tr></table><br/></div><div class=\"wandb-col\"><h3>Run summary:</h3><br/><table class=\"wandb\"><tr><td>train/Accuracy</td><td>0.6617</td></tr><tr><td>train/F1</td><td>0.6455</td></tr><tr><td>train/Precision</td><td>0.61142</td></tr><tr><td>train/Recall</td><td>0.6836</td></tr><tr><td>train/loss</td><td>0.48017</td></tr><tr><td>validation/Accuracy</td><td>0.7459</td></tr><tr><td>validation/F1</td><td>0.06446</td></tr><tr><td>validation/Precision</td><td>0.44444</td></tr><tr><td>validation/Recall</td><td>0.03475</td></tr><tr><td>validation/loss</td><td>0.55974</td></tr></table><br/></div></div>"
      ],
      "text/plain": [
       "<IPython.core.display.HTML object>"
      ]
     },
     "metadata": {},
     "output_type": "display_data"
    },
    {
     "data": {
      "text/html": [
       " View run <strong style=\"color:#cdcd00\">HIV ChemAttention 3-32, sampling, custom dataset</strong> at: <a href='https://wandb.ai/cus-tibor-none/ToxicML/runs/tyx7tend' target=\"_blank\">https://wandb.ai/cus-tibor-none/ToxicML/runs/tyx7tend</a><br/> View project at: <a href='https://wandb.ai/cus-tibor-none/ToxicML' target=\"_blank\">https://wandb.ai/cus-tibor-none/ToxicML</a><br/>Synced 5 W&B file(s), 0 media file(s), 2 artifact file(s) and 1 other file(s)"
      ],
      "text/plain": [
       "<IPython.core.display.HTML object>"
      ]
     },
     "metadata": {},
     "output_type": "display_data"
    },
    {
     "data": {
      "text/html": [
       "Find logs at: <code>./wandb/run-20241208_132214-tyx7tend/logs</code>"
      ],
      "text/plain": [
       "<IPython.core.display.HTML object>"
      ]
     },
     "metadata": {},
     "output_type": "display_data"
    }
   ],
   "source": [
    "from ToxicMl.MLmodels.attention import ChemAttention\n",
    "model = ChemAttention(3, 133, 32, 2)\n",
    "optimizer = torch.optim.Adam(model.parameters())\n",
    "lr_scheduler = torch.optim.lr_scheduler.ExponentialLR(optimizer, gamma = 0.09)\n",
    "loss_fn = torch.nn.CrossEntropyLoss()\n",
    "sampler = ImbalancedSampler(train) \n",
    "device = torch.device('cuda' if torch.cuda.is_available() else 'cpu')\n",
    "\n",
    "trainer = GenericClassificationTrainer(\n",
    "    model,\n",
    "    optimizer,\n",
    "    loss_fn,\n",
    "    lr_scheduler,\n",
    "    train_metrics,\n",
    "    validation_metrics,\n",
    "    train,\n",
    "    validation,\n",
    "    test,\n",
    "    device,\n",
    "    sampler,\n",
    "    EPOCHS,\n",
    "    None,\n",
    "    32\n",
    ")\n",
    "\n",
    "trainer.train(\"HIV ChemAttention 3-32, sampling, custom dataset\")"
   ]
  },
  {
   "cell_type": "code",
   "execution_count": 14,
   "metadata": {},
   "outputs": [
    {
     "name": "stderr",
     "output_type": "stream",
     "text": [
      "/home/tibor/Documents/msc-datascience/2024w/Toxic/ToxicML/.venv/lib/python3.12/site-packages/torch_geometric/deprecation.py:26: UserWarning: 'data.DataLoader' is deprecated, use 'loader.DataLoader' instead\n",
      "  warnings.warn(out)\n"
     ]
    },
    {
     "data": {
      "text/html": [
       "Tracking run with wandb version 0.18.7"
      ],
      "text/plain": [
       "<IPython.core.display.HTML object>"
      ]
     },
     "metadata": {},
     "output_type": "display_data"
    },
    {
     "data": {
      "text/html": [
       "Run data is saved locally in <code>/home/tibor/Documents/msc-datascience/2024w/Toxic/ToxicML/ToxicMl/wandb/run-20241208_132439-r56kpq6q</code>"
      ],
      "text/plain": [
       "<IPython.core.display.HTML object>"
      ]
     },
     "metadata": {},
     "output_type": "display_data"
    },
    {
     "data": {
      "text/html": [
       "Syncing run <strong><a href='https://wandb.ai/cus-tibor-none/ToxicML/runs/r56kpq6q' target=\"_blank\">HIV ChemAttention 3-64, sampling, custom dataset</a></strong> to <a href='https://wandb.ai/cus-tibor-none/ToxicML' target=\"_blank\">Weights & Biases</a> (<a href='https://wandb.me/developer-guide' target=\"_blank\">docs</a>)<br/>"
      ],
      "text/plain": [
       "<IPython.core.display.HTML object>"
      ]
     },
     "metadata": {},
     "output_type": "display_data"
    },
    {
     "data": {
      "text/html": [
       " View project at <a href='https://wandb.ai/cus-tibor-none/ToxicML' target=\"_blank\">https://wandb.ai/cus-tibor-none/ToxicML</a>"
      ],
      "text/plain": [
       "<IPython.core.display.HTML object>"
      ]
     },
     "metadata": {},
     "output_type": "display_data"
    },
    {
     "data": {
      "text/html": [
       " View run at <a href='https://wandb.ai/cus-tibor-none/ToxicML/runs/r56kpq6q' target=\"_blank\">https://wandb.ai/cus-tibor-none/ToxicML/runs/r56kpq6q</a>"
      ],
      "text/plain": [
       "<IPython.core.display.HTML object>"
      ]
     },
     "metadata": {},
     "output_type": "display_data"
    },
    {
     "name": "stderr",
     "output_type": "stream",
     "text": [
      "train epoch: 100%|██████████| 1029/1029.0 [00:17<00:00, 57.21it/s]\n",
      "val epoch: 100%|██████████| 129/129.0 [00:01<00:00, 110.02it/s]\n",
      "train epoch: 100%|██████████| 1029/1029.0 [00:18<00:00, 54.84it/s]\n",
      "val epoch: 100%|██████████| 129/129.0 [00:00<00:00, 131.91it/s]\n",
      "train epoch: 100%|██████████| 1029/1029.0 [00:18<00:00, 55.59it/s]\n",
      "val epoch: 100%|██████████| 129/129.0 [00:01<00:00, 115.13it/s]\n",
      "train epoch: 100%|██████████| 1029/1029.0 [00:18<00:00, 54.60it/s]\n",
      "val epoch: 100%|██████████| 129/129.0 [00:01<00:00, 113.81it/s]\n",
      "train epoch: 100%|██████████| 1029/1029.0 [00:18<00:00, 54.60it/s]\n",
      "val epoch: 100%|██████████| 129/129.0 [00:01<00:00, 114.79it/s]\n",
      "train epoch: 100%|██████████| 1029/1029.0 [00:19<00:00, 53.78it/s]\n",
      "val epoch: 100%|██████████| 129/129.0 [00:01<00:00, 116.90it/s]\n",
      "train epoch: 100%|██████████| 1029/1029.0 [00:18<00:00, 55.30it/s]\n",
      "val epoch: 100%|██████████| 129/129.0 [00:01<00:00, 114.56it/s]\n",
      "train epoch: 100%|██████████| 1029/1029.0 [00:18<00:00, 55.70it/s]\n",
      "val epoch: 100%|██████████| 129/129.0 [00:01<00:00, 114.88it/s]\n"
     ]
    },
    {
     "data": {
      "text/html": [
       "\n",
       "    <style>\n",
       "        .wandb-row {\n",
       "            display: flex;\n",
       "            flex-direction: row;\n",
       "            flex-wrap: wrap;\n",
       "            justify-content: flex-start;\n",
       "            width: 100%;\n",
       "        }\n",
       "        .wandb-col {\n",
       "            display: flex;\n",
       "            flex-direction: column;\n",
       "            flex-basis: 100%;\n",
       "            flex: 1;\n",
       "            padding: 10px;\n",
       "        }\n",
       "    </style>\n",
       "<div class=\"wandb-row\"><div class=\"wandb-col\"><h3>Run history:</h3><br/><table class=\"wandb\"><tr><td>train/Accuracy</td><td>▁▅▄▅██▁█</td></tr><tr><td>train/F1</td><td>▁▁▁▁▁▁▁▁</td></tr><tr><td>train/Precision</td><td>▁▁▁▁▁▁▁▁</td></tr><tr><td>train/Recall</td><td>▁▁▁▁▁▁▁▁</td></tr><tr><td>train/loss</td><td>▃▁▂▃█▃▃▄</td></tr><tr><td>validation/Accuracy</td><td>▁▁▁▁▁▁▁▁</td></tr><tr><td>validation/F1</td><td>▁▁▁▁▁▁▁▁</td></tr><tr><td>validation/Precision</td><td>▁▁▁▁▁▁▁▁</td></tr><tr><td>validation/Recall</td><td>▁▁▁▁▁▁▁▁</td></tr><tr><td>validation/loss</td><td>▅▆▃█▇▁▆▆</td></tr></table><br/></div><div class=\"wandb-col\"><h3>Run summary:</h3><br/><table class=\"wandb\"><tr><td>train/Accuracy</td><td>0.5015</td></tr><tr><td>train/F1</td><td>0</td></tr><tr><td>train/Precision</td><td>0</td></tr><tr><td>train/Recall</td><td>0</td></tr><tr><td>train/loss</td><td>0.70357</td></tr><tr><td>validation/Accuracy</td><td>0.9803</td></tr><tr><td>validation/F1</td><td>0</td></tr><tr><td>validation/Precision</td><td>0</td></tr><tr><td>validation/Recall</td><td>0</td></tr><tr><td>validation/loss</td><td>0.53662</td></tr></table><br/></div></div>"
      ],
      "text/plain": [
       "<IPython.core.display.HTML object>"
      ]
     },
     "metadata": {},
     "output_type": "display_data"
    },
    {
     "data": {
      "text/html": [
       " View run <strong style=\"color:#cdcd00\">HIV ChemAttention 3-64, sampling, custom dataset</strong> at: <a href='https://wandb.ai/cus-tibor-none/ToxicML/runs/r56kpq6q' target=\"_blank\">https://wandb.ai/cus-tibor-none/ToxicML/runs/r56kpq6q</a><br/> View project at: <a href='https://wandb.ai/cus-tibor-none/ToxicML' target=\"_blank\">https://wandb.ai/cus-tibor-none/ToxicML</a><br/>Synced 5 W&B file(s), 0 media file(s), 2 artifact file(s) and 1 other file(s)"
      ],
      "text/plain": [
       "<IPython.core.display.HTML object>"
      ]
     },
     "metadata": {},
     "output_type": "display_data"
    },
    {
     "data": {
      "text/html": [
       "Find logs at: <code>./wandb/run-20241208_132439-r56kpq6q/logs</code>"
      ],
      "text/plain": [
       "<IPython.core.display.HTML object>"
      ]
     },
     "metadata": {},
     "output_type": "display_data"
    }
   ],
   "source": [
    "from ToxicMl.MLmodels.attention import ChemAttention\n",
    "model = ChemAttention(3, 133, 64, 2)\n",
    "optimizer = torch.optim.Adam(model.parameters())\n",
    "lr_scheduler = torch.optim.lr_scheduler.ExponentialLR(optimizer, gamma = 0.09)\n",
    "loss_fn = torch.nn.CrossEntropyLoss()\n",
    "sampler = ImbalancedSampler(train) \n",
    "device = torch.device('cuda' if torch.cuda.is_available() else 'cpu')\n",
    "\n",
    "trainer = GenericClassificationTrainer(\n",
    "    model,\n",
    "    optimizer,\n",
    "    loss_fn,\n",
    "    lr_scheduler,\n",
    "    train_metrics,\n",
    "    validation_metrics,\n",
    "    train,\n",
    "    validation,\n",
    "    test,\n",
    "    device,\n",
    "    sampler,\n",
    "    EPOCHS,\n",
    "    None,\n",
    "    32\n",
    ")\n",
    "\n",
    "trainer.train(\"HIV ChemAttention 3-64, sampling, custom dataset\")"
   ]
  },
  {
   "cell_type": "code",
   "execution_count": 15,
   "metadata": {},
   "outputs": [
    {
     "name": "stderr",
     "output_type": "stream",
     "text": [
      "/home/tibor/Documents/msc-datascience/2024w/Toxic/ToxicML/.venv/lib/python3.12/site-packages/torch_geometric/deprecation.py:26: UserWarning: 'data.DataLoader' is deprecated, use 'loader.DataLoader' instead\n",
      "  warnings.warn(out)\n"
     ]
    },
    {
     "data": {
      "text/html": [
       "Tracking run with wandb version 0.18.7"
      ],
      "text/plain": [
       "<IPython.core.display.HTML object>"
      ]
     },
     "metadata": {},
     "output_type": "display_data"
    },
    {
     "data": {
      "text/html": [
       "Run data is saved locally in <code>/home/tibor/Documents/msc-datascience/2024w/Toxic/ToxicML/ToxicMl/wandb/run-20241208_132726-00md8pm5</code>"
      ],
      "text/plain": [
       "<IPython.core.display.HTML object>"
      ]
     },
     "metadata": {},
     "output_type": "display_data"
    },
    {
     "data": {
      "text/html": [
       "Syncing run <strong><a href='https://wandb.ai/cus-tibor-none/ToxicML/runs/00md8pm5' target=\"_blank\">HIV ChemAttention 3-128, sampling, custom dataset</a></strong> to <a href='https://wandb.ai/cus-tibor-none/ToxicML' target=\"_blank\">Weights & Biases</a> (<a href='https://wandb.me/developer-guide' target=\"_blank\">docs</a>)<br/>"
      ],
      "text/plain": [
       "<IPython.core.display.HTML object>"
      ]
     },
     "metadata": {},
     "output_type": "display_data"
    },
    {
     "data": {
      "text/html": [
       " View project at <a href='https://wandb.ai/cus-tibor-none/ToxicML' target=\"_blank\">https://wandb.ai/cus-tibor-none/ToxicML</a>"
      ],
      "text/plain": [
       "<IPython.core.display.HTML object>"
      ]
     },
     "metadata": {},
     "output_type": "display_data"
    },
    {
     "data": {
      "text/html": [
       " View run at <a href='https://wandb.ai/cus-tibor-none/ToxicML/runs/00md8pm5' target=\"_blank\">https://wandb.ai/cus-tibor-none/ToxicML/runs/00md8pm5</a>"
      ],
      "text/plain": [
       "<IPython.core.display.HTML object>"
      ]
     },
     "metadata": {},
     "output_type": "display_data"
    },
    {
     "name": "stderr",
     "output_type": "stream",
     "text": [
      "train epoch: 100%|██████████| 1029/1029.0 [00:23<00:00, 42.89it/s]\n",
      "val epoch: 100%|██████████| 129/129.0 [00:01<00:00, 112.76it/s]\n",
      "train epoch: 100%|██████████| 1029/1029.0 [00:25<00:00, 40.45it/s]\n",
      "val epoch: 100%|██████████| 129/129.0 [00:01<00:00, 91.69it/s]\n",
      "train epoch: 100%|██████████| 1029/1029.0 [00:26<00:00, 38.80it/s]\n",
      "val epoch: 100%|██████████| 129/129.0 [00:01<00:00, 93.13it/s]\n",
      "train epoch: 100%|██████████| 1029/1029.0 [00:25<00:00, 39.68it/s]\n",
      "val epoch: 100%|██████████| 129/129.0 [00:01<00:00, 93.81it/s]\n",
      "train epoch: 100%|██████████| 1029/1029.0 [00:27<00:00, 38.09it/s]\n",
      "val epoch: 100%|██████████| 129/129.0 [00:01<00:00, 95.52it/s]\n",
      "train epoch: 100%|██████████| 1029/1029.0 [00:26<00:00, 38.73it/s]\n",
      "val epoch: 100%|██████████| 129/129.0 [00:01<00:00, 86.28it/s]\n",
      "train epoch: 100%|██████████| 1029/1029.0 [00:26<00:00, 38.52it/s]\n",
      "val epoch: 100%|██████████| 129/129.0 [00:01<00:00, 105.94it/s]\n",
      "train epoch: 100%|██████████| 1029/1029.0 [00:26<00:00, 38.96it/s]\n",
      "val epoch: 100%|██████████| 129/129.0 [00:01<00:00, 85.64it/s]\n"
     ]
    },
    {
     "data": {
      "text/html": [
       "\n",
       "    <style>\n",
       "        .wandb-row {\n",
       "            display: flex;\n",
       "            flex-direction: row;\n",
       "            flex-wrap: wrap;\n",
       "            justify-content: flex-start;\n",
       "            width: 100%;\n",
       "        }\n",
       "        .wandb-col {\n",
       "            display: flex;\n",
       "            flex-direction: column;\n",
       "            flex-basis: 100%;\n",
       "            flex: 1;\n",
       "            padding: 10px;\n",
       "        }\n",
       "    </style>\n",
       "<div class=\"wandb-row\"><div class=\"wandb-col\"><h3>Run history:</h3><br/><table class=\"wandb\"><tr><td>train/Accuracy</td><td>▁▆▇█▇█▇▇</td></tr><tr><td>train/F1</td><td>▁▆██▇█▇▇</td></tr><tr><td>train/Precision</td><td>▁▅█▇▆▇▇▇</td></tr><tr><td>train/Recall</td><td>▁▇▇▇▇█▇▇</td></tr><tr><td>train/loss</td><td>█▄▅▇█▂▁▃</td></tr><tr><td>validation/Accuracy</td><td>█▁▇▄▂▂▁▃</td></tr><tr><td>validation/F1</td><td>▇▅█▃▄▂▁▅</td></tr><tr><td>validation/Precision</td><td>▁█▃▃▆▃▃▅</td></tr><tr><td>validation/Recall</td><td>█▅█▃▄▂▁▄</td></tr><tr><td>validation/loss</td><td>▃▄▆█▄▅▁▅</td></tr></table><br/></div><div class=\"wandb-col\"><h3>Run summary:</h3><br/><table class=\"wandb\"><tr><td>train/Accuracy</td><td>0.6999</td></tr><tr><td>train/F1</td><td>0.68427</td></tr><tr><td>train/Precision</td><td>0.65435</td></tr><tr><td>train/Recall</td><td>0.71706</td></tr><tr><td>train/loss</td><td>0.53793</td></tr><tr><td>validation/Accuracy</td><td>0.7676</td></tr><tr><td>validation/F1</td><td>0.09298</td></tr><tr><td>validation/Precision</td><td>0.60494</td></tr><tr><td>validation/Recall</td><td>0.05036</td></tr><tr><td>validation/loss</td><td>0.56004</td></tr></table><br/></div></div>"
      ],
      "text/plain": [
       "<IPython.core.display.HTML object>"
      ]
     },
     "metadata": {},
     "output_type": "display_data"
    },
    {
     "data": {
      "text/html": [
       " View run <strong style=\"color:#cdcd00\">HIV ChemAttention 3-128, sampling, custom dataset</strong> at: <a href='https://wandb.ai/cus-tibor-none/ToxicML/runs/00md8pm5' target=\"_blank\">https://wandb.ai/cus-tibor-none/ToxicML/runs/00md8pm5</a><br/> View project at: <a href='https://wandb.ai/cus-tibor-none/ToxicML' target=\"_blank\">https://wandb.ai/cus-tibor-none/ToxicML</a><br/>Synced 5 W&B file(s), 0 media file(s), 2 artifact file(s) and 1 other file(s)"
      ],
      "text/plain": [
       "<IPython.core.display.HTML object>"
      ]
     },
     "metadata": {},
     "output_type": "display_data"
    },
    {
     "data": {
      "text/html": [
       "Find logs at: <code>./wandb/run-20241208_132726-00md8pm5/logs</code>"
      ],
      "text/plain": [
       "<IPython.core.display.HTML object>"
      ]
     },
     "metadata": {},
     "output_type": "display_data"
    }
   ],
   "source": [
    "from ToxicMl.MLmodels.attention import ChemAttention\n",
    "model = ChemAttention(3, 133, 128, 2)\n",
    "optimizer = torch.optim.Adam(model.parameters())\n",
    "lr_scheduler = torch.optim.lr_scheduler.ExponentialLR(optimizer, gamma = 0.09)\n",
    "loss_fn = torch.nn.CrossEntropyLoss()\n",
    "sampler = ImbalancedSampler(train) \n",
    "device = torch.device('cuda' if torch.cuda.is_available() else 'cpu')\n",
    "\n",
    "trainer = GenericClassificationTrainer(\n",
    "    model,\n",
    "    optimizer,\n",
    "    loss_fn,\n",
    "    lr_scheduler,\n",
    "    train_metrics,\n",
    "    validation_metrics,\n",
    "    train,\n",
    "    validation,\n",
    "    test,\n",
    "    device,\n",
    "    sampler,\n",
    "    EPOCHS,\n",
    "    None,\n",
    "    32\n",
    ")\n",
    "\n",
    "trainer.train(\"HIV ChemAttention 3-128, sampling, custom dataset\")"
   ]
  },
  {
   "cell_type": "code",
   "execution_count": 16,
   "metadata": {},
   "outputs": [
    {
     "name": "stderr",
     "output_type": "stream",
     "text": [
      "/home/tibor/Documents/msc-datascience/2024w/Toxic/ToxicML/.venv/lib/python3.12/site-packages/torch_geometric/deprecation.py:26: UserWarning: 'data.DataLoader' is deprecated, use 'loader.DataLoader' instead\n",
      "  warnings.warn(out)\n"
     ]
    },
    {
     "data": {
      "text/html": [
       "Tracking run with wandb version 0.18.7"
      ],
      "text/plain": [
       "<IPython.core.display.HTML object>"
      ]
     },
     "metadata": {},
     "output_type": "display_data"
    },
    {
     "data": {
      "text/html": [
       "Run data is saved locally in <code>/home/tibor/Documents/msc-datascience/2024w/Toxic/ToxicML/ToxicMl/wandb/run-20241208_133114-ndgpf8ky</code>"
      ],
      "text/plain": [
       "<IPython.core.display.HTML object>"
      ]
     },
     "metadata": {},
     "output_type": "display_data"
    },
    {
     "data": {
      "text/html": [
       "Syncing run <strong><a href='https://wandb.ai/cus-tibor-none/ToxicML/runs/ndgpf8ky' target=\"_blank\">HIV ChemAttention 5-16, sampling, custom dataset</a></strong> to <a href='https://wandb.ai/cus-tibor-none/ToxicML' target=\"_blank\">Weights & Biases</a> (<a href='https://wandb.me/developer-guide' target=\"_blank\">docs</a>)<br/>"
      ],
      "text/plain": [
       "<IPython.core.display.HTML object>"
      ]
     },
     "metadata": {},
     "output_type": "display_data"
    },
    {
     "data": {
      "text/html": [
       " View project at <a href='https://wandb.ai/cus-tibor-none/ToxicML' target=\"_blank\">https://wandb.ai/cus-tibor-none/ToxicML</a>"
      ],
      "text/plain": [
       "<IPython.core.display.HTML object>"
      ]
     },
     "metadata": {},
     "output_type": "display_data"
    },
    {
     "data": {
      "text/html": [
       " View run at <a href='https://wandb.ai/cus-tibor-none/ToxicML/runs/ndgpf8ky' target=\"_blank\">https://wandb.ai/cus-tibor-none/ToxicML/runs/ndgpf8ky</a>"
      ],
      "text/plain": [
       "<IPython.core.display.HTML object>"
      ]
     },
     "metadata": {},
     "output_type": "display_data"
    },
    {
     "name": "stderr",
     "output_type": "stream",
     "text": [
      "train epoch: 100%|██████████| 1029/1029.0 [00:23<00:00, 43.52it/s]\n",
      "val epoch: 100%|██████████| 129/129.0 [00:01<00:00, 92.14it/s]\n",
      "train epoch: 100%|██████████| 1029/1029.0 [00:20<00:00, 50.05it/s]\n",
      "val epoch: 100%|██████████| 129/129.0 [00:01<00:00, 99.19it/s] \n",
      "train epoch: 100%|██████████| 1029/1029.0 [00:22<00:00, 46.46it/s]\n",
      "val epoch: 100%|██████████| 129/129.0 [00:01<00:00, 87.43it/s]\n",
      "train epoch: 100%|██████████| 1029/1029.0 [00:21<00:00, 46.93it/s]\n",
      "val epoch: 100%|██████████| 129/129.0 [00:01<00:00, 105.78it/s]\n",
      "train epoch: 100%|██████████| 1029/1029.0 [00:21<00:00, 47.76it/s]\n",
      "val epoch: 100%|██████████| 129/129.0 [00:01<00:00, 97.41it/s]\n",
      "train epoch: 100%|██████████| 1029/1029.0 [00:21<00:00, 48.70it/s]\n",
      "val epoch: 100%|██████████| 129/129.0 [00:01<00:00, 104.53it/s]\n",
      "train epoch: 100%|██████████| 1029/1029.0 [00:21<00:00, 47.64it/s]\n",
      "val epoch: 100%|██████████| 129/129.0 [00:01<00:00, 102.17it/s]\n",
      "train epoch: 100%|██████████| 1029/1029.0 [00:20<00:00, 49.72it/s]\n",
      "val epoch: 100%|██████████| 129/129.0 [00:01<00:00, 96.23it/s]\n"
     ]
    },
    {
     "data": {
      "text/html": [
       "\n",
       "    <style>\n",
       "        .wandb-row {\n",
       "            display: flex;\n",
       "            flex-direction: row;\n",
       "            flex-wrap: wrap;\n",
       "            justify-content: flex-start;\n",
       "            width: 100%;\n",
       "        }\n",
       "        .wandb-col {\n",
       "            display: flex;\n",
       "            flex-direction: column;\n",
       "            flex-basis: 100%;\n",
       "            flex: 1;\n",
       "            padding: 10px;\n",
       "        }\n",
       "    </style>\n",
       "<div class=\"wandb-row\"><div class=\"wandb-col\"><h3>Run history:</h3><br/><table class=\"wandb\"><tr><td>train/Accuracy</td><td>▁█▇█▇▇█▇</td></tr><tr><td>train/F1</td><td>▅█▁█▃▅█▄</td></tr><tr><td>train/Precision</td><td>█▂▁▂▁▁▂▁</td></tr><tr><td>train/Recall</td><td>▁█▇█████</td></tr><tr><td>train/loss</td><td>▁▁█▅▄▆▃▃</td></tr><tr><td>validation/Accuracy</td><td>█▁▃▃▃▃▁▆</td></tr><tr><td>validation/F1</td><td>█▂▄▅▆▁▁█</td></tr><tr><td>validation/Precision</td><td>▅▄▅▆█▁▃█</td></tr><tr><td>validation/Recall</td><td>█▂▄▅▆▁▁█</td></tr><tr><td>validation/loss</td><td>▂▂▂▄▁█▃▄</td></tr></table><br/></div><div class=\"wandb-col\"><h3>Run summary:</h3><br/><table class=\"wandb\"><tr><td>train/Accuracy</td><td>0.6133</td></tr><tr><td>train/F1</td><td>0.5652</td></tr><tr><td>train/Precision</td><td>0.50027</td></tr><tr><td>train/Recall</td><td>0.64949</td></tr><tr><td>train/loss</td><td>0.59884</td></tr><tr><td>validation/Accuracy</td><td>0.8354</td></tr><tr><td>validation/F1</td><td>0.09613</td></tr><tr><td>validation/Precision</td><td>0.44444</td></tr><tr><td>validation/Recall</td><td>0.05389</td></tr><tr><td>validation/loss</td><td>0.62822</td></tr></table><br/></div></div>"
      ],
      "text/plain": [
       "<IPython.core.display.HTML object>"
      ]
     },
     "metadata": {},
     "output_type": "display_data"
    },
    {
     "data": {
      "text/html": [
       " View run <strong style=\"color:#cdcd00\">HIV ChemAttention 5-16, sampling, custom dataset</strong> at: <a href='https://wandb.ai/cus-tibor-none/ToxicML/runs/ndgpf8ky' target=\"_blank\">https://wandb.ai/cus-tibor-none/ToxicML/runs/ndgpf8ky</a><br/> View project at: <a href='https://wandb.ai/cus-tibor-none/ToxicML' target=\"_blank\">https://wandb.ai/cus-tibor-none/ToxicML</a><br/>Synced 5 W&B file(s), 0 media file(s), 2 artifact file(s) and 1 other file(s)"
      ],
      "text/plain": [
       "<IPython.core.display.HTML object>"
      ]
     },
     "metadata": {},
     "output_type": "display_data"
    },
    {
     "data": {
      "text/html": [
       "Find logs at: <code>./wandb/run-20241208_133114-ndgpf8ky/logs</code>"
      ],
      "text/plain": [
       "<IPython.core.display.HTML object>"
      ]
     },
     "metadata": {},
     "output_type": "display_data"
    }
   ],
   "source": [
    "from ToxicMl.MLmodels.attention import ChemAttention\n",
    "model = ChemAttention(5, 133, 16, 2)\n",
    "optimizer = torch.optim.Adam(model.parameters())\n",
    "lr_scheduler = torch.optim.lr_scheduler.ExponentialLR(optimizer, gamma = 0.09)\n",
    "loss_fn = torch.nn.CrossEntropyLoss()\n",
    "sampler = ImbalancedSampler(train) \n",
    "device = torch.device('cuda' if torch.cuda.is_available() else 'cpu')\n",
    "\n",
    "trainer = GenericClassificationTrainer(\n",
    "    model,\n",
    "    optimizer,\n",
    "    loss_fn,\n",
    "    lr_scheduler,\n",
    "    train_metrics,\n",
    "    validation_metrics,\n",
    "    train,\n",
    "    validation,\n",
    "    test,\n",
    "    device,\n",
    "    sampler,\n",
    "    EPOCHS,\n",
    "    None,\n",
    "    32\n",
    ")\n",
    "\n",
    "trainer.train(\"HIV ChemAttention 5-16, sampling, custom dataset\")"
   ]
  },
  {
   "cell_type": "code",
   "execution_count": 17,
   "metadata": {},
   "outputs": [
    {
     "name": "stderr",
     "output_type": "stream",
     "text": [
      "/home/tibor/Documents/msc-datascience/2024w/Toxic/ToxicML/.venv/lib/python3.12/site-packages/torch_geometric/deprecation.py:26: UserWarning: 'data.DataLoader' is deprecated, use 'loader.DataLoader' instead\n",
      "  warnings.warn(out)\n"
     ]
    },
    {
     "data": {
      "text/html": [
       "Tracking run with wandb version 0.18.7"
      ],
      "text/plain": [
       "<IPython.core.display.HTML object>"
      ]
     },
     "metadata": {},
     "output_type": "display_data"
    },
    {
     "data": {
      "text/html": [
       "Run data is saved locally in <code>/home/tibor/Documents/msc-datascience/2024w/Toxic/ToxicML/ToxicMl/wandb/run-20241208_133427-ctsd9m1g</code>"
      ],
      "text/plain": [
       "<IPython.core.display.HTML object>"
      ]
     },
     "metadata": {},
     "output_type": "display_data"
    },
    {
     "data": {
      "text/html": [
       "Syncing run <strong><a href='https://wandb.ai/cus-tibor-none/ToxicML/runs/ctsd9m1g' target=\"_blank\">HIV ChemAttention 5-32, sampling, custom dataset</a></strong> to <a href='https://wandb.ai/cus-tibor-none/ToxicML' target=\"_blank\">Weights & Biases</a> (<a href='https://wandb.me/developer-guide' target=\"_blank\">docs</a>)<br/>"
      ],
      "text/plain": [
       "<IPython.core.display.HTML object>"
      ]
     },
     "metadata": {},
     "output_type": "display_data"
    },
    {
     "data": {
      "text/html": [
       " View project at <a href='https://wandb.ai/cus-tibor-none/ToxicML' target=\"_blank\">https://wandb.ai/cus-tibor-none/ToxicML</a>"
      ],
      "text/plain": [
       "<IPython.core.display.HTML object>"
      ]
     },
     "metadata": {},
     "output_type": "display_data"
    },
    {
     "data": {
      "text/html": [
       " View run at <a href='https://wandb.ai/cus-tibor-none/ToxicML/runs/ctsd9m1g' target=\"_blank\">https://wandb.ai/cus-tibor-none/ToxicML/runs/ctsd9m1g</a>"
      ],
      "text/plain": [
       "<IPython.core.display.HTML object>"
      ]
     },
     "metadata": {},
     "output_type": "display_data"
    },
    {
     "name": "stderr",
     "output_type": "stream",
     "text": [
      "train epoch: 100%|██████████| 1029/1029.0 [00:22<00:00, 46.24it/s]\n",
      "val epoch: 100%|██████████| 129/129.0 [00:01<00:00, 87.33it/s]\n",
      "train epoch: 100%|██████████| 1029/1029.0 [00:22<00:00, 44.97it/s]\n",
      "val epoch: 100%|██████████| 129/129.0 [00:01<00:00, 99.80it/s] \n",
      "train epoch: 100%|██████████| 1029/1029.0 [00:23<00:00, 43.73it/s]\n",
      "val epoch: 100%|██████████| 129/129.0 [00:01<00:00, 99.92it/s] \n",
      "train epoch: 100%|██████████| 1029/1029.0 [00:22<00:00, 46.22it/s]\n",
      "val epoch: 100%|██████████| 129/129.0 [00:01<00:00, 94.43it/s] \n",
      "train epoch: 100%|██████████| 1029/1029.0 [00:21<00:00, 47.44it/s]\n",
      "val epoch: 100%|██████████| 129/129.0 [00:01<00:00, 88.99it/s]\n",
      "train epoch: 100%|██████████| 1029/1029.0 [00:21<00:00, 47.28it/s]\n",
      "val epoch: 100%|██████████| 129/129.0 [00:01<00:00, 110.68it/s]\n",
      "train epoch: 100%|██████████| 1029/1029.0 [00:22<00:00, 45.33it/s]\n",
      "val epoch: 100%|██████████| 129/129.0 [00:01<00:00, 100.75it/s]\n",
      "train epoch: 100%|██████████| 1029/1029.0 [00:23<00:00, 44.69it/s]\n",
      "val epoch: 100%|██████████| 129/129.0 [00:01<00:00, 90.49it/s]\n"
     ]
    },
    {
     "data": {
      "text/html": [
       "\n",
       "    <style>\n",
       "        .wandb-row {\n",
       "            display: flex;\n",
       "            flex-direction: row;\n",
       "            flex-wrap: wrap;\n",
       "            justify-content: flex-start;\n",
       "            width: 100%;\n",
       "        }\n",
       "        .wandb-col {\n",
       "            display: flex;\n",
       "            flex-direction: column;\n",
       "            flex-basis: 100%;\n",
       "            flex: 1;\n",
       "            padding: 10px;\n",
       "        }\n",
       "    </style>\n",
       "<div class=\"wandb-row\"><div class=\"wandb-col\"><h3>Run history:</h3><br/><table class=\"wandb\"><tr><td>train/Accuracy</td><td>▅▃▁▇▃▇█▄</td></tr><tr><td>train/F1</td><td>█▁▁▁▁▁▁▁</td></tr><tr><td>train/Precision</td><td>█▁▁▁▁▁▁▁</td></tr><tr><td>train/Recall</td><td>▇▁▄▅▁▆██</td></tr><tr><td>train/loss</td><td>▁▁▁▁▁▁▁▁</td></tr><tr><td>validation/Accuracy</td><td>▁███▂▄█▆</td></tr><tr><td>validation/F1</td><td>▁▁█▁▁▁▁▁</td></tr><tr><td>validation/Precision</td><td>▁▁█▁▁▁▁▁</td></tr><tr><td>validation/Recall</td><td>▁▁█▁▁▁▁▁</td></tr><tr><td>validation/loss</td><td>▁▁▁▁▁▁▁▁</td></tr></table><br/></div><div class=\"wandb-col\"><h3>Run summary:</h3><br/><table class=\"wandb\"><tr><td>train/Accuracy</td><td>0.4992</td></tr><tr><td>train/F1</td><td>0.00012</td></tr><tr><td>train/Precision</td><td>6e-05</td></tr><tr><td>train/Recall</td><td>0.5</td></tr><tr><td>train/loss</td><td>0.69315</td></tr><tr><td>validation/Accuracy</td><td>0.9793</td></tr><tr><td>validation/F1</td><td>0</td></tr><tr><td>validation/Precision</td><td>0</td></tr><tr><td>validation/Recall</td><td>0</td></tr><tr><td>validation/loss</td><td>0.69315</td></tr></table><br/></div></div>"
      ],
      "text/plain": [
       "<IPython.core.display.HTML object>"
      ]
     },
     "metadata": {},
     "output_type": "display_data"
    },
    {
     "data": {
      "text/html": [
       " View run <strong style=\"color:#cdcd00\">HIV ChemAttention 5-32, sampling, custom dataset</strong> at: <a href='https://wandb.ai/cus-tibor-none/ToxicML/runs/ctsd9m1g' target=\"_blank\">https://wandb.ai/cus-tibor-none/ToxicML/runs/ctsd9m1g</a><br/> View project at: <a href='https://wandb.ai/cus-tibor-none/ToxicML' target=\"_blank\">https://wandb.ai/cus-tibor-none/ToxicML</a><br/>Synced 5 W&B file(s), 0 media file(s), 2 artifact file(s) and 1 other file(s)"
      ],
      "text/plain": [
       "<IPython.core.display.HTML object>"
      ]
     },
     "metadata": {},
     "output_type": "display_data"
    },
    {
     "data": {
      "text/html": [
       "Find logs at: <code>./wandb/run-20241208_133427-ctsd9m1g/logs</code>"
      ],
      "text/plain": [
       "<IPython.core.display.HTML object>"
      ]
     },
     "metadata": {},
     "output_type": "display_data"
    }
   ],
   "source": [
    "from ToxicMl.MLmodels.attention import ChemAttention\n",
    "model = ChemAttention(5, 133, 32, 2)\n",
    "optimizer = torch.optim.Adam(model.parameters())\n",
    "lr_scheduler = torch.optim.lr_scheduler.ExponentialLR(optimizer, gamma = 0.09)\n",
    "loss_fn = torch.nn.CrossEntropyLoss()\n",
    "sampler = ImbalancedSampler(train) \n",
    "device = torch.device('cuda' if torch.cuda.is_available() else 'cpu')\n",
    "\n",
    "trainer = GenericClassificationTrainer(\n",
    "    model,\n",
    "    optimizer,\n",
    "    loss_fn,\n",
    "    lr_scheduler,\n",
    "    train_metrics,\n",
    "    validation_metrics,\n",
    "    train,\n",
    "    validation,\n",
    "    test,\n",
    "    device,\n",
    "    sampler,\n",
    "    EPOCHS,\n",
    "    None,\n",
    "    32\n",
    ")\n",
    "\n",
    "trainer.train(\"HIV ChemAttention 5-32, sampling, custom dataset\")"
   ]
  },
  {
   "cell_type": "code",
   "execution_count": 18,
   "metadata": {},
   "outputs": [
    {
     "name": "stderr",
     "output_type": "stream",
     "text": [
      "/home/tibor/Documents/msc-datascience/2024w/Toxic/ToxicML/.venv/lib/python3.12/site-packages/torch_geometric/deprecation.py:26: UserWarning: 'data.DataLoader' is deprecated, use 'loader.DataLoader' instead\n",
      "  warnings.warn(out)\n"
     ]
    },
    {
     "data": {
      "text/html": [
       "Tracking run with wandb version 0.18.7"
      ],
      "text/plain": [
       "<IPython.core.display.HTML object>"
      ]
     },
     "metadata": {},
     "output_type": "display_data"
    },
    {
     "data": {
      "text/html": [
       "Run data is saved locally in <code>/home/tibor/Documents/msc-datascience/2024w/Toxic/ToxicML/ToxicMl/wandb/run-20241208_133746-rlecq6s5</code>"
      ],
      "text/plain": [
       "<IPython.core.display.HTML object>"
      ]
     },
     "metadata": {},
     "output_type": "display_data"
    },
    {
     "data": {
      "text/html": [
       "Syncing run <strong><a href='https://wandb.ai/cus-tibor-none/ToxicML/runs/rlecq6s5' target=\"_blank\">HIV ChemAttention 5-64, sampling, custom dataset</a></strong> to <a href='https://wandb.ai/cus-tibor-none/ToxicML' target=\"_blank\">Weights & Biases</a> (<a href='https://wandb.me/developer-guide' target=\"_blank\">docs</a>)<br/>"
      ],
      "text/plain": [
       "<IPython.core.display.HTML object>"
      ]
     },
     "metadata": {},
     "output_type": "display_data"
    },
    {
     "data": {
      "text/html": [
       " View project at <a href='https://wandb.ai/cus-tibor-none/ToxicML' target=\"_blank\">https://wandb.ai/cus-tibor-none/ToxicML</a>"
      ],
      "text/plain": [
       "<IPython.core.display.HTML object>"
      ]
     },
     "metadata": {},
     "output_type": "display_data"
    },
    {
     "data": {
      "text/html": [
       " View run at <a href='https://wandb.ai/cus-tibor-none/ToxicML/runs/rlecq6s5' target=\"_blank\">https://wandb.ai/cus-tibor-none/ToxicML/runs/rlecq6s5</a>"
      ],
      "text/plain": [
       "<IPython.core.display.HTML object>"
      ]
     },
     "metadata": {},
     "output_type": "display_data"
    },
    {
     "name": "stderr",
     "output_type": "stream",
     "text": [
      "train epoch: 100%|██████████| 1029/1029.0 [00:26<00:00, 38.41it/s]\n",
      "val epoch: 100%|██████████| 129/129.0 [00:01<00:00, 94.31it/s]\n",
      "train epoch: 100%|██████████| 1029/1029.0 [00:27<00:00, 37.50it/s]\n",
      "val epoch: 100%|██████████| 129/129.0 [00:01<00:00, 83.84it/s]\n",
      "train epoch: 100%|██████████| 1029/1029.0 [00:28<00:00, 36.61it/s]\n",
      "val epoch: 100%|██████████| 129/129.0 [00:01<00:00, 70.20it/s]\n",
      "train epoch: 100%|██████████| 1029/1029.0 [00:26<00:00, 38.17it/s]\n",
      "val epoch: 100%|██████████| 129/129.0 [00:01<00:00, 81.45it/s]\n",
      "train epoch: 100%|██████████| 1029/1029.0 [00:28<00:00, 36.69it/s]\n",
      "val epoch: 100%|██████████| 129/129.0 [00:01<00:00, 86.59it/s]\n",
      "train epoch: 100%|██████████| 1029/1029.0 [00:27<00:00, 37.61it/s]\n",
      "val epoch: 100%|██████████| 129/129.0 [00:01<00:00, 71.36it/s]\n",
      "train epoch: 100%|██████████| 1029/1029.0 [00:27<00:00, 37.89it/s]\n",
      "val epoch: 100%|██████████| 129/129.0 [00:01<00:00, 87.21it/s]\n",
      "train epoch: 100%|██████████| 1029/1029.0 [00:27<00:00, 37.03it/s]\n",
      "val epoch: 100%|██████████| 129/129.0 [00:01<00:00, 88.34it/s]\n"
     ]
    },
    {
     "data": {
      "text/html": [
       "\n",
       "    <style>\n",
       "        .wandb-row {\n",
       "            display: flex;\n",
       "            flex-direction: row;\n",
       "            flex-wrap: wrap;\n",
       "            justify-content: flex-start;\n",
       "            width: 100%;\n",
       "        }\n",
       "        .wandb-col {\n",
       "            display: flex;\n",
       "            flex-direction: column;\n",
       "            flex-basis: 100%;\n",
       "            flex: 1;\n",
       "            padding: 10px;\n",
       "        }\n",
       "    </style>\n",
       "<div class=\"wandb-row\"><div class=\"wandb-col\"><h3>Run history:</h3><br/><table class=\"wandb\"><tr><td>train/Accuracy</td><td>▁▇▇███▇▇</td></tr><tr><td>train/F1</td><td>▁▇▇███▆▇</td></tr><tr><td>train/Precision</td><td>▃█▁▂▇▃▁▅</td></tr><tr><td>train/Recall</td><td>▁▆▇█▇█▇▇</td></tr><tr><td>train/loss</td><td>▁▂▆▂▃█▃▃</td></tr><tr><td>validation/Accuracy</td><td>▁█▇▇▇▆██</td></tr><tr><td>validation/F1</td><td>▁▆▅▅▅▄█▆</td></tr><tr><td>validation/Precision</td><td>█▁▁▂▁▂▄▁</td></tr><tr><td>validation/Recall</td><td>▁▆▆▅▅▄█▇</td></tr><tr><td>validation/loss</td><td>█▁▅▂▄▃▃▅</td></tr></table><br/></div><div class=\"wandb-col\"><h3>Run summary:</h3><br/><table class=\"wandb\"><tr><td>train/Accuracy</td><td>0.6539</td></tr><tr><td>train/F1</td><td>0.62228</td></tr><tr><td>train/Precision</td><td>0.57095</td></tr><tr><td>train/Recall</td><td>0.68375</td></tr><tr><td>train/loss</td><td>0.61108</td></tr><tr><td>validation/Accuracy</td><td>0.7987</td></tr><tr><td>validation/F1</td><td>0.08407</td></tr><tr><td>validation/Precision</td><td>0.46914</td></tr><tr><td>validation/Recall</td><td>0.04617</td></tr><tr><td>validation/loss</td><td>0.66058</td></tr></table><br/></div></div>"
      ],
      "text/plain": [
       "<IPython.core.display.HTML object>"
      ]
     },
     "metadata": {},
     "output_type": "display_data"
    },
    {
     "data": {
      "text/html": [
       " View run <strong style=\"color:#cdcd00\">HIV ChemAttention 5-64, sampling, custom dataset</strong> at: <a href='https://wandb.ai/cus-tibor-none/ToxicML/runs/rlecq6s5' target=\"_blank\">https://wandb.ai/cus-tibor-none/ToxicML/runs/rlecq6s5</a><br/> View project at: <a href='https://wandb.ai/cus-tibor-none/ToxicML' target=\"_blank\">https://wandb.ai/cus-tibor-none/ToxicML</a><br/>Synced 5 W&B file(s), 0 media file(s), 2 artifact file(s) and 1 other file(s)"
      ],
      "text/plain": [
       "<IPython.core.display.HTML object>"
      ]
     },
     "metadata": {},
     "output_type": "display_data"
    },
    {
     "data": {
      "text/html": [
       "Find logs at: <code>./wandb/run-20241208_133746-rlecq6s5/logs</code>"
      ],
      "text/plain": [
       "<IPython.core.display.HTML object>"
      ]
     },
     "metadata": {},
     "output_type": "display_data"
    }
   ],
   "source": [
    "from ToxicMl.MLmodels.attention import ChemAttention\n",
    "model = ChemAttention(5, 133, 64, 2)\n",
    "optimizer = torch.optim.Adam(model.parameters())\n",
    "lr_scheduler = torch.optim.lr_scheduler.ExponentialLR(optimizer, gamma = 0.09)\n",
    "loss_fn = torch.nn.CrossEntropyLoss()\n",
    "sampler = ImbalancedSampler(train) \n",
    "device = torch.device('cuda' if torch.cuda.is_available() else 'cpu')\n",
    "\n",
    "trainer = GenericClassificationTrainer(\n",
    "    model,\n",
    "    optimizer,\n",
    "    loss_fn,\n",
    "    lr_scheduler,\n",
    "    train_metrics,\n",
    "    validation_metrics,\n",
    "    train,\n",
    "    validation,\n",
    "    test,\n",
    "    device,\n",
    "    sampler,\n",
    "    EPOCHS,\n",
    "    None,\n",
    "    32\n",
    ")\n",
    "\n",
    "trainer.train(\"HIV ChemAttention 5-64, sampling, custom dataset\")"
   ]
  },
  {
   "cell_type": "code",
   "execution_count": 19,
   "metadata": {},
   "outputs": [
    {
     "name": "stderr",
     "output_type": "stream",
     "text": [
      "/home/tibor/Documents/msc-datascience/2024w/Toxic/ToxicML/.venv/lib/python3.12/site-packages/torch_geometric/deprecation.py:26: UserWarning: 'data.DataLoader' is deprecated, use 'loader.DataLoader' instead\n",
      "  warnings.warn(out)\n"
     ]
    },
    {
     "data": {
      "text/html": [
       "Tracking run with wandb version 0.18.7"
      ],
      "text/plain": [
       "<IPython.core.display.HTML object>"
      ]
     },
     "metadata": {},
     "output_type": "display_data"
    },
    {
     "data": {
      "text/html": [
       "Run data is saved locally in <code>/home/tibor/Documents/msc-datascience/2024w/Toxic/ToxicML/ToxicMl/wandb/run-20241208_134147-w72jpxmu</code>"
      ],
      "text/plain": [
       "<IPython.core.display.HTML object>"
      ]
     },
     "metadata": {},
     "output_type": "display_data"
    },
    {
     "data": {
      "text/html": [
       "Syncing run <strong><a href='https://wandb.ai/cus-tibor-none/ToxicML/runs/w72jpxmu' target=\"_blank\">HIV ChemAttention 5-128, sampling, custom dataset</a></strong> to <a href='https://wandb.ai/cus-tibor-none/ToxicML' target=\"_blank\">Weights & Biases</a> (<a href='https://wandb.me/developer-guide' target=\"_blank\">docs</a>)<br/>"
      ],
      "text/plain": [
       "<IPython.core.display.HTML object>"
      ]
     },
     "metadata": {},
     "output_type": "display_data"
    },
    {
     "data": {
      "text/html": [
       " View project at <a href='https://wandb.ai/cus-tibor-none/ToxicML' target=\"_blank\">https://wandb.ai/cus-tibor-none/ToxicML</a>"
      ],
      "text/plain": [
       "<IPython.core.display.HTML object>"
      ]
     },
     "metadata": {},
     "output_type": "display_data"
    },
    {
     "data": {
      "text/html": [
       " View run at <a href='https://wandb.ai/cus-tibor-none/ToxicML/runs/w72jpxmu' target=\"_blank\">https://wandb.ai/cus-tibor-none/ToxicML/runs/w72jpxmu</a>"
      ],
      "text/plain": [
       "<IPython.core.display.HTML object>"
      ]
     },
     "metadata": {},
     "output_type": "display_data"
    },
    {
     "name": "stderr",
     "output_type": "stream",
     "text": [
      "train epoch: 100%|██████████| 1029/1029.0 [00:37<00:00, 27.59it/s]\n",
      "val epoch: 100%|██████████| 129/129.0 [00:02<00:00, 63.97it/s]\n",
      "train epoch: 100%|██████████| 1029/1029.0 [00:38<00:00, 26.64it/s]\n",
      "val epoch: 100%|██████████| 129/129.0 [00:02<00:00, 63.79it/s]\n",
      "train epoch: 100%|██████████| 1029/1029.0 [00:39<00:00, 26.19it/s]\n",
      "val epoch: 100%|██████████| 129/129.0 [00:01<00:00, 66.02it/s]\n",
      "train epoch: 100%|██████████| 1029/1029.0 [00:39<00:00, 26.28it/s]\n",
      "val epoch: 100%|██████████| 129/129.0 [00:02<00:00, 58.64it/s]\n",
      "train epoch: 100%|██████████| 1029/1029.0 [00:39<00:00, 26.26it/s]\n",
      "val epoch: 100%|██████████| 129/129.0 [00:01<00:00, 66.00it/s]\n",
      "train epoch: 100%|██████████| 1029/1029.0 [00:36<00:00, 28.23it/s]\n",
      "val epoch: 100%|██████████| 129/129.0 [00:01<00:00, 66.67it/s]\n",
      "train epoch: 100%|██████████| 1029/1029.0 [00:38<00:00, 26.58it/s]\n",
      "val epoch: 100%|██████████| 129/129.0 [00:01<00:00, 65.06it/s]\n",
      "train epoch: 100%|██████████| 1029/1029.0 [00:37<00:00, 27.58it/s]\n",
      "val epoch: 100%|██████████| 129/129.0 [00:01<00:00, 67.46it/s]\n"
     ]
    },
    {
     "data": {
      "text/html": [
       "\n",
       "    <style>\n",
       "        .wandb-row {\n",
       "            display: flex;\n",
       "            flex-direction: row;\n",
       "            flex-wrap: wrap;\n",
       "            justify-content: flex-start;\n",
       "            width: 100%;\n",
       "        }\n",
       "        .wandb-col {\n",
       "            display: flex;\n",
       "            flex-direction: column;\n",
       "            flex-basis: 100%;\n",
       "            flex: 1;\n",
       "            padding: 10px;\n",
       "        }\n",
       "    </style>\n",
       "<div class=\"wandb-row\"><div class=\"wandb-col\"><h3>Run history:</h3><br/><table class=\"wandb\"><tr><td>train/Accuracy</td><td>▁▇▇▇▇█▇█</td></tr><tr><td>train/F1</td><td>▁▆▆▆▆█▆▇</td></tr><tr><td>train/Precision</td><td>█▅▁▂▁█▃█</td></tr><tr><td>train/Recall</td><td>▁▇▇███▇▇</td></tr><tr><td>train/loss</td><td>▆█▁▃▅▇▆█</td></tr><tr><td>validation/Accuracy</td><td>▁█▅▇▆▇▃▄</td></tr><tr><td>validation/F1</td><td>▁█▄▄▅▆▃▅</td></tr><tr><td>validation/Precision</td><td>▁█▅▂▅▆▃█</td></tr><tr><td>validation/Recall</td><td>▁█▄▄▅▆▃▅</td></tr><tr><td>validation/loss</td><td>▅▅▆▁█▄█▄</td></tr></table><br/></div><div class=\"wandb-col\"><h3>Run summary:</h3><br/><table class=\"wandb\"><tr><td>train/Accuracy</td><td>0.6577</td></tr><tr><td>train/F1</td><td>0.57405</td></tr><tr><td>train/Precision</td><td>0.46011</td></tr><tr><td>train/Recall</td><td>0.76302</td></tr><tr><td>train/loss</td><td>0.85603</td></tr><tr><td>validation/Accuracy</td><td>0.8726</td></tr><tr><td>validation/F1</td><td>0.1058</td></tr><tr><td>validation/Precision</td><td>0.38272</td></tr><tr><td>validation/Recall</td><td>0.06139</td></tr><tr><td>validation/loss</td><td>0.72243</td></tr></table><br/></div></div>"
      ],
      "text/plain": [
       "<IPython.core.display.HTML object>"
      ]
     },
     "metadata": {},
     "output_type": "display_data"
    },
    {
     "data": {
      "text/html": [
       " View run <strong style=\"color:#cdcd00\">HIV ChemAttention 5-128, sampling, custom dataset</strong> at: <a href='https://wandb.ai/cus-tibor-none/ToxicML/runs/w72jpxmu' target=\"_blank\">https://wandb.ai/cus-tibor-none/ToxicML/runs/w72jpxmu</a><br/> View project at: <a href='https://wandb.ai/cus-tibor-none/ToxicML' target=\"_blank\">https://wandb.ai/cus-tibor-none/ToxicML</a><br/>Synced 5 W&B file(s), 0 media file(s), 2 artifact file(s) and 1 other file(s)"
      ],
      "text/plain": [
       "<IPython.core.display.HTML object>"
      ]
     },
     "metadata": {},
     "output_type": "display_data"
    },
    {
     "data": {
      "text/html": [
       "Find logs at: <code>./wandb/run-20241208_134147-w72jpxmu/logs</code>"
      ],
      "text/plain": [
       "<IPython.core.display.HTML object>"
      ]
     },
     "metadata": {},
     "output_type": "display_data"
    }
   ],
   "source": [
    "from ToxicMl.MLmodels.attention import ChemAttention\n",
    "model = ChemAttention(5, 133, 128, 2)\n",
    "optimizer = torch.optim.Adam(model.parameters())\n",
    "lr_scheduler = torch.optim.lr_scheduler.ExponentialLR(optimizer, gamma = 0.09)\n",
    "loss_fn = torch.nn.CrossEntropyLoss()\n",
    "sampler = ImbalancedSampler(train) \n",
    "device = torch.device('cuda' if torch.cuda.is_available() else 'cpu')\n",
    "\n",
    "trainer = GenericClassificationTrainer(\n",
    "    model,\n",
    "    optimizer,\n",
    "    loss_fn,\n",
    "    lr_scheduler,\n",
    "    train_metrics,\n",
    "    validation_metrics,\n",
    "    train,\n",
    "    validation,\n",
    "    test,\n",
    "    device,\n",
    "    sampler,\n",
    "    EPOCHS,\n",
    "    None,\n",
    "    32\n",
    ")\n",
    "\n",
    "trainer.train(\"HIV ChemAttention 5-128, sampling, custom dataset\")"
   ]
  },
  {
   "cell_type": "code",
   "execution_count": null,
   "metadata": {},
   "outputs": [],
   "source": []
  }
 ],
 "metadata": {
  "kernelspec": {
   "display_name": ".venv",
   "language": "python",
   "name": "python3"
  },
  "language_info": {
   "codemirror_mode": {
    "name": "ipython",
    "version": 3
   },
   "file_extension": ".py",
   "mimetype": "text/x-python",
   "name": "python",
   "nbconvert_exporter": "python",
   "pygments_lexer": "ipython3",
   "version": "3.12.7"
  }
 },
 "nbformat": 4,
 "nbformat_minor": 2
}
