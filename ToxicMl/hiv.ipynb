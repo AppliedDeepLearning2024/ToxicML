{
 "cells": [
  {
   "cell_type": "code",
   "execution_count": 1,
   "metadata": {},
   "outputs": [],
   "source": [
    "from ToxicMl.evaluation import get_hiv_data\n",
    "from ToxicMl.trainer import GenericClassificationTrainer\n",
    "from ToxicMl.metrics import Accuracy, F1, Recall, Precision\n",
    "\n",
    "import torch\n",
    "from torch_geometric.loader import ImbalancedSampler"
   ]
  },
  {
   "cell_type": "code",
   "execution_count": 2,
   "metadata": {},
   "outputs": [
    {
     "name": "stderr",
     "output_type": "stream",
     "text": [
      "/home/tibor/Documents/msc-datascience/2024w/Toxic/ToxicML/.venv/lib/python3.12/site-packages/ogb/graphproppred/dataset_pyg.py:68: FutureWarning: You are using `torch.load` with `weights_only=False` (the current default value), which uses the default pickle module implicitly. It is possible to construct malicious pickle data which will execute arbitrary code during unpickling (See https://github.com/pytorch/pytorch/blob/main/SECURITY.md#untrusted-models for more details). In a future release, the default value for `weights_only` will be flipped to `True`. This limits the functions that could be executed during unpickling. Arbitrary objects will no longer be allowed to be loaded via this mode unless they are explicitly allowlisted by the user via `torch.serialization.add_safe_globals`. We recommend you start setting `weights_only=True` for any use case where you don't have full control of the loaded file. Please open an issue on GitHub for any issues related to this experimental feature.\n",
      "  self.data, self.slices = torch.load(self.processed_paths[0])\n"
     ]
    }
   ],
   "source": [
    "EPOCHS = 10\n",
    "\n",
    "dataset, train, validation, test = get_hiv_data()\n",
    "train_metrics = [F1(), Accuracy(), Recall(), Precision()]\n",
    "validation_metrics = [F1(), Accuracy(), Recall(), Precision()]"
   ]
  },
  {
   "cell_type": "code",
   "execution_count": 3,
   "metadata": {},
   "outputs": [
    {
     "name": "stderr",
     "output_type": "stream",
     "text": [
      "/home/tibor/Documents/msc-datascience/2024w/Toxic/ToxicML/.venv/lib/python3.12/site-packages/torch_geometric/deprecation.py:26: UserWarning: 'data.DataLoader' is deprecated, use 'loader.DataLoader' instead\n",
      "  warnings.warn(out)\n",
      "\u001b[34m\u001b[1mwandb\u001b[0m: Using wandb-core as the SDK backend.  Please refer to https://wandb.me/wandb-core for more information.\n",
      "\u001b[34m\u001b[1mwandb\u001b[0m: Currently logged in as: \u001b[33mcus-tibor\u001b[0m (\u001b[33mcus-tibor-none\u001b[0m). Use \u001b[1m`wandb login --relogin`\u001b[0m to force relogin\n"
     ]
    },
    {
     "data": {
      "text/html": [
       "Tracking run with wandb version 0.18.7"
      ],
      "text/plain": [
       "<IPython.core.display.HTML object>"
      ]
     },
     "metadata": {},
     "output_type": "display_data"
    },
    {
     "data": {
      "text/html": [
       "Run data is saved locally in <code>/home/tibor/Documents/msc-datascience/2024w/Toxic/ToxicML/ToxicMl/wandb/run-20241207_124850-10rzoega</code>"
      ],
      "text/plain": [
       "<IPython.core.display.HTML object>"
      ]
     },
     "metadata": {},
     "output_type": "display_data"
    },
    {
     "data": {
      "text/html": [
       "Syncing run <strong><a href='https://wandb.ai/cus-tibor-none/ToxicML/runs/10rzoega' target=\"_blank\">HIV base GCN</a></strong> to <a href='https://wandb.ai/cus-tibor-none/ToxicML' target=\"_blank\">Weights & Biases</a> (<a href='https://wandb.me/developer-guide' target=\"_blank\">docs</a>)<br/>"
      ],
      "text/plain": [
       "<IPython.core.display.HTML object>"
      ]
     },
     "metadata": {},
     "output_type": "display_data"
    },
    {
     "data": {
      "text/html": [
       " View project at <a href='https://wandb.ai/cus-tibor-none/ToxicML' target=\"_blank\">https://wandb.ai/cus-tibor-none/ToxicML</a>"
      ],
      "text/plain": [
       "<IPython.core.display.HTML object>"
      ]
     },
     "metadata": {},
     "output_type": "display_data"
    },
    {
     "data": {
      "text/html": [
       " View run at <a href='https://wandb.ai/cus-tibor-none/ToxicML/runs/10rzoega' target=\"_blank\">https://wandb.ai/cus-tibor-none/ToxicML/runs/10rzoega</a>"
      ],
      "text/plain": [
       "<IPython.core.display.HTML object>"
      ]
     },
     "metadata": {},
     "output_type": "display_data"
    },
    {
     "name": "stderr",
     "output_type": "stream",
     "text": [
      "train epoch: 100%|██████████| 1029/1029.0 [00:04<00:00, 232.10it/s]\n",
      "val epoch: 100%|██████████| 129/129.0 [00:00<00:00, 136.82it/s]\n",
      "train epoch: 100%|██████████| 1029/1029.0 [00:04<00:00, 207.47it/s]\n",
      "val epoch: 100%|██████████| 129/129.0 [00:00<00:00, 257.33it/s]\n",
      "train epoch: 100%|██████████| 1029/1029.0 [00:05<00:00, 189.85it/s]\n",
      "val epoch: 100%|██████████| 129/129.0 [00:00<00:00, 183.64it/s]\n",
      "train epoch: 100%|██████████| 1029/1029.0 [00:05<00:00, 184.93it/s]\n",
      "val epoch: 100%|██████████| 129/129.0 [00:00<00:00, 284.97it/s]\n",
      "train epoch: 100%|██████████| 1029/1029.0 [00:04<00:00, 227.57it/s]\n",
      "val epoch: 100%|██████████| 129/129.0 [00:00<00:00, 269.85it/s]\n",
      "train epoch: 100%|██████████| 1029/1029.0 [00:04<00:00, 226.38it/s]\n",
      "val epoch: 100%|██████████| 129/129.0 [00:00<00:00, 253.39it/s]\n",
      "train epoch: 100%|██████████| 1029/1029.0 [00:05<00:00, 202.74it/s]\n",
      "val epoch: 100%|██████████| 129/129.0 [00:00<00:00, 263.70it/s]\n",
      "train epoch: 100%|██████████| 1029/1029.0 [00:04<00:00, 213.31it/s]\n",
      "val epoch: 100%|██████████| 129/129.0 [00:00<00:00, 254.66it/s]\n",
      "train epoch: 100%|██████████| 1029/1029.0 [00:05<00:00, 186.33it/s]\n",
      "val epoch: 100%|██████████| 129/129.0 [00:00<00:00, 172.24it/s]\n",
      "train epoch: 100%|██████████| 1029/1029.0 [00:05<00:00, 175.32it/s]\n",
      "val epoch: 100%|██████████| 129/129.0 [00:00<00:00, 232.18it/s]\n"
     ]
    },
    {
     "data": {
      "text/html": [
       "\n",
       "    <style>\n",
       "        .wandb-row {\n",
       "            display: flex;\n",
       "            flex-direction: row;\n",
       "            flex-wrap: wrap;\n",
       "            justify-content: flex-start;\n",
       "            width: 100%;\n",
       "        }\n",
       "        .wandb-col {\n",
       "            display: flex;\n",
       "            flex-direction: column;\n",
       "            flex-basis: 100%;\n",
       "            flex: 1;\n",
       "            padding: 10px;\n",
       "        }\n",
       "    </style>\n",
       "<div class=\"wandb-row\"><div class=\"wandb-col\"><h3>Run history:</h3><br/><table class=\"wandb\"><tr><td>train/Accuracy</td><td>▁█████████</td></tr><tr><td>train/F1</td><td>█▁▁▁▁▁▁▁▁▁</td></tr><tr><td>train/Precision</td><td>█▁▁▁▁▁▁▁▁▁</td></tr><tr><td>train/Recall</td><td>█▁▁▁▁▁▁▁▁▁</td></tr><tr><td>train/loss</td><td>▅▂▂▂▃▃▁▅█▂</td></tr><tr><td>validation/Accuracy</td><td>▁▁▁▁▁▁▁▁▁▁</td></tr><tr><td>validation/F1</td><td>▁▁▁▁▁▁▁▁▁▁</td></tr><tr><td>validation/Precision</td><td>▁▁▁▁▁▁▁▁▁▁</td></tr><tr><td>validation/Recall</td><td>▁▁▁▁▁▁▁▁▁▁</td></tr><tr><td>validation/loss</td><td>▁▁▁▁▆▃▁▃█▃</td></tr></table><br/></div><div class=\"wandb-col\"><h3>Run summary:</h3><br/><table class=\"wandb\"><tr><td>train/Accuracy</td><td>0.9626</td></tr><tr><td>train/F1</td><td>0</td></tr><tr><td>train/Precision</td><td>0</td></tr><tr><td>train/Recall</td><td>0</td></tr><tr><td>train/loss</td><td>0.31349</td></tr><tr><td>validation/Accuracy</td><td>0.9684</td></tr><tr><td>validation/F1</td><td>0</td></tr><tr><td>validation/Precision</td><td>0</td></tr><tr><td>validation/Recall</td><td>0</td></tr><tr><td>validation/loss</td><td>0.37223</td></tr></table><br/></div></div>"
      ],
      "text/plain": [
       "<IPython.core.display.HTML object>"
      ]
     },
     "metadata": {},
     "output_type": "display_data"
    },
    {
     "data": {
      "text/html": [
       " View run <strong style=\"color:#cdcd00\">HIV base GCN</strong> at: <a href='https://wandb.ai/cus-tibor-none/ToxicML/runs/10rzoega' target=\"_blank\">https://wandb.ai/cus-tibor-none/ToxicML/runs/10rzoega</a><br/> View project at: <a href='https://wandb.ai/cus-tibor-none/ToxicML' target=\"_blank\">https://wandb.ai/cus-tibor-none/ToxicML</a><br/>Synced 5 W&B file(s), 0 media file(s), 4 artifact file(s) and 1 other file(s)"
      ],
      "text/plain": [
       "<IPython.core.display.HTML object>"
      ]
     },
     "metadata": {},
     "output_type": "display_data"
    },
    {
     "data": {
      "text/html": [
       "Find logs at: <code>./wandb/run-20241207_124850-10rzoega/logs</code>"
      ],
      "text/plain": [
       "<IPython.core.display.HTML object>"
      ]
     },
     "metadata": {},
     "output_type": "display_data"
    }
   ],
   "source": [
    "from ToxicMl.MLmodels.gcn import GCN\n",
    "\n",
    "model = GCN(9, 16, 2)\n",
    "optimizer = torch.optim.Adam(model.parameters())\n",
    "lr_scheduler = torch.optim.lr_scheduler.ExponentialLR(optimizer, gamma = 0.09)\n",
    "loss_fn = torch.nn.CrossEntropyLoss()\n",
    "sampler = ImbalancedSampler(train) \n",
    "device = torch.device('cuda' if torch.cuda.is_available() else 'cpu')\n",
    "\n",
    "trainer = GenericClassificationTrainer(\n",
    "    model,\n",
    "    optimizer,\n",
    "    loss_fn,\n",
    "    lr_scheduler,\n",
    "    train_metrics,\n",
    "    validation_metrics,\n",
    "    train,\n",
    "    validation,\n",
    "    test,\n",
    "    device,\n",
    "    None,\n",
    "    EPOCHS,\n",
    "    None,\n",
    "    32\n",
    ")\n",
    "\n",
    "trainer.train(\"HIV base GCN\")"
   ]
  },
  {
   "cell_type": "code",
   "execution_count": 4,
   "metadata": {},
   "outputs": [
    {
     "name": "stderr",
     "output_type": "stream",
     "text": [
      "/home/tibor/Documents/msc-datascience/2024w/Toxic/ToxicML/.venv/lib/python3.12/site-packages/torch_geometric/deprecation.py:26: UserWarning: 'data.DataLoader' is deprecated, use 'loader.DataLoader' instead\n",
      "  warnings.warn(out)\n"
     ]
    },
    {
     "data": {
      "text/html": [
       "Tracking run with wandb version 0.18.7"
      ],
      "text/plain": [
       "<IPython.core.display.HTML object>"
      ]
     },
     "metadata": {},
     "output_type": "display_data"
    },
    {
     "data": {
      "text/html": [
       "Run data is saved locally in <code>/home/tibor/Documents/msc-datascience/2024w/Toxic/ToxicML/ToxicMl/wandb/run-20241207_124956-9xf4ghti</code>"
      ],
      "text/plain": [
       "<IPython.core.display.HTML object>"
      ]
     },
     "metadata": {},
     "output_type": "display_data"
    },
    {
     "data": {
      "text/html": [
       "Syncing run <strong><a href='https://wandb.ai/cus-tibor-none/ToxicML/runs/9xf4ghti' target=\"_blank\">HIV base GCN weighted loss</a></strong> to <a href='https://wandb.ai/cus-tibor-none/ToxicML' target=\"_blank\">Weights & Biases</a> (<a href='https://wandb.me/developer-guide' target=\"_blank\">docs</a>)<br/>"
      ],
      "text/plain": [
       "<IPython.core.display.HTML object>"
      ]
     },
     "metadata": {},
     "output_type": "display_data"
    },
    {
     "data": {
      "text/html": [
       " View project at <a href='https://wandb.ai/cus-tibor-none/ToxicML' target=\"_blank\">https://wandb.ai/cus-tibor-none/ToxicML</a>"
      ],
      "text/plain": [
       "<IPython.core.display.HTML object>"
      ]
     },
     "metadata": {},
     "output_type": "display_data"
    },
    {
     "data": {
      "text/html": [
       " View run at <a href='https://wandb.ai/cus-tibor-none/ToxicML/runs/9xf4ghti' target=\"_blank\">https://wandb.ai/cus-tibor-none/ToxicML/runs/9xf4ghti</a>"
      ],
      "text/plain": [
       "<IPython.core.display.HTML object>"
      ]
     },
     "metadata": {},
     "output_type": "display_data"
    },
    {
     "name": "stderr",
     "output_type": "stream",
     "text": [
      "train epoch: 100%|██████████| 1029/1029.0 [00:05<00:00, 193.97it/s]\n",
      "val epoch: 100%|██████████| 129/129.0 [00:00<00:00, 261.63it/s]\n",
      "train epoch: 100%|██████████| 1029/1029.0 [00:05<00:00, 176.13it/s]\n",
      "val epoch: 100%|██████████| 129/129.0 [00:00<00:00, 200.48it/s]\n",
      "train epoch: 100%|██████████| 1029/1029.0 [00:06<00:00, 170.12it/s]\n",
      "val epoch: 100%|██████████| 129/129.0 [00:00<00:00, 189.30it/s]\n",
      "train epoch: 100%|██████████| 1029/1029.0 [00:05<00:00, 187.50it/s]\n",
      "val epoch: 100%|██████████| 129/129.0 [00:00<00:00, 233.82it/s]\n",
      "train epoch: 100%|██████████| 1029/1029.0 [00:06<00:00, 164.54it/s]\n",
      "val epoch: 100%|██████████| 129/129.0 [00:00<00:00, 229.36it/s]\n",
      "train epoch: 100%|██████████| 1029/1029.0 [00:05<00:00, 171.84it/s]\n",
      "val epoch: 100%|██████████| 129/129.0 [00:00<00:00, 212.25it/s]\n",
      "train epoch: 100%|██████████| 1029/1029.0 [00:05<00:00, 191.33it/s]\n",
      "val epoch: 100%|██████████| 129/129.0 [00:00<00:00, 226.57it/s]\n",
      "train epoch: 100%|██████████| 1029/1029.0 [00:06<00:00, 171.19it/s]\n",
      "val epoch: 100%|██████████| 129/129.0 [00:00<00:00, 195.99it/s]\n",
      "train epoch: 100%|██████████| 1029/1029.0 [00:06<00:00, 160.03it/s]\n",
      "val epoch: 100%|██████████| 129/129.0 [00:00<00:00, 205.89it/s]\n",
      "train epoch: 100%|██████████| 1029/1029.0 [00:05<00:00, 173.39it/s]\n",
      "val epoch: 100%|██████████| 129/129.0 [00:00<00:00, 188.01it/s]\n"
     ]
    },
    {
     "data": {
      "text/html": [
       "\n",
       "    <style>\n",
       "        .wandb-row {\n",
       "            display: flex;\n",
       "            flex-direction: row;\n",
       "            flex-wrap: wrap;\n",
       "            justify-content: flex-start;\n",
       "            width: 100%;\n",
       "        }\n",
       "        .wandb-col {\n",
       "            display: flex;\n",
       "            flex-direction: column;\n",
       "            flex-basis: 100%;\n",
       "            flex: 1;\n",
       "            padding: 10px;\n",
       "        }\n",
       "    </style>\n",
       "<div class=\"wandb-row\"><div class=\"wandb-col\"><h3>Run history:</h3><br/><table class=\"wandb\"><tr><td>train/Accuracy</td><td>▆▁████████</td></tr><tr><td>train/F1</td><td>▅█▂▁▂▁▁▂▂▂</td></tr><tr><td>train/Precision</td><td>▄█▂▁▂▁▁▁▁▁</td></tr><tr><td>train/Recall</td><td>██▆▁▇▁▃▄▄▅</td></tr><tr><td>train/loss</td><td>█▂▂▁▂▁▂▂▁▂</td></tr><tr><td>validation/Accuracy</td><td>▁█████████</td></tr><tr><td>validation/F1</td><td>█▂▁▁▁▁▁▁▁▁</td></tr><tr><td>validation/Precision</td><td>█▁▁▁▁▁▁▁▁▁</td></tr><tr><td>validation/Recall</td><td>█▆▁▁▁▁▁▁▁▁</td></tr><tr><td>validation/loss</td><td>▃▁██▁▁▁▁▁▇</td></tr></table><br/></div><div class=\"wandb-col\"><h3>Run summary:</h3><br/><table class=\"wandb\"><tr><td>train/Accuracy</td><td>0.9568</td></tr><tr><td>train/F1</td><td>0.00975</td></tr><tr><td>train/Precision</td><td>0.00568</td></tr><tr><td>train/Recall</td><td>0.03431</td></tr><tr><td>train/loss</td><td>0.40339</td></tr><tr><td>validation/Accuracy</td><td>0.9638</td></tr><tr><td>validation/F1</td><td>0</td></tr><tr><td>validation/Precision</td><td>0</td></tr><tr><td>validation/Recall</td><td>0</td></tr><tr><td>validation/loss</td><td>0.85951</td></tr></table><br/></div></div>"
      ],
      "text/plain": [
       "<IPython.core.display.HTML object>"
      ]
     },
     "metadata": {},
     "output_type": "display_data"
    },
    {
     "data": {
      "text/html": [
       " View run <strong style=\"color:#cdcd00\">HIV base GCN weighted loss</strong> at: <a href='https://wandb.ai/cus-tibor-none/ToxicML/runs/9xf4ghti' target=\"_blank\">https://wandb.ai/cus-tibor-none/ToxicML/runs/9xf4ghti</a><br/> View project at: <a href='https://wandb.ai/cus-tibor-none/ToxicML' target=\"_blank\">https://wandb.ai/cus-tibor-none/ToxicML</a><br/>Synced 5 W&B file(s), 0 media file(s), 2 artifact file(s) and 1 other file(s)"
      ],
      "text/plain": [
       "<IPython.core.display.HTML object>"
      ]
     },
     "metadata": {},
     "output_type": "display_data"
    },
    {
     "data": {
      "text/html": [
       "Find logs at: <code>./wandb/run-20241207_124956-9xf4ghti/logs</code>"
      ],
      "text/plain": [
       "<IPython.core.display.HTML object>"
      ]
     },
     "metadata": {},
     "output_type": "display_data"
    }
   ],
   "source": [
    "from sklearn.utils.class_weight import compute_class_weight\n",
    "\n",
    "weights = compute_class_weight(\"balanced\", classes=dataset.y.flatten().unique().numpy(), y=dataset.y.flatten().numpy())\n",
    "weights = torch.tensor(weights, dtype=torch.float)\n",
    "\n",
    "model = GCN(9, 16, 2)\n",
    "optimizer = torch.optim.Adam(model.parameters())\n",
    "lr_scheduler = torch.optim.lr_scheduler.ExponentialLR(optimizer, gamma = 0.09)\n",
    "loss_fn = torch.nn.CrossEntropyLoss(weight=weights)\n",
    "sampler = ImbalancedSampler(train) \n",
    "device = torch.device('cuda' if torch.cuda.is_available() else 'cpu')\n",
    "\n",
    "trainer = GenericClassificationTrainer(\n",
    "    model,\n",
    "    optimizer,\n",
    "    loss_fn,\n",
    "    lr_scheduler,\n",
    "    train_metrics,\n",
    "    validation_metrics,\n",
    "    train,\n",
    "    validation,\n",
    "    test,\n",
    "    device,\n",
    "    None,\n",
    "    EPOCHS,\n",
    "    None,\n",
    "    32\n",
    ")\n",
    "\n",
    "trainer.train(\"HIV base GCN weighted loss\")"
   ]
  },
  {
   "cell_type": "code",
   "execution_count": 5,
   "metadata": {},
   "outputs": [
    {
     "name": "stderr",
     "output_type": "stream",
     "text": [
      "/home/tibor/Documents/msc-datascience/2024w/Toxic/ToxicML/.venv/lib/python3.12/site-packages/torch_geometric/deprecation.py:26: UserWarning: 'data.DataLoader' is deprecated, use 'loader.DataLoader' instead\n",
      "  warnings.warn(out)\n"
     ]
    },
    {
     "data": {
      "text/html": [
       "Tracking run with wandb version 0.18.7"
      ],
      "text/plain": [
       "<IPython.core.display.HTML object>"
      ]
     },
     "metadata": {},
     "output_type": "display_data"
    },
    {
     "data": {
      "text/html": [
       "Run data is saved locally in <code>/home/tibor/Documents/msc-datascience/2024w/Toxic/ToxicML/ToxicMl/wandb/run-20241207_125108-eunipa2l</code>"
      ],
      "text/plain": [
       "<IPython.core.display.HTML object>"
      ]
     },
     "metadata": {},
     "output_type": "display_data"
    },
    {
     "data": {
      "text/html": [
       "Syncing run <strong><a href='https://wandb.ai/cus-tibor-none/ToxicML/runs/eunipa2l' target=\"_blank\">HIV base GCN with sampling</a></strong> to <a href='https://wandb.ai/cus-tibor-none/ToxicML' target=\"_blank\">Weights & Biases</a> (<a href='https://wandb.me/developer-guide' target=\"_blank\">docs</a>)<br/>"
      ],
      "text/plain": [
       "<IPython.core.display.HTML object>"
      ]
     },
     "metadata": {},
     "output_type": "display_data"
    },
    {
     "data": {
      "text/html": [
       " View project at <a href='https://wandb.ai/cus-tibor-none/ToxicML' target=\"_blank\">https://wandb.ai/cus-tibor-none/ToxicML</a>"
      ],
      "text/plain": [
       "<IPython.core.display.HTML object>"
      ]
     },
     "metadata": {},
     "output_type": "display_data"
    },
    {
     "data": {
      "text/html": [
       " View run at <a href='https://wandb.ai/cus-tibor-none/ToxicML/runs/eunipa2l' target=\"_blank\">https://wandb.ai/cus-tibor-none/ToxicML/runs/eunipa2l</a>"
      ],
      "text/plain": [
       "<IPython.core.display.HTML object>"
      ]
     },
     "metadata": {},
     "output_type": "display_data"
    },
    {
     "name": "stderr",
     "output_type": "stream",
     "text": [
      "train epoch: 100%|██████████| 1029/1029.0 [00:05<00:00, 184.18it/s]\n",
      "val epoch: 100%|██████████| 129/129.0 [00:00<00:00, 234.69it/s]\n",
      "train epoch: 100%|██████████| 1029/1029.0 [00:05<00:00, 173.98it/s]\n",
      "val epoch: 100%|██████████| 129/129.0 [00:00<00:00, 204.24it/s]\n",
      "train epoch: 100%|██████████| 1029/1029.0 [00:06<00:00, 154.38it/s]\n",
      "val epoch: 100%|██████████| 129/129.0 [00:00<00:00, 233.39it/s]\n",
      "train epoch: 100%|██████████| 1029/1029.0 [00:06<00:00, 166.05it/s]\n",
      "val epoch: 100%|██████████| 129/129.0 [00:00<00:00, 222.88it/s]\n",
      "train epoch: 100%|██████████| 1029/1029.0 [00:05<00:00, 179.87it/s]\n",
      "val epoch: 100%|██████████| 129/129.0 [00:00<00:00, 200.43it/s]\n",
      "train epoch: 100%|██████████| 1029/1029.0 [00:05<00:00, 179.39it/s]\n",
      "val epoch: 100%|██████████| 129/129.0 [00:00<00:00, 261.58it/s]\n",
      "train epoch: 100%|██████████| 1029/1029.0 [00:05<00:00, 171.72it/s]\n",
      "val epoch: 100%|██████████| 129/129.0 [00:00<00:00, 208.66it/s]\n",
      "train epoch: 100%|██████████| 1029/1029.0 [00:06<00:00, 168.88it/s]\n",
      "val epoch: 100%|██████████| 129/129.0 [00:00<00:00, 170.86it/s]\n",
      "train epoch: 100%|██████████| 1029/1029.0 [00:06<00:00, 167.01it/s]\n",
      "val epoch: 100%|██████████| 129/129.0 [00:00<00:00, 222.95it/s]\n",
      "train epoch: 100%|██████████| 1029/1029.0 [00:06<00:00, 170.38it/s]\n",
      "val epoch: 100%|██████████| 129/129.0 [00:00<00:00, 218.06it/s]\n"
     ]
    },
    {
     "data": {
      "text/html": [
       "\n",
       "    <style>\n",
       "        .wandb-row {\n",
       "            display: flex;\n",
       "            flex-direction: row;\n",
       "            flex-wrap: wrap;\n",
       "            justify-content: flex-start;\n",
       "            width: 100%;\n",
       "        }\n",
       "        .wandb-col {\n",
       "            display: flex;\n",
       "            flex-direction: column;\n",
       "            flex-basis: 100%;\n",
       "            flex: 1;\n",
       "            padding: 10px;\n",
       "        }\n",
       "    </style>\n",
       "<div class=\"wandb-row\"><div class=\"wandb-col\"><h3>Run history:</h3><br/><table class=\"wandb\"><tr><td>train/Accuracy</td><td>▁▆▇█▆▆▇▇▆█</td></tr><tr><td>train/F1</td><td>█▁▄▇▄▅▄▅▅▇</td></tr><tr><td>train/Precision</td><td>█▁▂▄▂▃▃▃▃▃</td></tr><tr><td>train/Recall</td><td>▁▅█▇▇▇▇▆▆█</td></tr><tr><td>train/loss</td><td>▄▆▂▄▆█▅▆▁▆</td></tr><tr><td>validation/Accuracy</td><td>█▂▁▁▁▁▁▁▁▁</td></tr><tr><td>validation/F1</td><td>█▁▂▂▂▂▂▂▂▂</td></tr><tr><td>validation/Precision</td><td>▁▆████████</td></tr><tr><td>validation/Recall</td><td>█▁▁▂▁▁▁▁▁▁</td></tr><tr><td>validation/loss</td><td>▃▆▄▇▃▅▂█▁▆</td></tr></table><br/></div><div class=\"wandb-col\"><h3>Run summary:</h3><br/><table class=\"wandb\"><tr><td>train/Accuracy</td><td>0.5402</td></tr><tr><td>train/F1</td><td>0.5351</td></tr><tr><td>train/Precision</td><td>0.53076</td></tr><tr><td>train/Recall</td><td>0.53951</td></tr><tr><td>train/loss</td><td>0.71575</td></tr><tr><td>validation/Accuracy</td><td>0.5419</td></tr><tr><td>validation/F1</td><td>0.07647</td></tr><tr><td>validation/Precision</td><td>0.6</td></tr><tr><td>validation/Recall</td><td>0.04084</td></tr><tr><td>validation/loss</td><td>0.70066</td></tr></table><br/></div></div>"
      ],
      "text/plain": [
       "<IPython.core.display.HTML object>"
      ]
     },
     "metadata": {},
     "output_type": "display_data"
    },
    {
     "data": {
      "text/html": [
       " View run <strong style=\"color:#cdcd00\">HIV base GCN with sampling</strong> at: <a href='https://wandb.ai/cus-tibor-none/ToxicML/runs/eunipa2l' target=\"_blank\">https://wandb.ai/cus-tibor-none/ToxicML/runs/eunipa2l</a><br/> View project at: <a href='https://wandb.ai/cus-tibor-none/ToxicML' target=\"_blank\">https://wandb.ai/cus-tibor-none/ToxicML</a><br/>Synced 5 W&B file(s), 0 media file(s), 2 artifact file(s) and 1 other file(s)"
      ],
      "text/plain": [
       "<IPython.core.display.HTML object>"
      ]
     },
     "metadata": {},
     "output_type": "display_data"
    },
    {
     "data": {
      "text/html": [
       "Find logs at: <code>./wandb/run-20241207_125108-eunipa2l/logs</code>"
      ],
      "text/plain": [
       "<IPython.core.display.HTML object>"
      ]
     },
     "metadata": {},
     "output_type": "display_data"
    }
   ],
   "source": [
    "model = GCN(9, 16, 2)\n",
    "optimizer = torch.optim.Adam(model.parameters())\n",
    "lr_scheduler = torch.optim.lr_scheduler.ExponentialLR(optimizer, gamma = 0.09)\n",
    "loss_fn = torch.nn.CrossEntropyLoss()\n",
    "sampler = ImbalancedSampler(train) \n",
    "device = torch.device('cuda' if torch.cuda.is_available() else 'cpu')\n",
    "\n",
    "trainer = GenericClassificationTrainer(\n",
    "    model,\n",
    "    optimizer,\n",
    "    loss_fn,\n",
    "    lr_scheduler,\n",
    "    train_metrics,\n",
    "    validation_metrics,\n",
    "    train,\n",
    "    validation,\n",
    "    test,\n",
    "    device,\n",
    "    sampler,\n",
    "    EPOCHS,\n",
    "    None,\n",
    "    32\n",
    ")\n",
    "\n",
    "trainer.train(\"HIV base GCN with sampling\")"
   ]
  },
  {
   "cell_type": "code",
   "execution_count": 6,
   "metadata": {},
   "outputs": [
    {
     "name": "stderr",
     "output_type": "stream",
     "text": [
      "/home/tibor/Documents/msc-datascience/2024w/Toxic/ToxicML/.venv/lib/python3.12/site-packages/torch_geometric/deprecation.py:26: UserWarning: 'data.DataLoader' is deprecated, use 'loader.DataLoader' instead\n",
      "  warnings.warn(out)\n"
     ]
    },
    {
     "data": {
      "text/html": [
       "Tracking run with wandb version 0.18.7"
      ],
      "text/plain": [
       "<IPython.core.display.HTML object>"
      ]
     },
     "metadata": {},
     "output_type": "display_data"
    },
    {
     "data": {
      "text/html": [
       "Run data is saved locally in <code>/home/tibor/Documents/msc-datascience/2024w/Toxic/ToxicML/ToxicMl/wandb/run-20241207_125220-bjzkvkp6</code>"
      ],
      "text/plain": [
       "<IPython.core.display.HTML object>"
      ]
     },
     "metadata": {},
     "output_type": "display_data"
    },
    {
     "data": {
      "text/html": [
       "Syncing run <strong><a href='https://wandb.ai/cus-tibor-none/ToxicML/runs/bjzkvkp6' target=\"_blank\">HIV ChemGCN 3-16, sampling</a></strong> to <a href='https://wandb.ai/cus-tibor-none/ToxicML' target=\"_blank\">Weights & Biases</a> (<a href='https://wandb.me/developer-guide' target=\"_blank\">docs</a>)<br/>"
      ],
      "text/plain": [
       "<IPython.core.display.HTML object>"
      ]
     },
     "metadata": {},
     "output_type": "display_data"
    },
    {
     "data": {
      "text/html": [
       " View project at <a href='https://wandb.ai/cus-tibor-none/ToxicML' target=\"_blank\">https://wandb.ai/cus-tibor-none/ToxicML</a>"
      ],
      "text/plain": [
       "<IPython.core.display.HTML object>"
      ]
     },
     "metadata": {},
     "output_type": "display_data"
    },
    {
     "data": {
      "text/html": [
       " View run at <a href='https://wandb.ai/cus-tibor-none/ToxicML/runs/bjzkvkp6' target=\"_blank\">https://wandb.ai/cus-tibor-none/ToxicML/runs/bjzkvkp6</a>"
      ],
      "text/plain": [
       "<IPython.core.display.HTML object>"
      ]
     },
     "metadata": {},
     "output_type": "display_data"
    },
    {
     "name": "stderr",
     "output_type": "stream",
     "text": [
      "train epoch: 100%|██████████| 1029/1029.0 [00:07<00:00, 137.10it/s]\n",
      "val epoch: 100%|██████████| 129/129.0 [00:00<00:00, 197.73it/s]\n",
      "train epoch: 100%|██████████| 1029/1029.0 [00:08<00:00, 116.50it/s]\n",
      "val epoch: 100%|██████████| 129/129.0 [00:00<00:00, 190.25it/s]\n",
      "train epoch: 100%|██████████| 1029/1029.0 [00:08<00:00, 121.36it/s]\n",
      "val epoch: 100%|██████████| 129/129.0 [00:00<00:00, 189.00it/s]\n",
      "train epoch: 100%|██████████| 1029/1029.0 [00:08<00:00, 127.03it/s]\n",
      "val epoch: 100%|██████████| 129/129.0 [00:00<00:00, 204.90it/s]\n",
      "train epoch: 100%|██████████| 1029/1029.0 [00:08<00:00, 120.05it/s]\n",
      "val epoch: 100%|██████████| 129/129.0 [00:00<00:00, 202.85it/s]\n",
      "train epoch: 100%|██████████| 1029/1029.0 [00:08<00:00, 121.06it/s]\n",
      "val epoch: 100%|██████████| 129/129.0 [00:00<00:00, 204.84it/s]\n",
      "train epoch: 100%|██████████| 1029/1029.0 [00:08<00:00, 127.87it/s]\n",
      "val epoch: 100%|██████████| 129/129.0 [00:00<00:00, 194.90it/s]\n",
      "train epoch: 100%|██████████| 1029/1029.0 [00:07<00:00, 130.17it/s]\n",
      "val epoch: 100%|██████████| 129/129.0 [00:00<00:00, 160.91it/s]\n",
      "train epoch: 100%|██████████| 1029/1029.0 [00:08<00:00, 123.50it/s]\n",
      "val epoch: 100%|██████████| 129/129.0 [00:00<00:00, 157.58it/s]\n",
      "train epoch: 100%|██████████| 1029/1029.0 [00:08<00:00, 123.60it/s]\n",
      "val epoch: 100%|██████████| 129/129.0 [00:00<00:00, 207.76it/s]\n"
     ]
    },
    {
     "data": {
      "text/html": [
       "\n",
       "    <style>\n",
       "        .wandb-row {\n",
       "            display: flex;\n",
       "            flex-direction: row;\n",
       "            flex-wrap: wrap;\n",
       "            justify-content: flex-start;\n",
       "            width: 100%;\n",
       "        }\n",
       "        .wandb-col {\n",
       "            display: flex;\n",
       "            flex-direction: column;\n",
       "            flex-basis: 100%;\n",
       "            flex: 1;\n",
       "            padding: 10px;\n",
       "        }\n",
       "    </style>\n",
       "<div class=\"wandb-row\"><div class=\"wandb-col\"><h3>Run history:</h3><br/><table class=\"wandb\"><tr><td>train/Accuracy</td><td>▁▇▇▇█▇▇█▇▇</td></tr><tr><td>train/F1</td><td>▁█████▇█▇█</td></tr><tr><td>train/Precision</td><td>▁███████▇█</td></tr><tr><td>train/Recall</td><td>▁▅▆▆▆▆▄▇▆█</td></tr><tr><td>train/loss</td><td>█▆▂▂▄▆▄▆▆▁</td></tr><tr><td>validation/Accuracy</td><td>▄█▆▅▅▁▅█▅▇</td></tr><tr><td>validation/F1</td><td>▁▆█▇▆▂▄▆▄▃</td></tr><tr><td>validation/Precision</td><td>▃▁▅▆▆█▄▁▄▁</td></tr><tr><td>validation/Recall</td><td>▁▇█▇▆▂▄▇▄▄</td></tr><tr><td>validation/loss</td><td>▄█▆▅▆█▇▄▅▁</td></tr></table><br/></div><div class=\"wandb-col\"><h3>Run summary:</h3><br/><table class=\"wandb\"><tr><td>train/Accuracy</td><td>0.5963</td></tr><tr><td>train/F1</td><td>0.59964</td></tr><tr><td>train/Precision</td><td>0.59639</td></tr><tr><td>train/Recall</td><td>0.60293</td></tr><tr><td>train/loss</td><td>0.47573</td></tr><tr><td>validation/Accuracy</td><td>0.7471</td></tr><tr><td>validation/F1</td><td>0.09408</td></tr><tr><td>validation/Precision</td><td>0.41538</td></tr><tr><td>validation/Recall</td><td>0.05305</td></tr><tr><td>validation/loss</td><td>0.55049</td></tr></table><br/></div></div>"
      ],
      "text/plain": [
       "<IPython.core.display.HTML object>"
      ]
     },
     "metadata": {},
     "output_type": "display_data"
    },
    {
     "data": {
      "text/html": [
       " View run <strong style=\"color:#cdcd00\">HIV ChemGCN 3-16, sampling</strong> at: <a href='https://wandb.ai/cus-tibor-none/ToxicML/runs/bjzkvkp6' target=\"_blank\">https://wandb.ai/cus-tibor-none/ToxicML/runs/bjzkvkp6</a><br/> View project at: <a href='https://wandb.ai/cus-tibor-none/ToxicML' target=\"_blank\">https://wandb.ai/cus-tibor-none/ToxicML</a><br/>Synced 5 W&B file(s), 0 media file(s), 2 artifact file(s) and 1 other file(s)"
      ],
      "text/plain": [
       "<IPython.core.display.HTML object>"
      ]
     },
     "metadata": {},
     "output_type": "display_data"
    },
    {
     "data": {
      "text/html": [
       "Find logs at: <code>./wandb/run-20241207_125220-bjzkvkp6/logs</code>"
      ],
      "text/plain": [
       "<IPython.core.display.HTML object>"
      ]
     },
     "metadata": {},
     "output_type": "display_data"
    }
   ],
   "source": [
    "from ToxicMl.MLmodels.gcn import ChemGCN\n",
    "model = ChemGCN(3, 9, 16, 2)\n",
    "optimizer = torch.optim.Adam(model.parameters())\n",
    "lr_scheduler = torch.optim.lr_scheduler.ExponentialLR(optimizer, gamma = 0.09)\n",
    "loss_fn = torch.nn.CrossEntropyLoss()\n",
    "sampler = ImbalancedSampler(train) \n",
    "device = torch.device('cuda' if torch.cuda.is_available() else 'cpu')\n",
    "\n",
    "trainer = GenericClassificationTrainer(\n",
    "    model,\n",
    "    optimizer,\n",
    "    loss_fn,\n",
    "    lr_scheduler,\n",
    "    train_metrics,\n",
    "    validation_metrics,\n",
    "    train,\n",
    "    validation,\n",
    "    test,\n",
    "    device,\n",
    "    sampler,\n",
    "    EPOCHS,\n",
    "    None,\n",
    "    32\n",
    ")\n",
    "\n",
    "trainer.train(\"HIV ChemGCN 3-16, sampling\")"
   ]
  },
  {
   "cell_type": "code",
   "execution_count": 7,
   "metadata": {},
   "outputs": [],
   "source": [
    "torch.save(model.state_dict(), \"../saved_models/ChemGCN_HIV_Sampled\")"
   ]
  },
  {
   "cell_type": "code",
   "execution_count": 8,
   "metadata": {},
   "outputs": [
    {
     "name": "stderr",
     "output_type": "stream",
     "text": [
      "/home/tibor/Documents/msc-datascience/2024w/Toxic/ToxicML/.venv/lib/python3.12/site-packages/torch_geometric/deprecation.py:26: UserWarning: 'data.DataLoader' is deprecated, use 'loader.DataLoader' instead\n",
      "  warnings.warn(out)\n"
     ]
    },
    {
     "data": {
      "text/html": [
       "Tracking run with wandb version 0.18.7"
      ],
      "text/plain": [
       "<IPython.core.display.HTML object>"
      ]
     },
     "metadata": {},
     "output_type": "display_data"
    },
    {
     "data": {
      "text/html": [
       "Run data is saved locally in <code>/home/tibor/Documents/msc-datascience/2024w/Toxic/ToxicML/ToxicMl/wandb/run-20241207_125356-kuj2cpuq</code>"
      ],
      "text/plain": [
       "<IPython.core.display.HTML object>"
      ]
     },
     "metadata": {},
     "output_type": "display_data"
    },
    {
     "data": {
      "text/html": [
       "Syncing run <strong><a href='https://wandb.ai/cus-tibor-none/ToxicML/runs/kuj2cpuq' target=\"_blank\">HIV ChemGCN 3-32, sampling</a></strong> to <a href='https://wandb.ai/cus-tibor-none/ToxicML' target=\"_blank\">Weights & Biases</a> (<a href='https://wandb.me/developer-guide' target=\"_blank\">docs</a>)<br/>"
      ],
      "text/plain": [
       "<IPython.core.display.HTML object>"
      ]
     },
     "metadata": {},
     "output_type": "display_data"
    },
    {
     "data": {
      "text/html": [
       " View project at <a href='https://wandb.ai/cus-tibor-none/ToxicML' target=\"_blank\">https://wandb.ai/cus-tibor-none/ToxicML</a>"
      ],
      "text/plain": [
       "<IPython.core.display.HTML object>"
      ]
     },
     "metadata": {},
     "output_type": "display_data"
    },
    {
     "data": {
      "text/html": [
       " View run at <a href='https://wandb.ai/cus-tibor-none/ToxicML/runs/kuj2cpuq' target=\"_blank\">https://wandb.ai/cus-tibor-none/ToxicML/runs/kuj2cpuq</a>"
      ],
      "text/plain": [
       "<IPython.core.display.HTML object>"
      ]
     },
     "metadata": {},
     "output_type": "display_data"
    },
    {
     "name": "stderr",
     "output_type": "stream",
     "text": [
      "train epoch: 100%|██████████| 1029/1029.0 [00:07<00:00, 128.94it/s]\n",
      "val epoch: 100%|██████████| 129/129.0 [00:00<00:00, 163.04it/s]\n",
      "train epoch: 100%|██████████| 1029/1029.0 [00:08<00:00, 117.66it/s]\n",
      "val epoch: 100%|██████████| 129/129.0 [00:00<00:00, 187.30it/s]\n",
      "train epoch: 100%|██████████| 1029/1029.0 [00:09<00:00, 114.33it/s]\n",
      "val epoch: 100%|██████████| 129/129.0 [00:00<00:00, 144.72it/s]\n",
      "train epoch: 100%|██████████| 1029/1029.0 [00:08<00:00, 114.85it/s]\n",
      "val epoch: 100%|██████████| 129/129.0 [00:00<00:00, 153.83it/s]\n",
      "train epoch: 100%|██████████| 1029/1029.0 [00:08<00:00, 114.42it/s]\n",
      "val epoch: 100%|██████████| 129/129.0 [00:00<00:00, 172.60it/s]\n",
      "train epoch: 100%|██████████| 1029/1029.0 [00:08<00:00, 117.83it/s]\n",
      "val epoch: 100%|██████████| 129/129.0 [00:00<00:00, 155.18it/s]\n",
      "train epoch: 100%|██████████| 1029/1029.0 [00:09<00:00, 114.25it/s]\n",
      "val epoch: 100%|██████████| 129/129.0 [00:00<00:00, 163.96it/s]\n",
      "train epoch: 100%|██████████| 1029/1029.0 [00:09<00:00, 112.85it/s]\n",
      "val epoch: 100%|██████████| 129/129.0 [00:00<00:00, 168.98it/s]\n",
      "train epoch: 100%|██████████| 1029/1029.0 [00:09<00:00, 104.49it/s]\n",
      "val epoch: 100%|██████████| 129/129.0 [00:00<00:00, 194.59it/s]\n",
      "train epoch: 100%|██████████| 1029/1029.0 [00:10<00:00, 101.62it/s]\n",
      "val epoch: 100%|██████████| 129/129.0 [00:00<00:00, 143.82it/s]\n"
     ]
    },
    {
     "data": {
      "text/html": [
       "\n",
       "    <style>\n",
       "        .wandb-row {\n",
       "            display: flex;\n",
       "            flex-direction: row;\n",
       "            flex-wrap: wrap;\n",
       "            justify-content: flex-start;\n",
       "            width: 100%;\n",
       "        }\n",
       "        .wandb-col {\n",
       "            display: flex;\n",
       "            flex-direction: column;\n",
       "            flex-basis: 100%;\n",
       "            flex: 1;\n",
       "            padding: 10px;\n",
       "        }\n",
       "    </style>\n",
       "<div class=\"wandb-row\"><div class=\"wandb-col\"><h3>Run history:</h3><br/><table class=\"wandb\"><tr><td>train/Accuracy</td><td>▁▇▇▇█▇▇█▇▇</td></tr><tr><td>train/F1</td><td>▁████▇████</td></tr><tr><td>train/Precision</td><td>▁█▇███████</td></tr><tr><td>train/Recall</td><td>▁▆▇▆█▆▇█▇▇</td></tr><tr><td>train/loss</td><td>▂▃▁█▅▆▇▅█▅</td></tr><tr><td>validation/Accuracy</td><td>▁▅▅▇██▅▃▆▅</td></tr><tr><td>validation/F1</td><td>▁▅▅▅▆█▅▄▄▅</td></tr><tr><td>validation/Precision</td><td>█▆▅▁▁▂▅█▂▅</td></tr><tr><td>validation/Recall</td><td>▁▅▅▆▇█▅▄▅▅</td></tr><tr><td>validation/loss</td><td>█▅▁▃▄▇▇▄▁▅</td></tr></table><br/></div><div class=\"wandb-col\"><h3>Run summary:</h3><br/><table class=\"wandb\"><tr><td>train/Accuracy</td><td>0.6141</td></tr><tr><td>train/F1</td><td>0.61768</td></tr><tr><td>train/Precision</td><td>0.62553</td></tr><tr><td>train/Recall</td><td>0.61002</td></tr><tr><td>train/loss</td><td>0.71483</td></tr><tr><td>validation/Accuracy</td><td>0.7408</td></tr><tr><td>validation/F1</td><td>0.1087</td></tr><tr><td>validation/Precision</td><td>0.5</td></tr><tr><td>validation/Recall</td><td>0.06098</td></tr><tr><td>validation/loss</td><td>0.60079</td></tr></table><br/></div></div>"
      ],
      "text/plain": [
       "<IPython.core.display.HTML object>"
      ]
     },
     "metadata": {},
     "output_type": "display_data"
    },
    {
     "data": {
      "text/html": [
       " View run <strong style=\"color:#cdcd00\">HIV ChemGCN 3-32, sampling</strong> at: <a href='https://wandb.ai/cus-tibor-none/ToxicML/runs/kuj2cpuq' target=\"_blank\">https://wandb.ai/cus-tibor-none/ToxicML/runs/kuj2cpuq</a><br/> View project at: <a href='https://wandb.ai/cus-tibor-none/ToxicML' target=\"_blank\">https://wandb.ai/cus-tibor-none/ToxicML</a><br/>Synced 5 W&B file(s), 0 media file(s), 2 artifact file(s) and 1 other file(s)"
      ],
      "text/plain": [
       "<IPython.core.display.HTML object>"
      ]
     },
     "metadata": {},
     "output_type": "display_data"
    },
    {
     "data": {
      "text/html": [
       "Find logs at: <code>./wandb/run-20241207_125356-kuj2cpuq/logs</code>"
      ],
      "text/plain": [
       "<IPython.core.display.HTML object>"
      ]
     },
     "metadata": {},
     "output_type": "display_data"
    }
   ],
   "source": [
    "from ToxicMl.MLmodels.gcn import ChemGCN\n",
    "model = ChemGCN(3, 9, 32, 2)\n",
    "optimizer = torch.optim.Adam(model.parameters())\n",
    "lr_scheduler = torch.optim.lr_scheduler.ExponentialLR(optimizer, gamma = 0.09)\n",
    "loss_fn = torch.nn.CrossEntropyLoss()\n",
    "sampler = ImbalancedSampler(train) \n",
    "device = torch.device('cuda' if torch.cuda.is_available() else 'cpu')\n",
    "\n",
    "trainer = GenericClassificationTrainer(\n",
    "    model,\n",
    "    optimizer,\n",
    "    loss_fn,\n",
    "    lr_scheduler,\n",
    "    train_metrics,\n",
    "    validation_metrics,\n",
    "    train,\n",
    "    validation,\n",
    "    test,\n",
    "    device,\n",
    "    sampler,\n",
    "    EPOCHS,\n",
    "    None,\n",
    "    32\n",
    ")\n",
    "\n",
    "trainer.train(\"HIV ChemGCN 3-32, sampling\")"
   ]
  },
  {
   "cell_type": "code",
   "execution_count": 9,
   "metadata": {},
   "outputs": [
    {
     "name": "stderr",
     "output_type": "stream",
     "text": [
      "/home/tibor/Documents/msc-datascience/2024w/Toxic/ToxicML/.venv/lib/python3.12/site-packages/torch_geometric/deprecation.py:26: UserWarning: 'data.DataLoader' is deprecated, use 'loader.DataLoader' instead\n",
      "  warnings.warn(out)\n"
     ]
    },
    {
     "data": {
      "text/html": [
       "Tracking run with wandb version 0.18.7"
      ],
      "text/plain": [
       "<IPython.core.display.HTML object>"
      ]
     },
     "metadata": {},
     "output_type": "display_data"
    },
    {
     "data": {
      "text/html": [
       "Run data is saved locally in <code>/home/tibor/Documents/msc-datascience/2024w/Toxic/ToxicML/ToxicMl/wandb/run-20241207_125542-bedyb0ho</code>"
      ],
      "text/plain": [
       "<IPython.core.display.HTML object>"
      ]
     },
     "metadata": {},
     "output_type": "display_data"
    },
    {
     "data": {
      "text/html": [
       "Syncing run <strong><a href='https://wandb.ai/cus-tibor-none/ToxicML/runs/bedyb0ho' target=\"_blank\">HIV ChemGCN 5-32, sampling</a></strong> to <a href='https://wandb.ai/cus-tibor-none/ToxicML' target=\"_blank\">Weights & Biases</a> (<a href='https://wandb.me/developer-guide' target=\"_blank\">docs</a>)<br/>"
      ],
      "text/plain": [
       "<IPython.core.display.HTML object>"
      ]
     },
     "metadata": {},
     "output_type": "display_data"
    },
    {
     "data": {
      "text/html": [
       " View project at <a href='https://wandb.ai/cus-tibor-none/ToxicML' target=\"_blank\">https://wandb.ai/cus-tibor-none/ToxicML</a>"
      ],
      "text/plain": [
       "<IPython.core.display.HTML object>"
      ]
     },
     "metadata": {},
     "output_type": "display_data"
    },
    {
     "data": {
      "text/html": [
       " View run at <a href='https://wandb.ai/cus-tibor-none/ToxicML/runs/bedyb0ho' target=\"_blank\">https://wandb.ai/cus-tibor-none/ToxicML/runs/bedyb0ho</a>"
      ],
      "text/plain": [
       "<IPython.core.display.HTML object>"
      ]
     },
     "metadata": {},
     "output_type": "display_data"
    },
    {
     "name": "stderr",
     "output_type": "stream",
     "text": [
      "train epoch: 100%|██████████| 1029/1029.0 [00:10<00:00, 94.99it/s]\n",
      "val epoch: 100%|██████████| 129/129.0 [00:00<00:00, 142.52it/s]\n",
      "train epoch: 100%|██████████| 1029/1029.0 [00:11<00:00, 87.75it/s]\n",
      "val epoch: 100%|██████████| 129/129.0 [00:00<00:00, 130.81it/s]\n",
      "train epoch: 100%|██████████| 1029/1029.0 [00:11<00:00, 87.32it/s]\n",
      "val epoch: 100%|██████████| 129/129.0 [00:00<00:00, 143.66it/s]\n",
      "train epoch: 100%|██████████| 1029/1029.0 [00:11<00:00, 90.94it/s]\n",
      "val epoch: 100%|██████████| 129/129.0 [00:00<00:00, 149.44it/s]\n",
      "train epoch: 100%|██████████| 1029/1029.0 [00:12<00:00, 84.38it/s]\n",
      "val epoch: 100%|██████████| 129/129.0 [00:01<00:00, 117.42it/s]\n",
      "train epoch: 100%|██████████| 1029/1029.0 [00:13<00:00, 75.94it/s]\n",
      "val epoch: 100%|██████████| 129/129.0 [00:00<00:00, 138.62it/s]\n",
      "train epoch: 100%|██████████| 1029/1029.0 [00:12<00:00, 80.41it/s]\n",
      "val epoch: 100%|██████████| 129/129.0 [00:00<00:00, 132.35it/s]\n",
      "train epoch: 100%|██████████| 1029/1029.0 [00:12<00:00, 82.52it/s]\n",
      "val epoch: 100%|██████████| 129/129.0 [00:00<00:00, 147.89it/s]\n",
      "train epoch: 100%|██████████| 1029/1029.0 [00:12<00:00, 81.54it/s]\n",
      "val epoch: 100%|██████████| 129/129.0 [00:00<00:00, 144.06it/s]\n",
      "train epoch: 100%|██████████| 1029/1029.0 [00:13<00:00, 74.76it/s]\n",
      "val epoch: 100%|██████████| 129/129.0 [00:00<00:00, 130.38it/s]\n"
     ]
    },
    {
     "data": {
      "text/html": [
       "\n",
       "    <style>\n",
       "        .wandb-row {\n",
       "            display: flex;\n",
       "            flex-direction: row;\n",
       "            flex-wrap: wrap;\n",
       "            justify-content: flex-start;\n",
       "            width: 100%;\n",
       "        }\n",
       "        .wandb-col {\n",
       "            display: flex;\n",
       "            flex-direction: column;\n",
       "            flex-basis: 100%;\n",
       "            flex: 1;\n",
       "            padding: 10px;\n",
       "        }\n",
       "    </style>\n",
       "<div class=\"wandb-row\"><div class=\"wandb-col\"><h3>Run history:</h3><br/><table class=\"wandb\"><tr><td>train/Accuracy</td><td>▁▆▇█▇█▇█▇▇</td></tr><tr><td>train/F1</td><td>▁▆▇████▇▇█</td></tr><tr><td>train/Precision</td><td>▁▅█████▇▇█</td></tr><tr><td>train/Recall</td><td>▁▆▅█▇▇▇██▆</td></tr><tr><td>train/loss</td><td>▃▃▃▅█▃▂▇▁█</td></tr><tr><td>validation/Accuracy</td><td>▅▁█▂▅▄▅█▄▅</td></tr><tr><td>validation/F1</td><td>▆▁█▂▇▅▅▆▆▇</td></tr><tr><td>validation/Precision</td><td>▅▅▄▅█▆▄▁▇▆</td></tr><tr><td>validation/Recall</td><td>▆▁█▂▇▅▅▇▆▇</td></tr><tr><td>validation/loss</td><td>▃█▂▅▇▄▂▆▇▁</td></tr></table><br/></div><div class=\"wandb-col\"><h3>Run summary:</h3><br/><table class=\"wandb\"><tr><td>train/Accuracy</td><td>0.6181</td></tr><tr><td>train/F1</td><td>0.62155</td></tr><tr><td>train/Precision</td><td>0.62848</td></tr><tr><td>train/Recall</td><td>0.61478</td></tr><tr><td>train/loss</td><td>0.9092</td></tr><tr><td>validation/Accuracy</td><td>0.6822</td></tr><tr><td>validation/F1</td><td>0.10295</td></tr><tr><td>validation/Precision</td><td>0.57692</td></tr><tr><td>validation/Recall</td><td>0.05652</td></tr><tr><td>validation/loss</td><td>0.53387</td></tr></table><br/></div></div>"
      ],
      "text/plain": [
       "<IPython.core.display.HTML object>"
      ]
     },
     "metadata": {},
     "output_type": "display_data"
    },
    {
     "data": {
      "text/html": [
       " View run <strong style=\"color:#cdcd00\">HIV ChemGCN 5-32, sampling</strong> at: <a href='https://wandb.ai/cus-tibor-none/ToxicML/runs/bedyb0ho' target=\"_blank\">https://wandb.ai/cus-tibor-none/ToxicML/runs/bedyb0ho</a><br/> View project at: <a href='https://wandb.ai/cus-tibor-none/ToxicML' target=\"_blank\">https://wandb.ai/cus-tibor-none/ToxicML</a><br/>Synced 5 W&B file(s), 0 media file(s), 2 artifact file(s) and 1 other file(s)"
      ],
      "text/plain": [
       "<IPython.core.display.HTML object>"
      ]
     },
     "metadata": {},
     "output_type": "display_data"
    },
    {
     "data": {
      "text/html": [
       "Find logs at: <code>./wandb/run-20241207_125542-bedyb0ho/logs</code>"
      ],
      "text/plain": [
       "<IPython.core.display.HTML object>"
      ]
     },
     "metadata": {},
     "output_type": "display_data"
    }
   ],
   "source": [
    "from ToxicMl.MLmodels.gcn import ChemGCN\n",
    "model = ChemGCN(5, 9, 32, 2)\n",
    "optimizer = torch.optim.Adam(model.parameters())\n",
    "lr_scheduler = torch.optim.lr_scheduler.ExponentialLR(optimizer, gamma = 0.09)\n",
    "loss_fn = torch.nn.CrossEntropyLoss()\n",
    "sampler = ImbalancedSampler(train) \n",
    "device = torch.device('cuda' if torch.cuda.is_available() else 'cpu')\n",
    "\n",
    "trainer = GenericClassificationTrainer(\n",
    "    model,\n",
    "    optimizer,\n",
    "    loss_fn,\n",
    "    lr_scheduler,\n",
    "    train_metrics,\n",
    "    validation_metrics,\n",
    "    train,\n",
    "    validation,\n",
    "    test,\n",
    "    device,\n",
    "    sampler,\n",
    "    EPOCHS,\n",
    "    None,\n",
    "    32\n",
    ")\n",
    "\n",
    "trainer.train(\"HIV ChemGCN 5-32, sampling\")"
   ]
  },
  {
   "cell_type": "code",
   "execution_count": 10,
   "metadata": {},
   "outputs": [
    {
     "name": "stderr",
     "output_type": "stream",
     "text": [
      "/home/tibor/Documents/msc-datascience/2024w/Toxic/ToxicML/.venv/lib/python3.12/site-packages/torch_geometric/deprecation.py:26: UserWarning: 'data.DataLoader' is deprecated, use 'loader.DataLoader' instead\n",
      "  warnings.warn(out)\n"
     ]
    },
    {
     "data": {
      "text/html": [
       "Tracking run with wandb version 0.18.7"
      ],
      "text/plain": [
       "<IPython.core.display.HTML object>"
      ]
     },
     "metadata": {},
     "output_type": "display_data"
    },
    {
     "data": {
      "text/html": [
       "Run data is saved locally in <code>/home/tibor/Documents/msc-datascience/2024w/Toxic/ToxicML/ToxicMl/wandb/run-20241207_125801-5raj7bw1</code>"
      ],
      "text/plain": [
       "<IPython.core.display.HTML object>"
      ]
     },
     "metadata": {},
     "output_type": "display_data"
    },
    {
     "data": {
      "text/html": [
       "Syncing run <strong><a href='https://wandb.ai/cus-tibor-none/ToxicML/runs/5raj7bw1' target=\"_blank\">HIV ChemGCN 5-64, sampling</a></strong> to <a href='https://wandb.ai/cus-tibor-none/ToxicML' target=\"_blank\">Weights & Biases</a> (<a href='https://wandb.me/developer-guide' target=\"_blank\">docs</a>)<br/>"
      ],
      "text/plain": [
       "<IPython.core.display.HTML object>"
      ]
     },
     "metadata": {},
     "output_type": "display_data"
    },
    {
     "data": {
      "text/html": [
       " View project at <a href='https://wandb.ai/cus-tibor-none/ToxicML' target=\"_blank\">https://wandb.ai/cus-tibor-none/ToxicML</a>"
      ],
      "text/plain": [
       "<IPython.core.display.HTML object>"
      ]
     },
     "metadata": {},
     "output_type": "display_data"
    },
    {
     "data": {
      "text/html": [
       " View run at <a href='https://wandb.ai/cus-tibor-none/ToxicML/runs/5raj7bw1' target=\"_blank\">https://wandb.ai/cus-tibor-none/ToxicML/runs/5raj7bw1</a>"
      ],
      "text/plain": [
       "<IPython.core.display.HTML object>"
      ]
     },
     "metadata": {},
     "output_type": "display_data"
    },
    {
     "name": "stderr",
     "output_type": "stream",
     "text": [
      "train epoch: 100%|██████████| 1029/1029.0 [00:14<00:00, 70.97it/s]\n",
      "val epoch: 100%|██████████| 129/129.0 [00:00<00:00, 137.61it/s]\n",
      "train epoch: 100%|██████████| 1029/1029.0 [00:14<00:00, 69.94it/s]\n",
      "val epoch: 100%|██████████| 129/129.0 [00:01<00:00, 110.00it/s]\n",
      "train epoch: 100%|██████████| 1029/1029.0 [00:15<00:00, 64.82it/s]\n",
      "val epoch: 100%|██████████| 129/129.0 [00:01<00:00, 124.88it/s]\n",
      "train epoch: 100%|██████████| 1029/1029.0 [00:14<00:00, 72.81it/s]\n",
      "val epoch: 100%|██████████| 129/129.0 [00:01<00:00, 127.33it/s]\n",
      "train epoch: 100%|██████████| 1029/1029.0 [00:14<00:00, 68.81it/s]\n",
      "val epoch: 100%|██████████| 129/129.0 [00:01<00:00, 126.26it/s]\n",
      "train epoch: 100%|██████████| 1029/1029.0 [00:15<00:00, 65.88it/s]\n",
      "val epoch: 100%|██████████| 129/129.0 [00:01<00:00, 125.07it/s]\n",
      "train epoch: 100%|██████████| 1029/1029.0 [00:14<00:00, 71.95it/s]\n",
      "val epoch: 100%|██████████| 129/129.0 [00:01<00:00, 116.27it/s]\n",
      "train epoch: 100%|██████████| 1029/1029.0 [00:14<00:00, 70.29it/s]\n",
      "val epoch: 100%|██████████| 129/129.0 [00:00<00:00, 138.75it/s]\n",
      "train epoch: 100%|██████████| 1029/1029.0 [00:14<00:00, 70.96it/s]\n",
      "val epoch: 100%|██████████| 129/129.0 [00:01<00:00, 120.88it/s]\n",
      "train epoch: 100%|██████████| 1029/1029.0 [00:14<00:00, 70.88it/s]\n",
      "val epoch: 100%|██████████| 129/129.0 [00:01<00:00, 127.27it/s]\n"
     ]
    },
    {
     "data": {
      "text/html": [
       "\n",
       "    <style>\n",
       "        .wandb-row {\n",
       "            display: flex;\n",
       "            flex-direction: row;\n",
       "            flex-wrap: wrap;\n",
       "            justify-content: flex-start;\n",
       "            width: 100%;\n",
       "        }\n",
       "        .wandb-col {\n",
       "            display: flex;\n",
       "            flex-direction: column;\n",
       "            flex-basis: 100%;\n",
       "            flex: 1;\n",
       "            padding: 10px;\n",
       "        }\n",
       "    </style>\n",
       "<div class=\"wandb-row\"><div class=\"wandb-col\"><h3>Run history:</h3><br/><table class=\"wandb\"><tr><td>train/Accuracy</td><td>▁███████▇█</td></tr><tr><td>train/F1</td><td>▁█▇▆▇▇▇▆▅▇</td></tr><tr><td>train/Precision</td><td>▁█▃▃▅▅▄▃▂▄</td></tr><tr><td>train/Recall</td><td>▁▇████▇█▇█</td></tr><tr><td>train/loss</td><td>▃▂▃▇▁█▆▄▄▅</td></tr><tr><td>validation/Accuracy</td><td>▁▄▆▅▅▇▅█▆▅</td></tr><tr><td>validation/F1</td><td>▃▄▅▁▅▇▅▆█▃</td></tr><tr><td>validation/Precision</td><td>█▆▅▁▆▅▆▃█▃</td></tr><tr><td>validation/Recall</td><td>▂▄▅▁▅█▅▇█▃</td></tr><tr><td>validation/loss</td><td>▄▆▃▂▁▁▆▃█▆</td></tr></table><br/></div><div class=\"wandb-col\"><h3>Run summary:</h3><br/><table class=\"wandb\"><tr><td>train/Accuracy</td><td>0.612</td></tr><tr><td>train/F1</td><td>0.59759</td></tr><tr><td>train/Precision</td><td>0.57557</td></tr><tr><td>train/Recall</td><td>0.62137</td></tr><tr><td>train/loss</td><td>0.69116</td></tr><tr><td>validation/Accuracy</td><td>0.7209</td></tr><tr><td>validation/F1</td><td>0.0989</td></tr><tr><td>validation/Precision</td><td>0.48462</td></tr><tr><td>validation/Recall</td><td>0.05507</td></tr><tr><td>validation/loss</td><td>0.64854</td></tr></table><br/></div></div>"
      ],
      "text/plain": [
       "<IPython.core.display.HTML object>"
      ]
     },
     "metadata": {},
     "output_type": "display_data"
    },
    {
     "data": {
      "text/html": [
       " View run <strong style=\"color:#cdcd00\">HIV ChemGCN 5-64, sampling</strong> at: <a href='https://wandb.ai/cus-tibor-none/ToxicML/runs/5raj7bw1' target=\"_blank\">https://wandb.ai/cus-tibor-none/ToxicML/runs/5raj7bw1</a><br/> View project at: <a href='https://wandb.ai/cus-tibor-none/ToxicML' target=\"_blank\">https://wandb.ai/cus-tibor-none/ToxicML</a><br/>Synced 5 W&B file(s), 0 media file(s), 2 artifact file(s) and 1 other file(s)"
      ],
      "text/plain": [
       "<IPython.core.display.HTML object>"
      ]
     },
     "metadata": {},
     "output_type": "display_data"
    },
    {
     "data": {
      "text/html": [
       "Find logs at: <code>./wandb/run-20241207_125801-5raj7bw1/logs</code>"
      ],
      "text/plain": [
       "<IPython.core.display.HTML object>"
      ]
     },
     "metadata": {},
     "output_type": "display_data"
    }
   ],
   "source": [
    "from ToxicMl.MLmodels.gcn import ChemGCN\n",
    "model = ChemGCN(5, 9, 64, 2)\n",
    "optimizer = torch.optim.Adam(model.parameters())\n",
    "lr_scheduler = torch.optim.lr_scheduler.ExponentialLR(optimizer, gamma = 0.09)\n",
    "loss_fn = torch.nn.CrossEntropyLoss()\n",
    "sampler = ImbalancedSampler(train) \n",
    "device = torch.device('cuda' if torch.cuda.is_available() else 'cpu')\n",
    "\n",
    "trainer = GenericClassificationTrainer(\n",
    "    model,\n",
    "    optimizer,\n",
    "    loss_fn,\n",
    "    lr_scheduler,\n",
    "    train_metrics,\n",
    "    validation_metrics,\n",
    "    train,\n",
    "    validation,\n",
    "    test,\n",
    "    device,\n",
    "    sampler,\n",
    "    EPOCHS,\n",
    "    None,\n",
    "    32\n",
    ")\n",
    "\n",
    "trainer.train(\"HIV ChemGCN 5-64, sampling\")"
   ]
  },
  {
   "cell_type": "code",
   "execution_count": 11,
   "metadata": {},
   "outputs": [
    {
     "name": "stderr",
     "output_type": "stream",
     "text": [
      "/home/tibor/Documents/msc-datascience/2024w/Toxic/ToxicML/.venv/lib/python3.12/site-packages/torch_geometric/deprecation.py:26: UserWarning: 'data.DataLoader' is deprecated, use 'loader.DataLoader' instead\n",
      "  warnings.warn(out)\n"
     ]
    },
    {
     "data": {
      "text/html": [
       "Tracking run with wandb version 0.18.7"
      ],
      "text/plain": [
       "<IPython.core.display.HTML object>"
      ]
     },
     "metadata": {},
     "output_type": "display_data"
    },
    {
     "data": {
      "text/html": [
       "Run data is saved locally in <code>/home/tibor/Documents/msc-datascience/2024w/Toxic/ToxicML/ToxicMl/wandb/run-20241207_130047-dq0ntr8w</code>"
      ],
      "text/plain": [
       "<IPython.core.display.HTML object>"
      ]
     },
     "metadata": {},
     "output_type": "display_data"
    },
    {
     "data": {
      "text/html": [
       "Syncing run <strong><a href='https://wandb.ai/cus-tibor-none/ToxicML/runs/dq0ntr8w' target=\"_blank\">HIV ChemSage 3-16, sampling</a></strong> to <a href='https://wandb.ai/cus-tibor-none/ToxicML' target=\"_blank\">Weights & Biases</a> (<a href='https://wandb.me/developer-guide' target=\"_blank\">docs</a>)<br/>"
      ],
      "text/plain": [
       "<IPython.core.display.HTML object>"
      ]
     },
     "metadata": {},
     "output_type": "display_data"
    },
    {
     "data": {
      "text/html": [
       " View project at <a href='https://wandb.ai/cus-tibor-none/ToxicML' target=\"_blank\">https://wandb.ai/cus-tibor-none/ToxicML</a>"
      ],
      "text/plain": [
       "<IPython.core.display.HTML object>"
      ]
     },
     "metadata": {},
     "output_type": "display_data"
    },
    {
     "data": {
      "text/html": [
       " View run at <a href='https://wandb.ai/cus-tibor-none/ToxicML/runs/dq0ntr8w' target=\"_blank\">https://wandb.ai/cus-tibor-none/ToxicML/runs/dq0ntr8w</a>"
      ],
      "text/plain": [
       "<IPython.core.display.HTML object>"
      ]
     },
     "metadata": {},
     "output_type": "display_data"
    },
    {
     "name": "stderr",
     "output_type": "stream",
     "text": [
      "train epoch: 100%|██████████| 1029/1029.0 [00:08<00:00, 121.83it/s]\n",
      "val epoch: 100%|██████████| 129/129.0 [00:00<00:00, 187.33it/s]\n",
      "train epoch: 100%|██████████| 1029/1029.0 [00:09<00:00, 104.73it/s]\n",
      "val epoch: 100%|██████████| 129/129.0 [00:00<00:00, 175.29it/s]\n",
      "train epoch: 100%|██████████| 1029/1029.0 [00:07<00:00, 129.59it/s]\n",
      "val epoch: 100%|██████████| 129/129.0 [00:00<00:00, 195.22it/s]\n",
      "train epoch: 100%|██████████| 1029/1029.0 [00:08<00:00, 125.74it/s]\n",
      "val epoch: 100%|██████████| 129/129.0 [00:00<00:00, 171.84it/s]\n",
      "train epoch: 100%|██████████| 1029/1029.0 [00:08<00:00, 120.11it/s]\n",
      "val epoch: 100%|██████████| 129/129.0 [00:00<00:00, 212.43it/s]\n",
      "train epoch: 100%|██████████| 1029/1029.0 [00:08<00:00, 128.08it/s]\n",
      "val epoch: 100%|██████████| 129/129.0 [00:00<00:00, 236.03it/s]\n",
      "train epoch: 100%|██████████| 1029/1029.0 [00:08<00:00, 127.57it/s]\n",
      "val epoch: 100%|██████████| 129/129.0 [00:00<00:00, 227.88it/s]\n",
      "train epoch: 100%|██████████| 1029/1029.0 [00:08<00:00, 127.09it/s]\n",
      "val epoch: 100%|██████████| 129/129.0 [00:00<00:00, 191.50it/s]\n",
      "train epoch: 100%|██████████| 1029/1029.0 [00:09<00:00, 112.18it/s]\n",
      "val epoch: 100%|██████████| 129/129.0 [00:00<00:00, 210.91it/s]\n",
      "train epoch: 100%|██████████| 1029/1029.0 [00:08<00:00, 120.54it/s]\n",
      "val epoch: 100%|██████████| 129/129.0 [00:00<00:00, 215.29it/s]\n"
     ]
    },
    {
     "data": {
      "text/html": [
       "\n",
       "    <style>\n",
       "        .wandb-row {\n",
       "            display: flex;\n",
       "            flex-direction: row;\n",
       "            flex-wrap: wrap;\n",
       "            justify-content: flex-start;\n",
       "            width: 100%;\n",
       "        }\n",
       "        .wandb-col {\n",
       "            display: flex;\n",
       "            flex-direction: column;\n",
       "            flex-basis: 100%;\n",
       "            flex: 1;\n",
       "            padding: 10px;\n",
       "        }\n",
       "    </style>\n",
       "<div class=\"wandb-row\"><div class=\"wandb-col\"><h3>Run history:</h3><br/><table class=\"wandb\"><tr><td>train/Accuracy</td><td>▃█▂▅▂▂▁▃▃▁</td></tr><tr><td>train/F1</td><td>▁▁▁▁▁▁▁▁▁▁</td></tr><tr><td>train/Precision</td><td>▁▁▁▁▁▁▁▁▁▁</td></tr><tr><td>train/Recall</td><td>▁▁▁▁▁▁▁▁▁▁</td></tr><tr><td>train/loss</td><td>▃▃▇▄▅▁█▅▅▅</td></tr><tr><td>validation/Accuracy</td><td>▁▁▁▁▁▁▁▁▁▁</td></tr><tr><td>validation/F1</td><td>▁▁▁▁▁▁▁▁▁▁</td></tr><tr><td>validation/Precision</td><td>▁▁▁▁▁▁▁▁▁▁</td></tr><tr><td>validation/Recall</td><td>▁▁▁▁▁▁▁▁▁▁</td></tr><tr><td>validation/loss</td><td>█▆█▄▄▃▄▅▁▄</td></tr></table><br/></div><div class=\"wandb-col\"><h3>Run summary:</h3><br/><table class=\"wandb\"><tr><td>train/Accuracy</td><td>0.4968</td></tr><tr><td>train/F1</td><td>0</td></tr><tr><td>train/Precision</td><td>0</td></tr><tr><td>train/Recall</td><td>0</td></tr><tr><td>train/loss</td><td>0.69527</td></tr><tr><td>validation/Accuracy</td><td>0.9684</td></tr><tr><td>validation/F1</td><td>0</td></tr><tr><td>validation/Precision</td><td>0</td></tr><tr><td>validation/Recall</td><td>0</td></tr><tr><td>validation/loss</td><td>0.56629</td></tr></table><br/></div></div>"
      ],
      "text/plain": [
       "<IPython.core.display.HTML object>"
      ]
     },
     "metadata": {},
     "output_type": "display_data"
    },
    {
     "data": {
      "text/html": [
       " View run <strong style=\"color:#cdcd00\">HIV ChemSage 3-16, sampling</strong> at: <a href='https://wandb.ai/cus-tibor-none/ToxicML/runs/dq0ntr8w' target=\"_blank\">https://wandb.ai/cus-tibor-none/ToxicML/runs/dq0ntr8w</a><br/> View project at: <a href='https://wandb.ai/cus-tibor-none/ToxicML' target=\"_blank\">https://wandb.ai/cus-tibor-none/ToxicML</a><br/>Synced 5 W&B file(s), 0 media file(s), 2 artifact file(s) and 1 other file(s)"
      ],
      "text/plain": [
       "<IPython.core.display.HTML object>"
      ]
     },
     "metadata": {},
     "output_type": "display_data"
    },
    {
     "data": {
      "text/html": [
       "Find logs at: <code>./wandb/run-20241207_130047-dq0ntr8w/logs</code>"
      ],
      "text/plain": [
       "<IPython.core.display.HTML object>"
      ]
     },
     "metadata": {},
     "output_type": "display_data"
    }
   ],
   "source": [
    "from ToxicMl.MLmodels.sage import ChemSage\n",
    "model = ChemSage(3, 9, 16, 2)\n",
    "optimizer = torch.optim.Adam(model.parameters())\n",
    "lr_scheduler = torch.optim.lr_scheduler.ExponentialLR(optimizer, gamma = 0.09)\n",
    "loss_fn = torch.nn.CrossEntropyLoss()\n",
    "sampler = ImbalancedSampler(train) \n",
    "device = torch.device('cuda' if torch.cuda.is_available() else 'cpu')\n",
    "\n",
    "trainer = GenericClassificationTrainer(\n",
    "    model,\n",
    "    optimizer,\n",
    "    loss_fn,\n",
    "    lr_scheduler,\n",
    "    train_metrics,\n",
    "    validation_metrics,\n",
    "    train,\n",
    "    validation,\n",
    "    test,\n",
    "    device,\n",
    "    sampler,\n",
    "    EPOCHS,\n",
    "    None,\n",
    "    32\n",
    ")\n",
    "\n",
    "trainer.train(\"HIV ChemSage 3-16, sampling\")"
   ]
  },
  {
   "cell_type": "code",
   "execution_count": 12,
   "metadata": {},
   "outputs": [
    {
     "name": "stderr",
     "output_type": "stream",
     "text": [
      "/home/tibor/Documents/msc-datascience/2024w/Toxic/ToxicML/.venv/lib/python3.12/site-packages/torch_geometric/deprecation.py:26: UserWarning: 'data.DataLoader' is deprecated, use 'loader.DataLoader' instead\n",
      "  warnings.warn(out)\n"
     ]
    },
    {
     "data": {
      "text/html": [
       "Tracking run with wandb version 0.18.7"
      ],
      "text/plain": [
       "<IPython.core.display.HTML object>"
      ]
     },
     "metadata": {},
     "output_type": "display_data"
    },
    {
     "data": {
      "text/html": [
       "Run data is saved locally in <code>/home/tibor/Documents/msc-datascience/2024w/Toxic/ToxicML/ToxicMl/wandb/run-20241207_130224-zt5s5z45</code>"
      ],
      "text/plain": [
       "<IPython.core.display.HTML object>"
      ]
     },
     "metadata": {},
     "output_type": "display_data"
    },
    {
     "data": {
      "text/html": [
       "Syncing run <strong><a href='https://wandb.ai/cus-tibor-none/ToxicML/runs/zt5s5z45' target=\"_blank\">HIV ChemSage 3-32, sampling</a></strong> to <a href='https://wandb.ai/cus-tibor-none/ToxicML' target=\"_blank\">Weights & Biases</a> (<a href='https://wandb.me/developer-guide' target=\"_blank\">docs</a>)<br/>"
      ],
      "text/plain": [
       "<IPython.core.display.HTML object>"
      ]
     },
     "metadata": {},
     "output_type": "display_data"
    },
    {
     "data": {
      "text/html": [
       " View project at <a href='https://wandb.ai/cus-tibor-none/ToxicML' target=\"_blank\">https://wandb.ai/cus-tibor-none/ToxicML</a>"
      ],
      "text/plain": [
       "<IPython.core.display.HTML object>"
      ]
     },
     "metadata": {},
     "output_type": "display_data"
    },
    {
     "data": {
      "text/html": [
       " View run at <a href='https://wandb.ai/cus-tibor-none/ToxicML/runs/zt5s5z45' target=\"_blank\">https://wandb.ai/cus-tibor-none/ToxicML/runs/zt5s5z45</a>"
      ],
      "text/plain": [
       "<IPython.core.display.HTML object>"
      ]
     },
     "metadata": {},
     "output_type": "display_data"
    },
    {
     "name": "stderr",
     "output_type": "stream",
     "text": [
      "train epoch: 100%|██████████| 1029/1029.0 [00:08<00:00, 127.49it/s]\n",
      "val epoch: 100%|██████████| 129/129.0 [00:00<00:00, 181.20it/s]\n",
      "train epoch: 100%|██████████| 1029/1029.0 [00:09<00:00, 107.04it/s]\n",
      "val epoch: 100%|██████████| 129/129.0 [00:00<00:00, 195.65it/s]\n",
      "train epoch: 100%|██████████| 1029/1029.0 [00:09<00:00, 110.81it/s]\n",
      "val epoch: 100%|██████████| 129/129.0 [00:00<00:00, 213.15it/s]\n",
      "train epoch: 100%|██████████| 1029/1029.0 [00:09<00:00, 108.70it/s]\n",
      "val epoch: 100%|██████████| 129/129.0 [00:00<00:00, 183.68it/s]\n",
      "train epoch: 100%|██████████| 1029/1029.0 [00:09<00:00, 105.59it/s]\n",
      "val epoch: 100%|██████████| 129/129.0 [00:00<00:00, 184.51it/s]\n",
      "train epoch: 100%|██████████| 1029/1029.0 [00:09<00:00, 112.19it/s]\n",
      "val epoch: 100%|██████████| 129/129.0 [00:00<00:00, 194.94it/s]\n",
      "train epoch: 100%|██████████| 1029/1029.0 [00:09<00:00, 112.97it/s]\n",
      "val epoch: 100%|██████████| 129/129.0 [00:00<00:00, 207.60it/s]\n",
      "train epoch: 100%|██████████| 1029/1029.0 [00:08<00:00, 115.55it/s]\n",
      "val epoch: 100%|██████████| 129/129.0 [00:00<00:00, 215.85it/s]\n",
      "train epoch: 100%|██████████| 1029/1029.0 [00:08<00:00, 114.94it/s]\n",
      "val epoch: 100%|██████████| 129/129.0 [00:00<00:00, 201.00it/s]\n",
      "train epoch: 100%|██████████| 1029/1029.0 [00:08<00:00, 115.31it/s]\n",
      "val epoch: 100%|██████████| 129/129.0 [00:00<00:00, 193.43it/s]\n"
     ]
    },
    {
     "data": {
      "text/html": [
       "\n",
       "    <style>\n",
       "        .wandb-row {\n",
       "            display: flex;\n",
       "            flex-direction: row;\n",
       "            flex-wrap: wrap;\n",
       "            justify-content: flex-start;\n",
       "            width: 100%;\n",
       "        }\n",
       "        .wandb-col {\n",
       "            display: flex;\n",
       "            flex-direction: column;\n",
       "            flex-basis: 100%;\n",
       "            flex: 1;\n",
       "            padding: 10px;\n",
       "        }\n",
       "    </style>\n",
       "<div class=\"wandb-row\"><div class=\"wandb-col\"><h3>Run history:</h3><br/><table class=\"wandb\"><tr><td>train/Accuracy</td><td>▁▇▇█▆▆▆▇▇▇</td></tr><tr><td>train/F1</td><td>█▃▂▂▁▁▁▁▁▁</td></tr><tr><td>train/Precision</td><td>█▃▂▁▁▁▁▁▁▁</td></tr><tr><td>train/Recall</td><td>▁▆▇██▇▇▇▇█</td></tr><tr><td>train/loss</td><td>▁▂▁▄▄█▇▄▂▄</td></tr><tr><td>validation/Accuracy</td><td>▃▅▆█▁▇▆▄▆▂</td></tr><tr><td>validation/F1</td><td>▃▅▇█▁▅▇▆▄▃</td></tr><tr><td>validation/Precision</td><td>▆▅▆▂▆▂▇█▁▇</td></tr><tr><td>validation/Recall</td><td>▃▅▆█▁▅▇▆▄▃</td></tr><tr><td>validation/loss</td><td>▆▄▆▁▆▁█▂▃▂</td></tr></table><br/></div><div class=\"wandb-col\"><h3>Run summary:</h3><br/><table class=\"wandb\"><tr><td>train/Accuracy</td><td>0.6115</td></tr><tr><td>train/F1</td><td>0.54524</td></tr><tr><td>train/Precision</td><td>0.46794</td></tr><tr><td>train/Recall</td><td>0.65314</td></tr><tr><td>train/loss</td><td>0.70631</td></tr><tr><td>validation/Accuracy</td><td>0.789</td></tr><tr><td>validation/F1</td><td>0.12146</td></tr><tr><td>validation/Precision</td><td>0.46154</td></tr><tr><td>validation/Recall</td><td>0.06993</td></tr><tr><td>validation/loss</td><td>0.68929</td></tr></table><br/></div></div>"
      ],
      "text/plain": [
       "<IPython.core.display.HTML object>"
      ]
     },
     "metadata": {},
     "output_type": "display_data"
    },
    {
     "data": {
      "text/html": [
       " View run <strong style=\"color:#cdcd00\">HIV ChemSage 3-32, sampling</strong> at: <a href='https://wandb.ai/cus-tibor-none/ToxicML/runs/zt5s5z45' target=\"_blank\">https://wandb.ai/cus-tibor-none/ToxicML/runs/zt5s5z45</a><br/> View project at: <a href='https://wandb.ai/cus-tibor-none/ToxicML' target=\"_blank\">https://wandb.ai/cus-tibor-none/ToxicML</a><br/>Synced 5 W&B file(s), 0 media file(s), 2 artifact file(s) and 1 other file(s)"
      ],
      "text/plain": [
       "<IPython.core.display.HTML object>"
      ]
     },
     "metadata": {},
     "output_type": "display_data"
    },
    {
     "data": {
      "text/html": [
       "Find logs at: <code>./wandb/run-20241207_130224-zt5s5z45/logs</code>"
      ],
      "text/plain": [
       "<IPython.core.display.HTML object>"
      ]
     },
     "metadata": {},
     "output_type": "display_data"
    }
   ],
   "source": [
    "from ToxicMl.MLmodels.sage import ChemSage\n",
    "model = ChemSage(3, 9, 32, 2)\n",
    "optimizer = torch.optim.Adam(model.parameters())\n",
    "lr_scheduler = torch.optim.lr_scheduler.ExponentialLR(optimizer, gamma = 0.09)\n",
    "loss_fn = torch.nn.CrossEntropyLoss()\n",
    "sampler = ImbalancedSampler(train) \n",
    "device = torch.device('cuda' if torch.cuda.is_available() else 'cpu')\n",
    "\n",
    "trainer = GenericClassificationTrainer(\n",
    "    model,\n",
    "    optimizer,\n",
    "    loss_fn,\n",
    "    lr_scheduler,\n",
    "    train_metrics,\n",
    "    validation_metrics,\n",
    "    train,\n",
    "    validation,\n",
    "    test,\n",
    "    device,\n",
    "    sampler,\n",
    "    EPOCHS,\n",
    "    None,\n",
    "    32\n",
    ")\n",
    "\n",
    "trainer.train(\"HIV ChemSage 3-32, sampling\")"
   ]
  },
  {
   "cell_type": "code",
   "execution_count": 13,
   "metadata": {},
   "outputs": [
    {
     "name": "stderr",
     "output_type": "stream",
     "text": [
      "/home/tibor/Documents/msc-datascience/2024w/Toxic/ToxicML/.venv/lib/python3.12/site-packages/torch_geometric/deprecation.py:26: UserWarning: 'data.DataLoader' is deprecated, use 'loader.DataLoader' instead\n",
      "  warnings.warn(out)\n"
     ]
    },
    {
     "data": {
      "text/html": [
       "Tracking run with wandb version 0.18.7"
      ],
      "text/plain": [
       "<IPython.core.display.HTML object>"
      ]
     },
     "metadata": {},
     "output_type": "display_data"
    },
    {
     "data": {
      "text/html": [
       "Run data is saved locally in <code>/home/tibor/Documents/msc-datascience/2024w/Toxic/ToxicML/ToxicMl/wandb/run-20241207_130409-cjpv9fvk</code>"
      ],
      "text/plain": [
       "<IPython.core.display.HTML object>"
      ]
     },
     "metadata": {},
     "output_type": "display_data"
    },
    {
     "data": {
      "text/html": [
       "Syncing run <strong><a href='https://wandb.ai/cus-tibor-none/ToxicML/runs/cjpv9fvk' target=\"_blank\">HIV ChemSage 5-32, sampling</a></strong> to <a href='https://wandb.ai/cus-tibor-none/ToxicML' target=\"_blank\">Weights & Biases</a> (<a href='https://wandb.me/developer-guide' target=\"_blank\">docs</a>)<br/>"
      ],
      "text/plain": [
       "<IPython.core.display.HTML object>"
      ]
     },
     "metadata": {},
     "output_type": "display_data"
    },
    {
     "data": {
      "text/html": [
       " View project at <a href='https://wandb.ai/cus-tibor-none/ToxicML' target=\"_blank\">https://wandb.ai/cus-tibor-none/ToxicML</a>"
      ],
      "text/plain": [
       "<IPython.core.display.HTML object>"
      ]
     },
     "metadata": {},
     "output_type": "display_data"
    },
    {
     "data": {
      "text/html": [
       " View run at <a href='https://wandb.ai/cus-tibor-none/ToxicML/runs/cjpv9fvk' target=\"_blank\">https://wandb.ai/cus-tibor-none/ToxicML/runs/cjpv9fvk</a>"
      ],
      "text/plain": [
       "<IPython.core.display.HTML object>"
      ]
     },
     "metadata": {},
     "output_type": "display_data"
    },
    {
     "name": "stderr",
     "output_type": "stream",
     "text": [
      "train epoch: 100%|██████████| 1029/1029.0 [00:09<00:00, 105.18it/s]\n",
      "val epoch: 100%|██████████| 129/129.0 [00:00<00:00, 158.44it/s]\n",
      "train epoch: 100%|██████████| 1029/1029.0 [00:11<00:00, 91.70it/s] \n",
      "val epoch: 100%|██████████| 129/129.0 [00:00<00:00, 177.28it/s]\n",
      "train epoch: 100%|██████████| 1029/1029.0 [00:10<00:00, 94.08it/s] \n",
      "val epoch: 100%|██████████| 129/129.0 [00:00<00:00, 191.55it/s]\n",
      "train epoch: 100%|██████████| 1029/1029.0 [00:11<00:00, 91.98it/s] \n",
      "val epoch: 100%|██████████| 129/129.0 [00:00<00:00, 183.21it/s]\n",
      "train epoch: 100%|██████████| 1029/1029.0 [00:11<00:00, 92.20it/s]\n",
      "val epoch: 100%|██████████| 129/129.0 [00:00<00:00, 183.82it/s]\n",
      "train epoch: 100%|██████████| 1029/1029.0 [00:10<00:00, 95.99it/s]\n",
      "val epoch: 100%|██████████| 129/129.0 [00:00<00:00, 152.16it/s]\n",
      "train epoch: 100%|██████████| 1029/1029.0 [00:12<00:00, 85.11it/s]\n",
      "val epoch: 100%|██████████| 129/129.0 [00:00<00:00, 160.27it/s]\n",
      "train epoch: 100%|██████████| 1029/1029.0 [00:11<00:00, 90.02it/s]\n",
      "val epoch: 100%|██████████| 129/129.0 [00:00<00:00, 175.05it/s]\n",
      "train epoch: 100%|██████████| 1029/1029.0 [00:12<00:00, 85.23it/s]\n",
      "val epoch: 100%|██████████| 129/129.0 [00:00<00:00, 179.69it/s]\n",
      "train epoch: 100%|██████████| 1029/1029.0 [00:12<00:00, 84.62it/s]\n",
      "val epoch: 100%|██████████| 129/129.0 [00:00<00:00, 161.07it/s]\n"
     ]
    },
    {
     "data": {
      "text/html": [
       "\n",
       "    <style>\n",
       "        .wandb-row {\n",
       "            display: flex;\n",
       "            flex-direction: row;\n",
       "            flex-wrap: wrap;\n",
       "            justify-content: flex-start;\n",
       "            width: 100%;\n",
       "        }\n",
       "        .wandb-col {\n",
       "            display: flex;\n",
       "            flex-direction: column;\n",
       "            flex-basis: 100%;\n",
       "            flex: 1;\n",
       "            padding: 10px;\n",
       "        }\n",
       "    </style>\n",
       "<div class=\"wandb-row\"><div class=\"wandb-col\"><h3>Run history:</h3><br/><table class=\"wandb\"><tr><td>train/Accuracy</td><td>▁▆█▄▂▁█▆▅▆</td></tr><tr><td>train/F1</td><td>█▁▁▂▁▁▁▁▁▁</td></tr><tr><td>train/Precision</td><td>█▁▁▂▁▁▁▁▁▁</td></tr><tr><td>train/Recall</td><td>▄▁▁█▁▁▁▁▁▁</td></tr><tr><td>train/loss</td><td>▄▆▃▅▄▂▁▄▄█</td></tr><tr><td>validation/Accuracy</td><td>▁▁▁▁▁▁▁▁▁▁</td></tr><tr><td>validation/F1</td><td>▁▁▁▁▁▁▁▁▁▁</td></tr><tr><td>validation/Precision</td><td>▁▁▁▁▁▁▁▁▁▁</td></tr><tr><td>validation/Recall</td><td>▁▁▁▁▁▁▁▁▁▁</td></tr><tr><td>validation/loss</td><td>▄█▅▅█▄▅▁▇█</td></tr></table><br/></div><div class=\"wandb-col\"><h3>Run summary:</h3><br/><table class=\"wandb\"><tr><td>train/Accuracy</td><td>0.5005</td></tr><tr><td>train/F1</td><td>0</td></tr><tr><td>train/Precision</td><td>0</td></tr><tr><td>train/Recall</td><td>0</td></tr><tr><td>train/loss</td><td>0.75377</td></tr><tr><td>validation/Accuracy</td><td>0.9684</td></tr><tr><td>validation/F1</td><td>0</td></tr><tr><td>validation/Precision</td><td>0</td></tr><tr><td>validation/Recall</td><td>0</td></tr><tr><td>validation/loss</td><td>0.62308</td></tr></table><br/></div></div>"
      ],
      "text/plain": [
       "<IPython.core.display.HTML object>"
      ]
     },
     "metadata": {},
     "output_type": "display_data"
    },
    {
     "data": {
      "text/html": [
       " View run <strong style=\"color:#cdcd00\">HIV ChemSage 5-32, sampling</strong> at: <a href='https://wandb.ai/cus-tibor-none/ToxicML/runs/cjpv9fvk' target=\"_blank\">https://wandb.ai/cus-tibor-none/ToxicML/runs/cjpv9fvk</a><br/> View project at: <a href='https://wandb.ai/cus-tibor-none/ToxicML' target=\"_blank\">https://wandb.ai/cus-tibor-none/ToxicML</a><br/>Synced 5 W&B file(s), 0 media file(s), 2 artifact file(s) and 1 other file(s)"
      ],
      "text/plain": [
       "<IPython.core.display.HTML object>"
      ]
     },
     "metadata": {},
     "output_type": "display_data"
    },
    {
     "data": {
      "text/html": [
       "Find logs at: <code>./wandb/run-20241207_130409-cjpv9fvk/logs</code>"
      ],
      "text/plain": [
       "<IPython.core.display.HTML object>"
      ]
     },
     "metadata": {},
     "output_type": "display_data"
    }
   ],
   "source": [
    "from ToxicMl.MLmodels.sage import ChemSage\n",
    "model = ChemSage(5, 9, 32, 2)\n",
    "optimizer = torch.optim.Adam(model.parameters())\n",
    "lr_scheduler = torch.optim.lr_scheduler.ExponentialLR(optimizer, gamma = 0.09)\n",
    "loss_fn = torch.nn.CrossEntropyLoss()\n",
    "sampler = ImbalancedSampler(train) \n",
    "device = torch.device('cuda' if torch.cuda.is_available() else 'cpu')\n",
    "\n",
    "trainer = GenericClassificationTrainer(\n",
    "    model,\n",
    "    optimizer,\n",
    "    loss_fn,\n",
    "    lr_scheduler,\n",
    "    train_metrics,\n",
    "    validation_metrics,\n",
    "    train,\n",
    "    validation,\n",
    "    test,\n",
    "    device,\n",
    "    sampler,\n",
    "    EPOCHS,\n",
    "    None,\n",
    "    32\n",
    ")\n",
    "\n",
    "trainer.train(\"HIV ChemSage 5-32, sampling\")"
   ]
  },
  {
   "cell_type": "code",
   "execution_count": 14,
   "metadata": {},
   "outputs": [
    {
     "name": "stderr",
     "output_type": "stream",
     "text": [
      "/home/tibor/Documents/msc-datascience/2024w/Toxic/ToxicML/.venv/lib/python3.12/site-packages/torch_geometric/deprecation.py:26: UserWarning: 'data.DataLoader' is deprecated, use 'loader.DataLoader' instead\n",
      "  warnings.warn(out)\n"
     ]
    },
    {
     "data": {
      "text/html": [
       "Tracking run with wandb version 0.18.7"
      ],
      "text/plain": [
       "<IPython.core.display.HTML object>"
      ]
     },
     "metadata": {},
     "output_type": "display_data"
    },
    {
     "data": {
      "text/html": [
       "Run data is saved locally in <code>/home/tibor/Documents/msc-datascience/2024w/Toxic/ToxicML/ToxicMl/wandb/run-20241207_130616-3dfm0des</code>"
      ],
      "text/plain": [
       "<IPython.core.display.HTML object>"
      ]
     },
     "metadata": {},
     "output_type": "display_data"
    },
    {
     "data": {
      "text/html": [
       "Syncing run <strong><a href='https://wandb.ai/cus-tibor-none/ToxicML/runs/3dfm0des' target=\"_blank\">HIV ChemSage 5-64, sampling</a></strong> to <a href='https://wandb.ai/cus-tibor-none/ToxicML' target=\"_blank\">Weights & Biases</a> (<a href='https://wandb.me/developer-guide' target=\"_blank\">docs</a>)<br/>"
      ],
      "text/plain": [
       "<IPython.core.display.HTML object>"
      ]
     },
     "metadata": {},
     "output_type": "display_data"
    },
    {
     "data": {
      "text/html": [
       " View project at <a href='https://wandb.ai/cus-tibor-none/ToxicML' target=\"_blank\">https://wandb.ai/cus-tibor-none/ToxicML</a>"
      ],
      "text/plain": [
       "<IPython.core.display.HTML object>"
      ]
     },
     "metadata": {},
     "output_type": "display_data"
    },
    {
     "data": {
      "text/html": [
       " View run at <a href='https://wandb.ai/cus-tibor-none/ToxicML/runs/3dfm0des' target=\"_blank\">https://wandb.ai/cus-tibor-none/ToxicML/runs/3dfm0des</a>"
      ],
      "text/plain": [
       "<IPython.core.display.HTML object>"
      ]
     },
     "metadata": {},
     "output_type": "display_data"
    },
    {
     "name": "stderr",
     "output_type": "stream",
     "text": [
      "train epoch: 100%|██████████| 1029/1029.0 [00:12<00:00, 82.51it/s]\n",
      "val epoch: 100%|██████████| 129/129.0 [00:00<00:00, 145.30it/s]\n",
      "train epoch: 100%|██████████| 1029/1029.0 [00:13<00:00, 78.43it/s]\n",
      "val epoch: 100%|██████████| 129/129.0 [00:00<00:00, 151.74it/s]\n",
      "train epoch: 100%|██████████| 1029/1029.0 [00:13<00:00, 78.64it/s]\n",
      "val epoch: 100%|██████████| 129/129.0 [00:00<00:00, 160.37it/s]\n",
      "train epoch: 100%|██████████| 1029/1029.0 [00:13<00:00, 74.49it/s]\n",
      "val epoch: 100%|██████████| 129/129.0 [00:00<00:00, 136.02it/s]\n",
      "train epoch: 100%|██████████| 1029/1029.0 [00:14<00:00, 71.21it/s]\n",
      "val epoch: 100%|██████████| 129/129.0 [00:00<00:00, 147.74it/s]\n",
      "train epoch: 100%|██████████| 1029/1029.0 [00:14<00:00, 70.49it/s]\n",
      "val epoch: 100%|██████████| 129/129.0 [00:00<00:00, 155.08it/s]\n",
      "train epoch: 100%|██████████| 1029/1029.0 [00:13<00:00, 75.10it/s]\n",
      "val epoch: 100%|██████████| 129/129.0 [00:00<00:00, 164.64it/s]\n",
      "train epoch: 100%|██████████| 1029/1029.0 [00:14<00:00, 71.96it/s]\n",
      "val epoch: 100%|██████████| 129/129.0 [00:01<00:00, 128.70it/s]\n",
      "train epoch: 100%|██████████| 1029/1029.0 [00:14<00:00, 72.15it/s]\n",
      "val epoch: 100%|██████████| 129/129.0 [00:00<00:00, 159.09it/s]\n",
      "train epoch: 100%|██████████| 1029/1029.0 [00:13<00:00, 77.45it/s]\n",
      "val epoch: 100%|██████████| 129/129.0 [00:00<00:00, 171.17it/s]\n"
     ]
    },
    {
     "data": {
      "text/html": [
       "\n",
       "    <style>\n",
       "        .wandb-row {\n",
       "            display: flex;\n",
       "            flex-direction: row;\n",
       "            flex-wrap: wrap;\n",
       "            justify-content: flex-start;\n",
       "            width: 100%;\n",
       "        }\n",
       "        .wandb-col {\n",
       "            display: flex;\n",
       "            flex-direction: column;\n",
       "            flex-basis: 100%;\n",
       "            flex: 1;\n",
       "            padding: 10px;\n",
       "        }\n",
       "    </style>\n",
       "<div class=\"wandb-row\"><div class=\"wandb-col\"><h3>Run history:</h3><br/><table class=\"wandb\"><tr><td>train/Accuracy</td><td>▁█▇▇█▇███▇</td></tr><tr><td>train/F1</td><td>▁▃▃▁▅▃▄▅█▄</td></tr><tr><td>train/Precision</td><td>█▁▂▁▂▂▂▂▃▂</td></tr><tr><td>train/Recall</td><td>▁█▇▇█▇███▇</td></tr><tr><td>train/loss</td><td>▁▆▄▂▆▄▅▄█▃</td></tr><tr><td>validation/Accuracy</td><td>█▄▆▄▂▃▁▆▃▃</td></tr><tr><td>validation/F1</td><td>█▆▃▅▂▃▁█▂▅</td></tr><tr><td>validation/Precision</td><td>▂▇▁▇▇▇█▆▆█</td></tr><tr><td>validation/Recall</td><td>█▅▄▅▂▃▁▇▂▄</td></tr><tr><td>validation/loss</td><td>▂▂▁▆█▅▄▂▃▃</td></tr></table><br/></div><div class=\"wandb-col\"><h3>Run summary:</h3><br/><table class=\"wandb\"><tr><td>train/Accuracy</td><td>0.6273</td></tr><tr><td>train/F1</td><td>0.59434</td></tr><tr><td>train/Precision</td><td>0.54622</td></tr><tr><td>train/Recall</td><td>0.65177</td></tr><tr><td>train/loss</td><td>0.59946</td></tr><tr><td>validation/Accuracy</td><td>0.7622</td></tr><tr><td>validation/F1</td><td>0.11573</td></tr><tr><td>validation/Precision</td><td>0.49231</td></tr><tr><td>validation/Recall</td><td>0.06557</td></tr><tr><td>validation/loss</td><td>0.59171</td></tr></table><br/></div></div>"
      ],
      "text/plain": [
       "<IPython.core.display.HTML object>"
      ]
     },
     "metadata": {},
     "output_type": "display_data"
    },
    {
     "data": {
      "text/html": [
       " View run <strong style=\"color:#cdcd00\">HIV ChemSage 5-64, sampling</strong> at: <a href='https://wandb.ai/cus-tibor-none/ToxicML/runs/3dfm0des' target=\"_blank\">https://wandb.ai/cus-tibor-none/ToxicML/runs/3dfm0des</a><br/> View project at: <a href='https://wandb.ai/cus-tibor-none/ToxicML' target=\"_blank\">https://wandb.ai/cus-tibor-none/ToxicML</a><br/>Synced 5 W&B file(s), 0 media file(s), 2 artifact file(s) and 1 other file(s)"
      ],
      "text/plain": [
       "<IPython.core.display.HTML object>"
      ]
     },
     "metadata": {},
     "output_type": "display_data"
    },
    {
     "data": {
      "text/html": [
       "Find logs at: <code>./wandb/run-20241207_130616-3dfm0des/logs</code>"
      ],
      "text/plain": [
       "<IPython.core.display.HTML object>"
      ]
     },
     "metadata": {},
     "output_type": "display_data"
    }
   ],
   "source": [
    "from ToxicMl.MLmodels.sage import ChemSage\n",
    "model = ChemSage(5, 9, 64, 2)\n",
    "optimizer = torch.optim.Adam(model.parameters())\n",
    "lr_scheduler = torch.optim.lr_scheduler.ExponentialLR(optimizer, gamma = 0.09)\n",
    "loss_fn = torch.nn.CrossEntropyLoss()\n",
    "sampler = ImbalancedSampler(train) \n",
    "device = torch.device('cuda' if torch.cuda.is_available() else 'cpu')\n",
    "\n",
    "trainer = GenericClassificationTrainer(\n",
    "    model,\n",
    "    optimizer,\n",
    "    loss_fn,\n",
    "    lr_scheduler,\n",
    "    train_metrics,\n",
    "    validation_metrics,\n",
    "    train,\n",
    "    validation,\n",
    "    test,\n",
    "    device,\n",
    "    sampler,\n",
    "    EPOCHS,\n",
    "    None,\n",
    "    32\n",
    ")\n",
    "\n",
    "trainer.train(\"HIV ChemSage 5-64, sampling\")"
   ]
  },
  {
   "cell_type": "code",
   "execution_count": 3,
   "metadata": {},
   "outputs": [
    {
     "name": "stderr",
     "output_type": "stream",
     "text": [
      "/home/tibor/Documents/msc-datascience/2024w/Toxic/ToxicML/.venv/lib/python3.12/site-packages/torch_geometric/deprecation.py:26: UserWarning: 'data.DataLoader' is deprecated, use 'loader.DataLoader' instead\n",
      "  warnings.warn(out)\n",
      "\u001b[34m\u001b[1mwandb\u001b[0m: Using wandb-core as the SDK backend.  Please refer to https://wandb.me/wandb-core for more information.\n",
      "\u001b[34m\u001b[1mwandb\u001b[0m: Currently logged in as: \u001b[33mcus-tibor\u001b[0m (\u001b[33mcus-tibor-none\u001b[0m). Use \u001b[1m`wandb login --relogin`\u001b[0m to force relogin\n"
     ]
    },
    {
     "data": {
      "text/html": [
       "Tracking run with wandb version 0.18.7"
      ],
      "text/plain": [
       "<IPython.core.display.HTML object>"
      ]
     },
     "metadata": {},
     "output_type": "display_data"
    },
    {
     "data": {
      "text/html": [
       "Run data is saved locally in <code>/home/tibor/Documents/msc-datascience/2024w/Toxic/ToxicML/ToxicMl/wandb/run-20241207_133039-eoubmafd</code>"
      ],
      "text/plain": [
       "<IPython.core.display.HTML object>"
      ]
     },
     "metadata": {},
     "output_type": "display_data"
    },
    {
     "data": {
      "text/html": [
       "Syncing run <strong><a href='https://wandb.ai/cus-tibor-none/ToxicML/runs/eoubmafd' target=\"_blank\">HIV ChemAttention 3-16, sampling</a></strong> to <a href='https://wandb.ai/cus-tibor-none/ToxicML' target=\"_blank\">Weights & Biases</a> (<a href='https://wandb.me/developer-guide' target=\"_blank\">docs</a>)<br/>"
      ],
      "text/plain": [
       "<IPython.core.display.HTML object>"
      ]
     },
     "metadata": {},
     "output_type": "display_data"
    },
    {
     "data": {
      "text/html": [
       " View project at <a href='https://wandb.ai/cus-tibor-none/ToxicML' target=\"_blank\">https://wandb.ai/cus-tibor-none/ToxicML</a>"
      ],
      "text/plain": [
       "<IPython.core.display.HTML object>"
      ]
     },
     "metadata": {},
     "output_type": "display_data"
    },
    {
     "data": {
      "text/html": [
       " View run at <a href='https://wandb.ai/cus-tibor-none/ToxicML/runs/eoubmafd' target=\"_blank\">https://wandb.ai/cus-tibor-none/ToxicML/runs/eoubmafd</a>"
      ],
      "text/plain": [
       "<IPython.core.display.HTML object>"
      ]
     },
     "metadata": {},
     "output_type": "display_data"
    },
    {
     "name": "stderr",
     "output_type": "stream",
     "text": [
      "train epoch: 100%|██████████| 1029/1029.0 [00:10<00:00, 97.15it/s]\n",
      "val epoch: 100%|██████████| 129/129.0 [00:01<00:00, 109.64it/s]\n",
      "train epoch: 100%|██████████| 1029/1029.0 [00:10<00:00, 97.84it/s]\n",
      "val epoch: 100%|██████████| 129/129.0 [00:00<00:00, 199.42it/s]\n",
      "train epoch: 100%|██████████| 1029/1029.0 [00:09<00:00, 104.47it/s]\n",
      "val epoch: 100%|██████████| 129/129.0 [00:00<00:00, 199.89it/s]\n",
      "train epoch: 100%|██████████| 1029/1029.0 [00:10<00:00, 99.62it/s]\n",
      "val epoch: 100%|██████████| 129/129.0 [00:00<00:00, 184.61it/s]\n",
      "train epoch: 100%|██████████| 1029/1029.0 [00:10<00:00, 102.07it/s]\n",
      "val epoch: 100%|██████████| 129/129.0 [00:00<00:00, 155.01it/s]\n",
      "train epoch: 100%|██████████| 1029/1029.0 [00:11<00:00, 86.81it/s]\n",
      "val epoch: 100%|██████████| 129/129.0 [00:00<00:00, 172.73it/s]\n",
      "train epoch: 100%|██████████| 1029/1029.0 [00:12<00:00, 84.91it/s]\n",
      "val epoch: 100%|██████████| 129/129.0 [00:00<00:00, 146.48it/s]\n",
      "train epoch: 100%|██████████| 1029/1029.0 [00:12<00:00, 85.07it/s]\n",
      "val epoch: 100%|██████████| 129/129.0 [00:00<00:00, 165.53it/s]\n",
      "train epoch: 100%|██████████| 1029/1029.0 [00:12<00:00, 85.56it/s]\n",
      "val epoch: 100%|██████████| 129/129.0 [00:00<00:00, 165.66it/s]\n",
      "train epoch: 100%|██████████| 1029/1029.0 [00:12<00:00, 84.15it/s]\n",
      "val epoch: 100%|██████████| 129/129.0 [00:00<00:00, 144.92it/s]\n"
     ]
    },
    {
     "data": {
      "text/html": [
       "\n",
       "    <style>\n",
       "        .wandb-row {\n",
       "            display: flex;\n",
       "            flex-direction: row;\n",
       "            flex-wrap: wrap;\n",
       "            justify-content: flex-start;\n",
       "            width: 100%;\n",
       "        }\n",
       "        .wandb-col {\n",
       "            display: flex;\n",
       "            flex-direction: column;\n",
       "            flex-basis: 100%;\n",
       "            flex: 1;\n",
       "            padding: 10px;\n",
       "        }\n",
       "    </style>\n",
       "<div class=\"wandb-row\"><div class=\"wandb-col\"><h3>Run history:</h3><br/><table class=\"wandb\"><tr><td>train/Accuracy</td><td>▁▇▇█▇▇▇▇▆▇</td></tr><tr><td>train/F1</td><td>█▁▄▄▃▃▄▃▂▃</td></tr><tr><td>train/Precision</td><td>█▁▃▃▂▂▃▂▂▂</td></tr><tr><td>train/Recall</td><td>▁█▇▇▇▇▇▇▇▇</td></tr><tr><td>train/loss</td><td>▁▆▆▂▇▃█▅▄▆</td></tr><tr><td>validation/Accuracy</td><td>█▇▃▇▁▅▂▄█▇</td></tr><tr><td>validation/F1</td><td>▁▅▃▅▄▄▁▁▇█</td></tr><tr><td>validation/Precision</td><td>▁▄▆▅█▅▅▃▅▆</td></tr><tr><td>validation/Recall</td><td>▂▅▃▆▃▄▁▁██</td></tr><tr><td>validation/loss</td><td>▃▃▃▇▅█▁▂▆▄</td></tr></table><br/></div><div class=\"wandb-col\"><h3>Run summary:</h3><br/><table class=\"wandb\"><tr><td>train/Accuracy</td><td>0.5912</td></tr><tr><td>train/F1</td><td>0.54556</td></tr><tr><td>train/Precision</td><td>0.48668</td></tr><tr><td>train/Recall</td><td>0.62065</td></tr><tr><td>train/loss</td><td>0.75885</td></tr><tr><td>validation/Accuracy</td><td>0.7941</td></tr><tr><td>validation/F1</td><td>0.1277</td></tr><tr><td>validation/Precision</td><td>0.47692</td></tr><tr><td>validation/Recall</td><td>0.07372</td></tr><tr><td>validation/loss</td><td>0.72007</td></tr></table><br/></div></div>"
      ],
      "text/plain": [
       "<IPython.core.display.HTML object>"
      ]
     },
     "metadata": {},
     "output_type": "display_data"
    },
    {
     "data": {
      "text/html": [
       " View run <strong style=\"color:#cdcd00\">HIV ChemAttention 3-16, sampling</strong> at: <a href='https://wandb.ai/cus-tibor-none/ToxicML/runs/eoubmafd' target=\"_blank\">https://wandb.ai/cus-tibor-none/ToxicML/runs/eoubmafd</a><br/> View project at: <a href='https://wandb.ai/cus-tibor-none/ToxicML' target=\"_blank\">https://wandb.ai/cus-tibor-none/ToxicML</a><br/>Synced 5 W&B file(s), 0 media file(s), 2 artifact file(s) and 1 other file(s)"
      ],
      "text/plain": [
       "<IPython.core.display.HTML object>"
      ]
     },
     "metadata": {},
     "output_type": "display_data"
    },
    {
     "data": {
      "text/html": [
       "Find logs at: <code>./wandb/run-20241207_133039-eoubmafd/logs</code>"
      ],
      "text/plain": [
       "<IPython.core.display.HTML object>"
      ]
     },
     "metadata": {},
     "output_type": "display_data"
    }
   ],
   "source": [
    "from ToxicMl.MLmodels.attention import ChemAttention\n",
    "model = ChemAttention(3, 9, 16, 2)\n",
    "optimizer = torch.optim.Adam(model.parameters())\n",
    "lr_scheduler = torch.optim.lr_scheduler.ExponentialLR(optimizer, gamma = 0.09)\n",
    "loss_fn = torch.nn.CrossEntropyLoss()\n",
    "sampler = ImbalancedSampler(train) \n",
    "device = torch.device('cuda' if torch.cuda.is_available() else 'cpu')\n",
    "\n",
    "trainer = GenericClassificationTrainer(\n",
    "    model,\n",
    "    optimizer,\n",
    "    loss_fn,\n",
    "    lr_scheduler,\n",
    "    train_metrics,\n",
    "    validation_metrics,\n",
    "    train,\n",
    "    validation,\n",
    "    test,\n",
    "    device,\n",
    "    sampler,\n",
    "    EPOCHS,\n",
    "    None,\n",
    "    32\n",
    ")\n",
    "\n",
    "trainer.train(\"HIV ChemAttention 3-16, sampling\")"
   ]
  },
  {
   "cell_type": "code",
   "execution_count": 4,
   "metadata": {},
   "outputs": [
    {
     "name": "stderr",
     "output_type": "stream",
     "text": [
      "/home/tibor/Documents/msc-datascience/2024w/Toxic/ToxicML/.venv/lib/python3.12/site-packages/torch_geometric/deprecation.py:26: UserWarning: 'data.DataLoader' is deprecated, use 'loader.DataLoader' instead\n",
      "  warnings.warn(out)\n"
     ]
    },
    {
     "data": {
      "text/html": [
       "Tracking run with wandb version 0.18.7"
      ],
      "text/plain": [
       "<IPython.core.display.HTML object>"
      ]
     },
     "metadata": {},
     "output_type": "display_data"
    },
    {
     "data": {
      "text/html": [
       "Run data is saved locally in <code>/home/tibor/Documents/msc-datascience/2024w/Toxic/ToxicML/ToxicMl/wandb/run-20241207_133247-o6iixini</code>"
      ],
      "text/plain": [
       "<IPython.core.display.HTML object>"
      ]
     },
     "metadata": {},
     "output_type": "display_data"
    },
    {
     "data": {
      "text/html": [
       "Syncing run <strong><a href='https://wandb.ai/cus-tibor-none/ToxicML/runs/o6iixini' target=\"_blank\">HIV ChemAttention 3-32, sampling</a></strong> to <a href='https://wandb.ai/cus-tibor-none/ToxicML' target=\"_blank\">Weights & Biases</a> (<a href='https://wandb.me/developer-guide' target=\"_blank\">docs</a>)<br/>"
      ],
      "text/plain": [
       "<IPython.core.display.HTML object>"
      ]
     },
     "metadata": {},
     "output_type": "display_data"
    },
    {
     "data": {
      "text/html": [
       " View project at <a href='https://wandb.ai/cus-tibor-none/ToxicML' target=\"_blank\">https://wandb.ai/cus-tibor-none/ToxicML</a>"
      ],
      "text/plain": [
       "<IPython.core.display.HTML object>"
      ]
     },
     "metadata": {},
     "output_type": "display_data"
    },
    {
     "data": {
      "text/html": [
       " View run at <a href='https://wandb.ai/cus-tibor-none/ToxicML/runs/o6iixini' target=\"_blank\">https://wandb.ai/cus-tibor-none/ToxicML/runs/o6iixini</a>"
      ],
      "text/plain": [
       "<IPython.core.display.HTML object>"
      ]
     },
     "metadata": {},
     "output_type": "display_data"
    },
    {
     "name": "stderr",
     "output_type": "stream",
     "text": [
      "train epoch: 100%|██████████| 1029/1029.0 [00:10<00:00, 94.53it/s]\n",
      "val epoch: 100%|██████████| 129/129.0 [00:00<00:00, 166.88it/s]\n",
      "train epoch: 100%|██████████| 1029/1029.0 [00:12<00:00, 81.38it/s]\n",
      "val epoch: 100%|██████████| 129/129.0 [00:00<00:00, 163.48it/s]\n",
      "train epoch: 100%|██████████| 1029/1029.0 [00:12<00:00, 83.67it/s]\n",
      "val epoch: 100%|██████████| 129/129.0 [00:00<00:00, 170.59it/s]\n",
      "train epoch: 100%|██████████| 1029/1029.0 [00:12<00:00, 83.04it/s]\n",
      "val epoch: 100%|██████████| 129/129.0 [00:00<00:00, 164.29it/s]\n",
      "train epoch: 100%|██████████| 1029/1029.0 [00:12<00:00, 84.32it/s]\n",
      "val epoch: 100%|██████████| 129/129.0 [00:00<00:00, 167.65it/s]\n",
      "train epoch: 100%|██████████| 1029/1029.0 [00:12<00:00, 84.01it/s]\n",
      "val epoch: 100%|██████████| 129/129.0 [00:00<00:00, 149.92it/s]\n",
      "train epoch: 100%|██████████| 1029/1029.0 [00:12<00:00, 84.30it/s]\n",
      "val epoch: 100%|██████████| 129/129.0 [00:00<00:00, 166.26it/s]\n",
      "train epoch: 100%|██████████| 1029/1029.0 [00:12<00:00, 83.49it/s]\n",
      "val epoch: 100%|██████████| 129/129.0 [00:00<00:00, 168.69it/s]\n",
      "train epoch: 100%|██████████| 1029/1029.0 [00:12<00:00, 82.74it/s]\n",
      "val epoch: 100%|██████████| 129/129.0 [00:00<00:00, 172.39it/s]\n",
      "train epoch: 100%|██████████| 1029/1029.0 [00:12<00:00, 83.80it/s]\n",
      "val epoch: 100%|██████████| 129/129.0 [00:00<00:00, 172.77it/s]\n"
     ]
    },
    {
     "data": {
      "text/html": [
       "\n",
       "    <style>\n",
       "        .wandb-row {\n",
       "            display: flex;\n",
       "            flex-direction: row;\n",
       "            flex-wrap: wrap;\n",
       "            justify-content: flex-start;\n",
       "            width: 100%;\n",
       "        }\n",
       "        .wandb-col {\n",
       "            display: flex;\n",
       "            flex-direction: column;\n",
       "            flex-basis: 100%;\n",
       "            flex: 1;\n",
       "            padding: 10px;\n",
       "        }\n",
       "    </style>\n",
       "<div class=\"wandb-row\"><div class=\"wandb-col\"><h3>Run history:</h3><br/><table class=\"wandb\"><tr><td>train/Accuracy</td><td>▄▆█▆▇▅▄▁▆▁</td></tr><tr><td>train/F1</td><td>█▁▁▁▁▁▁▁▁▁</td></tr><tr><td>train/Precision</td><td>█▁▁▁▁▁▁▁▁▁</td></tr><tr><td>train/Recall</td><td>▄▁▅▁██▁▁▁▁</td></tr><tr><td>train/loss</td><td>▃▄▁█▆▄▅▇▃▆</td></tr><tr><td>validation/Accuracy</td><td>▁▁▁▁▁▁▁▁▁▁</td></tr><tr><td>validation/F1</td><td>▁▁▁▁▁▁▁▁▁▁</td></tr><tr><td>validation/Precision</td><td>▁▁▁▁▁▁▁▁▁▁</td></tr><tr><td>validation/Recall</td><td>▁▁▁▁▁▁▁▁▁▁</td></tr><tr><td>validation/loss</td><td>▃▃▅▂▆█▃▃▁▄</td></tr></table><br/></div><div class=\"wandb-col\"><h3>Run summary:</h3><br/><table class=\"wandb\"><tr><td>train/Accuracy</td><td>0.4925</td></tr><tr><td>train/F1</td><td>0</td></tr><tr><td>train/Precision</td><td>0</td></tr><tr><td>train/Recall</td><td>0</td></tr><tr><td>train/loss</td><td>0.70694</td></tr><tr><td>validation/Accuracy</td><td>0.9684</td></tr><tr><td>validation/F1</td><td>0</td></tr><tr><td>validation/Precision</td><td>0</td></tr><tr><td>validation/Recall</td><td>0</td></tr><tr><td>validation/loss</td><td>0.53523</td></tr></table><br/></div></div>"
      ],
      "text/plain": [
       "<IPython.core.display.HTML object>"
      ]
     },
     "metadata": {},
     "output_type": "display_data"
    },
    {
     "data": {
      "text/html": [
       " View run <strong style=\"color:#cdcd00\">HIV ChemAttention 3-32, sampling</strong> at: <a href='https://wandb.ai/cus-tibor-none/ToxicML/runs/o6iixini' target=\"_blank\">https://wandb.ai/cus-tibor-none/ToxicML/runs/o6iixini</a><br/> View project at: <a href='https://wandb.ai/cus-tibor-none/ToxicML' target=\"_blank\">https://wandb.ai/cus-tibor-none/ToxicML</a><br/>Synced 5 W&B file(s), 0 media file(s), 2 artifact file(s) and 1 other file(s)"
      ],
      "text/plain": [
       "<IPython.core.display.HTML object>"
      ]
     },
     "metadata": {},
     "output_type": "display_data"
    },
    {
     "data": {
      "text/html": [
       "Find logs at: <code>./wandb/run-20241207_133247-o6iixini/logs</code>"
      ],
      "text/plain": [
       "<IPython.core.display.HTML object>"
      ]
     },
     "metadata": {},
     "output_type": "display_data"
    }
   ],
   "source": [
    "model = ChemAttention(3, 9, 32, 2)\n",
    "optimizer = torch.optim.Adam(model.parameters())\n",
    "lr_scheduler = torch.optim.lr_scheduler.ExponentialLR(optimizer, gamma = 0.09)\n",
    "loss_fn = torch.nn.CrossEntropyLoss()\n",
    "sampler = ImbalancedSampler(train) \n",
    "device = torch.device('cuda' if torch.cuda.is_available() else 'cpu')\n",
    "\n",
    "trainer = GenericClassificationTrainer(\n",
    "    model,\n",
    "    optimizer,\n",
    "    loss_fn,\n",
    "    lr_scheduler,\n",
    "    train_metrics,\n",
    "    validation_metrics,\n",
    "    train,\n",
    "    validation,\n",
    "    test,\n",
    "    device,\n",
    "    sampler,\n",
    "    EPOCHS,\n",
    "    None,\n",
    "    32\n",
    ")\n",
    "\n",
    "trainer.train(\"HIV ChemAttention 3-32, sampling\")"
   ]
  },
  {
   "cell_type": "code",
   "execution_count": 6,
   "metadata": {},
   "outputs": [
    {
     "name": "stderr",
     "output_type": "stream",
     "text": [
      "/home/tibor/Documents/msc-datascience/2024w/Toxic/ToxicML/.venv/lib/python3.12/site-packages/torch_geometric/deprecation.py:26: UserWarning: 'data.DataLoader' is deprecated, use 'loader.DataLoader' instead\n",
      "  warnings.warn(out)\n"
     ]
    },
    {
     "data": {
      "text/html": [
       "Tracking run with wandb version 0.18.7"
      ],
      "text/plain": [
       "<IPython.core.display.HTML object>"
      ]
     },
     "metadata": {},
     "output_type": "display_data"
    },
    {
     "data": {
      "text/html": [
       "Run data is saved locally in <code>/home/tibor/Documents/msc-datascience/2024w/Toxic/ToxicML/ToxicMl/wandb/run-20241207_133606-zugk74om</code>"
      ],
      "text/plain": [
       "<IPython.core.display.HTML object>"
      ]
     },
     "metadata": {},
     "output_type": "display_data"
    },
    {
     "data": {
      "text/html": [
       "Syncing run <strong><a href='https://wandb.ai/cus-tibor-none/ToxicML/runs/zugk74om' target=\"_blank\">HIV ChemAttention 5-32, sampling</a></strong> to <a href='https://wandb.ai/cus-tibor-none/ToxicML' target=\"_blank\">Weights & Biases</a> (<a href='https://wandb.me/developer-guide' target=\"_blank\">docs</a>)<br/>"
      ],
      "text/plain": [
       "<IPython.core.display.HTML object>"
      ]
     },
     "metadata": {},
     "output_type": "display_data"
    },
    {
     "data": {
      "text/html": [
       " View project at <a href='https://wandb.ai/cus-tibor-none/ToxicML' target=\"_blank\">https://wandb.ai/cus-tibor-none/ToxicML</a>"
      ],
      "text/plain": [
       "<IPython.core.display.HTML object>"
      ]
     },
     "metadata": {},
     "output_type": "display_data"
    },
    {
     "data": {
      "text/html": [
       " View run at <a href='https://wandb.ai/cus-tibor-none/ToxicML/runs/zugk74om' target=\"_blank\">https://wandb.ai/cus-tibor-none/ToxicML/runs/zugk74om</a>"
      ],
      "text/plain": [
       "<IPython.core.display.HTML object>"
      ]
     },
     "metadata": {},
     "output_type": "display_data"
    },
    {
     "name": "stderr",
     "output_type": "stream",
     "text": [
      "train epoch: 100%|██████████| 1029/1029.0 [00:11<00:00, 89.28it/s]\n",
      "val epoch: 100%|██████████| 129/129.0 [00:00<00:00, 191.30it/s]\n",
      "train epoch: 100%|██████████| 1029/1029.0 [00:11<00:00, 88.24it/s]\n",
      "val epoch: 100%|██████████| 129/129.0 [00:00<00:00, 160.28it/s]\n",
      "train epoch: 100%|██████████| 1029/1029.0 [00:11<00:00, 88.99it/s]\n",
      "val epoch: 100%|██████████| 129/129.0 [00:00<00:00, 194.44it/s]\n",
      "train epoch: 100%|██████████| 1029/1029.0 [00:12<00:00, 85.57it/s]\n",
      "val epoch: 100%|██████████| 129/129.0 [00:00<00:00, 136.24it/s]\n",
      "train epoch: 100%|██████████| 1029/1029.0 [00:12<00:00, 80.69it/s]\n",
      "val epoch: 100%|██████████| 129/129.0 [00:00<00:00, 160.81it/s]\n",
      "train epoch: 100%|██████████| 1029/1029.0 [00:14<00:00, 71.25it/s]\n",
      "val epoch: 100%|██████████| 129/129.0 [00:00<00:00, 161.44it/s]\n",
      "train epoch: 100%|██████████| 1029/1029.0 [00:13<00:00, 77.14it/s]\n",
      "val epoch: 100%|██████████| 129/129.0 [00:00<00:00, 153.28it/s]\n",
      "train epoch: 100%|██████████| 1029/1029.0 [00:14<00:00, 73.25it/s]\n",
      "val epoch: 100%|██████████| 129/129.0 [00:00<00:00, 150.32it/s]\n",
      "train epoch: 100%|██████████| 1029/1029.0 [00:13<00:00, 76.13it/s]\n",
      "val epoch: 100%|██████████| 129/129.0 [00:01<00:00, 113.60it/s]\n",
      "train epoch: 100%|██████████| 1029/1029.0 [00:15<00:00, 65.77it/s]\n",
      "val epoch: 100%|██████████| 129/129.0 [00:00<00:00, 154.50it/s]\n"
     ]
    },
    {
     "data": {
      "text/html": [
       "\n",
       "    <style>\n",
       "        .wandb-row {\n",
       "            display: flex;\n",
       "            flex-direction: row;\n",
       "            flex-wrap: wrap;\n",
       "            justify-content: flex-start;\n",
       "            width: 100%;\n",
       "        }\n",
       "        .wandb-col {\n",
       "            display: flex;\n",
       "            flex-direction: column;\n",
       "            flex-basis: 100%;\n",
       "            flex: 1;\n",
       "            padding: 10px;\n",
       "        }\n",
       "    </style>\n",
       "<div class=\"wandb-row\"><div class=\"wandb-col\"><h3>Run history:</h3><br/><table class=\"wandb\"><tr><td>train/Accuracy</td><td>▁▆█▇▇█▇▇▇▇</td></tr><tr><td>train/F1</td><td>▁▅▆█▅█▇▆▅▇</td></tr><tr><td>train/Precision</td><td>█▃▁▅▁▅▄▃▂▅</td></tr><tr><td>train/Recall</td><td>▁▆█▇▇▇▇▇▇▇</td></tr><tr><td>train/loss</td><td>█▁▇▅▅▄██▂▂</td></tr><tr><td>validation/Accuracy</td><td>█▇▄▃▂▅▁▇▂▅</td></tr><tr><td>validation/F1</td><td>█▄▃▃▄▄▁█▂▇</td></tr><tr><td>validation/Precision</td><td>▃▁▅▆█▃▆▄▆▆</td></tr><tr><td>validation/Recall</td><td>█▅▃▃▃▄▁▇▂▆</td></tr><tr><td>validation/loss</td><td>▁▃▆▅█▂▁▃█▅</td></tr></table><br/></div><div class=\"wandb-col\"><h3>Run summary:</h3><br/><table class=\"wandb\"><tr><td>train/Accuracy</td><td>0.615</td></tr><tr><td>train/F1</td><td>0.56874</td></tr><tr><td>train/Precision</td><td>0.50453</td></tr><tr><td>train/Recall</td><td>0.65169</td></tr><tr><td>train/loss</td><td>0.45917</td></tr><tr><td>validation/Accuracy</td><td>0.8456</td></tr><tr><td>validation/F1</td><td>0.15446</td></tr><tr><td>validation/Precision</td><td>0.44615</td></tr><tr><td>validation/Recall</td><td>0.0934</td></tr><tr><td>validation/loss</td><td>0.60421</td></tr></table><br/></div></div>"
      ],
      "text/plain": [
       "<IPython.core.display.HTML object>"
      ]
     },
     "metadata": {},
     "output_type": "display_data"
    },
    {
     "data": {
      "text/html": [
       " View run <strong style=\"color:#cdcd00\">HIV ChemAttention 5-32, sampling</strong> at: <a href='https://wandb.ai/cus-tibor-none/ToxicML/runs/zugk74om' target=\"_blank\">https://wandb.ai/cus-tibor-none/ToxicML/runs/zugk74om</a><br/> View project at: <a href='https://wandb.ai/cus-tibor-none/ToxicML' target=\"_blank\">https://wandb.ai/cus-tibor-none/ToxicML</a><br/>Synced 5 W&B file(s), 0 media file(s), 2 artifact file(s) and 1 other file(s)"
      ],
      "text/plain": [
       "<IPython.core.display.HTML object>"
      ]
     },
     "metadata": {},
     "output_type": "display_data"
    },
    {
     "data": {
      "text/html": [
       "Find logs at: <code>./wandb/run-20241207_133606-zugk74om/logs</code>"
      ],
      "text/plain": [
       "<IPython.core.display.HTML object>"
      ]
     },
     "metadata": {},
     "output_type": "display_data"
    }
   ],
   "source": [
    "model = ChemAttention(3, 9, 32, 2)\n",
    "optimizer = torch.optim.Adam(model.parameters())\n",
    "lr_scheduler = torch.optim.lr_scheduler.ExponentialLR(optimizer, gamma = 0.09)\n",
    "loss_fn = torch.nn.CrossEntropyLoss()\n",
    "sampler = ImbalancedSampler(train) \n",
    "device = torch.device('cuda' if torch.cuda.is_available() else 'cpu')\n",
    "\n",
    "trainer = GenericClassificationTrainer(\n",
    "    model,\n",
    "    optimizer,\n",
    "    loss_fn,\n",
    "    lr_scheduler,\n",
    "    train_metrics,\n",
    "    validation_metrics,\n",
    "    train,\n",
    "    validation,\n",
    "    test,\n",
    "    device,\n",
    "    sampler,\n",
    "    EPOCHS,\n",
    "    None,\n",
    "    32\n",
    ")\n",
    "\n",
    "trainer.train(\"HIV ChemAttention 5-32, sampling\")"
   ]
  },
  {
   "cell_type": "code",
   "execution_count": 7,
   "metadata": {},
   "outputs": [
    {
     "name": "stderr",
     "output_type": "stream",
     "text": [
      "/home/tibor/Documents/msc-datascience/2024w/Toxic/ToxicML/.venv/lib/python3.12/site-packages/torch_geometric/deprecation.py:26: UserWarning: 'data.DataLoader' is deprecated, use 'loader.DataLoader' instead\n",
      "  warnings.warn(out)\n"
     ]
    },
    {
     "data": {
      "text/html": [
       "Tracking run with wandb version 0.18.7"
      ],
      "text/plain": [
       "<IPython.core.display.HTML object>"
      ]
     },
     "metadata": {},
     "output_type": "display_data"
    },
    {
     "data": {
      "text/html": [
       "Run data is saved locally in <code>/home/tibor/Documents/msc-datascience/2024w/Toxic/ToxicML/ToxicMl/wandb/run-20241207_133832-jt30ex89</code>"
      ],
      "text/plain": [
       "<IPython.core.display.HTML object>"
      ]
     },
     "metadata": {},
     "output_type": "display_data"
    },
    {
     "data": {
      "text/html": [
       "Syncing run <strong><a href='https://wandb.ai/cus-tibor-none/ToxicML/runs/jt30ex89' target=\"_blank\">HIV ChemAttention 5-64, sampling</a></strong> to <a href='https://wandb.ai/cus-tibor-none/ToxicML' target=\"_blank\">Weights & Biases</a> (<a href='https://wandb.me/developer-guide' target=\"_blank\">docs</a>)<br/>"
      ],
      "text/plain": [
       "<IPython.core.display.HTML object>"
      ]
     },
     "metadata": {},
     "output_type": "display_data"
    },
    {
     "data": {
      "text/html": [
       " View project at <a href='https://wandb.ai/cus-tibor-none/ToxicML' target=\"_blank\">https://wandb.ai/cus-tibor-none/ToxicML</a>"
      ],
      "text/plain": [
       "<IPython.core.display.HTML object>"
      ]
     },
     "metadata": {},
     "output_type": "display_data"
    },
    {
     "data": {
      "text/html": [
       " View run at <a href='https://wandb.ai/cus-tibor-none/ToxicML/runs/jt30ex89' target=\"_blank\">https://wandb.ai/cus-tibor-none/ToxicML/runs/jt30ex89</a>"
      ],
      "text/plain": [
       "<IPython.core.display.HTML object>"
      ]
     },
     "metadata": {},
     "output_type": "display_data"
    },
    {
     "name": "stderr",
     "output_type": "stream",
     "text": [
      "train epoch: 100%|██████████| 1029/1029.0 [00:18<00:00, 54.75it/s]\n",
      "val epoch: 100%|██████████| 129/129.0 [00:00<00:00, 132.13it/s]\n",
      "train epoch: 100%|██████████| 1029/1029.0 [00:16<00:00, 60.55it/s]\n",
      "val epoch: 100%|██████████| 129/129.0 [00:01<00:00, 102.87it/s]\n",
      "train epoch: 100%|██████████| 1029/1029.0 [00:15<00:00, 64.95it/s]\n",
      "val epoch: 100%|██████████| 129/129.0 [00:01<00:00, 126.53it/s]\n",
      "train epoch: 100%|██████████| 1029/1029.0 [00:16<00:00, 61.55it/s]\n",
      "val epoch: 100%|██████████| 129/129.0 [00:01<00:00, 116.88it/s]\n",
      "train epoch: 100%|██████████| 1029/1029.0 [00:16<00:00, 63.20it/s]\n",
      "val epoch: 100%|██████████| 129/129.0 [00:00<00:00, 133.01it/s]\n",
      "train epoch: 100%|██████████| 1029/1029.0 [00:16<00:00, 63.76it/s]\n",
      "val epoch: 100%|██████████| 129/129.0 [00:01<00:00, 127.39it/s]\n",
      "train epoch: 100%|██████████| 1029/1029.0 [00:16<00:00, 63.07it/s]\n",
      "val epoch: 100%|██████████| 129/129.0 [00:00<00:00, 139.97it/s]\n",
      "train epoch: 100%|██████████| 1029/1029.0 [00:16<00:00, 62.52it/s]\n",
      "val epoch: 100%|██████████| 129/129.0 [00:01<00:00, 120.42it/s]\n",
      "train epoch: 100%|██████████| 1029/1029.0 [00:15<00:00, 65.72it/s]\n",
      "val epoch: 100%|██████████| 129/129.0 [00:00<00:00, 141.36it/s]\n",
      "train epoch: 100%|██████████| 1029/1029.0 [00:16<00:00, 62.08it/s]\n",
      "val epoch: 100%|██████████| 129/129.0 [00:00<00:00, 131.70it/s]\n"
     ]
    },
    {
     "data": {
      "text/html": [
       "\n",
       "    <style>\n",
       "        .wandb-row {\n",
       "            display: flex;\n",
       "            flex-direction: row;\n",
       "            flex-wrap: wrap;\n",
       "            justify-content: flex-start;\n",
       "            width: 100%;\n",
       "        }\n",
       "        .wandb-col {\n",
       "            display: flex;\n",
       "            flex-direction: column;\n",
       "            flex-basis: 100%;\n",
       "            flex: 1;\n",
       "            padding: 10px;\n",
       "        }\n",
       "    </style>\n",
       "<div class=\"wandb-row\"><div class=\"wandb-col\"><h3>Run history:</h3><br/><table class=\"wandb\"><tr><td>train/Accuracy</td><td>▁▆█▇▆█▆▆█▇</td></tr><tr><td>train/F1</td><td>▁▆▇▇▆█▆▆▇▆</td></tr><tr><td>train/Precision</td><td>▁█▆▆▆█▅▅▇▅</td></tr><tr><td>train/Recall</td><td>▁▅█▇▆█▆▆▇▇</td></tr><tr><td>train/loss</td><td>▇█▃▅▁▂▁▅▇▇</td></tr><tr><td>validation/Accuracy</td><td>▄█▅▁▃▃▂▅▃▇</td></tr><tr><td>validation/F1</td><td>▂█▅▁▄▂▂▄▁▆</td></tr><tr><td>validation/Precision</td><td>▂▄▄▅█▃▅▂▁▂</td></tr><tr><td>validation/Recall</td><td>▂█▄▁▃▂▂▄▁▆</td></tr><tr><td>validation/loss</td><td>▃▅▃█▁█▂▂▂▁</td></tr></table><br/></div><div class=\"wandb-col\"><h3>Run summary:</h3><br/><table class=\"wandb\"><tr><td>train/Accuracy</td><td>0.6472</td></tr><tr><td>train/F1</td><td>0.61157</td></tr><tr><td>train/Precision</td><td>0.55401</td></tr><tr><td>train/Recall</td><td>0.68247</td></tr><tr><td>train/loss</td><td>0.76952</td></tr><tr><td>validation/Accuracy</td><td>0.8634</td></tr><tr><td>validation/F1</td><td>0.15868</td></tr><tr><td>validation/Precision</td><td>0.40769</td></tr><tr><td>validation/Recall</td><td>0.09851</td></tr><tr><td>validation/loss</td><td>0.48131</td></tr></table><br/></div></div>"
      ],
      "text/plain": [
       "<IPython.core.display.HTML object>"
      ]
     },
     "metadata": {},
     "output_type": "display_data"
    },
    {
     "data": {
      "text/html": [
       " View run <strong style=\"color:#cdcd00\">HIV ChemAttention 5-64, sampling</strong> at: <a href='https://wandb.ai/cus-tibor-none/ToxicML/runs/jt30ex89' target=\"_blank\">https://wandb.ai/cus-tibor-none/ToxicML/runs/jt30ex89</a><br/> View project at: <a href='https://wandb.ai/cus-tibor-none/ToxicML' target=\"_blank\">https://wandb.ai/cus-tibor-none/ToxicML</a><br/>Synced 5 W&B file(s), 0 media file(s), 2 artifact file(s) and 1 other file(s)"
      ],
      "text/plain": [
       "<IPython.core.display.HTML object>"
      ]
     },
     "metadata": {},
     "output_type": "display_data"
    },
    {
     "data": {
      "text/html": [
       "Find logs at: <code>./wandb/run-20241207_133832-jt30ex89/logs</code>"
      ],
      "text/plain": [
       "<IPython.core.display.HTML object>"
      ]
     },
     "metadata": {},
     "output_type": "display_data"
    }
   ],
   "source": [
    "model = ChemAttention(3, 9, 64, 2)\n",
    "optimizer = torch.optim.Adam(model.parameters())\n",
    "lr_scheduler = torch.optim.lr_scheduler.ExponentialLR(optimizer, gamma = 0.09)\n",
    "loss_fn = torch.nn.CrossEntropyLoss()\n",
    "sampler = ImbalancedSampler(train) \n",
    "device = torch.device('cuda' if torch.cuda.is_available() else 'cpu')\n",
    "\n",
    "trainer = GenericClassificationTrainer(\n",
    "    model,\n",
    "    optimizer,\n",
    "    loss_fn,\n",
    "    lr_scheduler,\n",
    "    train_metrics,\n",
    "    validation_metrics,\n",
    "    train,\n",
    "    validation,\n",
    "    test,\n",
    "    device,\n",
    "    sampler,\n",
    "    EPOCHS,\n",
    "    None,\n",
    "    32\n",
    ")\n",
    "\n",
    "trainer.train(\"HIV ChemAttention 5-64, sampling\")"
   ]
  },
  {
   "cell_type": "code",
   "execution_count": null,
   "metadata": {},
   "outputs": [],
   "source": []
  }
 ],
 "metadata": {
  "kernelspec": {
   "display_name": ".venv",
   "language": "python",
   "name": "python3"
  },
  "language_info": {
   "codemirror_mode": {
    "name": "ipython",
    "version": 3
   },
   "file_extension": ".py",
   "mimetype": "text/x-python",
   "name": "python",
   "nbconvert_exporter": "python",
   "pygments_lexer": "ipython3",
   "version": "3.12.7"
  }
 },
 "nbformat": 4,
 "nbformat_minor": 2
}
